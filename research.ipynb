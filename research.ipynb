{
 "cells": [
  {
   "cell_type": "markdown",
   "metadata": {},
   "source": [
    "## Index \n",
    "\n",
    "\n",
    "* [Instruction](#instruction)\n",
    "* [Install](#install)\n",
    "* [Load data](#loadData) \n",
    "* [Algorithm](#algorithm) \n",
    "* [Run](#run)\n",
    "* [visulization](#visulization)\n",
    "* [Reference/Resource](#reference)"
   ]
  },
  {
   "cell_type": "markdown",
   "metadata": {},
   "source": [
    "<a id='instruction'></a>\n",
    "## Instruction "
   ]
  },
  {
   "cell_type": "markdown",
   "metadata": {},
   "source": [
    "This notebook is about experiment the Gallinucci et al's algorithm. Please refer to our paper and Gallinucci et al paper for more detail. We will give useful information about how to install used package and software in Chapter Install. Please run Algorithm first before go to Run chapter. Also, Please run All cells in Run and visulization in orders to prevent errors."
   ]
  },
  {
   "cell_type": "markdown",
   "metadata": {},
   "source": [
    "<a id='install'></a>\n",
    "## Install"
   ]
  },
  {
   "cell_type": "markdown",
   "metadata": {},
   "source": [
    "This program is run in Jupyter Notebook. Please install Anaconda and all related packages. "
   ]
  },
  {
   "cell_type": "markdown",
   "metadata": {},
   "source": [
    "### Install Anaconda\n"
   ]
  },
  {
   "cell_type": "markdown",
   "metadata": {},
   "source": [
    "Please refer to Anaconda offical documentation to install Anaconda https://docs.anaconda.com/anaconda/install/windows/"
   ]
  },
  {
   "cell_type": "markdown",
   "metadata": {},
   "source": [
    "### Use Anaconda and jupyter notebook"
   ]
  },
  {
   "cell_type": "markdown",
   "metadata": {},
   "source": [
    "When you install Anaconda, it will also install jupyter notebook. Launching jupyter notebook can be done in different ways:\n",
    "You can lunch it through Anaconda Navigator (Windows).\n",
    "* Launch it by Anaconda Prompt (Windows):\n",
    "  * Open Anaconda Prompt\n",
    "  * Type: \n",
    "  ```sh\n",
    "  jupyter notebook\n",
    "  ```\n",
    "  * hit Enter\n",
    "  * wait jupyter notebook pop up\n",
    "* Launch it by Terminal (Linux):\n",
    "  * Open Terminal\n",
    "  * Type: \n",
    "  ```sh\n",
    "  jupyter notebook\n",
    "  ```\n",
    "  * hit Enter\n",
    "  * wait jupyter notebook pop up"
   ]
  },
  {
   "cell_type": "markdown",
   "metadata": {},
   "source": [
    "### Install packages"
   ]
  },
  {
   "cell_type": "markdown",
   "metadata": {},
   "source": [
    "I reconmmend install packages through the code provided in Jupyter notebook or manuly install through **Anaconda Prompt** (Windows) or **Terminal**(Linux). \n",
    "* There are some packages already installed by default. The following packages are all extra packages you need to install.\n",
    "  * pymongo\n",
    "  * pydot\n",
    "  * graphviz\n",
    "* Please search the package name in the search bar at https://anaconda.org/.\n",
    "* Click the correct package. \n",
    "* You will find a command line that you need to enter to install those package. \n",
    "* Please refer to https://github.com/cpcloud/ipython-autotime to install autotime package."
   ]
  },
  {
   "cell_type": "code",
   "execution_count": 1,
   "metadata": {},
   "outputs": [
    {
     "name": "stdout",
     "output_type": "stream",
     "text": [
      "Collecting package metadata: ...working... done\n",
      "Solving environment: ...working... done\n",
      "\n",
      "## Package Plan ##\n",
      "\n",
      "  environment location: D:\\anaconda3\n",
      "\n",
      "  added / updated specs:\n",
      "    - pymongo\n",
      "\n",
      "\n",
      "The following packages will be downloaded:\n",
      "\n",
      "    package                    |            build\n",
      "    ---------------------------|-----------------\n",
      "    conda-4.7.5                |           py37_0         3.0 MB\n",
      "    conda-package-handling-1.3.10|           py37_0         280 KB\n",
      "    ------------------------------------------------------------\n",
      "                                           Total:         3.3 MB\n",
      "\n",
      "The following NEW packages will be INSTALLED:\n",
      "\n",
      "  conda-package-han~ pkgs/main/win-64::conda-package-handling-1.3.10-py37_0\n",
      "\n",
      "The following packages will be UPDATED:\n",
      "\n",
      "  conda                                       4.6.14-py37_0 --> 4.7.5-py37_0\n",
      "\n",
      "\n",
      "\n",
      "Downloading and Extracting Packages\n",
      "\n",
      "conda-4.7.5          | 3.0 MB    |            |   0% \n",
      "conda-4.7.5          | 3.0 MB    | 4          |   5% \n",
      "conda-4.7.5          | 3.0 MB    | ##3        |  24% \n",
      "conda-4.7.5          | 3.0 MB    | ###8       |  39% \n",
      "conda-4.7.5          | 3.0 MB    | #####4     |  54% \n",
      "conda-4.7.5          | 3.0 MB    | ######8    |  69% \n",
      "conda-4.7.5          | 3.0 MB    | ########   |  81% \n",
      "conda-4.7.5          | 3.0 MB    | #########1 |  92% \n",
      "conda-4.7.5          | 3.0 MB    | ########## | 100% \n",
      "\n",
      "conda-package-handli | 280 KB    |            |   0% \n",
      "conda-package-handli | 280 KB    | ###4       |  34% \n",
      "conda-package-handli | 280 KB    | ########## | 100% \n",
      "Preparing transaction: ...working... done\n",
      "Verifying transaction: ...working... done\n",
      "Executing transaction: ...working... done\n",
      "Collecting package metadata (repodata.json): ...working... done\n",
      "Solving environment: ...working... done\n",
      "\n",
      "## Package Plan ##\n",
      "\n",
      "  environment location: D:\\anaconda3\n",
      "\n",
      "  added / updated specs:\n",
      "    - pydot\n",
      "\n",
      "\n",
      "The following packages will be downloaded:\n",
      "\n",
      "    package                    |            build\n",
      "    ---------------------------|-----------------\n",
      "    pydot-1.4.1                |           py37_0          43 KB\n",
      "    ------------------------------------------------------------\n",
      "                                           Total:          43 KB\n",
      "\n",
      "The following packages will be SUPERSEDED by a higher-priority channel:\n",
      "\n",
      "  pydot                  conda-forge::pydot-1.4.1-py37_1000 --> pkgs/main::pydot-1.4.1-py37_0\n",
      "\n",
      "\n",
      "\n",
      "Downloading and Extracting Packages\n",
      "\n",
      "pydot-1.4.1          | 43 KB     |            |   0% \n",
      "pydot-1.4.1          | 43 KB     | ########## | 100% \n",
      "Preparing transaction: ...working... done\n",
      "Verifying transaction: ...working... done\n",
      "Executing transaction: ...working... done\n"
     ]
    },
    {
     "name": "stderr",
     "output_type": "stream",
     "text": [
      "WARNING conda.base.context:use_only_tar_bz2(632): Conda is constrained to only using the old .tar.bz2 file format because you have conda-build installed, and it is <3.18.3.  Update or remove conda-build to get smaller downloads and faster extractions.\n"
     ]
    },
    {
     "name": "stdout",
     "output_type": "stream",
     "text": [
      "Collecting package metadata (repodata.json): ...working... done\n",
      "Solving environment: ...working... done\n",
      "\n",
      "## Package Plan ##\n",
      "\n",
      "  environment location: D:\\anaconda3\n",
      "\n",
      "  added / updated specs:\n",
      "    - python-graphviz\n",
      "\n",
      "\n",
      "The following packages will be downloaded:\n",
      "\n",
      "    package                    |            build\n",
      "    ---------------------------|-----------------\n",
      "    python-graphviz-0.10.1     |             py_0          22 KB\n",
      "    ------------------------------------------------------------\n",
      "                                           Total:          22 KB\n",
      "\n",
      "The following packages will be UPDATED:\n",
      "\n",
      "  python-graphviz    anaconda/win-64::python-graphviz-0.8.~ --> pkgs/main/noarch::python-graphviz-0.10.1-py_0\n",
      "\n",
      "\n",
      "\n",
      "Downloading and Extracting Packages\n",
      "\n",
      "python-graphviz-0.10 | 22 KB     |            |   0% \n",
      "python-graphviz-0.10 | 22 KB     | ########## | 100% \n",
      "Preparing transaction: ...working... done\n",
      "Verifying transaction: ...working... done\n",
      "Executing transaction: ...working... done\n"
     ]
    },
    {
     "name": "stderr",
     "output_type": "stream",
     "text": [
      "WARNING conda.base.context:use_only_tar_bz2(632): Conda is constrained to only using the old .tar.bz2 file format because you have conda-build installed, and it is <3.18.3.  Update or remove conda-build to get smaller downloads and faster extractions.\n"
     ]
    }
   ],
   "source": [
    "import sys\n",
    "!conda install --yes --prefix {sys.prefix} pymongo\n",
    "!conda install --yes --prefix {sys.prefix} pydot\n",
    "!conda install --yes --prefix {sys.prefix} python-graphviz"
   ]
  },
  {
   "cell_type": "code",
   "execution_count": 1,
   "metadata": {},
   "outputs": [
    {
     "name": "stdout",
     "output_type": "stream",
     "text": [
      "Requirement already satisfied: ipython-autotime in d:\\anaconda3\\lib\\site-packages (0.1)\n"
     ]
    }
   ],
   "source": [
    "!pip install ipython-autotime"
   ]
  },
  {
   "cell_type": "code",
   "execution_count": 2,
   "metadata": {
    "scrolled": true
   },
   "outputs": [],
   "source": [
    "# Load all needed packages\n",
    "%load_ext autotime\n",
    "import pymongo\n",
    "import json\n",
    "import copy\n",
    "import math\n",
    "import statistics\n",
    "import time\n",
    "import collections\n",
    "import random \n",
    "import csv\n",
    "import pandas as pd\n",
    "import pydot\n",
    "from IPython.display import Image, display\n",
    "from tqdm import tqdm_notebook, tnrange\n",
    "import pprint\n",
    "from graphviz import Graph\n",
    "from random import shuffle"
   ]
  },
  {
   "cell_type": "markdown",
   "metadata": {},
   "source": [
    "Note: If AssertionError occurs, that's because the cell runs too quickly for autotime package"
   ]
  },
  {
   "cell_type": "markdown",
   "metadata": {},
   "source": [
    "<a id='loadData'></a>\n",
    "## Load data"
   ]
  },
  {
   "cell_type": "markdown",
   "metadata": {},
   "source": [
    "In this chapter, we will provide different ways to load data. It can be loaded from MongoDB or load from loacal files. The data type that the algorithm need is a list of documents. The document should be in dictionary data structure. Since different local files has different way of storing. Therefore, there are a lot of code cells to fit different files. You do not need to run them all. Just pick the correct one."
   ]
  },
  {
   "cell_type": "markdown",
   "metadata": {},
   "source": [
    "The following are some dataset that we used. You can find those dataset in \\dataset folders or at link \n",
    "- austin_311.311_service_requests.json\n",
    "- schemabased1.json\n",
    "- schemabased2.json\n",
    "- valuesplit1.json\n",
    "- valuesplit2.json\n",
    "- attribute6.json\n",
    "- attribute8.json\n",
    "- attribute10.json\n",
    "- restaurant-2000.json\n",
    "- DOHMH_New_York_City_Restaurant_Inspection_Results.csv"
   ]
  },
  {
   "cell_type": "markdown",
   "metadata": {},
   "source": [
    "### Load from the MongoDB"
   ]
  },
  {
   "cell_type": "code",
   "execution_count": 5,
   "metadata": {},
   "outputs": [
    {
     "name": "stdout",
     "output_type": "stream",
     "text": [
      "time: 380 ms\n"
     ]
    }
   ],
   "source": [
    "# create connecttion with database\n",
    "# Note: to connect to your own db, change the url and port number\n",
    "# Also change the authenticate\n",
    "client = pymongo.MongoClient('mongodb://ds121163.mlab.com',21163)\n",
    "# Get the database\n",
    "jasondb = client['jasondb']\n",
    "# Set authentication\n",
    "jasondb.authenticate('admin','admin123')\n",
    "# Get collection, if no named collection then create one\n",
    "companies = jasondb.test \n",
    "# name of the output file\n",
    "\n",
    "OUTPUT_FILE_NAME = 'output.json'\n"
   ]
  },
  {
   "cell_type": "code",
   "execution_count": 7,
   "metadata": {
    "scrolled": true
   },
   "outputs": [
    {
     "name": "stdout",
     "output_type": "stream",
     "text": [
      "[{'_id': ObjectId('5ca42234d1823d1f90e4474d'), 'rental_id': '42406939', 'duration': '4500', 'bike_id': '8519', 'end_station_name': 'Victoria Park Road, Hackney Central'}, {'_id': ObjectId('5ca42234d1823d1f90e4474e'), 'rental_id': '42954682', 'duration': '2460', 'bike_id': '19', 'end_station_name': 'Lansdowne Road, Ladbroke Grove'}, {'_id': ObjectId('5ca42234d1823d1f90e4474f'), 'rental_id': '42152586', 'duration': '3180', 'bike_id': '12438', 'end_station_name': \"Bishop's Bridge Road West, Bayswater\"}, {'_id': ObjectId('5ca42234d1823d1f90e44750'), 'rental_id': '43633514', 'duration': '2940', 'bike_id': '11699', 'end_station_name': 'Clapham Common North side, Clapham Common'}, {'_id': ObjectId('5ca42234d1823d1f90e44751'), 'rental_id': '40628499', 'duration': '2340', 'bike_id': '9030', 'end_station_name': 'Panton Street, West End'}, {'_id': ObjectId('5ca42234d1823d1f90e44752'), 'rental_id': '40636098', 'duration': '2940', 'bike_id': '1322', 'end_station_name': 'Silverthorne Road, Battersea'}, {'_id': ObjectId('5ca42234d1823d1f90e44753'), 'rental_id': '43379826', 'duration': '6120', 'bike_id': '7462', 'end_station_name': 'Falkirk Street, Hoxton'}, {'_id': ObjectId('5ca42234d1823d1f90e44754'), 'rental_id': '44527545', 'duration': '2040', 'bike_id': '9939', 'end_station_name': 'Vincent Square, Westminster'}, {'_id': ObjectId('5ca42234d1823d1f90e44755'), 'rental_id': '42922552', 'duration': '5580', 'bike_id': '3427', 'end_station_name': 'Palace Gardens Terrace, Notting Hill'}, {'_id': ObjectId('5ca42234d1823d1f90e44756'), 'rental_id': '44477255', 'duration': '2100', 'bike_id': '10790', 'end_station_name': 'Montpelier Street, Knightsbridge'}, {'_id': ObjectId('5ca42234d1823d1f90e44757'), 'rental_id': '44264157', 'duration': '2100', 'bike_id': '3709', 'end_station_name': 'Claremont Square, Angel'}, {'_id': ObjectId('5ca42234d1823d1f90e44758'), 'rental_id': '41166501', 'duration': '2880', 'bike_id': '10986', 'end_station_name': 'British Museum, Bloomsbury'}, {'_id': ObjectId('5ca42235d1823d1f90e44759'), 'rental_id': '43882366', 'duration': '5340', 'bike_id': '5284', 'end_station_name': 'Gloucester Terrace, Bayswater'}, {'_id': ObjectId('5ca42235d1823d1f90e4475a'), 'rental_id': '43067372', 'duration': '2100', 'bike_id': '7122', 'end_station_name': 'Bruton Street, Mayfair'}, {'_id': ObjectId('5ca42235d1823d1f90e4475b'), 'rental_id': '43790109', 'duration': '2760', 'bike_id': '5816', 'end_station_name': \"The Tennis Courts, The Regent's Park\"}, {'_id': ObjectId('5ca42235d1823d1f90e4475c'), 'rental_id': '41452948', 'duration': '3240', 'bike_id': '6659', 'end_station_name': 'Charles II Street, West End'}, {'_id': ObjectId('5ca42235d1823d1f90e4475d'), 'rental_id': '42289956', 'duration': '2160', 'bike_id': '12635', 'end_station_name': 'Clapham Common Northside, Clapham Common'}, {'_id': ObjectId('5ca42235d1823d1f90e4475e'), 'rental_id': '41265311', 'duration': '2280', 'bike_id': '10753', 'end_station_name': 'Abbey Orchard Street, Westminster'}, {'_id': ObjectId('5ca42235d1823d1f90e4475f'), 'rental_id': '42884010', 'duration': '2340', 'bike_id': '12935', 'end_station_name': 'Westminster University, Marylebone'}, {'_id': ObjectId('5ca42235d1823d1f90e44760'), 'rental_id': '43489757', 'duration': '5100', 'bike_id': '3903', 'end_station_name': 'Warwick Square, Pimlico'}, {'_id': ObjectId('5ca42235d1823d1f90e44761'), 'rental_id': '42015920', 'duration': '5400', 'bike_id': '11335', 'end_station_name': 'Craven Street, Strand'}, {'_id': ObjectId('5ca42235d1823d1f90e44762'), 'rental_id': '43845355', 'duration': '10260', 'bike_id': '7505', 'end_station_name': 'Gloucester Terrace, Bayswater'}, {'_id': ObjectId('5ca42235d1823d1f90e44763'), 'rental_id': '41012920', 'duration': '0', 'bike_id': '9500', 'end_station_name': 'Gloucester Road (Central), South Kensington'}, {'_id': ObjectId('5ca42235d1823d1f90e44764'), 'rental_id': '43775140', 'duration': '2340', 'bike_id': '7105', 'end_station_name': 'Manresa Road, Chelsea'}, {'_id': ObjectId('5ca42235d1823d1f90e44765'), 'rental_id': '42619278', 'duration': '2160', 'bike_id': '6881', 'end_station_name': 'Endsleigh Gardens, Euston'}, {'_id': ObjectId('5ca42235d1823d1f90e44766'), 'rental_id': '42440976', 'duration': '2820', 'bike_id': '2469', 'end_station_name': \"Speakers' Corner 1, Hyde Park\"}, {'_id': ObjectId('5ca42235d1823d1f90e44767'), 'rental_id': '43355276', 'duration': '3060', 'bike_id': '7153', 'end_station_name': 'Cardinal Place, Victoria'}, {'_id': ObjectId('5ca42235d1823d1f90e44768'), 'rental_id': '43153271', 'duration': '2220', 'bike_id': '6138', 'end_station_name': 'Belvedere Road, South Bank'}, {'_id': ObjectId('5ca42235d1823d1f90e44769'), 'rental_id': '43609372', 'duration': '3180', 'bike_id': '851', 'end_station_name': 'All Saints Church, Portobello'}, {'_id': ObjectId('5ca42235d1823d1f90e4476a'), 'rental_id': '42223629', 'duration': '3900', 'bike_id': '5826', 'end_station_name': \"Speakers' Corner 2, Hyde Park\"}, {'_id': ObjectId('5ca42235d1823d1f90e4476b'), 'rental_id': '43149829', 'duration': '3180', 'bike_id': '7515', 'end_station_name': 'Saunders Ness Road, Cubitt Town'}, {'_id': ObjectId('5ca42235d1823d1f90e4476c'), 'rental_id': '43464587', 'duration': '2280', 'bike_id': '12107', 'end_station_name': 'St. George Street, Mayfair'}, {'_id': ObjectId('5ca42235d1823d1f90e4476d'), 'rental_id': '43032913', 'duration': '3000', 'bike_id': '7619', 'end_station_name': 'Royal Avenue 1, Chelsea'}, {'_id': ObjectId('5ca42235d1823d1f90e4476e'), 'rental_id': '43089658', 'duration': '4320', 'bike_id': '11404', 'end_station_name': 'Charing Cross Hospital, Hammersmith'}, {'_id': ObjectId('5ca42235d1823d1f90e4476f'), 'rental_id': '44555079', 'duration': '2160', 'bike_id': '5232', 'end_station_name': 'Park Lane , Hyde Park'}, {'_id': ObjectId('5ca42235d1823d1f90e44770'), 'rental_id': '42219197', 'duration': '5340', 'bike_id': '1061', 'end_station_name': 'Wellington Arch, Hyde Park'}, {'_id': ObjectId('5ca42235d1823d1f90e44771'), 'rental_id': '43837424', 'duration': '9480', 'bike_id': '5068', 'end_station_name': 'Eaton Square (South), Belgravia'}, {'_id': ObjectId('5ca42235d1823d1f90e44772'), 'rental_id': '44274674', 'duration': '5880', 'bike_id': '3764', 'end_station_name': 'Waterloo Station 2, Waterloo'}, {'_id': ObjectId('5ca42235d1823d1f90e44773'), 'rental_id': '44435230', 'duration': '2280', 'bike_id': '7214', 'end_station_name': 'Bow Road Station, Bow'}, {'_id': ObjectId('5ca42236d1823d1f90e44774'), 'rental_id': '42012140', 'duration': '2460', 'bike_id': '46', 'end_station_name': 'North Wharf Road, Paddington'}, {'_id': ObjectId('5ca42236d1823d1f90e44775'), 'rental_id': '43791429', 'duration': '3960', 'bike_id': '6754', 'end_station_name': \"The Tennis Courts, The Regent's Park\"}, {'_id': ObjectId('5ca42236d1823d1f90e44776'), 'rental_id': '42626032', 'duration': '9420', 'bike_id': '3338', 'end_station_name': 'Old Brompton Road, South Kensington'}, {'_id': ObjectId('5ca42236d1823d1f90e44777'), 'rental_id': '44014181', 'duration': '3060', 'bike_id': '12261', 'end_station_name': 'Crawford Street, Marylebone'}, {'_id': ObjectId('5ca42236d1823d1f90e44778'), 'rental_id': '42745757', 'duration': '3900', 'bike_id': '1271', 'end_station_name': 'Beaumont Street, Marylebone'}, {'_id': ObjectId('5ca42236d1823d1f90e44779'), 'rental_id': '43340590', 'duration': '6660', 'bike_id': '7766', 'end_station_name': \"Speakers' Corner 1, Hyde Park\"}, {'_id': ObjectId('5ca42236d1823d1f90e4477a'), 'rental_id': '44237323', 'duration': '4020', 'bike_id': '2133', 'end_station_name': 'Sedding Street, Sloane Square'}, {'_id': ObjectId('5ca42236d1823d1f90e4477b'), 'rental_id': '44852736', 'duration': '5280', 'bike_id': '7007', 'end_station_name': 'Southerton Road, Hammersmith'}, {'_id': ObjectId('5ca42236d1823d1f90e4477c'), 'rental_id': '41064428', 'duration': '3000', 'bike_id': '349', 'end_station_name': 'Devonshire Square, Liverpool Street'}, {'_id': ObjectId('5ca42236d1823d1f90e4477d'), 'rental_id': '44281882', 'duration': '3000', 'bike_id': '7840', 'end_station_name': 'Mudchute DLR, Cubitt Town'}, {'_id': ObjectId('5ca42236d1823d1f90e4477e'), 'rental_id': '42377820', 'duration': '6960', 'bike_id': '2176', 'end_station_name': \"Newgate Street , St. Paul's\"}, {'_id': ObjectId('5ca42236d1823d1f90e4477f'), 'rental_id': '43325544', 'duration': '4320', 'bike_id': '11849', 'end_station_name': 'Islington Green, Angel'}, {'_id': ObjectId('5ca42236d1823d1f90e44780'), 'rental_id': '44853083', 'duration': '0', 'bike_id': '3482', 'end_station_name': \"Newgate Street , St. Paul's\"}, {'_id': ObjectId('5ca42236d1823d1f90e44781'), 'rental_id': '42242917', 'duration': '8160', 'bike_id': '9704', 'end_station_name': 'Green Park Station, West End'}, {'_id': ObjectId('5ca42236d1823d1f90e44782'), 'rental_id': '43358896', 'duration': '4140', 'bike_id': '10295', 'end_station_name': 'Warwick Avenue Station, Maida Vale'}, {'_id': ObjectId('5ca42236d1823d1f90e44783'), 'rental_id': '41356164', 'duration': '3540', 'bike_id': '10325', 'end_station_name': \"Speakers' Corner 2, Hyde Park\"}, {'_id': ObjectId('5ca42236d1823d1f90e44784'), 'rental_id': '44335862', 'duration': '4800', 'bike_id': '9386', 'end_station_name': 'Wellington Arch, Hyde Park'}, {'_id': ObjectId('5ca42236d1823d1f90e44785'), 'rental_id': '44542980', 'duration': '4080', 'bike_id': '9160', 'end_station_name': \"Speakers' Corner 2, Hyde Park\"}, {'_id': ObjectId('5ca42236d1823d1f90e44786'), 'rental_id': '44209161', 'duration': '2760', 'bike_id': '3115', 'end_station_name': 'Lots Road, West Chelsea'}, {'_id': ObjectId('5ca42236d1823d1f90e44787'), 'rental_id': '41330713', 'duration': '6300', 'bike_id': '2353', 'end_station_name': 'Castlehaven Road, Camden Town'}, {'_id': ObjectId('5ca42236d1823d1f90e44788'), 'rental_id': '41157397', 'duration': '2040', 'bike_id': '11518', 'end_station_name': 'King Edward Street, St Pauls'}, {'_id': ObjectId('5ca42236d1823d1f90e44789'), 'rental_id': '40915609', 'duration': '3720', 'bike_id': '11446', 'end_station_name': 'Crisp Road, Hammersmith'}, {'_id': ObjectId('5ca42236d1823d1f90e4478a'), 'rental_id': '40525819', 'duration': '9240', 'bike_id': '1963', 'end_station_name': 'Nutford Place, Marylebone'}, {'_id': ObjectId('5ca42236d1823d1f90e4478b'), 'rental_id': '44502547', 'duration': '2520', 'bike_id': '4020', 'end_station_name': \"St. Katharine's Way, Tower\"}, {'_id': ObjectId('5ca42236d1823d1f90e4478c'), 'rental_id': '42304336', 'duration': '5400', 'bike_id': '1531', 'end_station_name': 'Bow Church Station, Bow'}, {'_id': ObjectId('5ca42236d1823d1f90e4478d'), 'rental_id': '43527984', 'duration': '7320', 'bike_id': '9309', 'end_station_name': 'Heron Quays DLR, Canary Wharf'}, {'_id': ObjectId('5ca42236d1823d1f90e4478e'), 'rental_id': '42709035', 'duration': '4440', 'bike_id': '8080', 'end_station_name': \"Queen's Gate, Kensington Gardens\"}, {'_id': ObjectId('5ca42237d1823d1f90e4478f'), 'rental_id': '43918840', 'duration': '4740', 'bike_id': '11958', 'end_station_name': 'Braham Street, Aldgate'}, {'_id': ObjectId('5ca42237d1823d1f90e44790'), 'rental_id': '44537882', 'duration': '1980', 'bike_id': '7829', 'end_station_name': 'Abingdon Green, Westminster'}, {'_id': ObjectId('5ca42237d1823d1f90e44791'), 'rental_id': '43820601', 'duration': '3420', 'bike_id': '10726', 'end_station_name': 'Imperial Road, Sands End'}, {'_id': ObjectId('5ca42237d1823d1f90e44792'), 'rental_id': '42733249', 'duration': '4020', 'bike_id': '12224', 'end_station_name': 'Harriet Street, Knightsbridge'}, {'_id': ObjectId('5ca42237d1823d1f90e44793'), 'rental_id': '40886968', 'duration': '2040', 'bike_id': '918', 'end_station_name': 'Kensington Church Street, Kensington'}, {'_id': ObjectId('5ca42237d1823d1f90e44794'), 'rental_id': '43588419', 'duration': '6360', 'bike_id': '581', 'end_station_name': 'Whitehall Place, Strand'}, {'_id': ObjectId('5ca42237d1823d1f90e44795'), 'rental_id': '41546878', 'duration': '2040', 'bike_id': '12299', 'end_station_name': 'Park Street, Bankside'}, {'_id': ObjectId('5ca42237d1823d1f90e44796'), 'rental_id': '42372835', 'duration': '2040', 'bike_id': '6391', 'end_station_name': 'Euston Road, Euston'}, {'_id': ObjectId('5ca42237d1823d1f90e44797'), 'rental_id': '43918254', 'duration': '4020', 'bike_id': '8002', 'end_station_name': \"Storey's Gate, Westminster\"}, {'_id': ObjectId('5ca42237d1823d1f90e44798'), 'rental_id': '42018076', 'duration': '2280', 'bike_id': '8013', 'end_station_name': 'Abingdon Green, Great College Street'}, {'_id': ObjectId('5ca42237d1823d1f90e44799'), 'rental_id': '43456244', 'duration': '2160', 'bike_id': '10762', 'end_station_name': \"Trebovir Road, Earl's Court\"}, {'_id': ObjectId('5ca42237d1823d1f90e4479a'), 'rental_id': '44231100', 'duration': '2400', 'bike_id': '7211', 'end_station_name': 'Finsbury Library , Finsbury'}, {'_id': ObjectId('5ca42237d1823d1f90e4479b'), 'rental_id': '44269307', 'duration': '5160', 'bike_id': '8281', 'end_station_name': 'Palace Gate, Kensington Gardens'}, {'_id': ObjectId('5ca42237d1823d1f90e4479c'), 'rental_id': '43092489', 'duration': '77940', 'bike_id': '10675', 'end_station_name': 'Westfield Ariel Way, White City'}, {'_id': ObjectId('5ca42237d1823d1f90e4479d'), 'rental_id': '44919256', 'duration': '2940', 'bike_id': '1175', 'end_station_name': 'Crosswall, Tower'}, {'_id': ObjectId('5ca42237d1823d1f90e4479e'), 'rental_id': '42322964', 'duration': '9600', 'bike_id': '10133', 'end_station_name': 'Green Street, Mayfair'}, {'_id': ObjectId('5ca42237d1823d1f90e4479f'), 'rental_id': '41658293', 'duration': '2460', 'bike_id': '11273', 'end_station_name': 'High Holborn , Covent Garden'}, {'_id': ObjectId('5ca42237d1823d1f90e447a0'), 'rental_id': '40631167', 'duration': '1980', 'bike_id': '9370', 'end_station_name': \"Queen's Circus, Battersea Park\"}, {'_id': ObjectId('5ca42237d1823d1f90e447a1'), 'rental_id': '42028213', 'duration': '15480', 'bike_id': '5766', 'end_station_name': \"Westfield Southern Terrace ,Shepherd's Bush\"}, {'_id': ObjectId('5ca42237d1823d1f90e447a2'), 'rental_id': '44064351', 'duration': '55620', 'bike_id': '215', 'end_station_name': 'Portland Place, Marylebone'}, {'_id': ObjectId('5ca42237d1823d1f90e447a3'), 'rental_id': '44058213', 'duration': '0', 'bike_id': '12184', 'end_station_name': 'Strand, Strand'}, {'_id': ObjectId('5ca42237d1823d1f90e447a4'), 'rental_id': '44682200', 'duration': '2520', 'bike_id': '6741', 'end_station_name': \"Bishop's Avenue, Fulham\"}, {'_id': ObjectId('5ca42237d1823d1f90e447a5'), 'rental_id': '43186435', 'duration': '2040', 'bike_id': '9', 'end_station_name': 'Turquoise Island, Notting Hill'}, {'_id': ObjectId('5ca42237d1823d1f90e447a6'), 'rental_id': '41930175', 'duration': '0', 'bike_id': '9207', 'end_station_name': 'Palace Gate, Kensington Gardens'}, {'_id': ObjectId('5ca42237d1823d1f90e447a7'), 'rental_id': '41105479', 'duration': '2160', 'bike_id': '1572', 'end_station_name': 'Belgrave Road, Victoria'}, {'_id': ObjectId('5ca42237d1823d1f90e447a8'), 'rental_id': '44908638', 'duration': '3600', 'bike_id': '716', 'end_station_name': 'The Green Bridge, Mile End'}, {'_id': ObjectId('5ca42237d1823d1f90e447a9'), 'rental_id': '43199571', 'duration': '3060', 'bike_id': '326', 'end_station_name': \"All Saints' Road, Portobello\"}, {'_id': ObjectId('5ca42237d1823d1f90e447aa'), 'rental_id': '42436662', 'duration': '4080', 'bike_id': '6281', 'end_station_name': \"The Tennis Courts, Regent's Park\"}, {'_id': ObjectId('5ca42238d1823d1f90e447ab'), 'rental_id': '42524026', 'duration': '6480', 'bike_id': '1304', 'end_station_name': 'Triangle Car Park, Hyde Park'}, {'_id': ObjectId('5ca42238d1823d1f90e447ac'), 'rental_id': '44056891', 'duration': '8160', 'bike_id': '2173', 'end_station_name': 'Tavistock Street, Covent Garden'}, {'_id': ObjectId('5ca42238d1823d1f90e447ad'), 'rental_id': '41943361', 'duration': '60', 'bike_id': '8215', 'end_station_name': 'St. Bride Street, Holborn'}, {'_id': ObjectId('5ca42238d1823d1f90e447ae'), 'rental_id': '44237952', 'duration': '3600', 'bike_id': '2678', 'end_station_name': \"Speakers' Corner 1, Hyde Park\"}, {'_id': ObjectId('5ca42238d1823d1f90e447af'), 'rental_id': '43797321', 'duration': '2400', 'bike_id': '8407', 'end_station_name': 'Hampstead Road (Cartmel), Euston'}, {'_id': ObjectId('5ca42238d1823d1f90e447b0'), 'rental_id': '42501695', 'duration': '2100', 'bike_id': '1807', 'end_station_name': 'Wellington Street , Strand'}, {'_id': ObjectId('5ca42239d1823d1f90e447b1'), 'rental_id': '54456949', 'duration': '8880', 'bike_id': '701'}, {'_id': ObjectId('5ca4223ad1823d1f90e447b2'), 'rental_id': '46543472', 'duration': '2520', 'bike_id': '10776'}, {'_id': ObjectId('5ca4223ad1823d1f90e447b3'), 'rental_id': '46599130', 'duration': '2280', 'bike_id': '8968'}, {'_id': ObjectId('5ca4223ad1823d1f90e447b4'), 'rental_id': '61271627', 'duration': '6180', 'bike_id': '3666'}, {'_id': ObjectId('5ca4223ad1823d1f90e447b5'), 'rental_id': '65050023', 'duration': '2700', 'bike_id': '1590'}, {'_id': ObjectId('5ca4223ad1823d1f90e447b6'), 'rental_id': '64735614', 'duration': '3540', 'bike_id': '11982'}, {'_id': ObjectId('5ca4223ad1823d1f90e447b7'), 'rental_id': '52908739', 'duration': '2940', 'bike_id': '11295'}, {'_id': ObjectId('5ca4223ad1823d1f90e447b8'), 'rental_id': '53601486', 'duration': '8940', 'bike_id': '8543'}, {'_id': ObjectId('5ca4223ad1823d1f90e447b9'), 'rental_id': '66040096', 'duration': '2160', 'bike_id': '9295'}, {'_id': ObjectId('5ca4223ad1823d1f90e447ba'), 'rental_id': '56904856', 'duration': '4260', 'bike_id': '14264'}, {'_id': ObjectId('5ca4223ad1823d1f90e447bb'), 'rental_id': '57550832', 'duration': '2400', 'bike_id': '1058'}, {'_id': ObjectId('5ca4223ad1823d1f90e447bc'), 'rental_id': '49932622', 'duration': '6480', 'bike_id': '13254'}, {'_id': ObjectId('5ca4223ad1823d1f90e447bd'), 'rental_id': '63439524', 'duration': '1980', 'bike_id': '7326'}, {'_id': ObjectId('5ca4223ad1823d1f90e447be'), 'rental_id': '46971046', 'duration': '3240', 'bike_id': '11348'}, {'_id': ObjectId('5ca4223ad1823d1f90e447bf'), 'rental_id': '49222914', 'duration': '2460', 'bike_id': '8884'}, {'_id': ObjectId('5ca4223ad1823d1f90e447c0'), 'rental_id': '62016271', 'duration': '5280', 'bike_id': '5492'}, {'_id': ObjectId('5ca4223ad1823d1f90e447c1'), 'rental_id': '45462121', 'duration': '2220', 'bike_id': '6517'}, {'_id': ObjectId('5ca4223ad1823d1f90e447c2'), 'rental_id': '55557811', 'duration': '2280', 'bike_id': '10713'}, {'_id': ObjectId('5ca4223ad1823d1f90e447c3'), 'rental_id': '45573582', 'duration': '2820', 'bike_id': '198'}, {'_id': ObjectId('5ca4223ad1823d1f90e447c4'), 'rental_id': '59275741', 'duration': '2040', 'bike_id': '14231'}, {'_id': ObjectId('5ca4223ad1823d1f90e447c5'), 'rental_id': '46451219', 'duration': '17400', 'bike_id': '535'}, {'_id': ObjectId('5ca4223ad1823d1f90e447c6'), 'rental_id': '63635380', 'duration': '4200', 'bike_id': '6149'}, {'_id': ObjectId('5ca4223ad1823d1f90e447c7'), 'rental_id': '53158750', 'duration': '1980', 'bike_id': '2714'}, {'_id': ObjectId('5ca4223ad1823d1f90e447c8'), 'rental_id': '59072279', 'duration': '2100', 'bike_id': '9787'}, {'_id': ObjectId('5ca4223ad1823d1f90e447c9'), 'rental_id': '52659712', 'duration': '11520', 'bike_id': '13105'}, {'_id': ObjectId('5ca4223ad1823d1f90e447ca'), 'rental_id': '55994160', 'duration': '2280', 'bike_id': '1840'}, {'_id': ObjectId('5ca4223ad1823d1f90e447cb'), 'rental_id': '46112696', 'duration': '2700', 'bike_id': '7297'}, {'_id': ObjectId('5ca4223bd1823d1f90e447cc'), 'rental_id': '62127223', 'duration': '1980', 'bike_id': '3933'}, {'_id': ObjectId('5ca4223bd1823d1f90e447cd'), 'rental_id': '56019473', 'duration': '6360', 'bike_id': '10181'}, {'_id': ObjectId('5ca4223bd1823d1f90e447ce'), 'rental_id': '65471669', 'duration': '3300', 'bike_id': '292'}, {'_id': ObjectId('5ca4223bd1823d1f90e447cf'), 'rental_id': '54366964', 'duration': '4140', 'bike_id': '6144'}, {'_id': ObjectId('5ca4223bd1823d1f90e447d0'), 'rental_id': '48038021', 'duration': '47100', 'bike_id': '1760'}, {'_id': ObjectId('5ca4223bd1823d1f90e447d1'), 'rental_id': '54838100', 'duration': '5400', 'bike_id': '13961'}, {'_id': ObjectId('5ca4223bd1823d1f90e447d2'), 'rental_id': '64977258', 'duration': '3960', 'bike_id': '2540'}, {'_id': ObjectId('5ca4223bd1823d1f90e447d3'), 'rental_id': '51602254', 'duration': '4800', 'bike_id': '12380'}, {'_id': ObjectId('5ca4223bd1823d1f90e447d4'), 'rental_id': '63135601', 'duration': '3360', 'bike_id': '5459'}, {'_id': ObjectId('5ca4223bd1823d1f90e447d5'), 'rental_id': '59268586', 'duration': '1980', 'bike_id': '8803'}, {'_id': ObjectId('5ca4223bd1823d1f90e447d6'), 'rental_id': '47287289', 'duration': '2640', 'bike_id': '1201'}, {'_id': ObjectId('5ca4223bd1823d1f90e447d7'), 'rental_id': '55491718', 'duration': '1980', 'bike_id': '10918'}, {'_id': ObjectId('5ca4223bd1823d1f90e447d8'), 'rental_id': '62810098', 'duration': '2400', 'bike_id': '8143'}, {'_id': ObjectId('5ca4223bd1823d1f90e447d9'), 'rental_id': '60267145', 'duration': '2640', 'bike_id': '2444'}, {'_id': ObjectId('5ca4223bd1823d1f90e447da'), 'rental_id': '50888108', 'duration': '2040', 'bike_id': '5815'}, {'_id': ObjectId('5ca4223bd1823d1f90e447db'), 'rental_id': '46342004', 'duration': '1980', 'bike_id': '7459'}, {'_id': ObjectId('5ca4223bd1823d1f90e447dc'), 'rental_id': '46820529', 'duration': '3540', 'bike_id': '6064'}, {'_id': ObjectId('5ca4223bd1823d1f90e447dd'), 'rental_id': '60415755', 'duration': '60', 'bike_id': '5997'}, {'_id': ObjectId('5ca4223bd1823d1f90e447de'), 'rental_id': '53829080', 'duration': '4620', 'bike_id': '2745'}, {'_id': ObjectId('5ca4223bd1823d1f90e447df'), 'rental_id': '64505091', 'duration': '2520', 'bike_id': '733'}, {'_id': ObjectId('5ca4223bd1823d1f90e447e0'), 'rental_id': '58468938', 'duration': '2160', 'bike_id': '8464'}, {'_id': ObjectId('5ca4223bd1823d1f90e447e1'), 'rental_id': '56983331', 'duration': '3540', 'bike_id': '12313'}, {'_id': ObjectId('5ca4223bd1823d1f90e447e2'), 'rental_id': '57417805', 'duration': '13080', 'bike_id': '9522'}, {'_id': ObjectId('5ca4223bd1823d1f90e447e3'), 'rental_id': '52027237', 'duration': '3300', 'bike_id': '4350'}, {'_id': ObjectId('5ca4223bd1823d1f90e447e4'), 'rental_id': '62692144', 'duration': '2160', 'bike_id': '12129'}, {'_id': ObjectId('5ca4223bd1823d1f90e447e5'), 'rental_id': '65031775', 'duration': '1980', 'bike_id': '11473'}, {'_id': ObjectId('5ca4223bd1823d1f90e447e6'), 'rental_id': '50890920', 'duration': '4200', 'bike_id': '7815'}, {'_id': ObjectId('5ca4223bd1823d1f90e447e7'), 'rental_id': '57078368', 'duration': '2820', 'bike_id': '11158'}, {'_id': ObjectId('5ca4223cd1823d1f90e447e8'), 'rental_id': '46059162', 'duration': '2520', 'bike_id': '6125'}, {'_id': ObjectId('5ca4223cd1823d1f90e447e9'), 'rental_id': '45315002', 'duration': '4200', 'bike_id': '5938'}, {'_id': ObjectId('5ca4223cd1823d1f90e447ea'), 'rental_id': '60255039', 'duration': '4980', 'bike_id': '9592'}, {'_id': ObjectId('5ca4223cd1823d1f90e447eb'), 'rental_id': '56275057', 'duration': '2340', 'bike_id': '5779'}, {'_id': ObjectId('5ca4223cd1823d1f90e447ec'), 'rental_id': '45917833', 'duration': '4740', 'bike_id': '2186'}, {'_id': ObjectId('5ca4223cd1823d1f90e447ed'), 'rental_id': '59641576', 'duration': '2100', 'bike_id': '3352'}, {'_id': ObjectId('5ca4223cd1823d1f90e447ee'), 'rental_id': '60834950', 'duration': '1980', 'bike_id': '11842'}, {'_id': ObjectId('5ca4223cd1823d1f90e447ef'), 'rental_id': '53619859', 'duration': '4860', 'bike_id': '13776'}, {'_id': ObjectId('5ca4223cd1823d1f90e447f0'), 'rental_id': '47141247', 'duration': '2160', 'bike_id': '11853'}, {'_id': ObjectId('5ca4223cd1823d1f90e447f1'), 'rental_id': '54546386', 'duration': '3120', 'bike_id': '4243'}, {'_id': ObjectId('5ca4223cd1823d1f90e447f2'), 'rental_id': '64676169', 'duration': '2820', 'bike_id': '8638'}, {'_id': ObjectId('5ca4223cd1823d1f90e447f3'), 'rental_id': '53797815', 'duration': '2220', 'bike_id': '7901'}, {'_id': ObjectId('5ca4223cd1823d1f90e447f4'), 'rental_id': '56380543', 'duration': '3120', 'bike_id': '11344'}, {'_id': ObjectId('5ca4223cd1823d1f90e447f5'), 'rental_id': '65619269', 'duration': '3480', 'bike_id': '5205'}, {'_id': ObjectId('5ca4223cd1823d1f90e447f6'), 'rental_id': '60111954', 'duration': '2340', 'bike_id': '337'}, {'_id': ObjectId('5ca4223cd1823d1f90e447f7'), 'rental_id': '66043846', 'duration': '2280', 'bike_id': '14612'}, {'_id': ObjectId('5ca4223cd1823d1f90e447f8'), 'rental_id': '62803614', 'duration': '2100', 'bike_id': '9002'}, {'_id': ObjectId('5ca4223cd1823d1f90e447f9'), 'rental_id': '55849196', 'duration': '2460', 'bike_id': '8091'}, {'_id': ObjectId('5ca4223cd1823d1f90e447fa'), 'rental_id': '65633296', 'duration': '2100', 'bike_id': '1681'}, {'_id': ObjectId('5ca4223cd1823d1f90e447fb'), 'rental_id': '45456944', 'duration': '3660', 'bike_id': '2652'}, {'_id': ObjectId('5ca4223cd1823d1f90e447fc'), 'rental_id': '59003099', 'duration': '3480', 'bike_id': '1331'}, {'_id': ObjectId('5ca4223cd1823d1f90e447fd'), 'rental_id': '46618983', 'duration': '3060', 'bike_id': '4785'}, {'_id': ObjectId('5ca4223cd1823d1f90e447fe'), 'rental_id': '63958447', 'duration': '22680', 'bike_id': '6139'}, {'_id': ObjectId('5ca4223cd1823d1f90e447ff'), 'rental_id': '62400832', 'duration': '5100', 'bike_id': '7525'}, {'_id': ObjectId('5ca4223cd1823d1f90e44800'), 'rental_id': '52504605', 'duration': '2280', 'bike_id': '2110'}, {'_id': ObjectId('5ca4223cd1823d1f90e44801'), 'rental_id': '66054866', 'duration': '2040', 'bike_id': '809'}, {'_id': ObjectId('5ca4223cd1823d1f90e44802'), 'rental_id': '65638361', 'duration': '2280', 'bike_id': '9470'}, {'_id': ObjectId('5ca4223cd1823d1f90e44803'), 'rental_id': '47576583', 'duration': '2100', 'bike_id': '1892'}, {'_id': ObjectId('5ca4223cd1823d1f90e44804'), 'rental_id': '59353981', 'duration': '2760', 'bike_id': '13498'}, {'_id': ObjectId('5ca4223dd1823d1f90e44805'), 'rental_id': '64231117', 'duration': '2040', 'bike_id': '4567'}, {'_id': ObjectId('5ca4223dd1823d1f90e44806'), 'rental_id': '55338662', 'duration': '4860', 'bike_id': '892'}, {'_id': ObjectId('5ca4223dd1823d1f90e44807'), 'rental_id': '58759579', 'duration': '1980', 'bike_id': '8237'}, {'_id': ObjectId('5ca4223dd1823d1f90e44808'), 'rental_id': '45389681', 'duration': '2040', 'bike_id': '12196'}, {'_id': ObjectId('5ca4223dd1823d1f90e44809'), 'rental_id': '55133349', 'duration': '2040', 'bike_id': '13963'}, {'_id': ObjectId('5ca4223dd1823d1f90e4480a'), 'rental_id': '58076315', 'duration': '2100', 'bike_id': '13753'}, {'_id': ObjectId('5ca4223dd1823d1f90e4480b'), 'rental_id': '48114995', 'duration': '3720', 'bike_id': '6109'}, {'_id': ObjectId('5ca4223dd1823d1f90e4480c'), 'rental_id': '49649914', 'duration': '11220', 'bike_id': '3295'}, {'_id': ObjectId('5ca4223dd1823d1f90e4480d'), 'rental_id': '56071443', 'duration': '2880', 'bike_id': '5099'}, {'_id': ObjectId('5ca4223dd1823d1f90e4480e'), 'rental_id': '62822713', 'duration': '9060', 'bike_id': '1510'}, {'_id': ObjectId('5ca4223dd1823d1f90e4480f'), 'rental_id': '59698576', 'duration': '3060', 'bike_id': '7409'}, {'_id': ObjectId('5ca4223dd1823d1f90e44810'), 'rental_id': '55400744', 'duration': '8280', 'bike_id': '8248'}, {'_id': ObjectId('5ca4223dd1823d1f90e44811'), 'rental_id': '63777766', 'duration': '2520', 'bike_id': '4520'}, {'_id': ObjectId('5ca4223dd1823d1f90e44812'), 'rental_id': '61994916', 'duration': '2760', 'bike_id': '9944'}, {'_id': ObjectId('5ca4223dd1823d1f90e44813'), 'rental_id': '50603257', 'duration': '2580', 'bike_id': '11395'}, {'_id': ObjectId('5ca4223dd1823d1f90e44814'), 'rental_id': '62818017', 'duration': '2040', 'bike_id': '11831'}, {'_id': ObjectId('5ca42244d1823d1f90e44815'), 'name': 'Popular Question', 'date': '2014-10-02 11:22:31.817 UTC', 'user_id': '2199548', 'class': '3', 'tag_based': False}, {'_id': ObjectId('5ca42244d1823d1f90e44816'), 'name': 'Popular Question', 'date': '2013-07-31 16:19:38.98 UTC', 'user_id': '619616', 'class': '3', 'tag_based': False}, {'_id': ObjectId('5ca42244d1823d1f90e44817'), 'name': 'Scholar', 'date': '2017-03-26 23:18:29.06 UTC', 'user_id': '6265590', 'class': '3', 'tag_based': False}, {'_id': ObjectId('5ca42244d1823d1f90e44818'), 'name': 'Tumbleweed', 'date': '2015-07-17 13:52:02.31 UTC', 'user_id': '5103065', 'class': '3', 'tag_based': False}, {'_id': ObjectId('5ca42244d1823d1f90e44819'), 'name': 'Editor', 'date': '2016-09-30 17:05:10.95 UTC', 'user_id': '5379549', 'class': '3', 'tag_based': False}, {'_id': ObjectId('5ca42244d1823d1f90e4481a'), 'name': 'Notable Question', 'date': '2018-11-07 11:40:06.763 UTC', 'user_id': '1838266', 'class': '2', 'tag_based': False}, {'_id': ObjectId('5ca42244d1823d1f90e4481b'), 'name': 'Custodian', 'date': '2016-04-08 22:21:36.587 UTC', 'user_id': '4100201', 'class': '3', 'tag_based': False}, {'_id': ObjectId('5ca42244d1823d1f90e4481c'), 'name': 'Yearling', 'date': '2016-10-11 02:16:45.363 UTC', 'user_id': '2769125', 'class': '2', 'tag_based': False}, {'_id': ObjectId('5ca42244d1823d1f90e4481d'), 'name': 'Autobiographer', 'date': '2019-01-27 16:50:13.433 UTC', 'user_id': '10975600', 'class': '3', 'tag_based': False}, {'_id': ObjectId('5ca42244d1823d1f90e4481e'), 'name': 'Student', 'date': '2009-10-22 12:07:31.043 UTC', 'user_id': '194526', 'class': '3', 'tag_based': False}, {'_id': ObjectId('5ca42244d1823d1f90e4481f'), 'name': 'Commentator', 'date': '2015-03-22 20:03:28.493 UTC', 'user_id': '4229746', 'class': '3', 'tag_based': False}, {'_id': ObjectId('5ca42244d1823d1f90e44820'), 'name': 'Scholar', 'date': '2012-03-04 16:59:00.73 UTC', 'user_id': '1236057', 'class': '3', 'tag_based': False}, {'_id': ObjectId('5ca42244d1823d1f90e44821'), 'name': 'Nice Answer', 'date': '2016-10-05 00:54:05.19 UTC', 'user_id': '94977', 'class': '3', 'tag_based': False}, {'_id': ObjectId('5ca42244d1823d1f90e44822'), 'name': 'Supporter', 'date': '2015-08-02 22:09:07.23 UTC', 'user_id': '2995240', 'class': '3', 'tag_based': False}, {'_id': ObjectId('5ca42244d1823d1f90e44823'), 'name': 'Informed', 'date': '2016-02-25 07:53:33.447 UTC', 'user_id': '5978997', 'class': '3', 'tag_based': False}, {'_id': ObjectId('5ca42244d1823d1f90e44824'), 'name': 'Popular Question', 'date': '2011-05-23 07:27:58.837 UTC', 'user_id': '248467', 'class': '3', 'tag_based': False}, {'_id': ObjectId('5ca42244d1823d1f90e44825'), 'name': 'Informed', 'date': '2016-02-16 20:45:12.3 UTC', 'user_id': '5937174', 'class': '3', 'tag_based': False}, {'_id': ObjectId('5ca42244d1823d1f90e44826'), 'name': 'Famous Question', 'date': '2014-10-28 07:12:37.55 UTC', 'user_id': '631796', 'class': '1', 'tag_based': False}, {'_id': ObjectId('5ca42245d1823d1f90e44827'), 'name': 'Informed', 'date': '2015-09-17 12:36:44.373 UTC', 'user_id': '5346436', 'class': '3', 'tag_based': False}, {'_id': ObjectId('5ca42245d1823d1f90e44828'), 'name': 'Popular Question', 'date': '2010-02-24 20:52:37.75 UTC', 'user_id': '64833', 'class': '3', 'tag_based': False}, {'_id': ObjectId('5ca42245d1823d1f90e44829'), 'name': 'Announcer', 'date': '2015-11-02 04:03:31.62 UTC', 'user_id': '4871489', 'class': '3', 'tag_based': False}, {'_id': ObjectId('5ca42245d1823d1f90e4482a'), 'name': 'Student', 'date': '2017-03-09 23:25:27.413 UTC', 'user_id': '1658415', 'class': '3', 'tag_based': False}, {'_id': ObjectId('5ca42245d1823d1f90e4482b'), 'name': 'Famous Question', 'date': '2014-04-07 07:51:28.633 UTC', 'user_id': '1804229', 'class': '1', 'tag_based': False}, {'_id': ObjectId('5ca42245d1823d1f90e4482c'), 'name': 'Informed', 'date': '2016-06-30 03:31:50.153 UTC', 'user_id': '6531312', 'class': '3', 'tag_based': False}, {'_id': ObjectId('5ca42245d1823d1f90e4482d'), 'name': 'Teacher', 'date': '2013-08-12 04:17:46.123 UTC', 'user_id': '1371451', 'class': '3', 'tag_based': False}, {'_id': ObjectId('5ca42245d1823d1f90e4482e'), 'name': 'Editor', 'date': '2012-06-12 19:56:21.827 UTC', 'user_id': '1451715', 'class': '3', 'tag_based': False}, {'_id': ObjectId('5ca42245d1823d1f90e4482f'), 'name': 'Supporter', 'date': '2015-06-03 23:03:37.397 UTC', 'user_id': '3740935', 'class': '3', 'tag_based': False}, {'_id': ObjectId('5ca42245d1823d1f90e44830'), 'name': 'Tumbleweed', 'date': '2014-08-21 09:23:26.76 UTC', 'user_id': '3886625', 'class': '3', 'tag_based': False}, {'_id': ObjectId('5ca42245d1823d1f90e44831'), 'name': 'Teacher', 'date': '2018-07-05 08:31:51.21 UTC', 'user_id': '10026429', 'class': '3', 'tag_based': False}, {'_id': ObjectId('5ca42245d1823d1f90e44832'), 'name': 'Student', 'date': '2016-06-02 04:32:21.607 UTC', 'user_id': '4872947', 'class': '3', 'tag_based': False}, {'_id': ObjectId('5ca42245d1823d1f90e44833'), 'name': 'Yearling', 'date': '2016-06-04 06:52:49.953 UTC', 'user_id': '117116', 'class': '2', 'tag_based': False}, {'_id': ObjectId('5ca42245d1823d1f90e44834'), 'name': 'Student', 'date': '2016-03-23 06:31:22.283 UTC', 'user_id': '5846967', 'class': '3', 'tag_based': False}, {'_id': ObjectId('5ca42245d1823d1f90e44835'), 'name': 'Famous Question', 'date': '2015-08-18 19:22:44.86 UTC', 'user_id': '942453', 'class': '1', 'tag_based': False}, {'_id': ObjectId('5ca42245d1823d1f90e44836'), 'name': 'Famous Question', 'date': '2014-03-11 20:17:31.237 UTC', 'user_id': '515168', 'class': '1', 'tag_based': False}, {'_id': ObjectId('5ca42245d1823d1f90e44837'), 'name': 'Popular Question', 'date': '2016-04-12 13:23:50.217 UTC', 'user_id': '988335', 'class': '3', 'tag_based': False}, {'_id': ObjectId('5ca42245d1823d1f90e44838'), 'name': 'Informed', 'date': '2017-11-22 09:32:01.36 UTC', 'user_id': '2950010', 'class': '3', 'tag_based': False}, {'_id': ObjectId('5ca42245d1823d1f90e44839'), 'name': 'Editor', 'date': '2014-07-28 10:07:30.823 UTC', 'user_id': '3588857', 'class': '3', 'tag_based': False}, {'_id': ObjectId('5ca42245d1823d1f90e4483a'), 'name': 'Editor', 'date': '2014-08-06 03:52:54.47 UTC', 'user_id': '2255550', 'class': '3', 'tag_based': False}, {'_id': ObjectId('5ca42245d1823d1f90e4483b'), 'name': 'Popular Question', 'date': '2013-02-21 17:39:11.737 UTC', 'user_id': '110776', 'class': '3', 'tag_based': False}, {'_id': ObjectId('5ca42245d1823d1f90e4483c'), 'name': 'Yearling', 'date': '2013-01-16 05:46:40.263 UTC', 'user_id': '252025', 'class': '2', 'tag_based': False}, {'_id': ObjectId('5ca42245d1823d1f90e4483d'), 'name': 'Editor', 'date': '2016-01-26 15:23:49.75 UTC', 'user_id': '5431451', 'class': '3', 'tag_based': False}, {'_id': ObjectId('5ca42245d1823d1f90e4483e'), 'name': 'Yearling', 'date': '2014-06-21 13:37:19.687 UTC', 'user_id': '372200', 'class': '2', 'tag_based': False}, {'_id': ObjectId('5ca42245d1823d1f90e4483f'), 'name': 'Tumbleweed', 'date': '2012-05-22 13:42:38.507 UTC', 'user_id': '1396227', 'class': '3', 'tag_based': False}, {'_id': ObjectId('5ca42245d1823d1f90e44840'), 'name': 'Informed', 'date': '2015-02-06 16:03:55.7 UTC', 'user_id': '4537957', 'class': '3', 'tag_based': False}, {'_id': ObjectId('5ca42245d1823d1f90e44841'), 'name': 'numpy', 'date': '2017-02-24 04:04:55.527 UTC', 'user_id': '625914', 'class': '2', 'tag_based': True}, {'_id': ObjectId('5ca42245d1823d1f90e44842'), 'name': 'Popular Question', 'date': '2016-02-27 11:20:03.293 UTC', 'user_id': '2525474', 'class': '3', 'tag_based': False}, {'_id': ObjectId('5ca42246d1823d1f90e44843'), 'name': 'Peer Pressure', 'date': '2014-01-20 05:58:33.123 UTC', 'user_id': '2128941', 'class': '3', 'tag_based': False}, {'_id': ObjectId('5ca42246d1823d1f90e44844'), 'name': 'Nice Answer', 'date': '2016-09-18 02:21:45.383 UTC', 'user_id': '2533215', 'class': '3', 'tag_based': False}, {'_id': ObjectId('5ca42246d1823d1f90e44845'), 'name': 'Scholar', 'date': '2015-07-06 15:11:35.28 UTC', 'user_id': '4835582', 'class': '3', 'tag_based': False}, {'_id': ObjectId('5ca42246d1823d1f90e44846'), 'name': 'Student', 'date': '2016-02-22 07:44:14.443 UTC', 'user_id': '2677068', 'class': '3', 'tag_based': False}, {'_id': ObjectId('5ca42246d1823d1f90e44847'), 'name': 'Popular Question', 'date': '2018-08-08 13:45:27.853 UTC', 'user_id': '7938548', 'class': '3', 'tag_based': False}, {'_id': ObjectId('5ca42246d1823d1f90e44848'), 'name': 'Necromancer', 'date': '2013-01-22 15:49:15.083 UTC', 'user_id': '3715', 'class': '2', 'tag_based': False}, {'_id': ObjectId('5ca42246d1823d1f90e44849'), 'name': 'Notable Question', 'date': '2019-01-23 19:35:15.1 UTC', 'user_id': '794022', 'class': '2', 'tag_based': False}, {'_id': ObjectId('5ca42246d1823d1f90e4484a'), 'name': 'Commentator', 'date': '2013-10-16 12:44:42.653 UTC', 'user_id': '2702856', 'class': '3', 'tag_based': False}, {'_id': ObjectId('5ca42246d1823d1f90e4484b'), 'name': 'Teacher', 'date': '2017-09-07 20:29:43.91 UTC', 'user_id': '7703564', 'class': '3', 'tag_based': False}, {'_id': ObjectId('5ca42246d1823d1f90e4484c'), 'name': 'Notable Question', 'date': '2017-01-18 13:33:22.493 UTC', 'user_id': '18480', 'class': '2', 'tag_based': False}, {'_id': ObjectId('5ca42246d1823d1f90e4484d'), 'name': 'Commentator', 'date': '2012-04-03 18:34:57.933 UTC', 'user_id': '1293474', 'class': '3', 'tag_based': False}, {'_id': ObjectId('5ca42246d1823d1f90e4484e'), 'name': 'Notable Question', 'date': '2016-02-19 08:00:55.47 UTC', 'user_id': '434736', 'class': '2', 'tag_based': False}, {'_id': ObjectId('5ca42246d1823d1f90e4484f'), 'name': 'Supporter', 'date': '2017-08-24 23:42:19.283 UTC', 'user_id': '5404617', 'class': '3', 'tag_based': False}, {'_id': ObjectId('5ca42246d1823d1f90e44850'), 'name': 'Nice Answer', 'date': '2012-12-22 01:06:49.757 UTC', 'user_id': '294554', 'class': '3', 'tag_based': False}, {'_id': ObjectId('5ca42246d1823d1f90e44851'), 'name': 'Teacher', 'date': '2015-09-15 18:18:30.627 UTC', 'user_id': '4781734', 'class': '3', 'tag_based': False}, {'_id': ObjectId('5ca42246d1823d1f90e44852'), 'name': 'Popular Question', 'date': '2015-11-24 18:55:29.953 UTC', 'user_id': '1220627', 'class': '3', 'tag_based': False}, {'_id': ObjectId('5ca42246d1823d1f90e44853'), 'name': 'Student', 'date': '2015-04-04 20:04:19.357 UTC', 'user_id': '3464546', 'class': '3', 'tag_based': False}, {'_id': ObjectId('5ca42246d1823d1f90e44854'), 'name': 'Popular Question', 'date': '2017-09-13 13:46:12.49 UTC', 'user_id': '2332636', 'class': '3', 'tag_based': False}, {'_id': ObjectId('5ca42246d1823d1f90e44855'), 'name': 'Good Question', 'date': '2015-02-01 19:50:24.29 UTC', 'user_id': '987704', 'class': '2', 'tag_based': False}, {'_id': ObjectId('5ca42246d1823d1f90e44856'), 'name': 'Informed', 'date': '2014-07-24 21:12:03.993 UTC', 'user_id': '1233123', 'class': '3', 'tag_based': False}, {'_id': ObjectId('5ca42246d1823d1f90e44857'), 'name': 'Teacher', 'date': '2012-02-15 17:40:50.177 UTC', 'user_id': '1208472', 'class': '3', 'tag_based': False}, {'_id': ObjectId('5ca42246d1823d1f90e44858'), 'name': 'Autobiographer', 'date': '2013-03-16 14:31:23.41 UTC', 'user_id': '1000827', 'class': '3', 'tag_based': False}, {'_id': ObjectId('5ca42246d1823d1f90e44859'), 'name': 'Informed', 'date': '2017-07-25 10:57:06.957 UTC', 'user_id': '8363136', 'class': '3', 'tag_based': False}, {'_id': ObjectId('5ca42246d1823d1f90e4485a'), 'name': 'Scholar', 'date': '2014-02-27 06:04:46.657 UTC', 'user_id': '2946704', 'class': '3', 'tag_based': False}, {'_id': ObjectId('5ca42246d1823d1f90e4485b'), 'name': 'Editor', 'date': '2011-03-07 08:32:09.22 UTC', 'user_id': '633263', 'class': '3', 'tag_based': False}, {'_id': ObjectId('5ca42246d1823d1f90e4485c'), 'name': 'Popular Question', 'date': '2015-10-29 16:19:08.497 UTC', 'user_id': '384672', 'class': '3', 'tag_based': False}, {'_id': ObjectId('5ca42246d1823d1f90e4485d'), 'name': 'Tumbleweed', 'date': '2013-07-13 21:14:22.283 UTC', 'user_id': '1650513', 'class': '3', 'tag_based': False}, {'_id': ObjectId('5ca42247d1823d1f90e4485e'), 'name': 'Enlightened', 'date': '2018-09-12 17:05:32.203 UTC', 'user_id': '771848', 'class': '2', 'tag_based': False}, {'_id': ObjectId('5ca42247d1823d1f90e4485f'), 'name': 'Nice Answer', 'date': '2013-10-15 19:03:35.63 UTC', 'user_id': '1103584', 'class': '3', 'tag_based': False}, {'_id': ObjectId('5ca42247d1823d1f90e44860'), 'name': 'Student', 'date': '2018-12-01 14:35:08.703 UTC', 'user_id': '6303975', 'class': '3', 'tag_based': False}, {'_id': ObjectId('5ca42247d1823d1f90e44861'), 'name': 'Informed', 'date': '2018-02-16 10:50:25.587 UTC', 'user_id': '9369186', 'class': '3', 'tag_based': False}, {'_id': ObjectId('5ca42247d1823d1f90e44862'), 'name': 'Notable Question', 'date': '2016-08-27 20:29:38.547 UTC', 'user_id': '1324533', 'class': '2', 'tag_based': False}, {'_id': ObjectId('5ca42247d1823d1f90e44863'), 'name': 'Guru', 'date': '2015-09-03 09:34:30.387 UTC', 'user_id': '9833', 'class': '2', 'tag_based': False}, {'_id': ObjectId('5ca42247d1823d1f90e44864'), 'name': 'Caucus', 'date': '2018-03-23 07:15:00.747 UTC', 'user_id': '1042798', 'class': '3', 'tag_based': False}, {'_id': ObjectId('5ca42247d1823d1f90e44865'), 'name': 'Autobiographer', 'date': '2016-08-22 12:26:40.477 UTC', 'user_id': '3603660', 'class': '3', 'tag_based': False}, {'_id': ObjectId('5ca42247d1823d1f90e44866'), 'name': 'Caucus', 'date': '2013-03-09 10:29:50.643 UTC', 'user_id': '519244', 'class': '3', 'tag_based': False}, {'_id': ObjectId('5ca42247d1823d1f90e44867'), 'name': 'Notable Question', 'date': '2015-08-18 13:27:27.507 UTC', 'user_id': '741507', 'class': '2', 'tag_based': False}, {'_id': ObjectId('5ca42247d1823d1f90e44868'), 'name': 'Commentator', 'date': '2015-01-16 15:37:17.807 UTC', 'user_id': '1977363', 'class': '3', 'tag_based': False}, {'_id': ObjectId('5ca42247d1823d1f90e44869'), 'name': 'Notable Question', 'date': '2014-02-04 12:39:57.11 UTC', 'user_id': '1257959', 'class': '2', 'tag_based': False}, {'_id': ObjectId('5ca42247d1823d1f90e4486a'), 'name': 'Tumbleweed', 'date': '2018-02-09 13:48:37.81 UTC', 'user_id': '213285', 'class': '3', 'tag_based': False}, {'_id': ObjectId('5ca42247d1823d1f90e4486b'), 'name': 'Supporter', 'date': '2012-03-16 03:48:08.327 UTC', 'user_id': '1201089', 'class': '3', 'tag_based': False}, {'_id': ObjectId('5ca42247d1823d1f90e4486c'), 'name': 'Yearling', 'date': '2011-09-16 00:03:04.417 UTC', 'user_id': '7024', 'class': '2', 'tag_based': False}, {'_id': ObjectId('5ca42247d1823d1f90e4486d'), 'name': 'Teacher', 'date': '2017-02-24 01:16:23.65 UTC', 'user_id': '6706162', 'class': '3', 'tag_based': False}, {'_id': ObjectId('5ca42247d1823d1f90e4486e'), 'name': 'Revival', 'date': '2015-10-13 09:25:03.557 UTC', 'user_id': '1054938', 'class': '3', 'tag_based': False}, {'_id': ObjectId('5ca42247d1823d1f90e4486f'), 'name': 'Editor', 'date': '2009-10-13 15:12:31.727 UTC', 'user_id': '118080', 'class': '3', 'tag_based': False}, {'_id': ObjectId('5ca42247d1823d1f90e44870'), 'name': 'Editor', 'date': '2012-08-14 04:37:58.527 UTC', 'user_id': '1596999', 'class': '3', 'tag_based': False}, {'_id': ObjectId('5ca42247d1823d1f90e44871'), 'name': 'Notable Question', 'date': '2018-09-17 11:30:15.693 UTC', 'user_id': '514748', 'class': '2', 'tag_based': False}, {'_id': ObjectId('5ca42247d1823d1f90e44872'), 'name': 'Yearling', 'date': '2016-12-19 18:01:37.617 UTC', 'user_id': '5698756', 'class': '2', 'tag_based': False}, {'_id': ObjectId('5ca42247d1823d1f90e44873'), 'name': 'Tumbleweed', 'date': '2013-10-30 07:52:01.26 UTC', 'user_id': '1662001', 'class': '3', 'tag_based': False}, {'_id': ObjectId('5ca42247d1823d1f90e44874'), 'name': 'Editor', 'date': '2017-04-06 14:58:43.263 UTC', 'user_id': '6051997', 'class': '3', 'tag_based': False}, {'_id': ObjectId('5ca42247d1823d1f90e44875'), 'name': 'Popular Question', 'date': '2016-06-21 21:15:32.65 UTC', 'user_id': '3876168', 'class': '3', 'tag_based': False}, {'_id': ObjectId('5ca42247d1823d1f90e44876'), 'name': 'Tumbleweed', 'date': '2015-05-27 21:06:57.553 UTC', 'user_id': '4922186', 'class': '3', 'tag_based': False}, {'_id': ObjectId('5ca42247d1823d1f90e44877'), 'name': 'Editor', 'date': '2015-07-24 15:03:39.32 UTC', 'user_id': '5065462', 'class': '3', 'tag_based': False}, {'_id': ObjectId('5ca42247d1823d1f90e44878'), 'name': 'Autobiographer', 'date': '2019-02-15 11:05:06.023 UTC', 'user_id': '6652751', 'class': '3', 'tag_based': False}, {'_id': ObjectId('5ca4224ed1823d1f90e44879'), 'name': 'Unsung Hero', 'user_id': '1338999'}, {'_id': ObjectId('5ca4224ed1823d1f90e4487a'), 'name': 'Populist', 'user_id': '69362'}, {'_id': ObjectId('5ca4224ed1823d1f90e4487b'), 'name': 'Great Answer', 'user_id': '811'}, {'_id': ObjectId('5ca4224ed1823d1f90e4487c'), 'name': 'Great Answer', 'user_id': '1694'}, {'_id': ObjectId('5ca4224ed1823d1f90e4487d'), 'name': 'Great Answer', 'user_id': '280143'}, {'_id': ObjectId('5ca4224ed1823d1f90e4487e'), 'name': 'Unsung Hero', 'user_id': '380425'}, {'_id': ObjectId('5ca4224ed1823d1f90e4487f'), 'name': 'Great Answer', 'user_id': '9042'}, {'_id': ObjectId('5ca4224ed1823d1f90e44880'), 'name': 'Steward', 'user_id': '5377037'}, {'_id': ObjectId('5ca4224ed1823d1f90e44881'), 'name': 'Populist', 'user_id': '163740'}, {'_id': ObjectId('5ca4224ed1823d1f90e44882'), 'name': 'Great Answer', 'user_id': '26737'}, {'_id': ObjectId('5ca4224ed1823d1f90e44883'), 'name': 'Populist', 'user_id': '139506'}, {'_id': ObjectId('5ca4224ed1823d1f90e44884'), 'name': 'Great Answer', 'user_id': '209568'}, {'_id': ObjectId('5ca4224fd1823d1f90e44885'), 'name': 'Great Question', 'user_id': '1333873'}, {'_id': ObjectId('5ca4224fd1823d1f90e44886'), 'name': 'Great Answer', 'user_id': '1238957'}, {'_id': ObjectId('5ca4224fd1823d1f90e44887'), 'name': 'Unsung Hero', 'user_id': '3090039'}, {'_id': ObjectId('5ca4224fd1823d1f90e44888'), 'name': 'Populist', 'user_id': '8205'}, {'_id': ObjectId('5ca4224fd1823d1f90e44889'), 'name': 'Great Question', 'user_id': '53538'}, {'_id': ObjectId('5ca4224fd1823d1f90e4488a'), 'name': 'Great Answer', 'user_id': '138475'}, {'_id': ObjectId('5ca4224fd1823d1f90e4488b'), 'name': 'Fanatic', 'user_id': '3169750'}, {'_id': ObjectId('5ca4224fd1823d1f90e4488c'), 'name': 'Great Question', 'user_id': '2442466'}, {'_id': ObjectId('5ca4224fd1823d1f90e4488d'), 'name': 'Great Answer', 'user_id': '26161'}, {'_id': ObjectId('5ca4224fd1823d1f90e4488e'), 'name': 'Unsung Hero', 'user_id': '215234'}, {'_id': ObjectId('5ca4224fd1823d1f90e4488f'), 'name': 'Great Question', 'user_id': '93995'}, {'_id': ObjectId('5ca4224fd1823d1f90e44890'), 'name': 'Steward', 'user_id': '774078'}, {'_id': ObjectId('5ca4224fd1823d1f90e44891'), 'name': 'Fanatic', 'user_id': '261682'}, {'_id': ObjectId('5ca4224fd1823d1f90e44892'), 'name': 'Great Answer', 'user_id': '139459'}, {'_id': ObjectId('5ca4224fd1823d1f90e44893'), 'name': 'Unsung Hero', 'user_id': '4988918'}, {'_id': ObjectId('5ca4224fd1823d1f90e44894'), 'name': 'Great Answer', 'user_id': '663929'}, {'_id': ObjectId('5ca4224fd1823d1f90e44895'), 'name': 'Great Question', 'user_id': '491880'}, {'_id': ObjectId('5ca4224fd1823d1f90e44896'), 'name': 'Great Answer', 'user_id': '4323'}, {'_id': ObjectId('5ca4224fd1823d1f90e44897'), 'name': 'Great Answer', 'user_id': '548568'}, {'_id': ObjectId('5ca4224fd1823d1f90e44898'), 'name': 'Socratic', 'user_id': '433417'}, {'_id': ObjectId('5ca4224fd1823d1f90e44899'), 'name': 'Stellar Question', 'user_id': '1052922'}, {'_id': ObjectId('5ca4224fd1823d1f90e4489a'), 'name': 'Great Answer', 'user_id': '967586'}, {'_id': ObjectId('5ca4224fd1823d1f90e4489b'), 'name': 'Great Question', 'user_id': '67405'}, {'_id': ObjectId('5ca4224fd1823d1f90e4489c'), 'name': 'Publicist', 'user_id': '200145'}, {'_id': ObjectId('5ca4224fd1823d1f90e4489d'), 'name': 'Electorate', 'user_id': '5111725'}, {'_id': ObjectId('5ca4224fd1823d1f90e4489e'), 'name': 'Great Answer', 'user_id': '12725'}, {'_id': ObjectId('5ca4224fd1823d1f90e4489f'), 'name': 'Electorate', 'user_id': '817452'}, {'_id': ObjectId('5ca42250d1823d1f90e448a0'), 'name': 'Great Answer', 'user_id': '649408'}, {'_id': ObjectId('5ca42250d1823d1f90e448a1'), 'name': 'Great Question', 'user_id': '114916'}, {'_id': ObjectId('5ca42250d1823d1f90e448a2'), 'name': 'Great Answer', 'user_id': '88230'}, {'_id': ObjectId('5ca42250d1823d1f90e448a3'), 'name': 'Marshal', 'user_id': '1009479'}, {'_id': ObjectId('5ca42250d1823d1f90e448a4'), 'name': 'Unsung Hero', 'user_id': '486558'}, {'_id': ObjectId('5ca42250d1823d1f90e448a5'), 'name': 'Great Question', 'user_id': '1592915'}, {'_id': ObjectId('5ca42250d1823d1f90e448a6'), 'name': 'Fanatic', 'user_id': '1729795'}, {'_id': ObjectId('5ca42250d1823d1f90e448a7'), 'name': 'Unsung Hero', 'user_id': '983741'}, {'_id': ObjectId('5ca42250d1823d1f90e448a8'), 'name': 'Great Answer', 'user_id': '1655144'}, {'_id': ObjectId('5ca42250d1823d1f90e448a9'), 'name': 'Populist', 'user_id': '8123'}, {'_id': ObjectId('5ca42250d1823d1f90e448aa'), 'name': 'Electorate', 'user_id': '950799'}, {'_id': ObjectId('5ca42250d1823d1f90e448ab'), 'name': 'Socratic', 'user_id': '815443'}, {'_id': ObjectId('5ca42250d1823d1f90e448ac'), 'name': 'Great Answer', 'user_id': '276967'}, {'_id': ObjectId('5ca42250d1823d1f90e448ad'), 'name': 'Great Answer', 'user_id': '3730754'}, {'_id': ObjectId('5ca42250d1823d1f90e448ae'), 'name': 'Steward', 'user_id': '1300817'}, {'_id': ObjectId('5ca42250d1823d1f90e448af'), 'name': 'Fanatic', 'user_id': '6838049'}, {'_id': ObjectId('5ca42250d1823d1f90e448b0'), 'name': 'Great Answer', 'user_id': '157605'}, {'_id': ObjectId('5ca42250d1823d1f90e448b1'), 'name': 'Steward', 'user_id': '7483494'}, {'_id': ObjectId('5ca42250d1823d1f90e448b2'), 'name': 'Great Answer', 'user_id': '13531'}, {'_id': ObjectId('5ca42250d1823d1f90e448b3'), 'name': 'Stellar Question', 'user_id': '317384'}, {'_id': ObjectId('5ca42250d1823d1f90e448b4'), 'name': 'Great Answer', 'user_id': '484596'}, {'_id': ObjectId('5ca42250d1823d1f90e448b5'), 'name': 'Fanatic', 'user_id': '771663'}, {'_id': ObjectId('5ca42250d1823d1f90e448b6'), 'name': 'Great Question', 'user_id': '58186'}, {'_id': ObjectId('5ca42250d1823d1f90e448b7'), 'name': 'Unsung Hero', 'user_id': '367878'}, {'_id': ObjectId('5ca42250d1823d1f90e448b8'), 'name': 'jquery', 'user_id': '263525'}, {'_id': ObjectId('5ca42250d1823d1f90e448b9'), 'name': 'Unsung Hero', 'user_id': '3026884'}, {'_id': ObjectId('5ca42250d1823d1f90e448ba'), 'name': 'Stellar Question', 'user_id': '52745'}, {'_id': ObjectId('5ca42250d1823d1f90e448bb'), 'name': 'Electorate', 'user_id': '92813'}, {'_id': ObjectId('5ca42251d1823d1f90e448bc'), 'name': 'Unsung Hero', 'user_id': '7893169'}, {'_id': ObjectId('5ca42251d1823d1f90e448bd'), 'name': 'Socratic', 'user_id': '1477388'}, {'_id': ObjectId('5ca42251d1823d1f90e448be'), 'name': 'Fanatic', 'user_id': '2165342'}, {'_id': ObjectId('5ca42251d1823d1f90e448bf'), 'name': 'Fanatic', 'user_id': '3275665'}, {'_id': ObjectId('5ca42251d1823d1f90e448c0'), 'name': 'jquery', 'user_id': '2680216'}, {'_id': ObjectId('5ca42251d1823d1f90e448c1'), 'name': 'Great Question', 'user_id': '1796'}, {'_id': ObjectId('5ca42251d1823d1f90e448c2'), 'name': 'Great Answer', 'user_id': '92143'}, {'_id': ObjectId('5ca42251d1823d1f90e448c3'), 'name': 'Unsung Hero', 'user_id': '3834042'}, {'_id': ObjectId('5ca42251d1823d1f90e448c4'), 'name': 'Great Answer', 'user_id': '1684977'}, {'_id': ObjectId('5ca42251d1823d1f90e448c5'), 'name': 'Great Question', 'user_id': '20400'}, {'_id': ObjectId('5ca42251d1823d1f90e448c6'), 'name': 'Great Question', 'user_id': '1360'}, {'_id': ObjectId('5ca42251d1823d1f90e448c7'), 'name': 'Electorate', 'user_id': '1292238'}, {'_id': ObjectId('5ca42251d1823d1f90e448c8'), 'name': 'Great Question', 'user_id': '133830'}, {'_id': ObjectId('5ca42251d1823d1f90e448c9'), 'name': 'Fanatic', 'user_id': '151689'}, {'_id': ObjectId('5ca42251d1823d1f90e448ca'), 'name': 'Great Answer', 'user_id': '3285954'}, {'_id': ObjectId('5ca42251d1823d1f90e448cb'), 'name': 'Marshal', 'user_id': '390819'}, {'_id': ObjectId('5ca42251d1823d1f90e448cc'), 'name': 'c++', 'user_id': '72631'}, {'_id': ObjectId('5ca42251d1823d1f90e448cd'), 'name': 'Socratic', 'user_id': '139698'}, {'_id': ObjectId('5ca42251d1823d1f90e448ce'), 'name': 'Great Question', 'user_id': '194'}, {'_id': ObjectId('5ca42251d1823d1f90e448cf'), 'name': 'Populist', 'user_id': '3663655'}, {'_id': ObjectId('5ca42251d1823d1f90e448d0'), 'name': 'Great Answer', 'user_id': '350094'}, {'_id': ObjectId('5ca42251d1823d1f90e448d1'), 'name': 'Electorate', 'user_id': '932473'}, {'_id': ObjectId('5ca42251d1823d1f90e448d2'), 'name': 'Great Answer', 'user_id': '34088'}, {'_id': ObjectId('5ca42251d1823d1f90e448d3'), 'name': 'Electorate', 'user_id': '7792662'}, {'_id': ObjectId('5ca42251d1823d1f90e448d4'), 'name': 'Socratic', 'user_id': '336527'}, {'_id': ObjectId('5ca42251d1823d1f90e448d5'), 'name': 'Great Answer', 'user_id': '653364'}, {'_id': ObjectId('5ca42251d1823d1f90e448d6'), 'name': 'Electorate', 'user_id': '3153'}, {'_id': ObjectId('5ca42251d1823d1f90e448d7'), 'name': 'Great Answer', 'user_id': '2078851'}, {'_id': ObjectId('5ca42252d1823d1f90e448d8'), 'name': 'Unsung Hero', 'user_id': '1267661'}, {'_id': ObjectId('5ca42252d1823d1f90e448d9'), 'name': 'Steward', 'user_id': '1217536'}, {'_id': ObjectId('5ca42252d1823d1f90e448da'), 'name': 'Electorate', 'user_id': '1743860'}, {'_id': ObjectId('5ca42252d1823d1f90e448db'), 'name': 'Steward', 'user_id': '1866810'}, {'_id': ObjectId('5ca42252d1823d1f90e448dc'), 'name': 'Great Answer', 'user_id': '34549'}, {'_id': ObjectId('5ca4273bd1823d1f90e448dd'), 'rental_id': '54456949', 'duration': '8880', 'bike_id': '701'}, {'_id': ObjectId('5ca4273ed1823d1f90e448de'), 'rental_id': '42406939', 'duration': '4500', 'bike_id': '8519', 'end_station_name': 'Victoria Park Road, Hackney Central'}, {'_id': ObjectId('5cb53fb9d1823d0e981dd167'), 'rental_id': '42406939', 'duration': '4500', 'bike_id': '8519', 'end_station_name': 'Victoria Park Road, Hackney Central'}, {'_id': ObjectId('5cdcb019d1823d02504f708d'), 'rental_id': '42406939', 'duration': '4500', 'bike_id': '8519', 'end_station_name': 'Victoria Park Road, Hackney Central'}, {'_id': ObjectId('5ce5b95cd1823d385c5c9191'), 'rental_id': '42406939', 'duration': '4500', 'bike_id': '8519', 'end_station_name': 'Victoria Park Road, Hackney Central'}]"
     ]
    },
    {
     "name": "stdout",
     "output_type": "stream",
     "text": [
      "\n",
      "time: 132 ms\n"
     ]
    }
   ],
   "source": [
    "# get document in the collection and store them in data\n",
    "data = []\n",
    "for document in companies.find({}):\n",
    "    data.append(document)\n",
    "print(data)"
   ]
  },
  {
   "cell_type": "markdown",
   "metadata": {},
   "source": [
    "### Load from file"
   ]
  },
  {
   "cell_type": "markdown",
   "metadata": {},
   "source": [
    "Depends on the format of files, we provided three different ways to load from files."
   ]
  },
  {
   "cell_type": "markdown",
   "metadata": {},
   "source": [
    "The following code are load from a file that contain documents line by line. See example https://github.com/zhaozunchen/Schema-Profiling-for-Document-Databases/blob/master/dataset/valuesplit1.json"
   ]
  },
  {
   "cell_type": "code",
   "execution_count": 9,
   "metadata": {},
   "outputs": [
    {
     "name": "stdout",
     "output_type": "stream",
     "text": [
      "time: 6 ms\n"
     ]
    }
   ],
   "source": [
    "\n",
    "file = open('valuesplit2.json',encoding='utf8')\n",
    "maxNum = 9999\n",
    "currentNum = 0\n",
    "for line in file:\n",
    "    if currentNum >= maxNum:\n",
    "        break\n",
    "    data.append(json.loads(line.replace(\"$\",\"\")))\n",
    "    currentNum += 1\n",
    "file.close()"
   ]
  },
  {
   "cell_type": "markdown",
   "metadata": {},
   "source": [
    "The following code can load from a file that contain documents in a list. See example https://github.com/zhaozunchen/Schema-Profiling-for-Document-Databases/blob/master/dataset/restaurant-2000.json"
   ]
  },
  {
   "cell_type": "code",
   "execution_count": 3,
   "metadata": {},
   "outputs": [
    {
     "name": "stdout",
     "output_type": "stream",
     "text": [
      "time: 64 ms\n"
     ]
    }
   ],
   "source": [
    "# Load from Json file\n",
    "with open('restaurant-2000.json') as json_file:\n",
    "    data = json.load(json_file)"
   ]
  },
  {
   "cell_type": "markdown",
   "metadata": {},
   "source": [
    "The following code can load from a csv files. See example https://drive.google.com/file/d/1JAcLGJxwHbeKuyf1fmdit6g8oT1ijw4m/view?usp=sharing"
   ]
  },
  {
   "cell_type": "code",
   "execution_count": 13,
   "metadata": {},
   "outputs": [
    {
     "name": "stdout",
     "output_type": "stream",
     "text": [
      "time: 16.6 s\n"
     ]
    }
   ],
   "source": [
    "# Load from csv file\n",
    "allData=[]\n",
    "csvfile = open('DOHMH_New_York_City_Restaurant_Inspection_Results.csv', 'r')\n",
    "reader = csv.reader(csvfile)\n",
    "fieldnames = next(reader)\n",
    "reader = csv.DictReader( csvfile, fieldnames)\n",
    "for row in reader:\n",
    "    temp = json.loads(json.dumps(row))\n",
    "    # remove empty string\n",
    "    temp = {k: v for k, v in temp.items() if not v ==\"\"}\n",
    "    # convert to integer\n",
    "    for key, value in temp.items():\n",
    "        if value.isdigit():\n",
    "            temp[key] = float(value)\n",
    "    allData.append(temp)"
   ]
  },
  {
   "cell_type": "markdown",
   "metadata": {},
   "source": [
    "If the collection is too large, you can sample from the following cell."
   ]
  },
  {
   "cell_type": "code",
   "execution_count": 16,
   "metadata": {},
   "outputs": [
    {
     "name": "stdout",
     "output_type": "stream",
     "text": [
      "time: 3 ms\n"
     ]
    }
   ],
   "source": [
    "# smapling data from large dataset\n",
    "\n",
    "data = random.sample(allData,1000)\n"
   ]
  },
  {
   "cell_type": "markdown",
   "metadata": {},
   "source": [
    "Note: You can also create your own code to load to data. The data structure of data is list of documents."
   ]
  },
  {
   "cell_type": "markdown",
   "metadata": {},
   "source": [
    "### Get Number of Schemas"
   ]
  },
  {
   "cell_type": "code",
   "execution_count": 4,
   "metadata": {
    "scrolled": true
   },
   "outputs": [
    {
     "name": "stdout",
     "output_type": "stream",
     "text": [
      "time: 968 µs\n"
     ]
    }
   ],
   "source": [
    "# A helper function to convert list to string\n",
    "def covertListToString (lst):\n",
    "    str = '['\n",
    "    for i in lst:\n",
    "        str+' , '\n",
    "    str+']'\n",
    "    return str\n"
   ]
  },
  {
   "cell_type": "code",
   "execution_count": 5,
   "metadata": {},
   "outputs": [
    {
     "name": "stdout",
     "output_type": "stream",
     "text": [
      "time: 2 ms\n"
     ]
    }
   ],
   "source": [
    "# A method to get rscheme\n",
    "def getNumOfScheme (rscheme, document, path = '', added = False):\n",
    "    # define a rscheme\n",
    "    # get keys\n",
    "    for key in document:\n",
    "        # check if the path is root or not\n",
    "        # if not, add .\n",
    "        if path == \"\":\n",
    "            currentPath = key\n",
    "        else:\n",
    "            # for this collections ONLY\n",
    "            # In this collections it has a list as a key\n",
    "            if(isinstance(key, list)):\n",
    "                currentPath = path + \".\" + covertListToString(key)\n",
    "            else:\n",
    "                currentPath = path + \".\" + key\n",
    "        # add to dict\n",
    "        datatype = type(document.get(key)).__name__\n",
    "        if currentPath not in rscheme:\n",
    "            rscheme[currentPath] = datatype\n",
    "            if added==False:\n",
    "                global numOfScheme\n",
    "                numOfScheme += 1\n",
    "                added = True\n",
    "        \n",
    "        # recursion call if the attribute is a document\n",
    "        if isinstance(document.get(key),dict):\n",
    "            getNumOfScheme(rscheme, document.get(key),currentPath, added)"
   ]
  },
  {
   "cell_type": "code",
   "execution_count": 6,
   "metadata": {},
   "outputs": [
    {
     "name": "stdout",
     "output_type": "stream",
     "text": [
      "Error in callback <function LineWatcher.stop at 0x00000178F6F40D08> (for post_run_cell):\n"
     ]
    },
    {
     "ename": "AssertionError",
     "evalue": "",
     "output_type": "error",
     "traceback": [
      "\u001b[1;31m---------------------------------------------------------------------------\u001b[0m",
      "\u001b[1;31mAssertionError\u001b[0m                            Traceback (most recent call last)",
      "\u001b[1;32mD:\\anaconda3\\lib\\site-packages\\backcall\\backcall.py\u001b[0m in \u001b[0;36madapted\u001b[1;34m(*args, **kwargs)\u001b[0m\n\u001b[0;32m    102\u001b[0m                 \u001b[0mkwargs\u001b[0m\u001b[1;33m.\u001b[0m\u001b[0mpop\u001b[0m\u001b[1;33m(\u001b[0m\u001b[0mname\u001b[0m\u001b[1;33m)\u001b[0m\u001b[1;33m\u001b[0m\u001b[1;33m\u001b[0m\u001b[0m\n\u001b[0;32m    103\u001b[0m \u001b[1;31m#            print(args, kwargs, unmatched_pos, cut_positional, unmatched_kw)\u001b[0m\u001b[1;33m\u001b[0m\u001b[1;33m\u001b[0m\u001b[1;33m\u001b[0m\u001b[0m\n\u001b[1;32m--> 104\u001b[1;33m             \u001b[1;32mreturn\u001b[0m \u001b[0mcallback\u001b[0m\u001b[1;33m(\u001b[0m\u001b[1;33m*\u001b[0m\u001b[0margs\u001b[0m\u001b[1;33m,\u001b[0m \u001b[1;33m**\u001b[0m\u001b[0mkwargs\u001b[0m\u001b[1;33m)\u001b[0m\u001b[1;33m\u001b[0m\u001b[1;33m\u001b[0m\u001b[0m\n\u001b[0m\u001b[0;32m    105\u001b[0m \u001b[1;33m\u001b[0m\u001b[0m\n\u001b[0;32m    106\u001b[0m         \u001b[1;32mreturn\u001b[0m \u001b[0madapted\u001b[0m\u001b[1;33m\u001b[0m\u001b[1;33m\u001b[0m\u001b[0m\n",
      "\u001b[1;32mD:\\anaconda3\\lib\\site-packages\\autotime.py\u001b[0m in \u001b[0;36mstop\u001b[1;34m(self)\u001b[0m\n\u001b[0;32m     23\u001b[0m         \u001b[1;32mif\u001b[0m \u001b[0mself\u001b[0m\u001b[1;33m.\u001b[0m\u001b[0mstart_time\u001b[0m\u001b[1;33m:\u001b[0m\u001b[1;33m\u001b[0m\u001b[1;33m\u001b[0m\u001b[0m\n\u001b[0;32m     24\u001b[0m             \u001b[0mdiff\u001b[0m \u001b[1;33m=\u001b[0m \u001b[0mtime\u001b[0m\u001b[1;33m.\u001b[0m\u001b[0mtime\u001b[0m\u001b[1;33m(\u001b[0m\u001b[1;33m)\u001b[0m \u001b[1;33m-\u001b[0m \u001b[0mself\u001b[0m\u001b[1;33m.\u001b[0m\u001b[0mstart_time\u001b[0m\u001b[1;33m\u001b[0m\u001b[1;33m\u001b[0m\u001b[0m\n\u001b[1;32m---> 25\u001b[1;33m             \u001b[1;32massert\u001b[0m \u001b[0mdiff\u001b[0m \u001b[1;33m>\u001b[0m \u001b[1;36m0\u001b[0m\u001b[1;33m\u001b[0m\u001b[1;33m\u001b[0m\u001b[0m\n\u001b[0m\u001b[0;32m     26\u001b[0m             \u001b[0mprint\u001b[0m\u001b[1;33m(\u001b[0m\u001b[1;34m'time: %s'\u001b[0m \u001b[1;33m%\u001b[0m \u001b[0mformat_delta\u001b[0m\u001b[1;33m(\u001b[0m\u001b[0mdiff\u001b[0m\u001b[1;33m)\u001b[0m\u001b[1;33m)\u001b[0m\u001b[1;33m\u001b[0m\u001b[1;33m\u001b[0m\u001b[0m\n\u001b[0;32m     27\u001b[0m \u001b[1;33m\u001b[0m\u001b[0m\n",
      "\u001b[1;31mAssertionError\u001b[0m: "
     ]
    }
   ],
   "source": [
    "# A helper method to check if rschema is already in the list or not\n",
    "def checkIfHave(schemas, rschema):\n",
    "    contains = False\n",
    "    for schema in schemas:\n",
    "        if schema.keys() == rschema.keys():\n",
    "            return True\n",
    "    return False"
   ]
  },
  {
   "cell_type": "code",
   "execution_count": 7,
   "metadata": {
    "scrolled": true
   },
   "outputs": [
    {
     "name": "stdout",
     "output_type": "stream",
     "text": [
      "number of schemas: 15\n",
      "number of documents: 2000\n",
      "[{'ï»¿CAMIS': 'float', 'DBA': 'str', 'BORO': 'str', 'BUILDING': 'float', 'STREET': 'str', 'ZIPCODE': 'float', 'PHONE': 'float', 'CUISINE DESCRIPTION': 'str', 'INSPECTION DATE': 'str', 'ACTION': 'str', 'VIOLATION CODE': 'str', 'VIOLATION DESCRIPTION': 'str', 'CRITICAL FLAG': 'str', 'SCORE': 'float', 'GRADE': 'str', 'GRADE DATE': 'str', 'RECORD DATE': 'str', 'INSPECTION TYPE': 'str'}, {'ï»¿CAMIS': 'float', 'DBA': 'str', 'BORO': 'str', 'BUILDING': 'float', 'STREET': 'str', 'ZIPCODE': 'float', 'PHONE': 'float', 'CUISINE DESCRIPTION': 'str', 'INSPECTION DATE': 'str', 'ACTION': 'str', 'VIOLATION CODE': 'str', 'VIOLATION DESCRIPTION': 'str', 'CRITICAL FLAG': 'str', 'SCORE': 'float', 'RECORD DATE': 'str', 'INSPECTION TYPE': 'str'}, {'ï»¿CAMIS': 'float', 'DBA': 'str', 'BORO': 'str', 'BUILDING': 'float', 'STREET': 'str', 'ZIPCODE': 'float', 'PHONE': 'float', 'CUISINE DESCRIPTION': 'str', 'INSPECTION DATE': 'str', 'ACTION': 'str', 'VIOLATION CODE': 'str', 'VIOLATION DESCRIPTION': 'str', 'CRITICAL FLAG': 'str', 'RECORD DATE': 'str', 'INSPECTION TYPE': 'str'}, {'ï»¿CAMIS': 'float', 'DBA': 'str', 'BORO': 'str', 'BUILDING': 'float', 'STREET': 'str', 'ZIPCODE': 'float', 'PHONE': 'float', 'CUISINE DESCRIPTION': 'str', 'INSPECTION DATE': 'str', 'ACTION': 'str', 'VIOLATION CODE': 'str', 'VIOLATION DESCRIPTION': 'str', 'CRITICAL FLAG': 'str', 'SCORE': 'float', 'GRADE': 'str', 'RECORD DATE': 'str', 'INSPECTION TYPE': 'str'}, {'ï»¿CAMIS': 'float', 'DBA': 'str', 'BORO': 'str', 'BUILDING': 'float', 'STREET': 'str', 'PHONE': 'float', 'CUISINE DESCRIPTION': 'str', 'INSPECTION DATE': 'str', 'ACTION': 'str', 'VIOLATION CODE': 'str', 'VIOLATION DESCRIPTION': 'str', 'CRITICAL FLAG': 'str', 'SCORE': 'float', 'GRADE': 'str', 'GRADE DATE': 'str', 'RECORD DATE': 'str', 'INSPECTION TYPE': 'str'}, {'ï»¿CAMIS': 'float', 'BORO': 'str', 'BUILDING': 'float', 'STREET': 'str', 'ZIPCODE': 'float', 'PHONE': 'float', 'CUISINE DESCRIPTION': 'str', 'INSPECTION DATE': 'str', 'CRITICAL FLAG': 'str', 'RECORD DATE': 'str'}, {'ï»¿CAMIS': 'float', 'DBA': 'str', 'BORO': 'str', 'BUILDING': 'float', 'STREET': 'str', 'ZIPCODE': 'float', 'PHONE': 'float', 'CUISINE DESCRIPTION': 'str', 'INSPECTION DATE': 'str', 'ACTION': 'str', 'VIOLATION CODE': 'str', 'CRITICAL FLAG': 'str', 'RECORD DATE': 'str', 'INSPECTION TYPE': 'str'}, {'ï»¿CAMIS': 'float', 'DBA': 'str', 'BORO': 'str', 'BUILDING': 'float', 'STREET': 'str', 'PHONE': 'float', 'CUISINE DESCRIPTION': 'str', 'INSPECTION DATE': 'str', 'ACTION': 'str', 'VIOLATION CODE': 'str', 'VIOLATION DESCRIPTION': 'str', 'CRITICAL FLAG': 'str', 'SCORE': 'float', 'RECORD DATE': 'str', 'INSPECTION TYPE': 'str'}, {'ï»¿CAMIS': 'float', 'DBA': 'str', 'BORO': 'str', 'BUILDING': 'float', 'STREET': 'str', 'ZIPCODE': 'float', 'PHONE': 'float', 'CUISINE DESCRIPTION': 'str', 'INSPECTION DATE': 'str', 'ACTION': 'str', 'CRITICAL FLAG': 'str', 'RECORD DATE': 'str', 'INSPECTION TYPE': 'str'}, {'ï»¿CAMIS': 'float', 'DBA': 'str', 'BORO': 'str', 'BUILDING': 'float', 'STREET': 'str', 'ZIPCODE': 'float', 'PHONE': 'float', 'CUISINE DESCRIPTION': 'str', 'INSPECTION DATE': 'str', 'ACTION': 'str', 'CRITICAL FLAG': 'str', 'SCORE': 'float', 'RECORD DATE': 'str', 'INSPECTION TYPE': 'str'}, {'ï»¿CAMIS': 'float', 'DBA': 'str', 'BORO': 'str', 'BUILDING': 'float', 'STREET': 'str', 'ZIPCODE': 'float', 'PHONE': 'float', 'CUISINE DESCRIPTION': 'str', 'INSPECTION DATE': 'str', 'ACTION': 'str', 'CRITICAL FLAG': 'str', 'SCORE': 'float', 'GRADE': 'str', 'GRADE DATE': 'str', 'RECORD DATE': 'str', 'INSPECTION TYPE': 'str'}, {'ï»¿CAMIS': 'float', 'DBA': 'str', 'BORO': 'str', 'BUILDING': 'float', 'STREET': 'str', 'ZIPCODE': 'float', 'PHONE': 'float', 'CUISINE DESCRIPTION': 'str', 'INSPECTION DATE': 'str', 'ACTION': 'str', 'VIOLATION CODE': 'str', 'CRITICAL FLAG': 'str', 'SCORE': 'float', 'GRADE': 'str', 'GRADE DATE': 'str', 'RECORD DATE': 'str', 'INSPECTION TYPE': 'str'}, {'ï»¿CAMIS': 'float', 'DBA': 'str', 'BORO': 'str', 'BUILDING': 'float', 'STREET': 'str', 'ZIPCODE': 'float', 'PHONE': 'float', 'CUISINE DESCRIPTION': 'str', 'INSPECTION DATE': 'str', 'CRITICAL FLAG': 'str', 'RECORD DATE': 'str'}, {'ï»¿CAMIS': 'float', 'DBA': 'str', 'BORO': 'str', 'STREET': 'str', 'ZIPCODE': 'float', 'PHONE': 'float', 'CUISINE DESCRIPTION': 'str', 'INSPECTION DATE': 'str', 'ACTION': 'str', 'VIOLATION CODE': 'str', 'VIOLATION DESCRIPTION': 'str', 'CRITICAL FLAG': 'str', 'SCORE': 'float', 'GRADE': 'str', 'GRADE DATE': 'str', 'RECORD DATE': 'str', 'INSPECTION TYPE': 'str'}, {'ï»¿CAMIS': 'float', 'DBA': 'str', 'BORO': 'str', 'BUILDING': 'float', 'STREET': 'str', 'PHONE': 'float', 'CUISINE DESCRIPTION': 'str', 'INSPECTION DATE': 'str', 'ACTION': 'str', 'VIOLATION CODE': 'str', 'VIOLATION DESCRIPTION': 'str', 'CRITICAL FLAG': 'str', 'RECORD DATE': 'str', 'INSPECTION TYPE': 'str'}]\n",
      "{'{\"\\\\u00ef\\\\u00bb\\\\u00bfCAMIS\": \"float\", \"DBA\": \"str\", \"BORO\": \"str\", \"BUILDING\": \"float\", \"STREET\": \"str\", \"ZIPCODE\": \"float\", \"PHONE\": \"float\", \"CUISINE DESCRIPTION\": \"str\", \"INSPECTION DATE\": \"str\", \"ACTION\": \"str\", \"VIOLATION CODE\": \"str\", \"VIOLATION DESCRIPTION\": \"str\", \"CRITICAL FLAG\": \"str\", \"SCORE\": \"float\", \"GRADE\": \"str\", \"GRADE DATE\": \"str\", \"RECORD DATE\": \"str\", \"INSPECTION TYPE\": \"str\"}': 972, '{\"\\\\u00ef\\\\u00bb\\\\u00bfCAMIS\": \"float\", \"DBA\": \"str\", \"BORO\": \"str\", \"BUILDING\": \"float\", \"STREET\": \"str\", \"ZIPCODE\": \"float\", \"PHONE\": \"float\", \"CUISINE DESCRIPTION\": \"str\", \"INSPECTION DATE\": \"str\", \"ACTION\": \"str\", \"VIOLATION CODE\": \"str\", \"VIOLATION DESCRIPTION\": \"str\", \"CRITICAL FLAG\": \"str\", \"SCORE\": \"float\", \"RECORD DATE\": \"str\", \"INSPECTION TYPE\": \"str\"}': 893, '{\"\\\\u00ef\\\\u00bb\\\\u00bfCAMIS\": \"float\", \"DBA\": \"str\", \"BORO\": \"str\", \"BUILDING\": \"float\", \"STREET\": \"str\", \"ZIPCODE\": \"float\", \"PHONE\": \"float\", \"CUISINE DESCRIPTION\": \"str\", \"INSPECTION DATE\": \"str\", \"ACTION\": \"str\", \"VIOLATION CODE\": \"str\", \"VIOLATION DESCRIPTION\": \"str\", \"CRITICAL FLAG\": \"str\", \"RECORD DATE\": \"str\", \"INSPECTION TYPE\": \"str\"}': 50, '{\"\\\\u00ef\\\\u00bb\\\\u00bfCAMIS\": \"float\", \"DBA\": \"str\", \"BORO\": \"str\", \"BUILDING\": \"float\", \"STREET\": \"str\", \"ZIPCODE\": \"float\", \"PHONE\": \"float\", \"CUISINE DESCRIPTION\": \"str\", \"INSPECTION DATE\": \"str\", \"ACTION\": \"str\", \"VIOLATION CODE\": \"str\", \"VIOLATION DESCRIPTION\": \"str\", \"CRITICAL FLAG\": \"str\", \"SCORE\": \"float\", \"GRADE\": \"str\", \"RECORD DATE\": \"str\", \"INSPECTION TYPE\": \"str\"}': 7, '{\"\\\\u00ef\\\\u00bb\\\\u00bfCAMIS\": \"float\", \"DBA\": \"str\", \"BORO\": \"str\", \"BUILDING\": \"float\", \"STREET\": \"str\", \"PHONE\": \"float\", \"CUISINE DESCRIPTION\": \"str\", \"INSPECTION DATE\": \"str\", \"ACTION\": \"str\", \"VIOLATION CODE\": \"str\", \"VIOLATION DESCRIPTION\": \"str\", \"CRITICAL FLAG\": \"str\", \"SCORE\": \"float\", \"GRADE\": \"str\", \"GRADE DATE\": \"str\", \"RECORD DATE\": \"str\", \"INSPECTION TYPE\": \"str\"}': 20, '{\"\\\\u00ef\\\\u00bb\\\\u00bfCAMIS\": \"float\", \"BORO\": \"str\", \"BUILDING\": \"float\", \"STREET\": \"str\", \"ZIPCODE\": \"float\", \"PHONE\": \"float\", \"CUISINE DESCRIPTION\": \"str\", \"INSPECTION DATE\": \"str\", \"CRITICAL FLAG\": \"str\", \"RECORD DATE\": \"str\"}': 5, '{\"\\\\u00ef\\\\u00bb\\\\u00bfCAMIS\": \"float\", \"DBA\": \"str\", \"BORO\": \"str\", \"BUILDING\": \"float\", \"STREET\": \"str\", \"ZIPCODE\": \"float\", \"PHONE\": \"float\", \"CUISINE DESCRIPTION\": \"str\", \"INSPECTION DATE\": \"str\", \"ACTION\": \"str\", \"VIOLATION CODE\": \"str\", \"CRITICAL FLAG\": \"str\", \"RECORD DATE\": \"str\", \"INSPECTION TYPE\": \"str\"}': 9, '{\"\\\\u00ef\\\\u00bb\\\\u00bfCAMIS\": \"float\", \"DBA\": \"str\", \"BORO\": \"str\", \"BUILDING\": \"float\", \"STREET\": \"str\", \"PHONE\": \"float\", \"CUISINE DESCRIPTION\": \"str\", \"INSPECTION DATE\": \"str\", \"ACTION\": \"str\", \"VIOLATION CODE\": \"str\", \"VIOLATION DESCRIPTION\": \"str\", \"CRITICAL FLAG\": \"str\", \"SCORE\": \"float\", \"RECORD DATE\": \"str\", \"INSPECTION TYPE\": \"str\"}': 10, '{\"\\\\u00ef\\\\u00bb\\\\u00bfCAMIS\": \"float\", \"DBA\": \"str\", \"BORO\": \"str\", \"BUILDING\": \"float\", \"STREET\": \"str\", \"ZIPCODE\": \"float\", \"PHONE\": \"float\", \"CUISINE DESCRIPTION\": \"str\", \"INSPECTION DATE\": \"str\", \"ACTION\": \"str\", \"CRITICAL FLAG\": \"str\", \"RECORD DATE\": \"str\", \"INSPECTION TYPE\": \"str\"}': 13, '{\"\\\\u00ef\\\\u00bb\\\\u00bfCAMIS\": \"float\", \"DBA\": \"str\", \"BORO\": \"str\", \"BUILDING\": \"float\", \"STREET\": \"str\", \"ZIPCODE\": \"float\", \"PHONE\": \"float\", \"CUISINE DESCRIPTION\": \"str\", \"INSPECTION DATE\": \"str\", \"ACTION\": \"str\", \"CRITICAL FLAG\": \"str\", \"SCORE\": \"float\", \"RECORD DATE\": \"str\", \"INSPECTION TYPE\": \"str\"}': 6, '{\"\\\\u00ef\\\\u00bb\\\\u00bfCAMIS\": \"float\", \"DBA\": \"str\", \"BORO\": \"str\", \"BUILDING\": \"float\", \"STREET\": \"str\", \"ZIPCODE\": \"float\", \"PHONE\": \"float\", \"CUISINE DESCRIPTION\": \"str\", \"INSPECTION DATE\": \"str\", \"ACTION\": \"str\", \"CRITICAL FLAG\": \"str\", \"SCORE\": \"float\", \"GRADE\": \"str\", \"GRADE DATE\": \"str\", \"RECORD DATE\": \"str\", \"INSPECTION TYPE\": \"str\"}': 3, '{\"\\\\u00ef\\\\u00bb\\\\u00bfCAMIS\": \"float\", \"DBA\": \"str\", \"BORO\": \"str\", \"BUILDING\": \"float\", \"STREET\": \"str\", \"ZIPCODE\": \"float\", \"PHONE\": \"float\", \"CUISINE DESCRIPTION\": \"str\", \"INSPECTION DATE\": \"str\", \"ACTION\": \"str\", \"VIOLATION CODE\": \"str\", \"CRITICAL FLAG\": \"str\", \"SCORE\": \"float\", \"GRADE\": \"str\", \"GRADE DATE\": \"str\", \"RECORD DATE\": \"str\", \"INSPECTION TYPE\": \"str\"}': 5, '{\"\\\\u00ef\\\\u00bb\\\\u00bfCAMIS\": \"float\", \"DBA\": \"str\", \"BORO\": \"str\", \"BUILDING\": \"float\", \"STREET\": \"str\", \"ZIPCODE\": \"float\", \"PHONE\": \"float\", \"CUISINE DESCRIPTION\": \"str\", \"INSPECTION DATE\": \"str\", \"CRITICAL FLAG\": \"str\", \"RECORD DATE\": \"str\"}': 5, '{\"\\\\u00ef\\\\u00bb\\\\u00bfCAMIS\": \"float\", \"DBA\": \"str\", \"BORO\": \"str\", \"STREET\": \"str\", \"ZIPCODE\": \"float\", \"PHONE\": \"float\", \"CUISINE DESCRIPTION\": \"str\", \"INSPECTION DATE\": \"str\", \"ACTION\": \"str\", \"VIOLATION CODE\": \"str\", \"VIOLATION DESCRIPTION\": \"str\", \"CRITICAL FLAG\": \"str\", \"SCORE\": \"float\", \"GRADE\": \"str\", \"GRADE DATE\": \"str\", \"RECORD DATE\": \"str\", \"INSPECTION TYPE\": \"str\"}': 1, '{\"\\\\u00ef\\\\u00bb\\\\u00bfCAMIS\": \"float\", \"DBA\": \"str\", \"BORO\": \"str\", \"BUILDING\": \"float\", \"STREET\": \"str\", \"PHONE\": \"float\", \"CUISINE DESCRIPTION\": \"str\", \"INSPECTION DATE\": \"str\", \"ACTION\": \"str\", \"VIOLATION CODE\": \"str\", \"VIOLATION DESCRIPTION\": \"str\", \"CRITICAL FLAG\": \"str\", \"RECORD DATE\": \"str\", \"INSPECTION TYPE\": \"str\"}': 1}\n",
      "{   '{\"\\\\u00ef\\\\u00bb\\\\u00bfCAMIS\": \"float\", \"BORO\": \"str\", \"BUILDING\": \"float\", \"STREET\": \"str\", \"ZIPCODE\": \"float\", \"PHONE\": \"float\", \"CUISINE DESCRIPTION\": \"str\", \"INSPECTION DATE\": \"str\", \"CRITICAL FLAG\": \"str\", \"RECORD DATE\": \"str\"}': 5,\n",
      "    '{\"\\\\u00ef\\\\u00bb\\\\u00bfCAMIS\": \"float\", \"DBA\": \"str\", \"BORO\": \"str\", \"BUILDING\": \"float\", \"STREET\": \"str\", \"PHONE\": \"float\", \"CUISINE DESCRIPTION\": \"str\", \"INSPECTION DATE\": \"str\", \"ACTION\": \"str\", \"VIOLATION CODE\": \"str\", \"VIOLATION DESCRIPTION\": \"str\", \"CRITICAL FLAG\": \"str\", \"RECORD DATE\": \"str\", \"INSPECTION TYPE\": \"str\"}': 1,\n",
      "    '{\"\\\\u00ef\\\\u00bb\\\\u00bfCAMIS\": \"float\", \"DBA\": \"str\", \"BORO\": \"str\", \"BUILDING\": \"float\", \"STREET\": \"str\", \"PHONE\": \"float\", \"CUISINE DESCRIPTION\": \"str\", \"INSPECTION DATE\": \"str\", \"ACTION\": \"str\", \"VIOLATION CODE\": \"str\", \"VIOLATION DESCRIPTION\": \"str\", \"CRITICAL FLAG\": \"str\", \"SCORE\": \"float\", \"GRADE\": \"str\", \"GRADE DATE\": \"str\", \"RECORD DATE\": \"str\", \"INSPECTION TYPE\": \"str\"}': 20,\n",
      "    '{\"\\\\u00ef\\\\u00bb\\\\u00bfCAMIS\": \"float\", \"DBA\": \"str\", \"BORO\": \"str\", \"BUILDING\": \"float\", \"STREET\": \"str\", \"PHONE\": \"float\", \"CUISINE DESCRIPTION\": \"str\", \"INSPECTION DATE\": \"str\", \"ACTION\": \"str\", \"VIOLATION CODE\": \"str\", \"VIOLATION DESCRIPTION\": \"str\", \"CRITICAL FLAG\": \"str\", \"SCORE\": \"float\", \"RECORD DATE\": \"str\", \"INSPECTION TYPE\": \"str\"}': 10,\n",
      "    '{\"\\\\u00ef\\\\u00bb\\\\u00bfCAMIS\": \"float\", \"DBA\": \"str\", \"BORO\": \"str\", \"BUILDING\": \"float\", \"STREET\": \"str\", \"ZIPCODE\": \"float\", \"PHONE\": \"float\", \"CUISINE DESCRIPTION\": \"str\", \"INSPECTION DATE\": \"str\", \"ACTION\": \"str\", \"CRITICAL FLAG\": \"str\", \"RECORD DATE\": \"str\", \"INSPECTION TYPE\": \"str\"}': 13,\n",
      "    '{\"\\\\u00ef\\\\u00bb\\\\u00bfCAMIS\": \"float\", \"DBA\": \"str\", \"BORO\": \"str\", \"BUILDING\": \"float\", \"STREET\": \"str\", \"ZIPCODE\": \"float\", \"PHONE\": \"float\", \"CUISINE DESCRIPTION\": \"str\", \"INSPECTION DATE\": \"str\", \"ACTION\": \"str\", \"CRITICAL FLAG\": \"str\", \"SCORE\": \"float\", \"GRADE\": \"str\", \"GRADE DATE\": \"str\", \"RECORD DATE\": \"str\", \"INSPECTION TYPE\": \"str\"}': 3,\n",
      "    '{\"\\\\u00ef\\\\u00bb\\\\u00bfCAMIS\": \"float\", \"DBA\": \"str\", \"BORO\": \"str\", \"BUILDING\": \"float\", \"STREET\": \"str\", \"ZIPCODE\": \"float\", \"PHONE\": \"float\", \"CUISINE DESCRIPTION\": \"str\", \"INSPECTION DATE\": \"str\", \"ACTION\": \"str\", \"CRITICAL FLAG\": \"str\", \"SCORE\": \"float\", \"RECORD DATE\": \"str\", \"INSPECTION TYPE\": \"str\"}': 6,\n",
      "    '{\"\\\\u00ef\\\\u00bb\\\\u00bfCAMIS\": \"float\", \"DBA\": \"str\", \"BORO\": \"str\", \"BUILDING\": \"float\", \"STREET\": \"str\", \"ZIPCODE\": \"float\", \"PHONE\": \"float\", \"CUISINE DESCRIPTION\": \"str\", \"INSPECTION DATE\": \"str\", \"ACTION\": \"str\", \"VIOLATION CODE\": \"str\", \"CRITICAL FLAG\": \"str\", \"RECORD DATE\": \"str\", \"INSPECTION TYPE\": \"str\"}': 9,\n",
      "    '{\"\\\\u00ef\\\\u00bb\\\\u00bfCAMIS\": \"float\", \"DBA\": \"str\", \"BORO\": \"str\", \"BUILDING\": \"float\", \"STREET\": \"str\", \"ZIPCODE\": \"float\", \"PHONE\": \"float\", \"CUISINE DESCRIPTION\": \"str\", \"INSPECTION DATE\": \"str\", \"ACTION\": \"str\", \"VIOLATION CODE\": \"str\", \"CRITICAL FLAG\": \"str\", \"SCORE\": \"float\", \"GRADE\": \"str\", \"GRADE DATE\": \"str\", \"RECORD DATE\": \"str\", \"INSPECTION TYPE\": \"str\"}': 5,\n"
     ]
    },
    {
     "name": "stdout",
     "output_type": "stream",
     "text": [
      "    '{\"\\\\u00ef\\\\u00bb\\\\u00bfCAMIS\": \"float\", \"DBA\": \"str\", \"BORO\": \"str\", \"BUILDING\": \"float\", \"STREET\": \"str\", \"ZIPCODE\": \"float\", \"PHONE\": \"float\", \"CUISINE DESCRIPTION\": \"str\", \"INSPECTION DATE\": \"str\", \"ACTION\": \"str\", \"VIOLATION CODE\": \"str\", \"VIOLATION DESCRIPTION\": \"str\", \"CRITICAL FLAG\": \"str\", \"RECORD DATE\": \"str\", \"INSPECTION TYPE\": \"str\"}': 50,\n",
      "    '{\"\\\\u00ef\\\\u00bb\\\\u00bfCAMIS\": \"float\", \"DBA\": \"str\", \"BORO\": \"str\", \"BUILDING\": \"float\", \"STREET\": \"str\", \"ZIPCODE\": \"float\", \"PHONE\": \"float\", \"CUISINE DESCRIPTION\": \"str\", \"INSPECTION DATE\": \"str\", \"ACTION\": \"str\", \"VIOLATION CODE\": \"str\", \"VIOLATION DESCRIPTION\": \"str\", \"CRITICAL FLAG\": \"str\", \"SCORE\": \"float\", \"GRADE\": \"str\", \"GRADE DATE\": \"str\", \"RECORD DATE\": \"str\", \"INSPECTION TYPE\": \"str\"}': 972,\n",
      "    '{\"\\\\u00ef\\\\u00bb\\\\u00bfCAMIS\": \"float\", \"DBA\": \"str\", \"BORO\": \"str\", \"BUILDING\": \"float\", \"STREET\": \"str\", \"ZIPCODE\": \"float\", \"PHONE\": \"float\", \"CUISINE DESCRIPTION\": \"str\", \"INSPECTION DATE\": \"str\", \"ACTION\": \"str\", \"VIOLATION CODE\": \"str\", \"VIOLATION DESCRIPTION\": \"str\", \"CRITICAL FLAG\": \"str\", \"SCORE\": \"float\", \"GRADE\": \"str\", \"RECORD DATE\": \"str\", \"INSPECTION TYPE\": \"str\"}': 7,\n",
      "    '{\"\\\\u00ef\\\\u00bb\\\\u00bfCAMIS\": \"float\", \"DBA\": \"str\", \"BORO\": \"str\", \"BUILDING\": \"float\", \"STREET\": \"str\", \"ZIPCODE\": \"float\", \"PHONE\": \"float\", \"CUISINE DESCRIPTION\": \"str\", \"INSPECTION DATE\": \"str\", \"ACTION\": \"str\", \"VIOLATION CODE\": \"str\", \"VIOLATION DESCRIPTION\": \"str\", \"CRITICAL FLAG\": \"str\", \"SCORE\": \"float\", \"RECORD DATE\": \"str\", \"INSPECTION TYPE\": \"str\"}': 893,\n",
      "    '{\"\\\\u00ef\\\\u00bb\\\\u00bfCAMIS\": \"float\", \"DBA\": \"str\", \"BORO\": \"str\", \"BUILDING\": \"float\", \"STREET\": \"str\", \"ZIPCODE\": \"float\", \"PHONE\": \"float\", \"CUISINE DESCRIPTION\": \"str\", \"INSPECTION DATE\": \"str\", \"CRITICAL FLAG\": \"str\", \"RECORD DATE\": \"str\"}': 5,\n",
      "    '{\"\\\\u00ef\\\\u00bb\\\\u00bfCAMIS\": \"float\", \"DBA\": \"str\", \"BORO\": \"str\", \"STREET\": \"str\", \"ZIPCODE\": \"float\", \"PHONE\": \"float\", \"CUISINE DESCRIPTION\": \"str\", \"INSPECTION DATE\": \"str\", \"ACTION\": \"str\", \"VIOLATION CODE\": \"str\", \"VIOLATION DESCRIPTION\": \"str\", \"CRITICAL FLAG\": \"str\", \"SCORE\": \"float\", \"GRADE\": \"str\", \"GRADE DATE\": \"str\", \"RECORD DATE\": \"str\", \"INSPECTION TYPE\": \"str\"}': 1}\n",
      "time: 316 ms\n"
     ]
    }
   ],
   "source": [
    "# We need to count how many distinct schema in a collection\n",
    "# Different path, and datatype\n",
    "\n",
    "schemas = []\n",
    "numOfScheme = 0\n",
    "count = 0\n",
    "datas=[]\n",
    "sizeOfSchema={} # how many documents for each schema .\n",
    "MAX = 999999999 \n",
    "counter = 0\n",
    "# Process document by document in data.\n",
    "# get schema for each document\n",
    "for document in data:\n",
    "    if counter >= MAX:\n",
    "        break\n",
    "    rscheme = {}\n",
    "    datas.append(document)\n",
    "    count += 1\n",
    "    getNumOfScheme(rscheme, document)\n",
    "    has = False\n",
    "    for key in sizeOfSchema.keys():\n",
    "        tmp = json.loads(key)\n",
    "        if tmp.keys() == rscheme.keys():\n",
    "            sizeOfSchema[key] += 1\n",
    "            has = True\n",
    "    if not has:\n",
    "        sizeOfSchema[json.dumps(rscheme)] = 1\n",
    "    if not checkIfHave(schemas, rscheme):\n",
    "        schemas.append(rscheme)\n",
    "    counter+=1\n",
    "        \n",
    "\n",
    "\n",
    "# Creat schema with id\n",
    "schemasDict = {} # schema with id\n",
    "\n",
    "schemasID = 0 # id\n",
    "for schema in schemas:\n",
    "    schemasDict[schemasID] = schema\n",
    "    schemasID = schemasID + 1\n",
    "    \n",
    "print(\"number of schemas:\" , len(schemas))\n",
    "print(\"number of documents:\" , count)\n",
    "print(schemas)\n",
    "print(sizeOfSchema)\n",
    "pp = pprint.PrettyPrinter(indent=4)\n",
    "pp.pprint(sizeOfSchema)"
   ]
  },
  {
   "cell_type": "markdown",
   "metadata": {},
   "source": [
    "<a id='algorithm'></a>\n",
    "## Algorithm"
   ]
  },
  {
   "cell_type": "markdown",
   "metadata": {},
   "source": [
    "## Tree"
   ]
  },
  {
   "cell_type": "code",
   "execution_count": 8,
   "metadata": {},
   "outputs": [
    {
     "name": "stdout",
     "output_type": "stream",
     "text": [
      "time: 8.97 ms\n"
     ]
    }
   ],
   "source": [
    "# A decision tree calss\n",
    "class DecisionTree():\n",
    "    # construction\n",
    "    def __init__(self):\n",
    "        # node list to contain list of node\n",
    "        self.nodes = []\n",
    "        # Edge list to contain list of edges\n",
    "        self.edges = []\n",
    "        # current entropy and schema entropy\n",
    "        self.entropy = 0\n",
    "        self.schemaentropy = 0\n",
    "        self.leafid=0\n",
    "    def addNode (self, newNode, parent = None, value = None):\n",
    "        self.nodes.append(newNode)\n",
    "        if parent is not None and value is not None:\n",
    "            temp = Edge(paren, newNode, value)\n",
    "            for edge in self.edges:\n",
    "                if not edge == temp:\n",
    "                    self.edges.append(temp)\n",
    "    def split(self, node,key, nodeList, isPure):\n",
    "        newNode = Node(key)\n",
    "        newNode.id = self.leafid\n",
    "        self.leafid = self.leafid + 1\n",
    "        if len(self.nodes)==1:\n",
    "            if node in self.nodes:\n",
    "                self.nodes.remove(node)\n",
    "                self.nodes.append(newNode)\n",
    "                self.root = newNode\n",
    "                for leaf in nodeList:\n",
    "                    leaf.canBeSplit = isPure\n",
    "                    if len(leaf.schemas)== 1:\n",
    "                        leaf.canBeSplit = False\n",
    "                    leaf.id = self.leafid\n",
    "                    self.leafid = self.leafid + 1\n",
    "                    self.nodes.append(leaf)\n",
    "                    temp = Edge(newNode, leaf, leaf.value, leaf.symbol)\n",
    "                    self.edges.append(temp)\n",
    "        else:\n",
    "            if node in self.nodes:\n",
    "                self.nodes.remove(node)\n",
    "                self.nodes.append(newNode)\n",
    "                for edge in self.edges:\n",
    "                    if edge.contain(node):\n",
    "                        edge.children = newNode\n",
    "                for leaf in nodeList:\n",
    "                    leaf.canBeSplit = isPure\n",
    "                    leaf.id = self.leafid\n",
    "                    self.leafid = self.leafid + 1\n",
    "                    self.nodes.append(leaf)\n",
    "                    temp = Edge(newNode, leaf, leaf.value, leaf.symbol)\n",
    "                    self.edges.append(temp)\n",
    "                    \n",
    "    def display(self):\n",
    "        for node in self.nodes:\n",
    "            print(node.name)\n",
    "        for edge in self.edges:\n",
    "            print(edge.value)\n",
    "    def recover(self, key):\n",
    "        schemas = []\n",
    "        for node in self.nodes:\n",
    "            if node.name == key:\n",
    "                getSchemas(node,schemas)\n",
    "                remove(node)\n",
    "                break\n",
    "        for edge in self.edges:\n",
    "            if edge.children.name == key:\n",
    "                edge.children = Leaf(schemas,edge.value, edge,symbol)\n",
    "            elif len(self.nodes) == 0:\n",
    "                self.nodes.append(Leaf(schemas,'',''))\n",
    "                \n",
    "    def remove(self,node):\n",
    "        for item in list(self.nodes):\n",
    "            self.nodes.remove(item)\n",
    "        for item in list(self.edges):\n",
    "            if item.parent == node:\n",
    "                self.edges.remove(item)\n",
    "                remove(item.children)\n",
    "    def getSchemas(self, node,schemas):\n",
    "        for edge in self.edges:\n",
    "            if type(node).__name__ == \"leaf\":\n",
    "                schemas.append(node.schemas);\n",
    "            elif edge.parent==node:\n",
    "                getSchemas(edge.children,schemas)\n",
    "                \n",
    "        \n",
    "            \n",
    "        \n",
    "class Node():\n",
    "    def __init__(self, name):\n",
    "        self.name = name\n",
    "        self.children = []\n",
    "        self.splited = []\n",
    "        self.id=''\n",
    "    def addChild(self, obj):\n",
    "        self.children.append(obj)\n",
    "    def __eq__(self, other):\n",
    "        if isinstance(other, Node):\n",
    "            return self.name == other.name and self.id == other.id\n",
    "        return False\n",
    "    \n",
    "class Leaf(Node):\n",
    "    def __init__(self, schemas, value, symbol, name = 'leaf'):\n",
    "        self.schemas = schemas\n",
    "        self.splited = []\n",
    "        self.name = name\n",
    "        self.canBeSplit = True\n",
    "        self.value = value\n",
    "        self.symbol = symbol\n",
    "        self.id=''\n",
    "    def getSchemas(self):\n",
    "        return self.schemas \n",
    "    def __eq__(self, other):\n",
    "        if isinstance(other, Leaf):\n",
    "            return self.id == other.id and self.schemas == other.schemas and self.value == other.value and self.symbol == other.symbol\n",
    "        return False\n",
    "        \n",
    "class Edge():\n",
    "    def __init__(self, parent, children, value, symbol):\n",
    "        self.parent = parent\n",
    "        self.children = children\n",
    "        self.value = value\n",
    "        self.symbol = symbol\n",
    "    def __eq__(self, other):\n",
    "        if isinstance(other, Edge):\n",
    "            return (self.children == other.childre) and (self.parent == other.paren) and (self.value == other.value)\n",
    "        return False\n",
    "    def contain(self, node):\n",
    "        if self.children == node:\n",
    "            return True\n",
    "        else:\n",
    "            return False"
   ]
  },
  {
   "cell_type": "markdown",
   "metadata": {},
   "source": [
    "### All need methods"
   ]
  },
  {
   "cell_type": "code",
   "execution_count": 9,
   "metadata": {},
   "outputs": [
    {
     "name": "stdout",
     "output_type": "stream",
     "text": [
      "time: 969 µs\n"
     ]
    }
   ],
   "source": [
    "\n",
    "def mergeSchemas(schemas):\n",
    "    rschemas ={}\n",
    "    for schema in schemas:\n",
    "        for key, value in schema.items():\n",
    "            if key in rschemas and not value == rschemas[key]:\n",
    "                rschemas[key] = 'str'\n",
    "            else:\n",
    "                rschemas[key] = value\n",
    "    return rschemas"
   ]
  },
  {
   "cell_type": "code",
   "execution_count": 10,
   "metadata": {},
   "outputs": [
    {
     "name": "stdout",
     "output_type": "stream",
     "text": [
      "time: 7 ms\n"
     ]
    }
   ],
   "source": [
    "# Numeric split can be <= and >\n",
    "def numeric(node, key, value, datas):\n",
    "    less = Leaf([], value, 'lessEqual')\n",
    "    greater = Leaf([],value, 'greater')\n",
    "    # Get nodeList after split\n",
    "    nodeList = [Leaf([],value, 'equal'), Leaf([],value,'notEqual')]\n",
    "    # get associated schema and split them - valuebased and schema based\n",
    "    for data in datas:\n",
    "        rscheme = {}\n",
    "        getNumOfScheme (rscheme, data)\n",
    "        if getValue(data, key.split('.')) <= value:\n",
    "            if not checkIfHave(less.schemas, rscheme):\n",
    "                less.schemas.append(rscheme)\n",
    "        else:\n",
    "            if not checkIfHave(greater.schemas, rscheme):\n",
    "                greater.schemas.append(rscheme)\n",
    "        if getValue(data, key.split('.')) == value:\n",
    "            if not checkIfHave(nodeList[0].schemas, rscheme):\n",
    "                nodeList[0].schemas.append(rscheme)\n",
    "        else:\n",
    "            if not checkIfHave(nodeList[1].schemas, rscheme):\n",
    "                nodeList[1].schemas.append(rscheme)\n",
    "\n",
    "    # calculate entropy:\n",
    "    lessEntropy = 0\n",
    "    greaterEntropy = 0\n",
    "    lessTotal = 0\n",
    "    greaterTotal = 0\n",
    "    \n",
    "    for schema in less.schemas: \n",
    "        number = 0\n",
    "        for key in sizeOfSchema.keys():\n",
    "            tmp = json.loads(key)\n",
    "            if tmp.keys() == schema.keys():\n",
    "                number = sizeOfSchema[key]\n",
    "        lessTotal = lessTotal + number\n",
    "    for schema in greater.schemas:\n",
    "        number = 0\n",
    "        for key in sizeOfSchema.keys():\n",
    "            tmp = json.loads(key)\n",
    "            if tmp.keys() == schema.keys():\n",
    "                number = sizeOfSchema[key]\n",
    "        greaterTotal = greaterTotal + number\n",
    "    # calculate schema-entropy3\n",
    "    sEntropy = 0\n",
    "    totalLength = lessTotal+greaterTotal\n",
    "    for schema in node.schemas:\n",
    "        number = 0\n",
    "        for key in sizeOfSchema.keys():\n",
    "            tmp = json.loads(key)\n",
    "            if tmp.keys() == schema.keys():\n",
    "                number = sizeOfSchema[key]\n",
    "            \n",
    "        if schema in less.schemas and schema in greater.schemas:\n",
    "            lessEntropy = lessEntropy -  number/(lessTotal)* math.log2( number/lessTotal)\n",
    "            greaterEntropy = greaterEntropy -  number/(greaterTotal)* math.log2( number/greaterTotal)\n",
    "        elif schema in less.schemas and schema not in greater.schemas:\n",
    "            lessEntropy = lessEntropy -  number/(lessTotal)* math.log2( number/lessTotal)\n",
    "        elif schema not in less.schemas and schema in greater.schemas:\n",
    "            greaterEntropy = greaterEntropy -  number/(greaterTotal)* math.log2( number/greaterTotal)\n",
    "        if schema in less.schemas and schema in greater.schemas:\n",
    "            temp = number/(2*number)* math.log2(number/(2*number))+ number/(2*number)* math.log2(number/(2*number))\n",
    "            sEntropy = sEntropy - 2*len(schema)/totalLength * temp\n",
    "        elif schema in less.schemas and schema not in greater.schemas:\n",
    "            temp = number/number* math.log2(number/number)\n",
    "            sEntropy = sEntropy - len(schema)/totalLength * temp\n",
    "        elif schema not in less.schemas and schema in greater.schemas:\n",
    "            temp = number/number* math.log2(number/number)\n",
    "            sEntropy = sEntropy - len(schema)/totalLength * temp\n",
    "    entropy = lessEntropy * lessTotal /totalLength + greaterEntropy * greaterTotal / totalLength\n",
    "    \n",
    "     # calculate entropy and sEntropy\n",
    "    entropyCategorical1, sEntropyCategorical1 = entropysCalculation(nodeList,node.schemas)\n",
    "    \n",
    "    if sEntropy < sEntropyCategorical1:\n",
    "        return entropy, sEntropy, [less, greater]\n",
    "    elif sEntropy == sEntropyCategorical1:\n",
    "        if entropy < entropyCategorical1:\n",
    "            return entropy, sEntropy, [less, greater]\n",
    "        else:\n",
    "            return entropyCategorical1, sEntropyCategorical1, nodeList\n",
    "    else:\n",
    "        return entropyCategorical1, sEntropyCategorical1, nodeList\n",
    "        \n",
    "            \n",
    "        \n",
    "\n",
    "\n",
    "\n",
    "def categorical(node, key, values, datas):\n",
    "    # Get nodeList after split\n",
    "    nodeList = []\n",
    "    for value in values:\n",
    "        schemas = []\n",
    "        for data in datas:\n",
    "            rscheme = {}\n",
    "            getNumOfScheme (rscheme, data)\n",
    "            if getValue(data, key.split('.')) == value:\n",
    "                if not checkIfHave(schemas, rscheme):\n",
    "                    schemas.append(rscheme)\n",
    "        nodeList.append(Leaf(schemas, value, 'equal'))\n",
    "    \n",
    "    # calculate entropy and sEntropy\n",
    "    entropy, sEntropy = entropysCalculation(nodeList,node.schemas)\n",
    "                \n",
    "    return entropy, sEntropy, nodeList"
   ]
  },
  {
   "cell_type": "code",
   "execution_count": 11,
   "metadata": {},
   "outputs": [
    {
     "name": "stdout",
     "output_type": "stream",
     "text": [
      "time: 3 ms\n"
     ]
    }
   ],
   "source": [
    "def entropysCalculation(nodeList, schemas):\n",
    "    \n",
    "    \n",
    "    entropy = 0\n",
    "    total = 0\n",
    "    sEntropy = 0\n",
    "    for node in nodeList:\n",
    "        for schema in node.schemas:\n",
    "            total = total + sizeOfSchema[json.dumps(schema)]\n",
    "    # Entropy Calculation\n",
    "    for node in nodeList:\n",
    "        temp = 0\n",
    "        totalAttributeInThisLeaf = 0\n",
    "        for schema in node.schemas:\n",
    "            number = 0\n",
    "            for key in sizeOfSchema.keys():\n",
    "                tmp = json.loads(key)\n",
    "                if tmp.keys() == schema.keys():\n",
    "                    number = sizeOfSchema[key]\n",
    "                \n",
    "            totalAttributeInThisLeaf = totalAttributeInThisLeaf + number\n",
    "        for schema in node.schemas:\n",
    "            number = 0\n",
    "            for key in sizeOfSchema.keys():\n",
    "                tmp = json.loads(key)\n",
    "                if tmp.keys() == schema.keys():\n",
    "                    number = sizeOfSchema[key]\n",
    "                    \n",
    "            temp = temp - number/totalAttributeInThisLeaf*math.log2(number/totalAttributeInThisLeaf)\n",
    "        entropy = entropy + temp * totalAttributeInThisLeaf/total\n",
    "    \n",
    "    # sEntropy calculation\n",
    "    for schema in schemas:\n",
    "        number = 0\n",
    "        for key in sizeOfSchema.keys():\n",
    "            tmp = json.loads(key)\n",
    "            if tmp.keys() == schema.keys():\n",
    "                number = sizeOfSchema[key]\n",
    "        temp = 0\n",
    "        totalForThisSchema = 0\n",
    "        for node in nodeList:\n",
    "            if checkIfHave(node.schemas, schema):\n",
    "                totalForThisSchema = totalForThisSchema + number\n",
    "        for node in nodeList:\n",
    "            if checkIfHave(node.schemas, schema):\n",
    "                temp = temp + number/totalForThisSchema * math.log2(number/totalForThisSchema)\n",
    "        sEntropy = sEntropy - temp * totalForThisSchema/total\n",
    "    return entropy, sEntropy"
   ]
  },
  {
   "cell_type": "code",
   "execution_count": 12,
   "metadata": {},
   "outputs": [
    {
     "name": "stdout",
     "output_type": "stream",
     "text": [
      "time: 1 ms\n"
     ]
    }
   ],
   "source": [
    "\n",
    "def getValue(currentData, path):\n",
    "    if len(path) == 1:\n",
    "        key = path.pop()\n",
    "        if key in currentData:\n",
    "            return currentData[key]\n",
    "        else:\n",
    "            return None\n",
    "    else:\n",
    "        return getValue(currentData[path.pop()], path)\n",
    "    "
   ]
  },
  {
   "cell_type": "code",
   "execution_count": 13,
   "metadata": {},
   "outputs": [
    {
     "name": "stdout",
     "output_type": "stream",
     "text": [
      "time: 3 ms\n"
     ]
    }
   ],
   "source": [
    "# find the best splict for an attributes\n",
    "# decisionTree: Current dicisionTree before split\n",
    "# node: The node you want to split\n",
    "# key: The attribute that you want to split\n",
    "# return: bestsplit entropy value, schema entropy value and new Decision tree\n",
    "def findBestSplitValueBased(decisionTree, node, key, datas):\n",
    "    global numberOfNumeric\n",
    "    tempTree = copy.deepcopy(decisionTree)\n",
    "    # Get distinct values\n",
    "    values = []\n",
    "    for data in datas:\n",
    "        temp = getValue(data, key.split('.'))\n",
    "        if temp is not None:\n",
    "            values.append(temp)\n",
    "    values = list(set(values))\n",
    "    values.sort()\n",
    "    currentBestEntropy =  0\n",
    "    currentBestSchemaEntropy =  99999\n",
    "    currentComparison = 0\n",
    "    nodeList = []\n",
    "    # Check numeric split\n",
    "    for i in tqdm_notebook(range(0,len(values)-1), desc='numeric split ' + key):\n",
    "        # Get value for this index split\n",
    "        numberOfNumeric += 1\n",
    "        tempEntropy, tempSchemaEntropy, tempNodeList = numeric(node, key, values[i], datas)\n",
    "        \n",
    "        if tempSchemaEntropy < currentBestSchemaEntropy:\n",
    "            currentBestEntropy = tempEntropy\n",
    "            currentBestSchemaEntropy = tempSchemaEntropy\n",
    "            nodeList = tempNodeList\n",
    "        elif tempSchemaEntropy == currentBestSchemaEntropy:\n",
    "            if tempEntropy < currentBestEntropy:\n",
    "                currentBestEntropy = tempEntropy\n",
    "                currentBestSchemaEntropy = tempSchemaEntropy\n",
    "                nodeList = tempNodeList\n",
    "            \n",
    "            \n",
    "    # Get value for categorical 2 split\n",
    "    if len(values) > 1:\n",
    "        tempEntropy, tempSchemaEntropy,tempNodeList = categorical(node, key, values, datas)\n",
    "        \n",
    "        if tempSchemaEntropy < currentBestSchemaEntropy:\n",
    "            currentBestEntropy = tempEntropy\n",
    "            currentBestSchemaEntropy = tempSchemaEntropy\n",
    "            nodeList = tempNodeList\n",
    "        elif tempSchemaEntropy == currentBestSchemaEntropy:\n",
    "            if tempEntropy < currentBestEntropy:\n",
    "                currentBestEntropy = tempEntropy\n",
    "                currentBestSchemaEntropy = tempSchemaEntropy\n",
    "                nodeList = tempNodeList\n",
    "            \n",
    "        \n",
    "    return currentBestEntropy, currentBestSchemaEntropy, nodeList"
   ]
  },
  {
   "cell_type": "code",
   "execution_count": 14,
   "metadata": {},
   "outputs": [
    {
     "name": "stdout",
     "output_type": "stream",
     "text": [
      "time: 2 ms\n"
     ]
    }
   ],
   "source": [
    "def getIntersectionOfSchemas(schemas):\n",
    "    # get intersection keys\n",
    "    keys = set(schemas[0].keys())\n",
    "    for schema in schemas:\n",
    "        temp = set(schema.keys())\n",
    "        keys = temp & keys\n",
    "    intersectionOfSchemas = {}\n",
    "    for key in keys:\n",
    "        for schema in schemas:\n",
    "            if key in intersectionOfSchemas and not intersectionOfSchemas[key] == schema[key]:\n",
    "                intersectionOfSchemas.pop(key)\n",
    "            elif key not in intersectionOfSchemas:\n",
    "                intersectionOfSchemas[key] = schema[key]\n",
    "    return intersectionOfSchemas\n",
    "def getDistinctAttributes(schemas, intersectionAttributes):\n",
    "    attributes = {}\n",
    "    for schema in schemas:\n",
    "        for key, value in schema.items():\n",
    "            if key not in intersectionAttributes:\n",
    "                attributes[key]= value\n",
    "    return attributes"
   ]
  },
  {
   "cell_type": "code",
   "execution_count": 15,
   "metadata": {},
   "outputs": [
    {
     "name": "stdout",
     "output_type": "stream",
     "text": [
      "time: 2 ms\n"
     ]
    }
   ],
   "source": [
    "def findBestSplitSchemaBased(decisionTree, node, key):\n",
    "    nodeList=[Leaf([], key, 'E'), Leaf([],key,'notE')]\n",
    "    for schema in node.schemas:\n",
    "        if key in schema:\n",
    "            if not checkIfHave(nodeList[0].schemas, schema):\n",
    "                nodeList[0].schemas.append(schema)\n",
    "        else:\n",
    "            if not checkIfHave(nodeList[1].schemas, schema):\n",
    "                nodeList[1].schemas.append(schema)\n",
    "    \n",
    "    if len(nodeList[0].schemas)==0 or len(nodeList[1].schemas)==0:\n",
    "        return 999, 999, None\n",
    "    # calculate entropy and sEntropy\n",
    "    entropy, sEntropy = entropysCalculation(nodeList,node.schemas)\n",
    "    \n",
    "    return entropy, sEntropy, nodeList\n",
    "         "
   ]
  },
  {
   "cell_type": "code",
   "execution_count": 16,
   "metadata": {},
   "outputs": [
    {
     "name": "stdout",
     "output_type": "stream",
     "text": [
      "Error in callback <function LineWatcher.stop at 0x00000178F6F40D08> (for post_run_cell):\n"
     ]
    },
    {
     "ename": "AssertionError",
     "evalue": "",
     "output_type": "error",
     "traceback": [
      "\u001b[1;31m---------------------------------------------------------------------------\u001b[0m",
      "\u001b[1;31mAssertionError\u001b[0m                            Traceback (most recent call last)",
      "\u001b[1;32mD:\\anaconda3\\lib\\site-packages\\backcall\\backcall.py\u001b[0m in \u001b[0;36madapted\u001b[1;34m(*args, **kwargs)\u001b[0m\n\u001b[0;32m    102\u001b[0m                 \u001b[0mkwargs\u001b[0m\u001b[1;33m.\u001b[0m\u001b[0mpop\u001b[0m\u001b[1;33m(\u001b[0m\u001b[0mname\u001b[0m\u001b[1;33m)\u001b[0m\u001b[1;33m\u001b[0m\u001b[1;33m\u001b[0m\u001b[0m\n\u001b[0;32m    103\u001b[0m \u001b[1;31m#            print(args, kwargs, unmatched_pos, cut_positional, unmatched_kw)\u001b[0m\u001b[1;33m\u001b[0m\u001b[1;33m\u001b[0m\u001b[1;33m\u001b[0m\u001b[0m\n\u001b[1;32m--> 104\u001b[1;33m             \u001b[1;32mreturn\u001b[0m \u001b[0mcallback\u001b[0m\u001b[1;33m(\u001b[0m\u001b[1;33m*\u001b[0m\u001b[0margs\u001b[0m\u001b[1;33m,\u001b[0m \u001b[1;33m**\u001b[0m\u001b[0mkwargs\u001b[0m\u001b[1;33m)\u001b[0m\u001b[1;33m\u001b[0m\u001b[1;33m\u001b[0m\u001b[0m\n\u001b[0m\u001b[0;32m    105\u001b[0m \u001b[1;33m\u001b[0m\u001b[0m\n\u001b[0;32m    106\u001b[0m         \u001b[1;32mreturn\u001b[0m \u001b[0madapted\u001b[0m\u001b[1;33m\u001b[0m\u001b[1;33m\u001b[0m\u001b[0m\n",
      "\u001b[1;32mD:\\anaconda3\\lib\\site-packages\\autotime.py\u001b[0m in \u001b[0;36mstop\u001b[1;34m(self)\u001b[0m\n\u001b[0;32m     23\u001b[0m         \u001b[1;32mif\u001b[0m \u001b[0mself\u001b[0m\u001b[1;33m.\u001b[0m\u001b[0mstart_time\u001b[0m\u001b[1;33m:\u001b[0m\u001b[1;33m\u001b[0m\u001b[1;33m\u001b[0m\u001b[0m\n\u001b[0;32m     24\u001b[0m             \u001b[0mdiff\u001b[0m \u001b[1;33m=\u001b[0m \u001b[0mtime\u001b[0m\u001b[1;33m.\u001b[0m\u001b[0mtime\u001b[0m\u001b[1;33m(\u001b[0m\u001b[1;33m)\u001b[0m \u001b[1;33m-\u001b[0m \u001b[0mself\u001b[0m\u001b[1;33m.\u001b[0m\u001b[0mstart_time\u001b[0m\u001b[1;33m\u001b[0m\u001b[1;33m\u001b[0m\u001b[0m\n\u001b[1;32m---> 25\u001b[1;33m             \u001b[1;32massert\u001b[0m \u001b[0mdiff\u001b[0m \u001b[1;33m>\u001b[0m \u001b[1;36m0\u001b[0m\u001b[1;33m\u001b[0m\u001b[1;33m\u001b[0m\u001b[0m\n\u001b[0m\u001b[0;32m     26\u001b[0m             \u001b[0mprint\u001b[0m\u001b[1;33m(\u001b[0m\u001b[1;34m'time: %s'\u001b[0m \u001b[1;33m%\u001b[0m \u001b[0mformat_delta\u001b[0m\u001b[1;33m(\u001b[0m\u001b[0mdiff\u001b[0m\u001b[1;33m)\u001b[0m\u001b[1;33m)\u001b[0m\u001b[1;33m\u001b[0m\u001b[1;33m\u001b[0m\u001b[0m\n\u001b[0;32m     27\u001b[0m \u001b[1;33m\u001b[0m\u001b[0m\n",
      "\u001b[1;31mAssertionError\u001b[0m: "
     ]
    }
   ],
   "source": [
    "def getCurrentData(schemas, datas):\n",
    "    currentData = []\n",
    "    for data in datas:\n",
    "        rscheme = {}\n",
    "        getNumOfScheme (rscheme, data)\n",
    "        if rscheme in schemas:\n",
    "            currentData.append(data)\n",
    "    return currentData"
   ]
  },
  {
   "cell_type": "code",
   "execution_count": 17,
   "metadata": {
    "scrolled": true
   },
   "outputs": [
    {
     "name": "stdout",
     "output_type": "stream",
     "text": [
      "time: 6 ms\n"
     ]
    }
   ],
   "source": [
    "def split(decisionTree, node, entropy, sEntropy):\n",
    "    global numberOfFBV, numberOfFBS\n",
    "    bestSplit = []\n",
    "    schemas = node.getSchemas()\n",
    "    # Get distinct intersection attributes\n",
    "    intersectionAttributes = getIntersectionOfSchemas(node.getSchemas())\n",
    "    # For each attribute, try to find the best split\n",
    "    currentBestEntropy =  0\n",
    "    currentBestSchemaEntropy =  99999\n",
    "    nodeList = []\n",
    "    bestAttribute=None\n",
    "    currentComparison = 0\n",
    "    valueSplit = True\n",
    "    for key, value in tqdm_notebook(intersectionAttributes.items(),desc='primary type'):\n",
    "        # check the value based split for primary attributes\n",
    "        if (value == 'float' or value == 'int' or value == 'bool') and key not in node.splited:\n",
    "            # find the best split for this attribute\n",
    "            currentData = getCurrentData(node.schemas, datas)\n",
    "            numberOfFBV += 1\n",
    "            tempEntropy, tempSchemaEntropy, tempNodeList = findBestSplitValueBased(decisionTree, node, key, currentData)\n",
    "            # check current best\n",
    "            if tempSchemaEntropy < currentBestSchemaEntropy:\n",
    "                currentBestEntropy = tempEntropy\n",
    "                currentBestSchemaEntropy = tempSchemaEntropy\n",
    "                nodeList = tempNodeList\n",
    "                bestAttribute = key\n",
    "            elif tempSchemaEntropy == currentBestSchemaEntropy:\n",
    "                if tempEntropy < currentBestEntropy:\n",
    "                    currentBestEntropy = tempEntropy\n",
    "                    currentBestSchemaEntropy = tempSchemaEntropy\n",
    "                    nodeList = tempNodeList\n",
    "                    bestAttribute = key\n",
    "\n",
    "                            \n",
    "    gain = entropy - currentBestEntropy\n",
    "    loss = currentBestSchemaEntropy - sEntropy\n",
    "    # if no vaild value split\n",
    "    if not gain >= alpha or not loss <= beta:\n",
    "        valueSplit = False\n",
    "#         print('No Value split find')\n",
    "#         print(bestAttribute)\n",
    "        # Get distinct attributes without intersections\n",
    "        \n",
    "        distinctAttributes = getDistinctAttributes(node.getSchemas(), intersectionAttributes)\n",
    "        for key, value in distinctAttributes.items():\n",
    "            if key not in node.splited:\n",
    "                # find the best split for this attribute\n",
    "                numberOfFBS += 1\n",
    "                tempEntropy, tempSchemaEntropy, tempNodeList = findBestSplitSchemaBased(decisionTree, node, key)\n",
    "                print(key)\n",
    "                print(tempEntropy)\n",
    "                print(tempSchemaEntropy)\n",
    "                # check current best\n",
    "                if tempSchemaEntropy < currentBestSchemaEntropy:\n",
    "                    currentBestEntropy = tempEntropy\n",
    "                    currentBestSchemaEntropy = tempSchemaEntropy\n",
    "                    nodeList = tempNodeList\n",
    "                    bestAttribute = key\n",
    "                elif tempSchemaEntropy == currentBestSchemaEntropy:\n",
    "                        if tempEntropy < currentBestEntropy:\n",
    "                            currentBestEntropy = tempEntropy\n",
    "                            currentBestSchemaEntropy = tempSchemaEntropy\n",
    "                            nodeList = tempNodeList\n",
    "                            bestAttribute = key\n",
    "                \n",
    "                \n",
    "                        \n",
    "                \n",
    "        \n",
    "        gain = entropy - currentBestEntropy\n",
    "        loss = currentBestSchemaEntropy - sEntropy\n",
    "\n",
    "        \n",
    "#         print(gain)\n",
    "#         print(loss)\n",
    "#         print(key)\n",
    "        # if also no schema split\n",
    "        if (not gain >= alpha or not loss <= beta) and not loss == 0:\n",
    "\n",
    "            for tempNode in decisionTree.nodes:\n",
    "                if tempNode == node:\n",
    "                    node.canBeSplit = False\n",
    "            return\n",
    "    \n",
    "#     print(entropy)\n",
    "#     print(sEntropy)\n",
    "    #print(bestAttribute)\n",
    "    \n",
    "    for n in nodeList:\n",
    "        n.splited.append(node.splited)\n",
    "        n.splited.append(bestAttribute)\n",
    "    decisionTree.split(node,bestAttribute, nodeList, node.canBeSplit)\n",
    "    \n",
    "    leafList = []\n",
    "    for node in decisionTree.nodes:\n",
    "        if type(node).__name__ == 'Leaf':\n",
    "            leafList.append(node)\n",
    "    currentEntropy, currentSchemaEntropy = entropysCalculation(leafList, allschema) \n",
    "    \n",
    "    for node in decisionTree.nodes:\n",
    "        if type(node).__name__ == 'Leaf' and node.canBeSplit == True:\n",
    "            split(decisionTree, node, currentEntropy, currentSchemaEntropy)\n",
    "    \n"
   ]
  },
  {
   "cell_type": "markdown",
   "metadata": {},
   "source": [
    "<a id='run'></a>\n",
    "## Run"
   ]
  },
  {
   "cell_type": "code",
   "execution_count": 18,
   "metadata": {
    "scrolled": false
   },
   "outputs": [
    {
     "name": "stdout",
     "output_type": "stream",
     "text": [
      "Error in callback <function LineWatcher.stop at 0x00000178F6F40D08> (for post_run_cell):\n"
     ]
    },
    {
     "ename": "AssertionError",
     "evalue": "",
     "output_type": "error",
     "traceback": [
      "\u001b[1;31m---------------------------------------------------------------------------\u001b[0m",
      "\u001b[1;31mAssertionError\u001b[0m                            Traceback (most recent call last)",
      "\u001b[1;32mD:\\anaconda3\\lib\\site-packages\\backcall\\backcall.py\u001b[0m in \u001b[0;36madapted\u001b[1;34m(*args, **kwargs)\u001b[0m\n\u001b[0;32m    102\u001b[0m                 \u001b[0mkwargs\u001b[0m\u001b[1;33m.\u001b[0m\u001b[0mpop\u001b[0m\u001b[1;33m(\u001b[0m\u001b[0mname\u001b[0m\u001b[1;33m)\u001b[0m\u001b[1;33m\u001b[0m\u001b[1;33m\u001b[0m\u001b[0m\n\u001b[0;32m    103\u001b[0m \u001b[1;31m#            print(args, kwargs, unmatched_pos, cut_positional, unmatched_kw)\u001b[0m\u001b[1;33m\u001b[0m\u001b[1;33m\u001b[0m\u001b[1;33m\u001b[0m\u001b[0m\n\u001b[1;32m--> 104\u001b[1;33m             \u001b[1;32mreturn\u001b[0m \u001b[0mcallback\u001b[0m\u001b[1;33m(\u001b[0m\u001b[1;33m*\u001b[0m\u001b[0margs\u001b[0m\u001b[1;33m,\u001b[0m \u001b[1;33m**\u001b[0m\u001b[0mkwargs\u001b[0m\u001b[1;33m)\u001b[0m\u001b[1;33m\u001b[0m\u001b[1;33m\u001b[0m\u001b[0m\n\u001b[0m\u001b[0;32m    105\u001b[0m \u001b[1;33m\u001b[0m\u001b[0m\n\u001b[0;32m    106\u001b[0m         \u001b[1;32mreturn\u001b[0m \u001b[0madapted\u001b[0m\u001b[1;33m\u001b[0m\u001b[1;33m\u001b[0m\u001b[0m\n",
      "\u001b[1;32mD:\\anaconda3\\lib\\site-packages\\autotime.py\u001b[0m in \u001b[0;36mstop\u001b[1;34m(self)\u001b[0m\n\u001b[0;32m     23\u001b[0m         \u001b[1;32mif\u001b[0m \u001b[0mself\u001b[0m\u001b[1;33m.\u001b[0m\u001b[0mstart_time\u001b[0m\u001b[1;33m:\u001b[0m\u001b[1;33m\u001b[0m\u001b[1;33m\u001b[0m\u001b[0m\n\u001b[0;32m     24\u001b[0m             \u001b[0mdiff\u001b[0m \u001b[1;33m=\u001b[0m \u001b[0mtime\u001b[0m\u001b[1;33m.\u001b[0m\u001b[0mtime\u001b[0m\u001b[1;33m(\u001b[0m\u001b[1;33m)\u001b[0m \u001b[1;33m-\u001b[0m \u001b[0mself\u001b[0m\u001b[1;33m.\u001b[0m\u001b[0mstart_time\u001b[0m\u001b[1;33m\u001b[0m\u001b[1;33m\u001b[0m\u001b[0m\n\u001b[1;32m---> 25\u001b[1;33m             \u001b[1;32massert\u001b[0m \u001b[0mdiff\u001b[0m \u001b[1;33m>\u001b[0m \u001b[1;36m0\u001b[0m\u001b[1;33m\u001b[0m\u001b[1;33m\u001b[0m\u001b[0m\n\u001b[0m\u001b[0;32m     26\u001b[0m             \u001b[0mprint\u001b[0m\u001b[1;33m(\u001b[0m\u001b[1;34m'time: %s'\u001b[0m \u001b[1;33m%\u001b[0m \u001b[0mformat_delta\u001b[0m\u001b[1;33m(\u001b[0m\u001b[0mdiff\u001b[0m\u001b[1;33m)\u001b[0m\u001b[1;33m)\u001b[0m\u001b[1;33m\u001b[0m\u001b[1;33m\u001b[0m\u001b[0m\n\u001b[0;32m     27\u001b[0m \u001b[1;33m\u001b[0m\u001b[0m\n",
      "\u001b[1;31mAssertionError\u001b[0m: "
     ]
    }
   ],
   "source": [
    "schemaProfiling = DecisionTree()\n",
    "allschema = schemas\n",
    "root = Leaf(schemas,'','')\n",
    "schemaProfiling.addNode(root)"
   ]
  },
  {
   "cell_type": "code",
   "execution_count": null,
   "metadata": {
    "scrolled": true
   },
   "outputs": [
    {
     "name": "stdout",
     "output_type": "stream",
     "text": [
      "1.4888864698488633\n",
      "0.0\n"
     ]
    },
    {
     "data": {
      "application/vnd.jupyter.widget-view+json": {
       "model_id": "99b134aba067488faaf4eba09900e603",
       "version_major": 2,
       "version_minor": 0
      },
      "text/plain": [
       "HBox(children=(IntProgress(value=0, description='primary type', max=8, style=ProgressStyle(description_width='…"
      ]
     },
     "metadata": {},
     "output_type": "display_data"
    },
    {
     "data": {
      "application/vnd.jupyter.widget-view+json": {
       "model_id": "d7db51366fb24cc78800c49b0fd63cb8",
       "version_major": 2,
       "version_minor": 0
      },
      "text/plain": [
       "HBox(children=(IntProgress(value=0, description='numeric split ï»¿CAMIS', max=1844, style=ProgressStyle(descri…"
      ]
     },
     "metadata": {},
     "output_type": "display_data"
    },
    {
     "data": {
      "application/vnd.jupyter.widget-view+json": {
       "model_id": "44ed00f328c245a799937837b0d606b3",
       "version_major": 2,
       "version_minor": 0
      },
      "text/plain": [
       "HBox(children=(IntProgress(value=0, description='numeric split PHONE', max=1838, style=ProgressStyle(descripti…"
      ]
     },
     "metadata": {},
     "output_type": "display_data"
    },
    {
     "name": "stdout",
     "output_type": "stream",
     "text": [
      "DBA\n",
      "1.4636746039559292\n",
      "0.0\n",
      "BUILDING\n",
      "1.4826824105530316\n",
      "0.0\n",
      "ZIPCODE\n",
      "1.3735192892628523\n",
      "0.0\n",
      "ACTION\n",
      "1.4434717775150692\n",
      "0.0\n",
      "VIOLATION CODE\n",
      "1.3705364584405886\n",
      "0.0\n",
      "VIOLATION DESCRIPTION\n",
      "1.3309179228492003\n",
      "0.0\n",
      "SCORE\n",
      "1.239758606456596\n",
      "0.0\n",
      "GRADE\n",
      "0.4889326365826244\n",
      "0.0\n",
      "GRADE DATE\n",
      "0.48888719119650415\n",
      "0.0\n",
      "INSPECTION TYPE\n",
      "1.4434717775150692\n",
      "0.0\n"
     ]
    },
    {
     "data": {
      "application/vnd.jupyter.widget-view+json": {
       "model_id": "8bea06aa3b2242ffac867c78416f71a6",
       "version_major": 2,
       "version_minor": 0
      },
      "text/plain": [
       "HBox(children=(IntProgress(value=0, description='primary type', max=14, style=ProgressStyle(description_width=…"
      ]
     },
     "metadata": {},
     "output_type": "display_data"
    },
    {
     "data": {
      "application/vnd.jupyter.widget-view+json": {
       "model_id": "9016bde98955434ab756db4c595855e9",
       "version_major": 2,
       "version_minor": 0
      },
      "text/plain": [
       "HBox(children=(IntProgress(value=0, description='numeric split ï»¿CAMIS', max=955, style=ProgressStyle(descrip…"
      ]
     },
     "metadata": {},
     "output_type": "display_data"
    },
    {
     "data": {
      "application/vnd.jupyter.widget-view+json": {
       "model_id": "4d705d71fe3e48ecaefc14fbcb00c39c",
       "version_major": 2,
       "version_minor": 0
      },
      "text/plain": [
       "HBox(children=(IntProgress(value=0, description='numeric split SCORE', max=50, style=ProgressStyle(description…"
      ]
     },
     "metadata": {},
     "output_type": "display_data"
    },
    {
     "data": {
      "application/vnd.jupyter.widget-view+json": {
       "model_id": "de140e83179c44cf9d3bd62dd5c4f4d8",
       "version_major": 2,
       "version_minor": 0
      },
      "text/plain": [
       "HBox(children=(IntProgress(value=0, description='numeric split PHONE', max=951, style=ProgressStyle(descriptio…"
      ]
     },
     "metadata": {},
     "output_type": "display_data"
    },
    {
     "data": {
      "application/vnd.jupyter.widget-view+json": {
       "model_id": "0b411386eb0649a3825e4275d65069e7",
       "version_major": 2,
       "version_minor": 0
      },
      "text/plain": [
       "HBox(children=(IntProgress(value=0, description='primary type', max=9, style=ProgressStyle(description_width='…"
      ]
     },
     "metadata": {},
     "output_type": "display_data"
    },
    {
     "data": {
      "application/vnd.jupyter.widget-view+json": {
       "model_id": "4d5aec18107f44a7ab36afa4a9b64e02",
       "version_major": 2,
       "version_minor": 0
      },
      "text/plain": [
       "HBox(children=(IntProgress(value=0, description='numeric split ï»¿CAMIS', max=943, style=ProgressStyle(descrip…"
      ]
     },
     "metadata": {},
     "output_type": "display_data"
    },
    {
     "data": {
      "application/vnd.jupyter.widget-view+json": {
       "model_id": "f39a8f8672ab4c34b19a8a2becf2873f",
       "version_major": 2,
       "version_minor": 0
      },
      "text/plain": [
       "HBox(children=(IntProgress(value=0, description='numeric split BUILDING', max=768, style=ProgressStyle(descrip…"
      ]
     },
     "metadata": {},
     "output_type": "display_data"
    },
    {
     "data": {
      "application/vnd.jupyter.widget-view+json": {
       "model_id": "c11bec3df8c34e26bcd23f9ce84e7c9f",
       "version_major": 2,
       "version_minor": 0
      },
      "text/plain": [
       "HBox(children=(IntProgress(value=0, description='numeric split PHONE', max=942, style=ProgressStyle(descriptio…"
      ]
     },
     "metadata": {},
     "output_type": "display_data"
    },
    {
     "name": "stdout",
     "output_type": "stream",
     "text": [
      "DBA\n",
      "0.7055998834234921\n",
      "0.0\n",
      "ZIPCODE\n",
      "0.6636294157791703\n",
      "0.0\n",
      "ACTION\n",
      "0.6701933049473009\n",
      "0.0\n",
      "VIOLATION CODE\n",
      "0.5615539254991734\n",
      "0.0\n",
      "VIOLATION DESCRIPTION\n",
      "0.5178295974245742\n",
      "0.0\n",
      "SCORE\n",
      "0.33810225871002475\n",
      "0.0\n",
      "INSPECTION TYPE\n",
      "0.6701933049473009\n",
      "0.0\n",
      "GRADE\n",
      "0.6908302683792822\n",
      "0.0\n"
     ]
    },
    {
     "data": {
      "application/vnd.jupyter.widget-view+json": {
       "model_id": "df995b6924b041ca94c10cbb117d5e79",
       "version_major": 2,
       "version_minor": 0
      },
      "text/plain": [
       "HBox(children=(IntProgress(value=0, description='primary type', max=16, style=ProgressStyle(description_width=…"
      ]
     },
     "metadata": {},
     "output_type": "display_data"
    },
    {
     "data": {
      "application/vnd.jupyter.widget-view+json": {
       "model_id": "a9b530f31a7140dcb7e21ce75a818f63",
       "version_major": 2,
       "version_minor": 0
      },
      "text/plain": [
       "HBox(children=(IntProgress(value=0, description='numeric split ï»¿CAMIS', max=2, style=ProgressStyle(descripti…"
      ]
     },
     "metadata": {},
     "output_type": "display_data"
    },
    {
     "data": {
      "application/vnd.jupyter.widget-view+json": {
       "model_id": "1d4d087e8f9e4f90bd334554aa37789f",
       "version_major": 2,
       "version_minor": 0
      },
      "text/plain": [
       "HBox(children=(IntProgress(value=0, description='numeric split ZIPCODE', max=2, style=ProgressStyle(descriptio…"
      ]
     },
     "metadata": {},
     "output_type": "display_data"
    },
    {
     "data": {
      "application/vnd.jupyter.widget-view+json": {
       "model_id": "aa99b3ca007c46c5aea7900a54580223",
       "version_major": 2,
       "version_minor": 0
      },
      "text/plain": [
       "HBox(children=(IntProgress(value=0, description='numeric split BUILDING', max=2, style=ProgressStyle(descripti…"
      ]
     },
     "metadata": {},
     "output_type": "display_data"
    },
    {
     "data": {
      "application/vnd.jupyter.widget-view+json": {
       "model_id": "ef74ed7bea414ad3bc936b4efb39a6d7",
       "version_major": 2,
       "version_minor": 0
      },
      "text/plain": [
       "HBox(children=(IntProgress(value=0, description='numeric split PHONE', max=2, style=ProgressStyle(description_…"
      ]
     },
     "metadata": {},
     "output_type": "display_data"
    },
    {
     "data": {
      "application/vnd.jupyter.widget-view+json": {
       "model_id": "a6a31ec4518f4229ba1bf40d901445da",
       "version_major": 2,
       "version_minor": 0
      },
      "text/plain": [
       "HBox(children=(IntProgress(value=0, description='primary type', max=15, style=ProgressStyle(description_width=…"
      ]
     },
     "metadata": {},
     "output_type": "display_data"
    },
    {
     "data": {
      "application/vnd.jupyter.widget-view+json": {
       "model_id": "86804a6d9cbf4cab876be941a0f1d5c8",
       "version_major": 2,
       "version_minor": 0
      },
      "text/plain": [
       "HBox(children=(IntProgress(value=0, description='numeric split ï»¿CAMIS', max=952, style=ProgressStyle(descrip…"
      ]
     },
     "metadata": {},
     "output_type": "display_data"
    },
    {
     "data": {
      "application/vnd.jupyter.widget-view+json": {
       "model_id": "30563fca2d0b4ffc9a4b8debf76081eb",
       "version_major": 2,
       "version_minor": 0
      },
      "text/plain": [
       "HBox(children=(IntProgress(value=0, description='numeric split PHONE', max=948, style=ProgressStyle(descriptio…"
      ]
     },
     "metadata": {},
     "output_type": "display_data"
    },
    {
     "data": {
      "application/vnd.jupyter.widget-view+json": {
       "model_id": "5d68346ef34a416eace3135321cd8ef1",
       "version_major": 2,
       "version_minor": 0
      },
      "text/plain": [
       "HBox(children=(IntProgress(value=0, description='primary type', max=13, style=ProgressStyle(description_width=…"
      ]
     },
     "metadata": {},
     "output_type": "display_data"
    },
    {
     "data": {
      "application/vnd.jupyter.widget-view+json": {
       "model_id": "d1c9956085804be2a3d25b0e7284a8ba",
       "version_major": 2,
       "version_minor": 0
      },
      "text/plain": [
       "HBox(children=(IntProgress(value=0, description='numeric split ï»¿CAMIS', max=868, style=ProgressStyle(descrip…"
      ]
     },
     "metadata": {},
     "output_type": "display_data"
    },
    {
     "data": {
      "application/vnd.jupyter.widget-view+json": {
       "model_id": "9351f3332c9f45ffa263f5141a458762",
       "version_major": 2,
       "version_minor": 0
      },
      "text/plain": [
       "HBox(children=(IntProgress(value=0, description='numeric split BUILDING', max=716, style=ProgressStyle(descrip…"
      ]
     },
     "metadata": {},
     "output_type": "display_data"
    },
    {
     "data": {
      "application/vnd.jupyter.widget-view+json": {
       "model_id": "28f8d29ca7c64a3bbdc3e39e96492a62",
       "version_major": 2,
       "version_minor": 0
      },
      "text/plain": [
       "HBox(children=(IntProgress(value=0, description='numeric split PHONE', max=867, style=ProgressStyle(descriptio…"
      ]
     },
     "metadata": {},
     "output_type": "display_data"
    },
    {
     "name": "stdout",
     "output_type": "stream",
     "text": [
      "ZIPCODE\n",
      "0.12135627289291132\n",
      "0.0\n",
      "VIOLATION CODE\n",
      "0.15123341645391325\n",
      "0.0\n",
      "VIOLATION DESCRIPTION\n",
      "0.15123341645391325\n",
      "0.0\n",
      "GRADE\n",
      "0.14344966607640908\n",
      "0.0\n"
     ]
    },
    {
     "data": {
      "application/vnd.jupyter.widget-view+json": {
       "model_id": "f31ebd4a3b584edea694a4744c564a1b",
       "version_major": 2,
       "version_minor": 0
      },
      "text/plain": [
       "HBox(children=(IntProgress(value=0, description='primary type', max=9, style=ProgressStyle(description_width='…"
      ]
     },
     "metadata": {},
     "output_type": "display_data"
    },
    {
     "data": {
      "application/vnd.jupyter.widget-view+json": {
       "model_id": "86ee697216b24f66a9849bd01bfdcd2f",
       "version_major": 2,
       "version_minor": 0
      },
      "text/plain": [
       "HBox(children=(IntProgress(value=0, description='numeric split ï»¿CAMIS', max=78, style=ProgressStyle(descript…"
      ]
     },
     "metadata": {},
     "output_type": "display_data"
    },
    {
     "data": {
      "application/vnd.jupyter.widget-view+json": {
       "model_id": "99cc45bfccc347ad85a79cea3cca32e3",
       "version_major": 2,
       "version_minor": 0
      },
      "text/plain": [
       "HBox(children=(IntProgress(value=0, description='numeric split BUILDING', max=74, style=ProgressStyle(descript…"
      ]
     },
     "metadata": {},
     "output_type": "display_data"
    },
    {
     "data": {
      "application/vnd.jupyter.widget-view+json": {
       "model_id": "b553a3a9eedb433c82b6ddecca2395be",
       "version_major": 2,
       "version_minor": 0
      },
      "text/plain": [
       "HBox(children=(IntProgress(value=0, description='numeric split PHONE', max=78, style=ProgressStyle(description…"
      ]
     },
     "metadata": {},
     "output_type": "display_data"
    },
    {
     "name": "stdout",
     "output_type": "stream",
     "text": [
      "DBA\n",
      "1.4436612260152686\n",
      "0.0\n",
      "ZIPCODE\n",
      "1.6779775011115419\n",
      "0.0\n",
      "ACTION\n",
      "1.2413173730203617\n",
      "0.0\n",
      "VIOLATION CODE\n",
      "0.9205810715590065\n",
      "0.0\n",
      "VIOLATION DESCRIPTION\n",
      "0.81019952595327\n",
      "0.0\n",
      "INSPECTION TYPE\n",
      "1.2413173730203617\n",
      "0.0\n"
     ]
    },
    {
     "data": {
      "application/vnd.jupyter.widget-view+json": {
       "model_id": "ac9d36fec3f4400483bf66dd6de3a957",
       "version_major": 2,
       "version_minor": 0
      },
      "text/plain": [
       "HBox(children=(IntProgress(value=0, description='primary type', max=17, style=ProgressStyle(description_width=…"
      ]
     },
     "metadata": {},
     "output_type": "display_data"
    },
    {
     "data": {
      "application/vnd.jupyter.widget-view+json": {
       "model_id": "a571f3e3a61d4189a221860b7a9be975",
       "version_major": 2,
       "version_minor": 0
      },
      "text/plain": [
       "HBox(children=(IntProgress(value=1, bar_style='info', description='numeric split ZIPCODE', max=1, style=Progre…"
      ]
     },
     "metadata": {},
     "output_type": "display_data"
    },
    {
     "data": {
      "application/vnd.jupyter.widget-view+json": {
       "model_id": "1e2293684d494db5b51a35e7dd687479",
       "version_major": 2,
       "version_minor": 0
      },
      "text/plain": [
       "HBox(children=(IntProgress(value=1, bar_style='info', description='numeric split SCORE', max=1, style=Progress…"
      ]
     },
     "metadata": {},
     "output_type": "display_data"
    },
    {
     "data": {
      "application/vnd.jupyter.widget-view+json": {
       "model_id": "e058fe640bcb4a0fa44954b37a388455",
       "version_major": 2,
       "version_minor": 0
      },
      "text/plain": [
       "HBox(children=(IntProgress(value=1, bar_style='info', description='numeric split PHONE', max=1, style=Progress…"
      ]
     },
     "metadata": {},
     "output_type": "display_data"
    },
    {
     "data": {
      "application/vnd.jupyter.widget-view+json": {
       "model_id": "11f6c7ac9ef842419866917f75529d9a",
       "version_major": 2,
       "version_minor": 0
      },
      "text/plain": [
       "HBox(children=(IntProgress(value=0, description='primary type', max=16, style=ProgressStyle(description_width=…"
      ]
     },
     "metadata": {},
     "output_type": "display_data"
    },
    {
     "data": {
      "application/vnd.jupyter.widget-view+json": {
       "model_id": "0e66944a93154833a5583e45581be83f",
       "version_major": 2,
       "version_minor": 0
      },
      "text/plain": [
       "HBox(children=(IntProgress(value=0, description='numeric split BUILDING', max=763, style=ProgressStyle(descrip…"
      ]
     },
     "metadata": {},
     "output_type": "display_data"
    },
    {
     "data": {
      "application/vnd.jupyter.widget-view+json": {
       "model_id": "f54e25daf8894dd2b3e5bebc4a871749",
       "version_major": 2,
       "version_minor": 0
      },
      "text/plain": [
       "HBox(children=(IntProgress(value=0, description='numeric split SCORE', max=49, style=ProgressStyle(description…"
      ]
     },
     "metadata": {},
     "output_type": "display_data"
    },
    {
     "data": {
      "application/vnd.jupyter.widget-view+json": {
       "model_id": "383bd4b922744a5c92684d1f0d5db43b",
       "version_major": 2,
       "version_minor": 0
      },
      "text/plain": [
       "HBox(children=(IntProgress(value=0, description='numeric split PHONE', max=947, style=ProgressStyle(descriptio…"
      ]
     },
     "metadata": {},
     "output_type": "display_data"
    },
    {
     "name": "stdout",
     "output_type": "stream",
     "text": [
      "ZIPCODE\n",
      "0.04538256639303565\n",
      "0.0\n",
      "VIOLATION DESCRIPTION\n",
      "0.14163131845658364\n",
      "0.0\n"
     ]
    },
    {
     "data": {
      "application/vnd.jupyter.widget-view+json": {
       "model_id": "ccf3f207d202497dbf0fbe1667618a3b",
       "version_major": 2,
       "version_minor": 0
      },
      "text/plain": [
       "HBox(children=(IntProgress(value=0, description='primary type', max=14, style=ProgressStyle(description_width=…"
      ]
     },
     "metadata": {},
     "output_type": "display_data"
    },
    {
     "data": {
      "application/vnd.jupyter.widget-view+json": {
       "model_id": "231c94c06cdf47b7a6a0d20538c609cc",
       "version_major": 2,
       "version_minor": 0
      },
      "text/plain": [
       "HBox(children=(IntProgress(value=0, description='numeric split ï»¿CAMIS', max=859, style=ProgressStyle(descrip…"
      ]
     },
     "metadata": {},
     "output_type": "display_data"
    },
    {
     "data": {
      "application/vnd.jupyter.widget-view+json": {
       "model_id": "e4bab06051cb44f4b48795a99f0f51d0",
       "version_major": 2,
       "version_minor": 0
      },
      "text/plain": [
       "HBox(children=(IntProgress(value=0, description='numeric split BUILDING', max=708, style=ProgressStyle(descrip…"
      ]
     },
     "metadata": {},
     "output_type": "display_data"
    },
    {
     "data": {
      "application/vnd.jupyter.widget-view+json": {
       "model_id": "865617bc57904b7398941cd728aaa919",
       "version_major": 2,
       "version_minor": 0
      },
      "text/plain": [
       "HBox(children=(IntProgress(value=0, description='numeric split SCORE', max=79, style=ProgressStyle(description…"
      ]
     },
     "metadata": {},
     "output_type": "display_data"
    },
    {
     "data": {
      "application/vnd.jupyter.widget-view+json": {
       "model_id": "c0de99f993df41bc8e149917865968e4",
       "version_major": 2,
       "version_minor": 0
      },
      "text/plain": [
       "HBox(children=(IntProgress(value=0, description='numeric split PHONE', max=858, style=ProgressStyle(descriptio…"
      ]
     },
     "metadata": {},
     "output_type": "display_data"
    },
    {
     "data": {
      "application/vnd.jupyter.widget-view+json": {
       "model_id": "b112d5976c034c42b64f726e6c47e86d",
       "version_major": 2,
       "version_minor": 0
      },
      "text/plain": [
       "HBox(children=(IntProgress(value=0, description='primary type', max=15, style=ProgressStyle(description_width=…"
      ]
     },
     "metadata": {},
     "output_type": "display_data"
    },
    {
     "data": {
      "application/vnd.jupyter.widget-view+json": {
       "model_id": "2412252ebc724b73bdc298a19ca7c138",
       "version_major": 2,
       "version_minor": 0
      },
      "text/plain": [
       "HBox(children=(IntProgress(value=0, description='numeric split ï»¿CAMIS', max=8, style=ProgressStyle(descripti…"
      ]
     },
     "metadata": {},
     "output_type": "display_data"
    },
    {
     "data": {
      "application/vnd.jupyter.widget-view+json": {
       "model_id": "4e8f61978b2942ea97a89dbb262e594e",
       "version_major": 2,
       "version_minor": 0
      },
      "text/plain": [
       "HBox(children=(IntProgress(value=0, description='numeric split BUILDING', max=8, style=ProgressStyle(descripti…"
      ]
     },
     "metadata": {},
     "output_type": "display_data"
    },
    {
     "data": {
      "application/vnd.jupyter.widget-view+json": {
       "model_id": "822ea3e863c94c78879b5aae868324f9",
       "version_major": 2,
       "version_minor": 0
      },
      "text/plain": [
       "HBox(children=(IntProgress(value=0, description='numeric split SCORE', max=7, style=ProgressStyle(description_…"
      ]
     },
     "metadata": {},
     "output_type": "display_data"
    },
    {
     "data": {
      "application/vnd.jupyter.widget-view+json": {
       "model_id": "d31ef171a12d4888bf12e4653a6fc8d3",
       "version_major": 2,
       "version_minor": 0
      },
      "text/plain": [
       "HBox(children=(IntProgress(value=0, description='numeric split PHONE', max=8, style=ProgressStyle(description_…"
      ]
     },
     "metadata": {},
     "output_type": "display_data"
    },
    {
     "data": {
      "application/vnd.jupyter.widget-view+json": {
       "model_id": "eaa8e8f6d9274d3f840e61a0fd3a2dab",
       "version_major": 2,
       "version_minor": 0
      },
      "text/plain": [
       "HBox(children=(IntProgress(value=0, description='primary type', max=14, style=ProgressStyle(description_width=…"
      ]
     },
     "metadata": {},
     "output_type": "display_data"
    },
    {
     "data": {
      "application/vnd.jupyter.widget-view+json": {
       "model_id": "799dda554ce74e46844256dc202ed4e6",
       "version_major": 2,
       "version_minor": 0
      },
      "text/plain": [
       "HBox(children=(IntProgress(value=0, description='numeric split ï»¿CAMIS', max=49, style=ProgressStyle(descript…"
      ]
     },
     "metadata": {},
     "output_type": "display_data"
    },
    {
     "data": {
      "application/vnd.jupyter.widget-view+json": {
       "model_id": "c8d3ab1a768e4584a2841c30d807a5a1",
       "version_major": 2,
       "version_minor": 0
      },
      "text/plain": [
       "HBox(children=(IntProgress(value=0, description='numeric split BUILDING', max=48, style=ProgressStyle(descript…"
      ]
     },
     "metadata": {},
     "output_type": "display_data"
    },
    {
     "data": {
      "application/vnd.jupyter.widget-view+json": {
       "model_id": "4173ce48c8c74bbf857c48c5cbb4684d",
       "version_major": 2,
       "version_minor": 0
      },
      "text/plain": [
       "HBox(children=(IntProgress(value=0, description='numeric split PHONE', max=49, style=ProgressStyle(description…"
      ]
     },
     "metadata": {},
     "output_type": "display_data"
    },
    {
     "data": {
      "application/vnd.jupyter.widget-view+json": {
       "model_id": "b982325181c24b17bdeebb720be50874",
       "version_major": 2,
       "version_minor": 0
      },
      "text/plain": [
       "HBox(children=(IntProgress(value=0, description='primary type', max=10, style=ProgressStyle(description_width=…"
      ]
     },
     "metadata": {},
     "output_type": "display_data"
    },
    {
     "data": {
      "application/vnd.jupyter.widget-view+json": {
       "model_id": "8ee63908ad124ba5af3cf74c02e2944d",
       "version_major": 2,
       "version_minor": 0
      },
      "text/plain": [
       "HBox(children=(IntProgress(value=0, description='numeric split ï»¿CAMIS', max=28, style=ProgressStyle(descript…"
      ]
     },
     "metadata": {},
     "output_type": "display_data"
    },
    {
     "data": {
      "application/vnd.jupyter.widget-view+json": {
       "model_id": "af5a2538f93e4abbbcd83f173e8a97db",
       "version_major": 2,
       "version_minor": 0
      },
      "text/plain": [
       "HBox(children=(IntProgress(value=0, description='numeric split ZIPCODE', max=24, style=ProgressStyle(descripti…"
      ]
     },
     "metadata": {},
     "output_type": "display_data"
    },
    {
     "data": {
      "application/vnd.jupyter.widget-view+json": {
       "model_id": "68fb2db87bb5487a9445b66b6062351f",
       "version_major": 2,
       "version_minor": 0
      },
      "text/plain": [
       "HBox(children=(IntProgress(value=0, description='numeric split BUILDING', max=27, style=ProgressStyle(descript…"
      ]
     },
     "metadata": {},
     "output_type": "display_data"
    },
    {
     "data": {
      "application/vnd.jupyter.widget-view+json": {
       "model_id": "b9a62aa7a0f94ce8bf7f998473935965",
       "version_major": 2,
       "version_minor": 0
      },
      "text/plain": [
       "HBox(children=(IntProgress(value=0, description='numeric split PHONE', max=28, style=ProgressStyle(description…"
      ]
     },
     "metadata": {},
     "output_type": "display_data"
    },
    {
     "name": "stdout",
     "output_type": "stream",
     "text": [
      "DBA\n",
      "1.2542900229738072\n",
      "0.0\n",
      "ACTION\n",
      "0.9835141956626728\n",
      "0.0\n",
      "VIOLATION CODE\n",
      "1.0224039907688585\n",
      "0.0\n",
      "INSPECTION TYPE\n",
      "0.9835141956626728\n",
      "0.0\n"
     ]
    },
    {
     "data": {
      "application/vnd.jupyter.widget-view+json": {
       "model_id": "a617667965274316979248be3c25b782",
       "version_major": 2,
       "version_minor": 0
      },
      "text/plain": [
       "HBox(children=(IntProgress(value=0, description='primary type', max=17, style=ProgressStyle(description_width=…"
      ]
     },
     "metadata": {},
     "output_type": "display_data"
    },
    {
     "data": {
      "application/vnd.jupyter.widget-view+json": {
       "model_id": "d38898328a95402ca61e5deaa954166b",
       "version_major": 2,
       "version_minor": 0
      },
      "text/plain": [
       "HBox(children=(IntProgress(value=0, description='numeric split ï»¿CAMIS', max=934, style=ProgressStyle(descrip…"
      ]
     },
     "metadata": {},
     "output_type": "display_data"
    },
    {
     "data": {
      "application/vnd.jupyter.widget-view+json": {
       "model_id": "c32b2148aada4f1184ea87a09a1e5059",
       "version_major": 2,
       "version_minor": 0
      },
      "text/plain": [
       "HBox(children=(IntProgress(value=0, description='numeric split BUILDING', max=752, style=ProgressStyle(descrip…"
      ]
     },
     "metadata": {},
     "output_type": "display_data"
    },
    {
     "data": {
      "application/vnd.jupyter.widget-view+json": {
       "model_id": "5ee28fcba84c42979fc30adbf5f2ec2d",
       "version_major": 2,
       "version_minor": 0
      },
      "text/plain": [
       "HBox(children=(IntProgress(value=0, description='numeric split SCORE', max=49, style=ProgressStyle(description…"
      ]
     },
     "metadata": {},
     "output_type": "display_data"
    },
    {
     "data": {
      "application/vnd.jupyter.widget-view+json": {
       "model_id": "8b9e6f7cf4494fac9cb4c577b372bac8",
       "version_major": 2,
       "version_minor": 0
      },
      "text/plain": [
       "HBox(children=(IntProgress(value=0, description='numeric split PHONE', max=931, style=ProgressStyle(descriptio…"
      ]
     },
     "metadata": {},
     "output_type": "display_data"
    },
    {
     "name": "stdout",
     "output_type": "stream",
     "text": [
      "VIOLATION DESCRIPTION\n",
      "0.0\n",
      "0.0\n"
     ]
    },
    {
     "data": {
      "application/vnd.jupyter.widget-view+json": {
       "model_id": "464039edc86c468e81342657166bf595",
       "version_major": 2,
       "version_minor": 0
      },
      "text/plain": [
       "HBox(children=(IntProgress(value=0, description='primary type', max=17, style=ProgressStyle(description_width=…"
      ]
     },
     "metadata": {},
     "output_type": "display_data"
    },
    {
     "data": {
      "application/vnd.jupyter.widget-view+json": {
       "model_id": "abd492e3371147bf8df9e96ad260c726",
       "version_major": 2,
       "version_minor": 0
      },
      "text/plain": [
       "HBox(children=(IntProgress(value=0, description='numeric split ï»¿CAMIS', max=16, style=ProgressStyle(descript…"
      ]
     },
     "metadata": {},
     "output_type": "display_data"
    },
    {
     "data": {
      "application/vnd.jupyter.widget-view+json": {
       "model_id": "ca6658723f994979a70a2824180cfeb3",
       "version_major": 2,
       "version_minor": 0
      },
      "text/plain": [
       "HBox(children=(IntProgress(value=0, description='numeric split BUILDING', max=14, style=ProgressStyle(descript…"
      ]
     },
     "metadata": {},
     "output_type": "display_data"
    },
    {
     "data": {
      "application/vnd.jupyter.widget-view+json": {
       "model_id": "ecd2642529c14c759731d7a561f284dd",
       "version_major": 2,
       "version_minor": 0
      },
      "text/plain": [
       "HBox(children=(IntProgress(value=0, description='numeric split SCORE', max=9, style=ProgressStyle(description_…"
      ]
     },
     "metadata": {},
     "output_type": "display_data"
    },
    {
     "data": {
      "application/vnd.jupyter.widget-view+json": {
       "model_id": "57aac84b035f4ae1bfd9d6d4a6f7d5f2",
       "version_major": 2,
       "version_minor": 0
      },
      "text/plain": [
       "HBox(children=(IntProgress(value=0, description='numeric split PHONE', max=16, style=ProgressStyle(description…"
      ]
     },
     "metadata": {},
     "output_type": "display_data"
    },
    {
     "data": {
      "application/vnd.jupyter.widget-view+json": {
       "model_id": "0b80915befb9483f84d87fd6d5bef0bd",
       "version_major": 2,
       "version_minor": 0
      },
      "text/plain": [
       "HBox(children=(IntProgress(value=0, description='primary type', max=14, style=ProgressStyle(description_width=…"
      ]
     },
     "metadata": {},
     "output_type": "display_data"
    },
    {
     "data": {
      "application/vnd.jupyter.widget-view+json": {
       "model_id": "8277cd2966bf479480774744b9918d4a",
       "version_major": 2,
       "version_minor": 0
      },
      "text/plain": [
       "HBox(children=(IntProgress(value=0, description='numeric split ï»¿CAMIS', max=5, style=ProgressStyle(descripti…"
      ]
     },
     "metadata": {},
     "output_type": "display_data"
    },
    {
     "data": {
      "application/vnd.jupyter.widget-view+json": {
       "model_id": "28cd3b21a99b4526be64ced6fead3a4a",
       "version_major": 2,
       "version_minor": 0
      },
      "text/plain": [
       "HBox(children=(IntProgress(value=0, description='numeric split ZIPCODE', max=5, style=ProgressStyle(descriptio…"
      ]
     },
     "metadata": {},
     "output_type": "display_data"
    },
    {
     "data": {
      "application/vnd.jupyter.widget-view+json": {
       "model_id": "9b2e30cd9d844e4282ed1bffaddbbcd9",
       "version_major": 2,
       "version_minor": 0
      },
      "text/plain": [
       "HBox(children=(IntProgress(value=0, description='numeric split BUILDING', max=5, style=ProgressStyle(descripti…"
      ]
     },
     "metadata": {},
     "output_type": "display_data"
    },
    {
     "data": {
      "application/vnd.jupyter.widget-view+json": {
       "model_id": "1cc7fef7ff394ff58fc2ee4bbdd88069",
       "version_major": 2,
       "version_minor": 0
      },
      "text/plain": [
       "HBox(children=(IntProgress(value=0, description='numeric split PHONE', max=5, style=ProgressStyle(description_…"
      ]
     },
     "metadata": {},
     "output_type": "display_data"
    },
    {
     "data": {
      "application/vnd.jupyter.widget-view+json": {
       "model_id": "a66660a2d6d541989eac64c585a39cde",
       "version_major": 2,
       "version_minor": 0
      },
      "text/plain": [
       "HBox(children=(IntProgress(value=0, description='primary type', max=16, style=ProgressStyle(description_width=…"
      ]
     },
     "metadata": {},
     "output_type": "display_data"
    },
    {
     "data": {
      "application/vnd.jupyter.widget-view+json": {
       "model_id": "f7051350470540b3b3981356b90fd9ca",
       "version_major": 2,
       "version_minor": 0
      },
      "text/plain": [
       "HBox(children=(IntProgress(value=0, description='numeric split ï»¿CAMIS', max=853, style=ProgressStyle(descrip…"
      ]
     },
     "metadata": {},
     "output_type": "display_data"
    },
    {
     "data": {
      "application/vnd.jupyter.widget-view+json": {
       "model_id": "09945854367a4c56acdb75e6fc31a55c",
       "version_major": 2,
       "version_minor": 0
      },
      "text/plain": [
       "HBox(children=(IntProgress(value=0, description='numeric split ZIPCODE', max=167, style=ProgressStyle(descript…"
      ]
     },
     "metadata": {},
     "output_type": "display_data"
    },
    {
     "data": {
      "application/vnd.jupyter.widget-view+json": {
       "model_id": "2b96643fa9ba4af49140d6f3257f1f98",
       "version_major": 2,
       "version_minor": 0
      },
      "text/plain": [
       "HBox(children=(IntProgress(value=0, description='numeric split BUILDING', max=703, style=ProgressStyle(descrip…"
      ]
     },
     "metadata": {},
     "output_type": "display_data"
    },
    {
     "data": {
      "application/vnd.jupyter.widget-view+json": {
       "model_id": "dc6aad1b1d5e4a78a627c74e5efff6e7",
       "version_major": 2,
       "version_minor": 0
      },
      "text/plain": [
       "HBox(children=(IntProgress(value=0, description='numeric split PHONE', max=852, style=ProgressStyle(descriptio…"
      ]
     },
     "metadata": {},
     "output_type": "display_data"
    },
    {
     "name": "stdout",
     "output_type": "stream",
     "text": [
      "GRADE\n",
      "0.0\n",
      "0.0\n"
     ]
    },
    {
     "data": {
      "application/vnd.jupyter.widget-view+json": {
       "model_id": "b16faa3c83204eeeb30dbc8954c55a25",
       "version_major": 2,
       "version_minor": 0
      },
      "text/plain": [
       "HBox(children=(IntProgress(value=0, description='primary type', max=14, style=ProgressStyle(description_width=…"
      ]
     },
     "metadata": {},
     "output_type": "display_data"
    },
    {
     "data": {
      "application/vnd.jupyter.widget-view+json": {
       "model_id": "e887ea1c96f6462f9f5e61942ee9e5cf",
       "version_major": 2,
       "version_minor": 0
      },
      "text/plain": [
       "HBox(children=(IntProgress(value=1, bar_style='info', description='numeric split BUILDING', max=1, style=Progr…"
      ]
     },
     "metadata": {},
     "output_type": "display_data"
    },
    {
     "data": {
      "application/vnd.jupyter.widget-view+json": {
       "model_id": "16c00a05acd549d5a8d74a3ed4e92ce2",
       "version_major": 2,
       "version_minor": 0
      },
      "text/plain": [
       "HBox(children=(IntProgress(value=1, bar_style='info', description='numeric split PHONE', max=1, style=Progress…"
      ]
     },
     "metadata": {},
     "output_type": "display_data"
    },
    {
     "data": {
      "application/vnd.jupyter.widget-view+json": {
       "model_id": "19108cfeb5284aceb3b7acff8088dd9a",
       "version_major": 2,
       "version_minor": 0
      },
      "text/plain": [
       "HBox(children=(IntProgress(value=0, description='primary type', max=15, style=ProgressStyle(description_width=…"
      ]
     },
     "metadata": {},
     "output_type": "display_data"
    },
    {
     "data": {
      "application/vnd.jupyter.widget-view+json": {
       "model_id": "de2e1b9ba92e426e88ca8b68714b752c",
       "version_major": 2,
       "version_minor": 0
      },
      "text/plain": [
       "HBox(children=(IntProgress(value=0, description='numeric split ZIPCODE', max=34, style=ProgressStyle(descripti…"
      ]
     },
     "metadata": {},
     "output_type": "display_data"
    },
    {
     "data": {
      "application/vnd.jupyter.widget-view+json": {
       "model_id": "c9974dbdfd7c47859881ab251485c3ec",
       "version_major": 2,
       "version_minor": 0
      },
      "text/plain": [
       "HBox(children=(IntProgress(value=0, description='numeric split BUILDING', max=47, style=ProgressStyle(descript…"
      ]
     },
     "metadata": {},
     "output_type": "display_data"
    },
    {
     "data": {
      "application/vnd.jupyter.widget-view+json": {
       "model_id": "3221b39bf66d47a58899371ba49a63a3",
       "version_major": 2,
       "version_minor": 0
      },
      "text/plain": [
       "HBox(children=(IntProgress(value=0, description='numeric split PHONE', max=48, style=ProgressStyle(description…"
      ]
     },
     "metadata": {},
     "output_type": "display_data"
    },
    {
     "data": {
      "application/vnd.jupyter.widget-view+json": {
       "model_id": "348eff99f3f54c639d75fd6a7b5ff77d",
       "version_major": 2,
       "version_minor": 0
      },
      "text/plain": [
       "HBox(children=(IntProgress(value=0, description='primary type', max=13, style=ProgressStyle(description_width=…"
      ]
     },
     "metadata": {},
     "output_type": "display_data"
    },
    {
     "data": {
      "application/vnd.jupyter.widget-view+json": {
       "model_id": "e09a8a6030d440f0b9cfd382d5eea741",
       "version_major": 2,
       "version_minor": 0
      },
      "text/plain": [
       "HBox(children=(IntProgress(value=0, description='numeric split ï»¿CAMIS', max=19, style=ProgressStyle(descript…"
      ]
     },
     "metadata": {},
     "output_type": "display_data"
    },
    {
     "data": {
      "application/vnd.jupyter.widget-view+json": {
       "model_id": "b9bd0d1c4c5c4508a0813e57df1aa44d",
       "version_major": 2,
       "version_minor": 0
      },
      "text/plain": [
       "HBox(children=(IntProgress(value=0, description='numeric split ZIPCODE', max=17, style=ProgressStyle(descripti…"
      ]
     },
     "metadata": {},
     "output_type": "display_data"
    },
    {
     "data": {
      "application/vnd.jupyter.widget-view+json": {
       "model_id": "bc0edbda959d484188209fad0b3f4992",
       "version_major": 2,
       "version_minor": 0
      },
      "text/plain": [
       "HBox(children=(IntProgress(value=0, description='numeric split BUILDING', max=18, style=ProgressStyle(descript…"
      ]
     },
     "metadata": {},
     "output_type": "display_data"
    },
    {
     "data": {
      "application/vnd.jupyter.widget-view+json": {
       "model_id": "a4d77d3ed8c342baa5589ca56407c0da",
       "version_major": 2,
       "version_minor": 0
      },
      "text/plain": [
       "HBox(children=(IntProgress(value=0, description='numeric split PHONE', max=19, style=ProgressStyle(description…"
      ]
     },
     "metadata": {},
     "output_type": "display_data"
    },
    {
     "name": "stdout",
     "output_type": "stream",
     "text": [
      "VIOLATION CODE\n",
      "0.0\n",
      "0.0\n"
     ]
    },
    {
     "data": {
      "application/vnd.jupyter.widget-view+json": {
       "model_id": "40971260d2df4375bcd8c5a16cb06191",
       "version_major": 2,
       "version_minor": 0
      },
      "text/plain": [
       "HBox(children=(IntProgress(value=0, description='primary type', max=10, style=ProgressStyle(description_width=…"
      ]
     },
     "metadata": {},
     "output_type": "display_data"
    },
    {
     "data": {
      "application/vnd.jupyter.widget-view+json": {
       "model_id": "96c5635a97eb43e48ff045ada0e42599",
       "version_major": 2,
       "version_minor": 0
      },
      "text/plain": [
       "HBox(children=(IntProgress(value=0, description='numeric split ï»¿CAMIS', max=8, style=ProgressStyle(descripti…"
      ]
     },
     "metadata": {},
     "output_type": "display_data"
    },
    {
     "data": {
      "application/vnd.jupyter.widget-view+json": {
       "model_id": "ce93f448962341b2966557254c1cb3c0",
       "version_major": 2,
       "version_minor": 0
      },
      "text/plain": [
       "HBox(children=(IntProgress(value=0, description='numeric split ZIPCODE', max=7, style=ProgressStyle(descriptio…"
      ]
     },
     "metadata": {},
     "output_type": "display_data"
    },
    {
     "data": {
      "application/vnd.jupyter.widget-view+json": {
       "model_id": "fa0ebe234f3d40fdaf7923e076b17d3e",
       "version_major": 2,
       "version_minor": 0
      },
      "text/plain": [
       "HBox(children=(IntProgress(value=0, description='numeric split BUILDING', max=8, style=ProgressStyle(descripti…"
      ]
     },
     "metadata": {},
     "output_type": "display_data"
    },
    {
     "data": {
      "application/vnd.jupyter.widget-view+json": {
       "model_id": "62f2402c968e48899eed0df08f1e0a31",
       "version_major": 2,
       "version_minor": 0
      },
      "text/plain": [
       "HBox(children=(IntProgress(value=0, description='numeric split PHONE', max=8, style=ProgressStyle(description_…"
      ]
     },
     "metadata": {},
     "output_type": "display_data"
    },
    {
     "name": "stdout",
     "output_type": "stream",
     "text": [
      "DBA\n",
      "0.0\n",
      "0.0\n"
     ]
    },
    {
     "data": {
      "application/vnd.jupyter.widget-view+json": {
       "model_id": "4284794fff5b455db425701a5f3c9bff",
       "version_major": 2,
       "version_minor": 0
      },
      "text/plain": [
       "HBox(children=(IntProgress(value=0, description='primary type', max=18, style=ProgressStyle(description_width=…"
      ]
     },
     "metadata": {},
     "output_type": "display_data"
    },
    {
     "data": {
      "application/vnd.jupyter.widget-view+json": {
       "model_id": "d9ee639eae67404f9ad155af9a954303",
       "version_major": 2,
       "version_minor": 0
      },
      "text/plain": [
       "HBox(children=(IntProgress(value=0, description='numeric split ï»¿CAMIS', max=930, style=ProgressStyle(descrip…"
      ]
     },
     "metadata": {},
     "output_type": "display_data"
    },
    {
     "data": {
      "application/vnd.jupyter.widget-view+json": {
       "model_id": "bdf68b382aae4eb0b5d54d44b0607c54",
       "version_major": 2,
       "version_minor": 0
      },
      "text/plain": [
       "HBox(children=(IntProgress(value=0, description='numeric split ZIPCODE', max=161, style=ProgressStyle(descript…"
      ]
     },
     "metadata": {},
     "output_type": "display_data"
    },
    {
     "data": {
      "application/vnd.jupyter.widget-view+json": {
       "model_id": "d9d3a29ae2ae442f967fc8a2756c3df5",
       "version_major": 2,
       "version_minor": 0
      },
      "text/plain": [
       "HBox(children=(IntProgress(value=0, description='numeric split BUILDING', max=750, style=ProgressStyle(descrip…"
      ]
     },
     "metadata": {},
     "output_type": "display_data"
    },
    {
     "data": {
      "application/vnd.jupyter.widget-view+json": {
       "model_id": "69a99924c25b465d898c16ca824f2105",
       "version_major": 2,
       "version_minor": 0
      },
      "text/plain": [
       "HBox(children=(IntProgress(value=0, description='numeric split SCORE', max=49, style=ProgressStyle(description…"
      ]
     },
     "metadata": {},
     "output_type": "display_data"
    },
    {
     "data": {
      "application/vnd.jupyter.widget-view+json": {
       "model_id": "41f94f6d236a4b8588562910e129f305",
       "version_major": 2,
       "version_minor": 0
      },
      "text/plain": [
       "HBox(children=(IntProgress(value=0, description='numeric split PHONE', max=927, style=ProgressStyle(descriptio…"
      ]
     },
     "metadata": {},
     "output_type": "display_data"
    },
    {
     "data": {
      "application/vnd.jupyter.widget-view+json": {
       "model_id": "9fe5ae72e319437eaa7426960cdfe6a2",
       "version_major": 2,
       "version_minor": 0
      },
      "text/plain": [
       "HBox(children=(IntProgress(value=0, description='primary type', max=17, style=ProgressStyle(description_width=…"
      ]
     },
     "metadata": {},
     "output_type": "display_data"
    },
    {
     "data": {
      "application/vnd.jupyter.widget-view+json": {
       "model_id": "803ed33de6e54083a1e235ba9a37cce3",
       "version_major": 2,
       "version_minor": 0
      },
      "text/plain": [
       "HBox(children=(IntProgress(value=0, description='numeric split ï»¿CAMIS', max=3, style=ProgressStyle(descripti…"
      ]
     },
     "metadata": {},
     "output_type": "display_data"
    },
    {
     "data": {
      "application/vnd.jupyter.widget-view+json": {
       "model_id": "9828a00019d44b28a03d6dca25ed0f0e",
       "version_major": 2,
       "version_minor": 0
      },
      "text/plain": [
       "HBox(children=(IntProgress(value=0, description='numeric split ZIPCODE', max=3, style=ProgressStyle(descriptio…"
      ]
     },
     "metadata": {},
     "output_type": "display_data"
    },
    {
     "data": {
      "application/vnd.jupyter.widget-view+json": {
       "model_id": "1f9b26e150c9410187550d7b5fcb2c48",
       "version_major": 2,
       "version_minor": 0
      },
      "text/plain": [
       "HBox(children=(IntProgress(value=0, description='numeric split BUILDING', max=3, style=ProgressStyle(descripti…"
      ]
     },
     "metadata": {},
     "output_type": "display_data"
    },
    {
     "data": {
      "application/vnd.jupyter.widget-view+json": {
       "model_id": "1390557667784bfd9d2ff6f67eb10b36",
       "version_major": 2,
       "version_minor": 0
      },
      "text/plain": [
       "HBox(children=(IntProgress(value=0, description='numeric split SCORE', max=3, style=ProgressStyle(description_…"
      ]
     },
     "metadata": {},
     "output_type": "display_data"
    },
    {
     "data": {
      "application/vnd.jupyter.widget-view+json": {
       "model_id": "9cead4785cbf466a9de3e0fd04828f0b",
       "version_major": 2,
       "version_minor": 0
      },
      "text/plain": [
       "HBox(children=(IntProgress(value=0, description='numeric split PHONE', max=3, style=ProgressStyle(description_…"
      ]
     },
     "metadata": {},
     "output_type": "display_data"
    },
    {
     "data": {
      "application/vnd.jupyter.widget-view+json": {
       "model_id": "1a32367aa423466abcbd68c8829e6b8f",
       "version_major": 2,
       "version_minor": 0
      },
      "text/plain": [
       "HBox(children=(IntProgress(value=0, description='primary type', max=17, style=ProgressStyle(description_width=…"
      ]
     },
     "metadata": {},
     "output_type": "display_data"
    },
    {
     "data": {
      "application/vnd.jupyter.widget-view+json": {
       "model_id": "c04bcdfa60374394992285a12c41f22f",
       "version_major": 2,
       "version_minor": 0
      },
      "text/plain": [
       "HBox(children=(IntProgress(value=0, description='numeric split ï»¿CAMIS', max=6, style=ProgressStyle(descripti…"
      ]
     },
     "metadata": {},
     "output_type": "display_data"
    },
    {
     "data": {
      "application/vnd.jupyter.widget-view+json": {
       "model_id": "ccaeeb78e3d04581b9494196e0850e84",
       "version_major": 2,
       "version_minor": 0
      },
      "text/plain": [
       "HBox(children=(IntProgress(value=0, description='numeric split ZIPCODE', max=6, style=ProgressStyle(descriptio…"
      ]
     },
     "metadata": {},
     "output_type": "display_data"
    },
    {
     "data": {
      "application/vnd.jupyter.widget-view+json": {
       "model_id": "046980c3f0e240169a3273281ba360dc",
       "version_major": 2,
       "version_minor": 0
      },
      "text/plain": [
       "HBox(children=(IntProgress(value=0, description='numeric split BUILDING', max=6, style=ProgressStyle(descripti…"
      ]
     },
     "metadata": {},
     "output_type": "display_data"
    },
    {
     "data": {
      "application/vnd.jupyter.widget-view+json": {
       "model_id": "eaec62ed4a8b414faa982fd2ca6ec22c",
       "version_major": 2,
       "version_minor": 0
      },
      "text/plain": [
       "HBox(children=(IntProgress(value=0, description='numeric split SCORE', max=6, style=ProgressStyle(description_…"
      ]
     },
     "metadata": {},
     "output_type": "display_data"
    },
    {
     "data": {
      "application/vnd.jupyter.widget-view+json": {
       "model_id": "5184674b1b244d4a9ce511c9e4c2b6d5",
       "version_major": 2,
       "version_minor": 0
      },
      "text/plain": [
       "HBox(children=(IntProgress(value=0, description='numeric split PHONE', max=6, style=ProgressStyle(description_…"
      ]
     },
     "metadata": {},
     "output_type": "display_data"
    },
    {
     "data": {
      "application/vnd.jupyter.widget-view+json": {
       "model_id": "7fa0769d5bfa4ac29f4971e31ce9fd0d",
       "version_major": 2,
       "version_minor": 0
      },
      "text/plain": [
       "HBox(children=(IntProgress(value=0, description='primary type', max=16, style=ProgressStyle(description_width=…"
      ]
     },
     "metadata": {},
     "output_type": "display_data"
    },
    {
     "data": {
      "application/vnd.jupyter.widget-view+json": {
       "model_id": "cddb5c277c8a43d9b078137d71e6d4d1",
       "version_major": 2,
       "version_minor": 0
      },
      "text/plain": [
       "HBox(children=(IntProgress(value=0, description='numeric split ï»¿CAMIS', max=846, style=ProgressStyle(descrip…"
      ]
     },
     "metadata": {},
     "output_type": "display_data"
    }
   ],
   "source": [
    "alpha = 0.01\n",
    "beta = 0.0001\n",
    "currentID = 0\n",
    " # avoid repeated split\n",
    "numberOfFBV = 0\n",
    "numberOfFBS = 0\n",
    "numberOfNumeric = 0\n",
    "entropy, sEntropy = entropysCalculation([root], root.schemas)\n",
    "print(entropy)\n",
    "print(sEntropy)\n",
    "split(schemaProfiling,root,entropy,sEntropy)\n",
    "print(\"done\")\n",
    "\n"
   ]
  },
  {
   "cell_type": "code",
   "execution_count": null,
   "metadata": {},
   "outputs": [],
   "source": [
    "leafList = []\n",
    "for node in schemaProfiling.nodes:\n",
    "    if type(node).__name__ == 'Leaf':\n",
    "        leafList.append(node)\n",
    "print(entropysCalculation(leafList, schemas)) "
   ]
  },
  {
   "cell_type": "code",
   "execution_count": null,
   "metadata": {
    "scrolled": true
   },
   "outputs": [],
   "source": [
    "schemaSplitNum = 0\n",
    "for edge in schemaProfiling.edges:\n",
    "    if edge.symbol == 'E':\n",
    "        schemaSplitNum += 1\n",
    "print(\"number of valueSplit: \", (len(schemaProfiling.edges) - schemaSplitNum *2)/2)\n",
    "print(\"number of schemaSplit: \",  schemaSplitNum)\n",
    "print('number of FindBestValue: ', numberOfFBV)\n",
    "print('number of FindBestSchema: ', numberOfFBS)\n",
    "print('number of numeric calls: ', numberOfNumeric)\n",
    "\n",
    "# find depth\n",
    "def maxDepth(node):\n",
    "    if node == None:\n",
    "        return 0\n",
    "    first = True\n",
    "    second = True\n",
    "    rnode = None\n",
    "    lnode = None\n",
    "    for edge in schemaProfiling.edges:\n",
    "        if edge.parent == node :\n",
    "            rnode = edge.children\n",
    "            \n",
    "\n",
    "    for edge in schemaProfiling.edges:\n",
    "        if edge.parent == node and rnode != edge.children:\n",
    "            lnode = edge.children\n",
    "    ldepth = maxDepth(rnode)\n",
    "    rdepth = maxDepth(lnode)\n",
    "    \n",
    "    if rdepth > ldepth:\n",
    "        return rdepth + 1 \n",
    "    else:\n",
    "        return ldepth + 1\n",
    "\n",
    "depth = maxDepth(schemaProfiling.root)\n",
    "print('maxDepth: ', depth)\n",
    "\n",
    "\n",
    "# find width\n",
    "def maxWidth():\n",
    "    maxWidth = 0\n",
    "    for i in range (1, depth + 1):\n",
    "        width = getWidth(schemaProfiling.root, i)\n",
    "        if width > maxWidth:\n",
    "            maxWidth = width\n",
    "    return maxWidth\n",
    "\n",
    "def getWidth(root, level):\n",
    "    \n",
    "    if root == None:\n",
    "        return 0\n",
    "    if level == 1:\n",
    "        return 1\n",
    "    else:\n",
    "        rnode = None\n",
    "        lnode = None\n",
    "        for edge in schemaProfiling.edges:\n",
    "            if edge.parent == root :\n",
    "                rnode = edge.children\n",
    "\n",
    "        for edge in schemaProfiling.edges:\n",
    "            if edge.parent == root and rnode != edge.children:\n",
    "                 lnode = edge.children\n",
    "        \n",
    "        return (getWidth(lnode,level-1) + getWidth(rnode,level-1))\n",
    "print('maxWidth: ', maxWidth())"
   ]
  },
  {
   "cell_type": "markdown",
   "metadata": {},
   "source": [
    "<a id='visulization'></a>\n",
    "## Visulization"
   ]
  },
  {
   "cell_type": "code",
   "execution_count": null,
   "metadata": {
    "scrolled": true
   },
   "outputs": [],
   "source": [
    "G = pydot.Dot()"
   ]
  },
  {
   "cell_type": "code",
   "execution_count": null,
   "metadata": {},
   "outputs": [],
   "source": [
    "def getSchemaID(schemas):\n",
    "    result = ''\n",
    "    for schema in schemas:\n",
    "        for key, value in schemasDict.items():\n",
    "            if value == schema:\n",
    "                result = result +\" \"+  str(key)\n",
    "    return result"
   ]
  },
  {
   "cell_type": "code",
   "execution_count": null,
   "metadata": {},
   "outputs": [],
   "source": [
    "for node in schemaProfiling.nodes:\n",
    "    if type(node).__name__ == 'Leaf':\n",
    "        tempLabel = getSchemaID(node.schemas)\n",
    "        temp = pydot.Node(node.id, label=tempLabel)\n",
    "    else:\n",
    "        temp = pydot.Node(node.name + str(node.id),label=node.name)\n",
    "        print(node.name + str(node.id))\n",
    "    G.add_node(temp)"
   ]
  },
  {
   "cell_type": "code",
   "execution_count": null,
   "metadata": {},
   "outputs": [],
   "source": [
    "for edge in schemaProfiling.edges:\n",
    "    if type(edge.children).__name__ =='Leaf':\n",
    "        if type(edge.value).__name__ == 'ObjectId':\n",
    "            tempLabel=edge.symbol + '\\n' + str(edge.value)\n",
    "        else:\n",
    "            tempLabel=edge.symbol + '\\n' + str(edge.value)\n",
    "        temp = pydot.Edge(edge.parent.name+str(edge.parent.id), str(edge.children.id), label = tempLabel)\n",
    "    else:\n",
    "        if type(edge.value).__name__ == 'ObjectId':\n",
    "            tempLabel=edge.symbol + '\\n' + str(edge.value)\n",
    "        else:\n",
    "            tempLabel=edge.symbol + '\\n' + str(edge.value)\n",
    "        temp = pydot.Edge(edge.parent.name+str(edge.parent.id), edge.children.name+str(edge.children.id),label= tempLabel)\n",
    "    G.add_edge(temp)"
   ]
  },
  {
   "cell_type": "code",
   "execution_count": null,
   "metadata": {},
   "outputs": [],
   "source": []
  },
  {
   "cell_type": "code",
   "execution_count": null,
   "metadata": {
    "scrolled": false
   },
   "outputs": [],
   "source": [
    "im = Image(G.create_png())\n",
    "display(im)\n",
    "\n",
    "pp = pprint.PrettyPrinter(indent=4)\n",
    "pp.pprint(schemasDict)"
   ]
  },
  {
   "cell_type": "code",
   "execution_count": 31,
   "metadata": {},
   "outputs": [
    {
     "name": "stdout",
     "output_type": "stream",
     "text": [
      "{   0: 972,\n",
      "    1: 893,\n",
      "    2: 50,\n",
      "    3: 7,\n",
      "    4: 20,\n",
      "    5: 5,\n",
      "    6: 9,\n",
      "    7: 10,\n",
      "    8: 13,\n",
      "    9: 6,\n",
      "    10: 3,\n",
      "    11: 5,\n",
      "    12: 5,\n",
      "    13: 1,\n",
      "    14: 1}\n",
      "time: 44 ms\n"
     ]
    }
   ],
   "source": [
    "idvsnumber = {}\n",
    "for key, value in sizeOfSchema.items():\n",
    "    for k,v in schemasDict.items():\n",
    "\n",
    "        temp = json.loads(key)\n",
    "        if temp.keys()==v.keys():\n",
    "            idvsnumber[k]=value\n",
    "pp.pprint(idvsnumber)"
   ]
  },
  {
   "cell_type": "code",
   "execution_count": 183,
   "metadata": {},
   "outputs": [
    {
     "data": {
      "text/plain": [
       "<matplotlib.axes._subplots.AxesSubplot at 0x169b75f6470>"
      ]
     },
     "execution_count": 183,
     "metadata": {},
     "output_type": "execute_result"
    },
    {
     "data": {
      "image/png": "[encoded data removed]",
      "text/plain": [
       "<Figure size 432x288 with 1 Axes>"
      ]
     },
     "metadata": {
      "needs_background": "light"
     },
     "output_type": "display_data"
    },
    {
     "name": "stdout",
     "output_type": "stream",
     "text": [
      "time: 237 ms\n"
     ]
    }
   ],
   "source": [
    "a =[]\n",
    "b = []\n",
    "for key, value in idvsnumber.items():\n",
    "    a.append(key)\n",
    "    b.append(value)\n",
    "\n",
    "df = pd.DataFrame.from_dict({'schema':a,'size':b})\n",
    "df = df.sort_values(by=['size'], ascending=False)\n",
    "bar = df.plot.bar(x='schema', y='size', rot=0)\n",
    "bar"
   ]
  },
  {
   "cell_type": "code",
   "execution_count": null,
   "metadata": {},
   "outputs": [],
   "source": [
    "def findMiddle(input_list):\n",
    "    middle = float(len(input_list))/2\n",
    "    if middle % 2 != 0:\n",
    "        return input_list[int(middle - .5)]\n",
    "    else:\n",
    "        return (input_list[int(middle)], input_list[int(middle-1)])"
   ]
  },
  {
   "cell_type": "code",
   "execution_count": null,
   "metadata": {},
   "outputs": [],
   "source": [
    "attributes = {}\n",
    "MaxValue = {}\n",
    "MinValue = {}\n",
    "MiddleValue = {}\n",
    "MedianValue = {}\n",
    "STD = {}\n",
    "for schema in schemas:\n",
    "    for key, value in schema.items():\n",
    "        attributes[key]= value\n",
    "\n",
    "print(len(attributes))    \n",
    "for attribute in attributes:\n",
    "    value = []\n",
    "    isString = False\n",
    "    for data in datas:\n",
    "        temp = getValue(data, attribute.split('.'))\n",
    "        if  temp is None:\n",
    "            continue\n",
    "            \n",
    "        if type(temp) is str:\n",
    "            if not temp.isdigit():\n",
    "                isString = True\n",
    "                break\n",
    "        if type(temp) is str:\n",
    "            if '.' in temp:\n",
    "                value.append(float(temp))\n",
    "            else:\n",
    "                value.append(int(temp))\n",
    "        else:\n",
    "            value.append(temp)\n",
    "    \n",
    "    if isString:\n",
    "        continue\n",
    "    \n",
    "    value.sort()\n",
    "    MaxValue[attribute] = value[-1]\n",
    "    MinValue[attribute] = value[0]\n",
    "    MiddleValue[attribute] = findMiddle(value)\n",
    "    MedianValue[attribute] = statistics.median(value)\n",
    "    if len(value) < 2:\n",
    "        STD[attribute] = -1\n",
    "    else:\n",
    "        STD[attribute] = statistics.stdev(value)\n",
    "print(MaxValue)\n",
    "print(MinValue)\n",
    "print(MiddleValue)\n",
    "print(MedianValue)\n",
    "print(STD)"
   ]
  },
  {
   "cell_type": "code",
   "execution_count": 78,
   "metadata": {},
   "outputs": [
    {
     "name": "stdout",
     "output_type": "stream",
     "text": [
      "time: 162 ms\n"
     ]
    }
   ],
   "source": [
    "with open('restaurant-2000.json', 'w') as outfile:  \n",
    "    json.dump(datas, outfile)"
   ]
  }
 ],
 "metadata": {
  "kernelspec": {
   "display_name": "Python 3",
   "language": "python",
   "name": "python3"
  },
  "language_info": {
   "codemirror_mode": {
    "name": "ipython",
    "version": 3
   },
   "file_extension": ".py",
   "mimetype": "text/x-python",
   "name": "python",
   "nbconvert_exporter": "python",
   "pygments_lexer": "ipython3",
   "version": "3.7.3"
  }
 },
 "nbformat": 4,
 "nbformat_minor": 2
}
