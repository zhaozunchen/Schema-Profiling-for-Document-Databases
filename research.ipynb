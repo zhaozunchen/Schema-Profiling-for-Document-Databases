{
 "cells": [
  {
   "cell_type": "markdown",
   "metadata": {},
   "source": [
    "## Index \n",
    "\n",
    "\n",
    "* [Instruction](#instruction)\n",
    "* [Install](#install)\n",
    "* [Load data](#loadData) \n",
    "* [Algorithm](#algorithm) \n",
    "* [Run](#run)\n",
    "* [visulization](#visulization)\n",
    "* [Reference/Resource](#reference)"
   ]
  },
  {
   "cell_type": "markdown",
   "metadata": {},
   "source": [
    "<a id='instruction'></a>\n",
    "## Instruction "
   ]
  },
  {
   "cell_type": "markdown",
   "metadata": {},
   "source": [
    "This notebook is about experiment the Gallinucci et al's algorithm. Please refer to our paper and Gallinucci et al paper for more detail. We will give useful information about how to install used package and software in Chapter Install. Please run Algorithm first before go to Run chapter. Also, Please run All cells in Run and visulization in orders to prevent errors."
   ]
  },
  {
   "cell_type": "markdown",
   "metadata": {},
   "source": [
    "<a id='install'></a>\n",
    "## Install"
   ]
  },
  {
   "cell_type": "markdown",
   "metadata": {},
   "source": [
    "This program is run in Jupyter Notebook. Please install Anaconda and all related packages. "
   ]
  },
  {
   "cell_type": "markdown",
   "metadata": {},
   "source": [
    "### Install Anaconda\n"
   ]
  },
  {
   "cell_type": "markdown",
   "metadata": {},
   "source": [
    "Please refer to Anaconda offical documentation to install Anaconda https://docs.anaconda.com/anaconda/install/windows/"
   ]
  },
  {
   "cell_type": "markdown",
   "metadata": {},
   "source": [
    "### Use Anaconda and jupyter notebook"
   ]
  },
  {
   "cell_type": "markdown",
   "metadata": {},
   "source": [
    "When you install Anaconda, it will also install jupyter notebook. \n",
    "Lunching jupyter notebook can be done in different ways:\n",
    "* You can lunch it through Anaconda Navigator (Windows).\n",
    "* Lunch it by Anaconda Prompt (Windows):\n",
    "    - Open Anaconda Prompt\n",
    "    - Type: jupyter notebook\n",
    "    - hit Enter\n",
    "    - wait jupyter notebook pop up\n",
    "* Lunch it by Terminal (Linux):\n",
    "    - Opern Terminal\n",
    "    - Type: jupyter notebook\n",
    "    - hit Enter\n",
    "    - wait jupyter notebook pop up"
   ]
  },
  {
   "cell_type": "markdown",
   "metadata": {},
   "source": [
    "### Install packages"
   ]
  },
  {
   "cell_type": "markdown",
   "metadata": {},
   "source": [
    "I reconmmend install packages through Anaconda Prompt (Windows) or Terminal(Linux). The following code cell is all packages you need to install. Please search the package name in the search bar at https://anaconda.org/. Click the correct package. You will find a command that you need to enter to install those package.\n",
    "Please refer to https://github.com/cpcloud/ipython-autotime to install autotime package."
   ]
  },
  {
   "cell_type": "code",
   "execution_count": 2,
   "metadata": {
    "scrolled": true
   },
   "outputs": [
    {
     "name": "stdout",
     "output_type": "stream",
     "text": [
      "The autotime extension is already loaded. To reload it, use:\n",
      "  %reload_ext autotime\n",
      "time: 7 ms\n"
     ]
    }
   ],
   "source": [
    "# Load all needed packages\n",
    "%load_ext autotime\n",
    "import pymongo\n",
    "import json\n",
    "import copy\n",
    "import math\n",
    "import statistics\n",
    "import time\n",
    "import collections\n",
    "import random \n",
    "import csv\n",
    "import pandas as pd\n",
    "from tqdm import tqdm_notebook, tnrange\n",
    "import pprint\n",
    "from graphviz import Graph\n",
    "from random import shuffle"
   ]
  },
  {
   "cell_type": "markdown",
   "metadata": {},
   "source": [
    "<a id='loadData'></a>\n",
    "## Load data"
   ]
  },
  {
   "cell_type": "markdown",
   "metadata": {},
   "source": [
    "In this chapter, we will provide different ways to load data. It can be loaded from MongoDB or load from loacal files. The data type that the algorithm need is a list of documents. The document should be in dictionary data structure. Since different local files has different way of storing. Therefore, there are a lot of code cells to fit different files. You do not need to run them all. Just pick the correct one."
   ]
  },
  {
   "cell_type": "markdown",
   "metadata": {},
   "source": [
    "austin_311.311_service_requests.json\n",
    "schemabased1.json\n",
    "schemabased2.json\n",
    "valuesplit1.json\n",
    "valuesplit2.json\n",
    "attribute6.json\n",
    "attribute8.json\n",
    "attribute10.json\n",
    "attribute10.json"
   ]
  },
  {
   "cell_type": "markdown",
   "metadata": {},
   "source": [
    "### Load from the MongoDB"
   ]
  },
  {
   "cell_type": "code",
   "execution_count": 5,
   "metadata": {},
   "outputs": [
    {
     "name": "stdout",
     "output_type": "stream",
     "text": [
      "time: 380 ms\n"
     ]
    }
   ],
   "source": [
    "# create connecttion with database\n",
    "# Note: to connect to your own db, change the url and port number\n",
    "# Also change the authenticate\n",
    "client = pymongo.MongoClient('mongodb://ds121163.mlab.com',21163)\n",
    "# Get the database\n",
    "jasondb = client['jasondb']\n",
    "# Set authentication\n",
    "jasondb.authenticate('admin','admin123')\n",
    "# Get collection, if no named collection then create one\n",
    "companies = jasondb.test \n",
    "# name of the output file\n",
    "\n",
    "OUTPUT_FILE_NAME = 'output.json'\n"
   ]
  },
  {
   "cell_type": "code",
   "execution_count": 7,
   "metadata": {
    "scrolled": true
   },
   "outputs": [
    {
     "name": "stdout",
     "output_type": "stream",
     "text": [
      "[{'_id': ObjectId('5ca42234d1823d1f90e4474d'), 'rental_id': '42406939', 'duration': '4500', 'bike_id': '8519', 'end_station_name': 'Victoria Park Road, Hackney Central'}, {'_id': ObjectId('5ca42234d1823d1f90e4474e'), 'rental_id': '42954682', 'duration': '2460', 'bike_id': '19', 'end_station_name': 'Lansdowne Road, Ladbroke Grove'}, {'_id': ObjectId('5ca42234d1823d1f90e4474f'), 'rental_id': '42152586', 'duration': '3180', 'bike_id': '12438', 'end_station_name': \"Bishop's Bridge Road West, Bayswater\"}, {'_id': ObjectId('5ca42234d1823d1f90e44750'), 'rental_id': '43633514', 'duration': '2940', 'bike_id': '11699', 'end_station_name': 'Clapham Common North side, Clapham Common'}, {'_id': ObjectId('5ca42234d1823d1f90e44751'), 'rental_id': '40628499', 'duration': '2340', 'bike_id': '9030', 'end_station_name': 'Panton Street, West End'}, {'_id': ObjectId('5ca42234d1823d1f90e44752'), 'rental_id': '40636098', 'duration': '2940', 'bike_id': '1322', 'end_station_name': 'Silverthorne Road, Battersea'}, {'_id': ObjectId('5ca42234d1823d1f90e44753'), 'rental_id': '43379826', 'duration': '6120', 'bike_id': '7462', 'end_station_name': 'Falkirk Street, Hoxton'}, {'_id': ObjectId('5ca42234d1823d1f90e44754'), 'rental_id': '44527545', 'duration': '2040', 'bike_id': '9939', 'end_station_name': 'Vincent Square, Westminster'}, {'_id': ObjectId('5ca42234d1823d1f90e44755'), 'rental_id': '42922552', 'duration': '5580', 'bike_id': '3427', 'end_station_name': 'Palace Gardens Terrace, Notting Hill'}, {'_id': ObjectId('5ca42234d1823d1f90e44756'), 'rental_id': '44477255', 'duration': '2100', 'bike_id': '10790', 'end_station_name': 'Montpelier Street, Knightsbridge'}, {'_id': ObjectId('5ca42234d1823d1f90e44757'), 'rental_id': '44264157', 'duration': '2100', 'bike_id': '3709', 'end_station_name': 'Claremont Square, Angel'}, {'_id': ObjectId('5ca42234d1823d1f90e44758'), 'rental_id': '41166501', 'duration': '2880', 'bike_id': '10986', 'end_station_name': 'British Museum, Bloomsbury'}, {'_id': ObjectId('5ca42235d1823d1f90e44759'), 'rental_id': '43882366', 'duration': '5340', 'bike_id': '5284', 'end_station_name': 'Gloucester Terrace, Bayswater'}, {'_id': ObjectId('5ca42235d1823d1f90e4475a'), 'rental_id': '43067372', 'duration': '2100', 'bike_id': '7122', 'end_station_name': 'Bruton Street, Mayfair'}, {'_id': ObjectId('5ca42235d1823d1f90e4475b'), 'rental_id': '43790109', 'duration': '2760', 'bike_id': '5816', 'end_station_name': \"The Tennis Courts, The Regent's Park\"}, {'_id': ObjectId('5ca42235d1823d1f90e4475c'), 'rental_id': '41452948', 'duration': '3240', 'bike_id': '6659', 'end_station_name': 'Charles II Street, West End'}, {'_id': ObjectId('5ca42235d1823d1f90e4475d'), 'rental_id': '42289956', 'duration': '2160', 'bike_id': '12635', 'end_station_name': 'Clapham Common Northside, Clapham Common'}, {'_id': ObjectId('5ca42235d1823d1f90e4475e'), 'rental_id': '41265311', 'duration': '2280', 'bike_id': '10753', 'end_station_name': 'Abbey Orchard Street, Westminster'}, {'_id': ObjectId('5ca42235d1823d1f90e4475f'), 'rental_id': '42884010', 'duration': '2340', 'bike_id': '12935', 'end_station_name': 'Westminster University, Marylebone'}, {'_id': ObjectId('5ca42235d1823d1f90e44760'), 'rental_id': '43489757', 'duration': '5100', 'bike_id': '3903', 'end_station_name': 'Warwick Square, Pimlico'}, {'_id': ObjectId('5ca42235d1823d1f90e44761'), 'rental_id': '42015920', 'duration': '5400', 'bike_id': '11335', 'end_station_name': 'Craven Street, Strand'}, {'_id': ObjectId('5ca42235d1823d1f90e44762'), 'rental_id': '43845355', 'duration': '10260', 'bike_id': '7505', 'end_station_name': 'Gloucester Terrace, Bayswater'}, {'_id': ObjectId('5ca42235d1823d1f90e44763'), 'rental_id': '41012920', 'duration': '0', 'bike_id': '9500', 'end_station_name': 'Gloucester Road (Central), South Kensington'}, {'_id': ObjectId('5ca42235d1823d1f90e44764'), 'rental_id': '43775140', 'duration': '2340', 'bike_id': '7105', 'end_station_name': 'Manresa Road, Chelsea'}, {'_id': ObjectId('5ca42235d1823d1f90e44765'), 'rental_id': '42619278', 'duration': '2160', 'bike_id': '6881', 'end_station_name': 'Endsleigh Gardens, Euston'}, {'_id': ObjectId('5ca42235d1823d1f90e44766'), 'rental_id': '42440976', 'duration': '2820', 'bike_id': '2469', 'end_station_name': \"Speakers' Corner 1, Hyde Park\"}, {'_id': ObjectId('5ca42235d1823d1f90e44767'), 'rental_id': '43355276', 'duration': '3060', 'bike_id': '7153', 'end_station_name': 'Cardinal Place, Victoria'}, {'_id': ObjectId('5ca42235d1823d1f90e44768'), 'rental_id': '43153271', 'duration': '2220', 'bike_id': '6138', 'end_station_name': 'Belvedere Road, South Bank'}, {'_id': ObjectId('5ca42235d1823d1f90e44769'), 'rental_id': '43609372', 'duration': '3180', 'bike_id': '851', 'end_station_name': 'All Saints Church, Portobello'}, {'_id': ObjectId('5ca42235d1823d1f90e4476a'), 'rental_id': '42223629', 'duration': '3900', 'bike_id': '5826', 'end_station_name': \"Speakers' Corner 2, Hyde Park\"}, {'_id': ObjectId('5ca42235d1823d1f90e4476b'), 'rental_id': '43149829', 'duration': '3180', 'bike_id': '7515', 'end_station_name': 'Saunders Ness Road, Cubitt Town'}, {'_id': ObjectId('5ca42235d1823d1f90e4476c'), 'rental_id': '43464587', 'duration': '2280', 'bike_id': '12107', 'end_station_name': 'St. George Street, Mayfair'}, {'_id': ObjectId('5ca42235d1823d1f90e4476d'), 'rental_id': '43032913', 'duration': '3000', 'bike_id': '7619', 'end_station_name': 'Royal Avenue 1, Chelsea'}, {'_id': ObjectId('5ca42235d1823d1f90e4476e'), 'rental_id': '43089658', 'duration': '4320', 'bike_id': '11404', 'end_station_name': 'Charing Cross Hospital, Hammersmith'}, {'_id': ObjectId('5ca42235d1823d1f90e4476f'), 'rental_id': '44555079', 'duration': '2160', 'bike_id': '5232', 'end_station_name': 'Park Lane , Hyde Park'}, {'_id': ObjectId('5ca42235d1823d1f90e44770'), 'rental_id': '42219197', 'duration': '5340', 'bike_id': '1061', 'end_station_name': 'Wellington Arch, Hyde Park'}, {'_id': ObjectId('5ca42235d1823d1f90e44771'), 'rental_id': '43837424', 'duration': '9480', 'bike_id': '5068', 'end_station_name': 'Eaton Square (South), Belgravia'}, {'_id': ObjectId('5ca42235d1823d1f90e44772'), 'rental_id': '44274674', 'duration': '5880', 'bike_id': '3764', 'end_station_name': 'Waterloo Station 2, Waterloo'}, {'_id': ObjectId('5ca42235d1823d1f90e44773'), 'rental_id': '44435230', 'duration': '2280', 'bike_id': '7214', 'end_station_name': 'Bow Road Station, Bow'}, {'_id': ObjectId('5ca42236d1823d1f90e44774'), 'rental_id': '42012140', 'duration': '2460', 'bike_id': '46', 'end_station_name': 'North Wharf Road, Paddington'}, {'_id': ObjectId('5ca42236d1823d1f90e44775'), 'rental_id': '43791429', 'duration': '3960', 'bike_id': '6754', 'end_station_name': \"The Tennis Courts, The Regent's Park\"}, {'_id': ObjectId('5ca42236d1823d1f90e44776'), 'rental_id': '42626032', 'duration': '9420', 'bike_id': '3338', 'end_station_name': 'Old Brompton Road, South Kensington'}, {'_id': ObjectId('5ca42236d1823d1f90e44777'), 'rental_id': '44014181', 'duration': '3060', 'bike_id': '12261', 'end_station_name': 'Crawford Street, Marylebone'}, {'_id': ObjectId('5ca42236d1823d1f90e44778'), 'rental_id': '42745757', 'duration': '3900', 'bike_id': '1271', 'end_station_name': 'Beaumont Street, Marylebone'}, {'_id': ObjectId('5ca42236d1823d1f90e44779'), 'rental_id': '43340590', 'duration': '6660', 'bike_id': '7766', 'end_station_name': \"Speakers' Corner 1, Hyde Park\"}, {'_id': ObjectId('5ca42236d1823d1f90e4477a'), 'rental_id': '44237323', 'duration': '4020', 'bike_id': '2133', 'end_station_name': 'Sedding Street, Sloane Square'}, {'_id': ObjectId('5ca42236d1823d1f90e4477b'), 'rental_id': '44852736', 'duration': '5280', 'bike_id': '7007', 'end_station_name': 'Southerton Road, Hammersmith'}, {'_id': ObjectId('5ca42236d1823d1f90e4477c'), 'rental_id': '41064428', 'duration': '3000', 'bike_id': '349', 'end_station_name': 'Devonshire Square, Liverpool Street'}, {'_id': ObjectId('5ca42236d1823d1f90e4477d'), 'rental_id': '44281882', 'duration': '3000', 'bike_id': '7840', 'end_station_name': 'Mudchute DLR, Cubitt Town'}, {'_id': ObjectId('5ca42236d1823d1f90e4477e'), 'rental_id': '42377820', 'duration': '6960', 'bike_id': '2176', 'end_station_name': \"Newgate Street , St. Paul's\"}, {'_id': ObjectId('5ca42236d1823d1f90e4477f'), 'rental_id': '43325544', 'duration': '4320', 'bike_id': '11849', 'end_station_name': 'Islington Green, Angel'}, {'_id': ObjectId('5ca42236d1823d1f90e44780'), 'rental_id': '44853083', 'duration': '0', 'bike_id': '3482', 'end_station_name': \"Newgate Street , St. Paul's\"}, {'_id': ObjectId('5ca42236d1823d1f90e44781'), 'rental_id': '42242917', 'duration': '8160', 'bike_id': '9704', 'end_station_name': 'Green Park Station, West End'}, {'_id': ObjectId('5ca42236d1823d1f90e44782'), 'rental_id': '43358896', 'duration': '4140', 'bike_id': '10295', 'end_station_name': 'Warwick Avenue Station, Maida Vale'}, {'_id': ObjectId('5ca42236d1823d1f90e44783'), 'rental_id': '41356164', 'duration': '3540', 'bike_id': '10325', 'end_station_name': \"Speakers' Corner 2, Hyde Park\"}, {'_id': ObjectId('5ca42236d1823d1f90e44784'), 'rental_id': '44335862', 'duration': '4800', 'bike_id': '9386', 'end_station_name': 'Wellington Arch, Hyde Park'}, {'_id': ObjectId('5ca42236d1823d1f90e44785'), 'rental_id': '44542980', 'duration': '4080', 'bike_id': '9160', 'end_station_name': \"Speakers' Corner 2, Hyde Park\"}, {'_id': ObjectId('5ca42236d1823d1f90e44786'), 'rental_id': '44209161', 'duration': '2760', 'bike_id': '3115', 'end_station_name': 'Lots Road, West Chelsea'}, {'_id': ObjectId('5ca42236d1823d1f90e44787'), 'rental_id': '41330713', 'duration': '6300', 'bike_id': '2353', 'end_station_name': 'Castlehaven Road, Camden Town'}, {'_id': ObjectId('5ca42236d1823d1f90e44788'), 'rental_id': '41157397', 'duration': '2040', 'bike_id': '11518', 'end_station_name': 'King Edward Street, St Pauls'}, {'_id': ObjectId('5ca42236d1823d1f90e44789'), 'rental_id': '40915609', 'duration': '3720', 'bike_id': '11446', 'end_station_name': 'Crisp Road, Hammersmith'}, {'_id': ObjectId('5ca42236d1823d1f90e4478a'), 'rental_id': '40525819', 'duration': '9240', 'bike_id': '1963', 'end_station_name': 'Nutford Place, Marylebone'}, {'_id': ObjectId('5ca42236d1823d1f90e4478b'), 'rental_id': '44502547', 'duration': '2520', 'bike_id': '4020', 'end_station_name': \"St. Katharine's Way, Tower\"}, {'_id': ObjectId('5ca42236d1823d1f90e4478c'), 'rental_id': '42304336', 'duration': '5400', 'bike_id': '1531', 'end_station_name': 'Bow Church Station, Bow'}, {'_id': ObjectId('5ca42236d1823d1f90e4478d'), 'rental_id': '43527984', 'duration': '7320', 'bike_id': '9309', 'end_station_name': 'Heron Quays DLR, Canary Wharf'}, {'_id': ObjectId('5ca42236d1823d1f90e4478e'), 'rental_id': '42709035', 'duration': '4440', 'bike_id': '8080', 'end_station_name': \"Queen's Gate, Kensington Gardens\"}, {'_id': ObjectId('5ca42237d1823d1f90e4478f'), 'rental_id': '43918840', 'duration': '4740', 'bike_id': '11958', 'end_station_name': 'Braham Street, Aldgate'}, {'_id': ObjectId('5ca42237d1823d1f90e44790'), 'rental_id': '44537882', 'duration': '1980', 'bike_id': '7829', 'end_station_name': 'Abingdon Green, Westminster'}, {'_id': ObjectId('5ca42237d1823d1f90e44791'), 'rental_id': '43820601', 'duration': '3420', 'bike_id': '10726', 'end_station_name': 'Imperial Road, Sands End'}, {'_id': ObjectId('5ca42237d1823d1f90e44792'), 'rental_id': '42733249', 'duration': '4020', 'bike_id': '12224', 'end_station_name': 'Harriet Street, Knightsbridge'}, {'_id': ObjectId('5ca42237d1823d1f90e44793'), 'rental_id': '40886968', 'duration': '2040', 'bike_id': '918', 'end_station_name': 'Kensington Church Street, Kensington'}, {'_id': ObjectId('5ca42237d1823d1f90e44794'), 'rental_id': '43588419', 'duration': '6360', 'bike_id': '581', 'end_station_name': 'Whitehall Place, Strand'}, {'_id': ObjectId('5ca42237d1823d1f90e44795'), 'rental_id': '41546878', 'duration': '2040', 'bike_id': '12299', 'end_station_name': 'Park Street, Bankside'}, {'_id': ObjectId('5ca42237d1823d1f90e44796'), 'rental_id': '42372835', 'duration': '2040', 'bike_id': '6391', 'end_station_name': 'Euston Road, Euston'}, {'_id': ObjectId('5ca42237d1823d1f90e44797'), 'rental_id': '43918254', 'duration': '4020', 'bike_id': '8002', 'end_station_name': \"Storey's Gate, Westminster\"}, {'_id': ObjectId('5ca42237d1823d1f90e44798'), 'rental_id': '42018076', 'duration': '2280', 'bike_id': '8013', 'end_station_name': 'Abingdon Green, Great College Street'}, {'_id': ObjectId('5ca42237d1823d1f90e44799'), 'rental_id': '43456244', 'duration': '2160', 'bike_id': '10762', 'end_station_name': \"Trebovir Road, Earl's Court\"}, {'_id': ObjectId('5ca42237d1823d1f90e4479a'), 'rental_id': '44231100', 'duration': '2400', 'bike_id': '7211', 'end_station_name': 'Finsbury Library , Finsbury'}, {'_id': ObjectId('5ca42237d1823d1f90e4479b'), 'rental_id': '44269307', 'duration': '5160', 'bike_id': '8281', 'end_station_name': 'Palace Gate, Kensington Gardens'}, {'_id': ObjectId('5ca42237d1823d1f90e4479c'), 'rental_id': '43092489', 'duration': '77940', 'bike_id': '10675', 'end_station_name': 'Westfield Ariel Way, White City'}, {'_id': ObjectId('5ca42237d1823d1f90e4479d'), 'rental_id': '44919256', 'duration': '2940', 'bike_id': '1175', 'end_station_name': 'Crosswall, Tower'}, {'_id': ObjectId('5ca42237d1823d1f90e4479e'), 'rental_id': '42322964', 'duration': '9600', 'bike_id': '10133', 'end_station_name': 'Green Street, Mayfair'}, {'_id': ObjectId('5ca42237d1823d1f90e4479f'), 'rental_id': '41658293', 'duration': '2460', 'bike_id': '11273', 'end_station_name': 'High Holborn , Covent Garden'}, {'_id': ObjectId('5ca42237d1823d1f90e447a0'), 'rental_id': '40631167', 'duration': '1980', 'bike_id': '9370', 'end_station_name': \"Queen's Circus, Battersea Park\"}, {'_id': ObjectId('5ca42237d1823d1f90e447a1'), 'rental_id': '42028213', 'duration': '15480', 'bike_id': '5766', 'end_station_name': \"Westfield Southern Terrace ,Shepherd's Bush\"}, {'_id': ObjectId('5ca42237d1823d1f90e447a2'), 'rental_id': '44064351', 'duration': '55620', 'bike_id': '215', 'end_station_name': 'Portland Place, Marylebone'}, {'_id': ObjectId('5ca42237d1823d1f90e447a3'), 'rental_id': '44058213', 'duration': '0', 'bike_id': '12184', 'end_station_name': 'Strand, Strand'}, {'_id': ObjectId('5ca42237d1823d1f90e447a4'), 'rental_id': '44682200', 'duration': '2520', 'bike_id': '6741', 'end_station_name': \"Bishop's Avenue, Fulham\"}, {'_id': ObjectId('5ca42237d1823d1f90e447a5'), 'rental_id': '43186435', 'duration': '2040', 'bike_id': '9', 'end_station_name': 'Turquoise Island, Notting Hill'}, {'_id': ObjectId('5ca42237d1823d1f90e447a6'), 'rental_id': '41930175', 'duration': '0', 'bike_id': '9207', 'end_station_name': 'Palace Gate, Kensington Gardens'}, {'_id': ObjectId('5ca42237d1823d1f90e447a7'), 'rental_id': '41105479', 'duration': '2160', 'bike_id': '1572', 'end_station_name': 'Belgrave Road, Victoria'}, {'_id': ObjectId('5ca42237d1823d1f90e447a8'), 'rental_id': '44908638', 'duration': '3600', 'bike_id': '716', 'end_station_name': 'The Green Bridge, Mile End'}, {'_id': ObjectId('5ca42237d1823d1f90e447a9'), 'rental_id': '43199571', 'duration': '3060', 'bike_id': '326', 'end_station_name': \"All Saints' Road, Portobello\"}, {'_id': ObjectId('5ca42237d1823d1f90e447aa'), 'rental_id': '42436662', 'duration': '4080', 'bike_id': '6281', 'end_station_name': \"The Tennis Courts, Regent's Park\"}, {'_id': ObjectId('5ca42238d1823d1f90e447ab'), 'rental_id': '42524026', 'duration': '6480', 'bike_id': '1304', 'end_station_name': 'Triangle Car Park, Hyde Park'}, {'_id': ObjectId('5ca42238d1823d1f90e447ac'), 'rental_id': '44056891', 'duration': '8160', 'bike_id': '2173', 'end_station_name': 'Tavistock Street, Covent Garden'}, {'_id': ObjectId('5ca42238d1823d1f90e447ad'), 'rental_id': '41943361', 'duration': '60', 'bike_id': '8215', 'end_station_name': 'St. Bride Street, Holborn'}, {'_id': ObjectId('5ca42238d1823d1f90e447ae'), 'rental_id': '44237952', 'duration': '3600', 'bike_id': '2678', 'end_station_name': \"Speakers' Corner 1, Hyde Park\"}, {'_id': ObjectId('5ca42238d1823d1f90e447af'), 'rental_id': '43797321', 'duration': '2400', 'bike_id': '8407', 'end_station_name': 'Hampstead Road (Cartmel), Euston'}, {'_id': ObjectId('5ca42238d1823d1f90e447b0'), 'rental_id': '42501695', 'duration': '2100', 'bike_id': '1807', 'end_station_name': 'Wellington Street , Strand'}, {'_id': ObjectId('5ca42239d1823d1f90e447b1'), 'rental_id': '54456949', 'duration': '8880', 'bike_id': '701'}, {'_id': ObjectId('5ca4223ad1823d1f90e447b2'), 'rental_id': '46543472', 'duration': '2520', 'bike_id': '10776'}, {'_id': ObjectId('5ca4223ad1823d1f90e447b3'), 'rental_id': '46599130', 'duration': '2280', 'bike_id': '8968'}, {'_id': ObjectId('5ca4223ad1823d1f90e447b4'), 'rental_id': '61271627', 'duration': '6180', 'bike_id': '3666'}, {'_id': ObjectId('5ca4223ad1823d1f90e447b5'), 'rental_id': '65050023', 'duration': '2700', 'bike_id': '1590'}, {'_id': ObjectId('5ca4223ad1823d1f90e447b6'), 'rental_id': '64735614', 'duration': '3540', 'bike_id': '11982'}, {'_id': ObjectId('5ca4223ad1823d1f90e447b7'), 'rental_id': '52908739', 'duration': '2940', 'bike_id': '11295'}, {'_id': ObjectId('5ca4223ad1823d1f90e447b8'), 'rental_id': '53601486', 'duration': '8940', 'bike_id': '8543'}, {'_id': ObjectId('5ca4223ad1823d1f90e447b9'), 'rental_id': '66040096', 'duration': '2160', 'bike_id': '9295'}, {'_id': ObjectId('5ca4223ad1823d1f90e447ba'), 'rental_id': '56904856', 'duration': '4260', 'bike_id': '14264'}, {'_id': ObjectId('5ca4223ad1823d1f90e447bb'), 'rental_id': '57550832', 'duration': '2400', 'bike_id': '1058'}, {'_id': ObjectId('5ca4223ad1823d1f90e447bc'), 'rental_id': '49932622', 'duration': '6480', 'bike_id': '13254'}, {'_id': ObjectId('5ca4223ad1823d1f90e447bd'), 'rental_id': '63439524', 'duration': '1980', 'bike_id': '7326'}, {'_id': ObjectId('5ca4223ad1823d1f90e447be'), 'rental_id': '46971046', 'duration': '3240', 'bike_id': '11348'}, {'_id': ObjectId('5ca4223ad1823d1f90e447bf'), 'rental_id': '49222914', 'duration': '2460', 'bike_id': '8884'}, {'_id': ObjectId('5ca4223ad1823d1f90e447c0'), 'rental_id': '62016271', 'duration': '5280', 'bike_id': '5492'}, {'_id': ObjectId('5ca4223ad1823d1f90e447c1'), 'rental_id': '45462121', 'duration': '2220', 'bike_id': '6517'}, {'_id': ObjectId('5ca4223ad1823d1f90e447c2'), 'rental_id': '55557811', 'duration': '2280', 'bike_id': '10713'}, {'_id': ObjectId('5ca4223ad1823d1f90e447c3'), 'rental_id': '45573582', 'duration': '2820', 'bike_id': '198'}, {'_id': ObjectId('5ca4223ad1823d1f90e447c4'), 'rental_id': '59275741', 'duration': '2040', 'bike_id': '14231'}, {'_id': ObjectId('5ca4223ad1823d1f90e447c5'), 'rental_id': '46451219', 'duration': '17400', 'bike_id': '535'}, {'_id': ObjectId('5ca4223ad1823d1f90e447c6'), 'rental_id': '63635380', 'duration': '4200', 'bike_id': '6149'}, {'_id': ObjectId('5ca4223ad1823d1f90e447c7'), 'rental_id': '53158750', 'duration': '1980', 'bike_id': '2714'}, {'_id': ObjectId('5ca4223ad1823d1f90e447c8'), 'rental_id': '59072279', 'duration': '2100', 'bike_id': '9787'}, {'_id': ObjectId('5ca4223ad1823d1f90e447c9'), 'rental_id': '52659712', 'duration': '11520', 'bike_id': '13105'}, {'_id': ObjectId('5ca4223ad1823d1f90e447ca'), 'rental_id': '55994160', 'duration': '2280', 'bike_id': '1840'}, {'_id': ObjectId('5ca4223ad1823d1f90e447cb'), 'rental_id': '46112696', 'duration': '2700', 'bike_id': '7297'}, {'_id': ObjectId('5ca4223bd1823d1f90e447cc'), 'rental_id': '62127223', 'duration': '1980', 'bike_id': '3933'}, {'_id': ObjectId('5ca4223bd1823d1f90e447cd'), 'rental_id': '56019473', 'duration': '6360', 'bike_id': '10181'}, {'_id': ObjectId('5ca4223bd1823d1f90e447ce'), 'rental_id': '65471669', 'duration': '3300', 'bike_id': '292'}, {'_id': ObjectId('5ca4223bd1823d1f90e447cf'), 'rental_id': '54366964', 'duration': '4140', 'bike_id': '6144'}, {'_id': ObjectId('5ca4223bd1823d1f90e447d0'), 'rental_id': '48038021', 'duration': '47100', 'bike_id': '1760'}, {'_id': ObjectId('5ca4223bd1823d1f90e447d1'), 'rental_id': '54838100', 'duration': '5400', 'bike_id': '13961'}, {'_id': ObjectId('5ca4223bd1823d1f90e447d2'), 'rental_id': '64977258', 'duration': '3960', 'bike_id': '2540'}, {'_id': ObjectId('5ca4223bd1823d1f90e447d3'), 'rental_id': '51602254', 'duration': '4800', 'bike_id': '12380'}, {'_id': ObjectId('5ca4223bd1823d1f90e447d4'), 'rental_id': '63135601', 'duration': '3360', 'bike_id': '5459'}, {'_id': ObjectId('5ca4223bd1823d1f90e447d5'), 'rental_id': '59268586', 'duration': '1980', 'bike_id': '8803'}, {'_id': ObjectId('5ca4223bd1823d1f90e447d6'), 'rental_id': '47287289', 'duration': '2640', 'bike_id': '1201'}, {'_id': ObjectId('5ca4223bd1823d1f90e447d7'), 'rental_id': '55491718', 'duration': '1980', 'bike_id': '10918'}, {'_id': ObjectId('5ca4223bd1823d1f90e447d8'), 'rental_id': '62810098', 'duration': '2400', 'bike_id': '8143'}, {'_id': ObjectId('5ca4223bd1823d1f90e447d9'), 'rental_id': '60267145', 'duration': '2640', 'bike_id': '2444'}, {'_id': ObjectId('5ca4223bd1823d1f90e447da'), 'rental_id': '50888108', 'duration': '2040', 'bike_id': '5815'}, {'_id': ObjectId('5ca4223bd1823d1f90e447db'), 'rental_id': '46342004', 'duration': '1980', 'bike_id': '7459'}, {'_id': ObjectId('5ca4223bd1823d1f90e447dc'), 'rental_id': '46820529', 'duration': '3540', 'bike_id': '6064'}, {'_id': ObjectId('5ca4223bd1823d1f90e447dd'), 'rental_id': '60415755', 'duration': '60', 'bike_id': '5997'}, {'_id': ObjectId('5ca4223bd1823d1f90e447de'), 'rental_id': '53829080', 'duration': '4620', 'bike_id': '2745'}, {'_id': ObjectId('5ca4223bd1823d1f90e447df'), 'rental_id': '64505091', 'duration': '2520', 'bike_id': '733'}, {'_id': ObjectId('5ca4223bd1823d1f90e447e0'), 'rental_id': '58468938', 'duration': '2160', 'bike_id': '8464'}, {'_id': ObjectId('5ca4223bd1823d1f90e447e1'), 'rental_id': '56983331', 'duration': '3540', 'bike_id': '12313'}, {'_id': ObjectId('5ca4223bd1823d1f90e447e2'), 'rental_id': '57417805', 'duration': '13080', 'bike_id': '9522'}, {'_id': ObjectId('5ca4223bd1823d1f90e447e3'), 'rental_id': '52027237', 'duration': '3300', 'bike_id': '4350'}, {'_id': ObjectId('5ca4223bd1823d1f90e447e4'), 'rental_id': '62692144', 'duration': '2160', 'bike_id': '12129'}, {'_id': ObjectId('5ca4223bd1823d1f90e447e5'), 'rental_id': '65031775', 'duration': '1980', 'bike_id': '11473'}, {'_id': ObjectId('5ca4223bd1823d1f90e447e6'), 'rental_id': '50890920', 'duration': '4200', 'bike_id': '7815'}, {'_id': ObjectId('5ca4223bd1823d1f90e447e7'), 'rental_id': '57078368', 'duration': '2820', 'bike_id': '11158'}, {'_id': ObjectId('5ca4223cd1823d1f90e447e8'), 'rental_id': '46059162', 'duration': '2520', 'bike_id': '6125'}, {'_id': ObjectId('5ca4223cd1823d1f90e447e9'), 'rental_id': '45315002', 'duration': '4200', 'bike_id': '5938'}, {'_id': ObjectId('5ca4223cd1823d1f90e447ea'), 'rental_id': '60255039', 'duration': '4980', 'bike_id': '9592'}, {'_id': ObjectId('5ca4223cd1823d1f90e447eb'), 'rental_id': '56275057', 'duration': '2340', 'bike_id': '5779'}, {'_id': ObjectId('5ca4223cd1823d1f90e447ec'), 'rental_id': '45917833', 'duration': '4740', 'bike_id': '2186'}, {'_id': ObjectId('5ca4223cd1823d1f90e447ed'), 'rental_id': '59641576', 'duration': '2100', 'bike_id': '3352'}, {'_id': ObjectId('5ca4223cd1823d1f90e447ee'), 'rental_id': '60834950', 'duration': '1980', 'bike_id': '11842'}, {'_id': ObjectId('5ca4223cd1823d1f90e447ef'), 'rental_id': '53619859', 'duration': '4860', 'bike_id': '13776'}, {'_id': ObjectId('5ca4223cd1823d1f90e447f0'), 'rental_id': '47141247', 'duration': '2160', 'bike_id': '11853'}, {'_id': ObjectId('5ca4223cd1823d1f90e447f1'), 'rental_id': '54546386', 'duration': '3120', 'bike_id': '4243'}, {'_id': ObjectId('5ca4223cd1823d1f90e447f2'), 'rental_id': '64676169', 'duration': '2820', 'bike_id': '8638'}, {'_id': ObjectId('5ca4223cd1823d1f90e447f3'), 'rental_id': '53797815', 'duration': '2220', 'bike_id': '7901'}, {'_id': ObjectId('5ca4223cd1823d1f90e447f4'), 'rental_id': '56380543', 'duration': '3120', 'bike_id': '11344'}, {'_id': ObjectId('5ca4223cd1823d1f90e447f5'), 'rental_id': '65619269', 'duration': '3480', 'bike_id': '5205'}, {'_id': ObjectId('5ca4223cd1823d1f90e447f6'), 'rental_id': '60111954', 'duration': '2340', 'bike_id': '337'}, {'_id': ObjectId('5ca4223cd1823d1f90e447f7'), 'rental_id': '66043846', 'duration': '2280', 'bike_id': '14612'}, {'_id': ObjectId('5ca4223cd1823d1f90e447f8'), 'rental_id': '62803614', 'duration': '2100', 'bike_id': '9002'}, {'_id': ObjectId('5ca4223cd1823d1f90e447f9'), 'rental_id': '55849196', 'duration': '2460', 'bike_id': '8091'}, {'_id': ObjectId('5ca4223cd1823d1f90e447fa'), 'rental_id': '65633296', 'duration': '2100', 'bike_id': '1681'}, {'_id': ObjectId('5ca4223cd1823d1f90e447fb'), 'rental_id': '45456944', 'duration': '3660', 'bike_id': '2652'}, {'_id': ObjectId('5ca4223cd1823d1f90e447fc'), 'rental_id': '59003099', 'duration': '3480', 'bike_id': '1331'}, {'_id': ObjectId('5ca4223cd1823d1f90e447fd'), 'rental_id': '46618983', 'duration': '3060', 'bike_id': '4785'}, {'_id': ObjectId('5ca4223cd1823d1f90e447fe'), 'rental_id': '63958447', 'duration': '22680', 'bike_id': '6139'}, {'_id': ObjectId('5ca4223cd1823d1f90e447ff'), 'rental_id': '62400832', 'duration': '5100', 'bike_id': '7525'}, {'_id': ObjectId('5ca4223cd1823d1f90e44800'), 'rental_id': '52504605', 'duration': '2280', 'bike_id': '2110'}, {'_id': ObjectId('5ca4223cd1823d1f90e44801'), 'rental_id': '66054866', 'duration': '2040', 'bike_id': '809'}, {'_id': ObjectId('5ca4223cd1823d1f90e44802'), 'rental_id': '65638361', 'duration': '2280', 'bike_id': '9470'}, {'_id': ObjectId('5ca4223cd1823d1f90e44803'), 'rental_id': '47576583', 'duration': '2100', 'bike_id': '1892'}, {'_id': ObjectId('5ca4223cd1823d1f90e44804'), 'rental_id': '59353981', 'duration': '2760', 'bike_id': '13498'}, {'_id': ObjectId('5ca4223dd1823d1f90e44805'), 'rental_id': '64231117', 'duration': '2040', 'bike_id': '4567'}, {'_id': ObjectId('5ca4223dd1823d1f90e44806'), 'rental_id': '55338662', 'duration': '4860', 'bike_id': '892'}, {'_id': ObjectId('5ca4223dd1823d1f90e44807'), 'rental_id': '58759579', 'duration': '1980', 'bike_id': '8237'}, {'_id': ObjectId('5ca4223dd1823d1f90e44808'), 'rental_id': '45389681', 'duration': '2040', 'bike_id': '12196'}, {'_id': ObjectId('5ca4223dd1823d1f90e44809'), 'rental_id': '55133349', 'duration': '2040', 'bike_id': '13963'}, {'_id': ObjectId('5ca4223dd1823d1f90e4480a'), 'rental_id': '58076315', 'duration': '2100', 'bike_id': '13753'}, {'_id': ObjectId('5ca4223dd1823d1f90e4480b'), 'rental_id': '48114995', 'duration': '3720', 'bike_id': '6109'}, {'_id': ObjectId('5ca4223dd1823d1f90e4480c'), 'rental_id': '49649914', 'duration': '11220', 'bike_id': '3295'}, {'_id': ObjectId('5ca4223dd1823d1f90e4480d'), 'rental_id': '56071443', 'duration': '2880', 'bike_id': '5099'}, {'_id': ObjectId('5ca4223dd1823d1f90e4480e'), 'rental_id': '62822713', 'duration': '9060', 'bike_id': '1510'}, {'_id': ObjectId('5ca4223dd1823d1f90e4480f'), 'rental_id': '59698576', 'duration': '3060', 'bike_id': '7409'}, {'_id': ObjectId('5ca4223dd1823d1f90e44810'), 'rental_id': '55400744', 'duration': '8280', 'bike_id': '8248'}, {'_id': ObjectId('5ca4223dd1823d1f90e44811'), 'rental_id': '63777766', 'duration': '2520', 'bike_id': '4520'}, {'_id': ObjectId('5ca4223dd1823d1f90e44812'), 'rental_id': '61994916', 'duration': '2760', 'bike_id': '9944'}, {'_id': ObjectId('5ca4223dd1823d1f90e44813'), 'rental_id': '50603257', 'duration': '2580', 'bike_id': '11395'}, {'_id': ObjectId('5ca4223dd1823d1f90e44814'), 'rental_id': '62818017', 'duration': '2040', 'bike_id': '11831'}, {'_id': ObjectId('5ca42244d1823d1f90e44815'), 'name': 'Popular Question', 'date': '2014-10-02 11:22:31.817 UTC', 'user_id': '2199548', 'class': '3', 'tag_based': False}, {'_id': ObjectId('5ca42244d1823d1f90e44816'), 'name': 'Popular Question', 'date': '2013-07-31 16:19:38.98 UTC', 'user_id': '619616', 'class': '3', 'tag_based': False}, {'_id': ObjectId('5ca42244d1823d1f90e44817'), 'name': 'Scholar', 'date': '2017-03-26 23:18:29.06 UTC', 'user_id': '6265590', 'class': '3', 'tag_based': False}, {'_id': ObjectId('5ca42244d1823d1f90e44818'), 'name': 'Tumbleweed', 'date': '2015-07-17 13:52:02.31 UTC', 'user_id': '5103065', 'class': '3', 'tag_based': False}, {'_id': ObjectId('5ca42244d1823d1f90e44819'), 'name': 'Editor', 'date': '2016-09-30 17:05:10.95 UTC', 'user_id': '5379549', 'class': '3', 'tag_based': False}, {'_id': ObjectId('5ca42244d1823d1f90e4481a'), 'name': 'Notable Question', 'date': '2018-11-07 11:40:06.763 UTC', 'user_id': '1838266', 'class': '2', 'tag_based': False}, {'_id': ObjectId('5ca42244d1823d1f90e4481b'), 'name': 'Custodian', 'date': '2016-04-08 22:21:36.587 UTC', 'user_id': '4100201', 'class': '3', 'tag_based': False}, {'_id': ObjectId('5ca42244d1823d1f90e4481c'), 'name': 'Yearling', 'date': '2016-10-11 02:16:45.363 UTC', 'user_id': '2769125', 'class': '2', 'tag_based': False}, {'_id': ObjectId('5ca42244d1823d1f90e4481d'), 'name': 'Autobiographer', 'date': '2019-01-27 16:50:13.433 UTC', 'user_id': '10975600', 'class': '3', 'tag_based': False}, {'_id': ObjectId('5ca42244d1823d1f90e4481e'), 'name': 'Student', 'date': '2009-10-22 12:07:31.043 UTC', 'user_id': '194526', 'class': '3', 'tag_based': False}, {'_id': ObjectId('5ca42244d1823d1f90e4481f'), 'name': 'Commentator', 'date': '2015-03-22 20:03:28.493 UTC', 'user_id': '4229746', 'class': '3', 'tag_based': False}, {'_id': ObjectId('5ca42244d1823d1f90e44820'), 'name': 'Scholar', 'date': '2012-03-04 16:59:00.73 UTC', 'user_id': '1236057', 'class': '3', 'tag_based': False}, {'_id': ObjectId('5ca42244d1823d1f90e44821'), 'name': 'Nice Answer', 'date': '2016-10-05 00:54:05.19 UTC', 'user_id': '94977', 'class': '3', 'tag_based': False}, {'_id': ObjectId('5ca42244d1823d1f90e44822'), 'name': 'Supporter', 'date': '2015-08-02 22:09:07.23 UTC', 'user_id': '2995240', 'class': '3', 'tag_based': False}, {'_id': ObjectId('5ca42244d1823d1f90e44823'), 'name': 'Informed', 'date': '2016-02-25 07:53:33.447 UTC', 'user_id': '5978997', 'class': '3', 'tag_based': False}, {'_id': ObjectId('5ca42244d1823d1f90e44824'), 'name': 'Popular Question', 'date': '2011-05-23 07:27:58.837 UTC', 'user_id': '248467', 'class': '3', 'tag_based': False}, {'_id': ObjectId('5ca42244d1823d1f90e44825'), 'name': 'Informed', 'date': '2016-02-16 20:45:12.3 UTC', 'user_id': '5937174', 'class': '3', 'tag_based': False}, {'_id': ObjectId('5ca42244d1823d1f90e44826'), 'name': 'Famous Question', 'date': '2014-10-28 07:12:37.55 UTC', 'user_id': '631796', 'class': '1', 'tag_based': False}, {'_id': ObjectId('5ca42245d1823d1f90e44827'), 'name': 'Informed', 'date': '2015-09-17 12:36:44.373 UTC', 'user_id': '5346436', 'class': '3', 'tag_based': False}, {'_id': ObjectId('5ca42245d1823d1f90e44828'), 'name': 'Popular Question', 'date': '2010-02-24 20:52:37.75 UTC', 'user_id': '64833', 'class': '3', 'tag_based': False}, {'_id': ObjectId('5ca42245d1823d1f90e44829'), 'name': 'Announcer', 'date': '2015-11-02 04:03:31.62 UTC', 'user_id': '4871489', 'class': '3', 'tag_based': False}, {'_id': ObjectId('5ca42245d1823d1f90e4482a'), 'name': 'Student', 'date': '2017-03-09 23:25:27.413 UTC', 'user_id': '1658415', 'class': '3', 'tag_based': False}, {'_id': ObjectId('5ca42245d1823d1f90e4482b'), 'name': 'Famous Question', 'date': '2014-04-07 07:51:28.633 UTC', 'user_id': '1804229', 'class': '1', 'tag_based': False}, {'_id': ObjectId('5ca42245d1823d1f90e4482c'), 'name': 'Informed', 'date': '2016-06-30 03:31:50.153 UTC', 'user_id': '6531312', 'class': '3', 'tag_based': False}, {'_id': ObjectId('5ca42245d1823d1f90e4482d'), 'name': 'Teacher', 'date': '2013-08-12 04:17:46.123 UTC', 'user_id': '1371451', 'class': '3', 'tag_based': False}, {'_id': ObjectId('5ca42245d1823d1f90e4482e'), 'name': 'Editor', 'date': '2012-06-12 19:56:21.827 UTC', 'user_id': '1451715', 'class': '3', 'tag_based': False}, {'_id': ObjectId('5ca42245d1823d1f90e4482f'), 'name': 'Supporter', 'date': '2015-06-03 23:03:37.397 UTC', 'user_id': '3740935', 'class': '3', 'tag_based': False}, {'_id': ObjectId('5ca42245d1823d1f90e44830'), 'name': 'Tumbleweed', 'date': '2014-08-21 09:23:26.76 UTC', 'user_id': '3886625', 'class': '3', 'tag_based': False}, {'_id': ObjectId('5ca42245d1823d1f90e44831'), 'name': 'Teacher', 'date': '2018-07-05 08:31:51.21 UTC', 'user_id': '10026429', 'class': '3', 'tag_based': False}, {'_id': ObjectId('5ca42245d1823d1f90e44832'), 'name': 'Student', 'date': '2016-06-02 04:32:21.607 UTC', 'user_id': '4872947', 'class': '3', 'tag_based': False}, {'_id': ObjectId('5ca42245d1823d1f90e44833'), 'name': 'Yearling', 'date': '2016-06-04 06:52:49.953 UTC', 'user_id': '117116', 'class': '2', 'tag_based': False}, {'_id': ObjectId('5ca42245d1823d1f90e44834'), 'name': 'Student', 'date': '2016-03-23 06:31:22.283 UTC', 'user_id': '5846967', 'class': '3', 'tag_based': False}, {'_id': ObjectId('5ca42245d1823d1f90e44835'), 'name': 'Famous Question', 'date': '2015-08-18 19:22:44.86 UTC', 'user_id': '942453', 'class': '1', 'tag_based': False}, {'_id': ObjectId('5ca42245d1823d1f90e44836'), 'name': 'Famous Question', 'date': '2014-03-11 20:17:31.237 UTC', 'user_id': '515168', 'class': '1', 'tag_based': False}, {'_id': ObjectId('5ca42245d1823d1f90e44837'), 'name': 'Popular Question', 'date': '2016-04-12 13:23:50.217 UTC', 'user_id': '988335', 'class': '3', 'tag_based': False}, {'_id': ObjectId('5ca42245d1823d1f90e44838'), 'name': 'Informed', 'date': '2017-11-22 09:32:01.36 UTC', 'user_id': '2950010', 'class': '3', 'tag_based': False}, {'_id': ObjectId('5ca42245d1823d1f90e44839'), 'name': 'Editor', 'date': '2014-07-28 10:07:30.823 UTC', 'user_id': '3588857', 'class': '3', 'tag_based': False}, {'_id': ObjectId('5ca42245d1823d1f90e4483a'), 'name': 'Editor', 'date': '2014-08-06 03:52:54.47 UTC', 'user_id': '2255550', 'class': '3', 'tag_based': False}, {'_id': ObjectId('5ca42245d1823d1f90e4483b'), 'name': 'Popular Question', 'date': '2013-02-21 17:39:11.737 UTC', 'user_id': '110776', 'class': '3', 'tag_based': False}, {'_id': ObjectId('5ca42245d1823d1f90e4483c'), 'name': 'Yearling', 'date': '2013-01-16 05:46:40.263 UTC', 'user_id': '252025', 'class': '2', 'tag_based': False}, {'_id': ObjectId('5ca42245d1823d1f90e4483d'), 'name': 'Editor', 'date': '2016-01-26 15:23:49.75 UTC', 'user_id': '5431451', 'class': '3', 'tag_based': False}, {'_id': ObjectId('5ca42245d1823d1f90e4483e'), 'name': 'Yearling', 'date': '2014-06-21 13:37:19.687 UTC', 'user_id': '372200', 'class': '2', 'tag_based': False}, {'_id': ObjectId('5ca42245d1823d1f90e4483f'), 'name': 'Tumbleweed', 'date': '2012-05-22 13:42:38.507 UTC', 'user_id': '1396227', 'class': '3', 'tag_based': False}, {'_id': ObjectId('5ca42245d1823d1f90e44840'), 'name': 'Informed', 'date': '2015-02-06 16:03:55.7 UTC', 'user_id': '4537957', 'class': '3', 'tag_based': False}, {'_id': ObjectId('5ca42245d1823d1f90e44841'), 'name': 'numpy', 'date': '2017-02-24 04:04:55.527 UTC', 'user_id': '625914', 'class': '2', 'tag_based': True}, {'_id': ObjectId('5ca42245d1823d1f90e44842'), 'name': 'Popular Question', 'date': '2016-02-27 11:20:03.293 UTC', 'user_id': '2525474', 'class': '3', 'tag_based': False}, {'_id': ObjectId('5ca42246d1823d1f90e44843'), 'name': 'Peer Pressure', 'date': '2014-01-20 05:58:33.123 UTC', 'user_id': '2128941', 'class': '3', 'tag_based': False}, {'_id': ObjectId('5ca42246d1823d1f90e44844'), 'name': 'Nice Answer', 'date': '2016-09-18 02:21:45.383 UTC', 'user_id': '2533215', 'class': '3', 'tag_based': False}, {'_id': ObjectId('5ca42246d1823d1f90e44845'), 'name': 'Scholar', 'date': '2015-07-06 15:11:35.28 UTC', 'user_id': '4835582', 'class': '3', 'tag_based': False}, {'_id': ObjectId('5ca42246d1823d1f90e44846'), 'name': 'Student', 'date': '2016-02-22 07:44:14.443 UTC', 'user_id': '2677068', 'class': '3', 'tag_based': False}, {'_id': ObjectId('5ca42246d1823d1f90e44847'), 'name': 'Popular Question', 'date': '2018-08-08 13:45:27.853 UTC', 'user_id': '7938548', 'class': '3', 'tag_based': False}, {'_id': ObjectId('5ca42246d1823d1f90e44848'), 'name': 'Necromancer', 'date': '2013-01-22 15:49:15.083 UTC', 'user_id': '3715', 'class': '2', 'tag_based': False}, {'_id': ObjectId('5ca42246d1823d1f90e44849'), 'name': 'Notable Question', 'date': '2019-01-23 19:35:15.1 UTC', 'user_id': '794022', 'class': '2', 'tag_based': False}, {'_id': ObjectId('5ca42246d1823d1f90e4484a'), 'name': 'Commentator', 'date': '2013-10-16 12:44:42.653 UTC', 'user_id': '2702856', 'class': '3', 'tag_based': False}, {'_id': ObjectId('5ca42246d1823d1f90e4484b'), 'name': 'Teacher', 'date': '2017-09-07 20:29:43.91 UTC', 'user_id': '7703564', 'class': '3', 'tag_based': False}, {'_id': ObjectId('5ca42246d1823d1f90e4484c'), 'name': 'Notable Question', 'date': '2017-01-18 13:33:22.493 UTC', 'user_id': '18480', 'class': '2', 'tag_based': False}, {'_id': ObjectId('5ca42246d1823d1f90e4484d'), 'name': 'Commentator', 'date': '2012-04-03 18:34:57.933 UTC', 'user_id': '1293474', 'class': '3', 'tag_based': False}, {'_id': ObjectId('5ca42246d1823d1f90e4484e'), 'name': 'Notable Question', 'date': '2016-02-19 08:00:55.47 UTC', 'user_id': '434736', 'class': '2', 'tag_based': False}, {'_id': ObjectId('5ca42246d1823d1f90e4484f'), 'name': 'Supporter', 'date': '2017-08-24 23:42:19.283 UTC', 'user_id': '5404617', 'class': '3', 'tag_based': False}, {'_id': ObjectId('5ca42246d1823d1f90e44850'), 'name': 'Nice Answer', 'date': '2012-12-22 01:06:49.757 UTC', 'user_id': '294554', 'class': '3', 'tag_based': False}, {'_id': ObjectId('5ca42246d1823d1f90e44851'), 'name': 'Teacher', 'date': '2015-09-15 18:18:30.627 UTC', 'user_id': '4781734', 'class': '3', 'tag_based': False}, {'_id': ObjectId('5ca42246d1823d1f90e44852'), 'name': 'Popular Question', 'date': '2015-11-24 18:55:29.953 UTC', 'user_id': '1220627', 'class': '3', 'tag_based': False}, {'_id': ObjectId('5ca42246d1823d1f90e44853'), 'name': 'Student', 'date': '2015-04-04 20:04:19.357 UTC', 'user_id': '3464546', 'class': '3', 'tag_based': False}, {'_id': ObjectId('5ca42246d1823d1f90e44854'), 'name': 'Popular Question', 'date': '2017-09-13 13:46:12.49 UTC', 'user_id': '2332636', 'class': '3', 'tag_based': False}, {'_id': ObjectId('5ca42246d1823d1f90e44855'), 'name': 'Good Question', 'date': '2015-02-01 19:50:24.29 UTC', 'user_id': '987704', 'class': '2', 'tag_based': False}, {'_id': ObjectId('5ca42246d1823d1f90e44856'), 'name': 'Informed', 'date': '2014-07-24 21:12:03.993 UTC', 'user_id': '1233123', 'class': '3', 'tag_based': False}, {'_id': ObjectId('5ca42246d1823d1f90e44857'), 'name': 'Teacher', 'date': '2012-02-15 17:40:50.177 UTC', 'user_id': '1208472', 'class': '3', 'tag_based': False}, {'_id': ObjectId('5ca42246d1823d1f90e44858'), 'name': 'Autobiographer', 'date': '2013-03-16 14:31:23.41 UTC', 'user_id': '1000827', 'class': '3', 'tag_based': False}, {'_id': ObjectId('5ca42246d1823d1f90e44859'), 'name': 'Informed', 'date': '2017-07-25 10:57:06.957 UTC', 'user_id': '8363136', 'class': '3', 'tag_based': False}, {'_id': ObjectId('5ca42246d1823d1f90e4485a'), 'name': 'Scholar', 'date': '2014-02-27 06:04:46.657 UTC', 'user_id': '2946704', 'class': '3', 'tag_based': False}, {'_id': ObjectId('5ca42246d1823d1f90e4485b'), 'name': 'Editor', 'date': '2011-03-07 08:32:09.22 UTC', 'user_id': '633263', 'class': '3', 'tag_based': False}, {'_id': ObjectId('5ca42246d1823d1f90e4485c'), 'name': 'Popular Question', 'date': '2015-10-29 16:19:08.497 UTC', 'user_id': '384672', 'class': '3', 'tag_based': False}, {'_id': ObjectId('5ca42246d1823d1f90e4485d'), 'name': 'Tumbleweed', 'date': '2013-07-13 21:14:22.283 UTC', 'user_id': '1650513', 'class': '3', 'tag_based': False}, {'_id': ObjectId('5ca42247d1823d1f90e4485e'), 'name': 'Enlightened', 'date': '2018-09-12 17:05:32.203 UTC', 'user_id': '771848', 'class': '2', 'tag_based': False}, {'_id': ObjectId('5ca42247d1823d1f90e4485f'), 'name': 'Nice Answer', 'date': '2013-10-15 19:03:35.63 UTC', 'user_id': '1103584', 'class': '3', 'tag_based': False}, {'_id': ObjectId('5ca42247d1823d1f90e44860'), 'name': 'Student', 'date': '2018-12-01 14:35:08.703 UTC', 'user_id': '6303975', 'class': '3', 'tag_based': False}, {'_id': ObjectId('5ca42247d1823d1f90e44861'), 'name': 'Informed', 'date': '2018-02-16 10:50:25.587 UTC', 'user_id': '9369186', 'class': '3', 'tag_based': False}, {'_id': ObjectId('5ca42247d1823d1f90e44862'), 'name': 'Notable Question', 'date': '2016-08-27 20:29:38.547 UTC', 'user_id': '1324533', 'class': '2', 'tag_based': False}, {'_id': ObjectId('5ca42247d1823d1f90e44863'), 'name': 'Guru', 'date': '2015-09-03 09:34:30.387 UTC', 'user_id': '9833', 'class': '2', 'tag_based': False}, {'_id': ObjectId('5ca42247d1823d1f90e44864'), 'name': 'Caucus', 'date': '2018-03-23 07:15:00.747 UTC', 'user_id': '1042798', 'class': '3', 'tag_based': False}, {'_id': ObjectId('5ca42247d1823d1f90e44865'), 'name': 'Autobiographer', 'date': '2016-08-22 12:26:40.477 UTC', 'user_id': '3603660', 'class': '3', 'tag_based': False}, {'_id': ObjectId('5ca42247d1823d1f90e44866'), 'name': 'Caucus', 'date': '2013-03-09 10:29:50.643 UTC', 'user_id': '519244', 'class': '3', 'tag_based': False}, {'_id': ObjectId('5ca42247d1823d1f90e44867'), 'name': 'Notable Question', 'date': '2015-08-18 13:27:27.507 UTC', 'user_id': '741507', 'class': '2', 'tag_based': False}, {'_id': ObjectId('5ca42247d1823d1f90e44868'), 'name': 'Commentator', 'date': '2015-01-16 15:37:17.807 UTC', 'user_id': '1977363', 'class': '3', 'tag_based': False}, {'_id': ObjectId('5ca42247d1823d1f90e44869'), 'name': 'Notable Question', 'date': '2014-02-04 12:39:57.11 UTC', 'user_id': '1257959', 'class': '2', 'tag_based': False}, {'_id': ObjectId('5ca42247d1823d1f90e4486a'), 'name': 'Tumbleweed', 'date': '2018-02-09 13:48:37.81 UTC', 'user_id': '213285', 'class': '3', 'tag_based': False}, {'_id': ObjectId('5ca42247d1823d1f90e4486b'), 'name': 'Supporter', 'date': '2012-03-16 03:48:08.327 UTC', 'user_id': '1201089', 'class': '3', 'tag_based': False}, {'_id': ObjectId('5ca42247d1823d1f90e4486c'), 'name': 'Yearling', 'date': '2011-09-16 00:03:04.417 UTC', 'user_id': '7024', 'class': '2', 'tag_based': False}, {'_id': ObjectId('5ca42247d1823d1f90e4486d'), 'name': 'Teacher', 'date': '2017-02-24 01:16:23.65 UTC', 'user_id': '6706162', 'class': '3', 'tag_based': False}, {'_id': ObjectId('5ca42247d1823d1f90e4486e'), 'name': 'Revival', 'date': '2015-10-13 09:25:03.557 UTC', 'user_id': '1054938', 'class': '3', 'tag_based': False}, {'_id': ObjectId('5ca42247d1823d1f90e4486f'), 'name': 'Editor', 'date': '2009-10-13 15:12:31.727 UTC', 'user_id': '118080', 'class': '3', 'tag_based': False}, {'_id': ObjectId('5ca42247d1823d1f90e44870'), 'name': 'Editor', 'date': '2012-08-14 04:37:58.527 UTC', 'user_id': '1596999', 'class': '3', 'tag_based': False}, {'_id': ObjectId('5ca42247d1823d1f90e44871'), 'name': 'Notable Question', 'date': '2018-09-17 11:30:15.693 UTC', 'user_id': '514748', 'class': '2', 'tag_based': False}, {'_id': ObjectId('5ca42247d1823d1f90e44872'), 'name': 'Yearling', 'date': '2016-12-19 18:01:37.617 UTC', 'user_id': '5698756', 'class': '2', 'tag_based': False}, {'_id': ObjectId('5ca42247d1823d1f90e44873'), 'name': 'Tumbleweed', 'date': '2013-10-30 07:52:01.26 UTC', 'user_id': '1662001', 'class': '3', 'tag_based': False}, {'_id': ObjectId('5ca42247d1823d1f90e44874'), 'name': 'Editor', 'date': '2017-04-06 14:58:43.263 UTC', 'user_id': '6051997', 'class': '3', 'tag_based': False}, {'_id': ObjectId('5ca42247d1823d1f90e44875'), 'name': 'Popular Question', 'date': '2016-06-21 21:15:32.65 UTC', 'user_id': '3876168', 'class': '3', 'tag_based': False}, {'_id': ObjectId('5ca42247d1823d1f90e44876'), 'name': 'Tumbleweed', 'date': '2015-05-27 21:06:57.553 UTC', 'user_id': '4922186', 'class': '3', 'tag_based': False}, {'_id': ObjectId('5ca42247d1823d1f90e44877'), 'name': 'Editor', 'date': '2015-07-24 15:03:39.32 UTC', 'user_id': '5065462', 'class': '3', 'tag_based': False}, {'_id': ObjectId('5ca42247d1823d1f90e44878'), 'name': 'Autobiographer', 'date': '2019-02-15 11:05:06.023 UTC', 'user_id': '6652751', 'class': '3', 'tag_based': False}, {'_id': ObjectId('5ca4224ed1823d1f90e44879'), 'name': 'Unsung Hero', 'user_id': '1338999'}, {'_id': ObjectId('5ca4224ed1823d1f90e4487a'), 'name': 'Populist', 'user_id': '69362'}, {'_id': ObjectId('5ca4224ed1823d1f90e4487b'), 'name': 'Great Answer', 'user_id': '811'}, {'_id': ObjectId('5ca4224ed1823d1f90e4487c'), 'name': 'Great Answer', 'user_id': '1694'}, {'_id': ObjectId('5ca4224ed1823d1f90e4487d'), 'name': 'Great Answer', 'user_id': '280143'}, {'_id': ObjectId('5ca4224ed1823d1f90e4487e'), 'name': 'Unsung Hero', 'user_id': '380425'}, {'_id': ObjectId('5ca4224ed1823d1f90e4487f'), 'name': 'Great Answer', 'user_id': '9042'}, {'_id': ObjectId('5ca4224ed1823d1f90e44880'), 'name': 'Steward', 'user_id': '5377037'}, {'_id': ObjectId('5ca4224ed1823d1f90e44881'), 'name': 'Populist', 'user_id': '163740'}, {'_id': ObjectId('5ca4224ed1823d1f90e44882'), 'name': 'Great Answer', 'user_id': '26737'}, {'_id': ObjectId('5ca4224ed1823d1f90e44883'), 'name': 'Populist', 'user_id': '139506'}, {'_id': ObjectId('5ca4224ed1823d1f90e44884'), 'name': 'Great Answer', 'user_id': '209568'}, {'_id': ObjectId('5ca4224fd1823d1f90e44885'), 'name': 'Great Question', 'user_id': '1333873'}, {'_id': ObjectId('5ca4224fd1823d1f90e44886'), 'name': 'Great Answer', 'user_id': '1238957'}, {'_id': ObjectId('5ca4224fd1823d1f90e44887'), 'name': 'Unsung Hero', 'user_id': '3090039'}, {'_id': ObjectId('5ca4224fd1823d1f90e44888'), 'name': 'Populist', 'user_id': '8205'}, {'_id': ObjectId('5ca4224fd1823d1f90e44889'), 'name': 'Great Question', 'user_id': '53538'}, {'_id': ObjectId('5ca4224fd1823d1f90e4488a'), 'name': 'Great Answer', 'user_id': '138475'}, {'_id': ObjectId('5ca4224fd1823d1f90e4488b'), 'name': 'Fanatic', 'user_id': '3169750'}, {'_id': ObjectId('5ca4224fd1823d1f90e4488c'), 'name': 'Great Question', 'user_id': '2442466'}, {'_id': ObjectId('5ca4224fd1823d1f90e4488d'), 'name': 'Great Answer', 'user_id': '26161'}, {'_id': ObjectId('5ca4224fd1823d1f90e4488e'), 'name': 'Unsung Hero', 'user_id': '215234'}, {'_id': ObjectId('5ca4224fd1823d1f90e4488f'), 'name': 'Great Question', 'user_id': '93995'}, {'_id': ObjectId('5ca4224fd1823d1f90e44890'), 'name': 'Steward', 'user_id': '774078'}, {'_id': ObjectId('5ca4224fd1823d1f90e44891'), 'name': 'Fanatic', 'user_id': '261682'}, {'_id': ObjectId('5ca4224fd1823d1f90e44892'), 'name': 'Great Answer', 'user_id': '139459'}, {'_id': ObjectId('5ca4224fd1823d1f90e44893'), 'name': 'Unsung Hero', 'user_id': '4988918'}, {'_id': ObjectId('5ca4224fd1823d1f90e44894'), 'name': 'Great Answer', 'user_id': '663929'}, {'_id': ObjectId('5ca4224fd1823d1f90e44895'), 'name': 'Great Question', 'user_id': '491880'}, {'_id': ObjectId('5ca4224fd1823d1f90e44896'), 'name': 'Great Answer', 'user_id': '4323'}, {'_id': ObjectId('5ca4224fd1823d1f90e44897'), 'name': 'Great Answer', 'user_id': '548568'}, {'_id': ObjectId('5ca4224fd1823d1f90e44898'), 'name': 'Socratic', 'user_id': '433417'}, {'_id': ObjectId('5ca4224fd1823d1f90e44899'), 'name': 'Stellar Question', 'user_id': '1052922'}, {'_id': ObjectId('5ca4224fd1823d1f90e4489a'), 'name': 'Great Answer', 'user_id': '967586'}, {'_id': ObjectId('5ca4224fd1823d1f90e4489b'), 'name': 'Great Question', 'user_id': '67405'}, {'_id': ObjectId('5ca4224fd1823d1f90e4489c'), 'name': 'Publicist', 'user_id': '200145'}, {'_id': ObjectId('5ca4224fd1823d1f90e4489d'), 'name': 'Electorate', 'user_id': '5111725'}, {'_id': ObjectId('5ca4224fd1823d1f90e4489e'), 'name': 'Great Answer', 'user_id': '12725'}, {'_id': ObjectId('5ca4224fd1823d1f90e4489f'), 'name': 'Electorate', 'user_id': '817452'}, {'_id': ObjectId('5ca42250d1823d1f90e448a0'), 'name': 'Great Answer', 'user_id': '649408'}, {'_id': ObjectId('5ca42250d1823d1f90e448a1'), 'name': 'Great Question', 'user_id': '114916'}, {'_id': ObjectId('5ca42250d1823d1f90e448a2'), 'name': 'Great Answer', 'user_id': '88230'}, {'_id': ObjectId('5ca42250d1823d1f90e448a3'), 'name': 'Marshal', 'user_id': '1009479'}, {'_id': ObjectId('5ca42250d1823d1f90e448a4'), 'name': 'Unsung Hero', 'user_id': '486558'}, {'_id': ObjectId('5ca42250d1823d1f90e448a5'), 'name': 'Great Question', 'user_id': '1592915'}, {'_id': ObjectId('5ca42250d1823d1f90e448a6'), 'name': 'Fanatic', 'user_id': '1729795'}, {'_id': ObjectId('5ca42250d1823d1f90e448a7'), 'name': 'Unsung Hero', 'user_id': '983741'}, {'_id': ObjectId('5ca42250d1823d1f90e448a8'), 'name': 'Great Answer', 'user_id': '1655144'}, {'_id': ObjectId('5ca42250d1823d1f90e448a9'), 'name': 'Populist', 'user_id': '8123'}, {'_id': ObjectId('5ca42250d1823d1f90e448aa'), 'name': 'Electorate', 'user_id': '950799'}, {'_id': ObjectId('5ca42250d1823d1f90e448ab'), 'name': 'Socratic', 'user_id': '815443'}, {'_id': ObjectId('5ca42250d1823d1f90e448ac'), 'name': 'Great Answer', 'user_id': '276967'}, {'_id': ObjectId('5ca42250d1823d1f90e448ad'), 'name': 'Great Answer', 'user_id': '3730754'}, {'_id': ObjectId('5ca42250d1823d1f90e448ae'), 'name': 'Steward', 'user_id': '1300817'}, {'_id': ObjectId('5ca42250d1823d1f90e448af'), 'name': 'Fanatic', 'user_id': '6838049'}, {'_id': ObjectId('5ca42250d1823d1f90e448b0'), 'name': 'Great Answer', 'user_id': '157605'}, {'_id': ObjectId('5ca42250d1823d1f90e448b1'), 'name': 'Steward', 'user_id': '7483494'}, {'_id': ObjectId('5ca42250d1823d1f90e448b2'), 'name': 'Great Answer', 'user_id': '13531'}, {'_id': ObjectId('5ca42250d1823d1f90e448b3'), 'name': 'Stellar Question', 'user_id': '317384'}, {'_id': ObjectId('5ca42250d1823d1f90e448b4'), 'name': 'Great Answer', 'user_id': '484596'}, {'_id': ObjectId('5ca42250d1823d1f90e448b5'), 'name': 'Fanatic', 'user_id': '771663'}, {'_id': ObjectId('5ca42250d1823d1f90e448b6'), 'name': 'Great Question', 'user_id': '58186'}, {'_id': ObjectId('5ca42250d1823d1f90e448b7'), 'name': 'Unsung Hero', 'user_id': '367878'}, {'_id': ObjectId('5ca42250d1823d1f90e448b8'), 'name': 'jquery', 'user_id': '263525'}, {'_id': ObjectId('5ca42250d1823d1f90e448b9'), 'name': 'Unsung Hero', 'user_id': '3026884'}, {'_id': ObjectId('5ca42250d1823d1f90e448ba'), 'name': 'Stellar Question', 'user_id': '52745'}, {'_id': ObjectId('5ca42250d1823d1f90e448bb'), 'name': 'Electorate', 'user_id': '92813'}, {'_id': ObjectId('5ca42251d1823d1f90e448bc'), 'name': 'Unsung Hero', 'user_id': '7893169'}, {'_id': ObjectId('5ca42251d1823d1f90e448bd'), 'name': 'Socratic', 'user_id': '1477388'}, {'_id': ObjectId('5ca42251d1823d1f90e448be'), 'name': 'Fanatic', 'user_id': '2165342'}, {'_id': ObjectId('5ca42251d1823d1f90e448bf'), 'name': 'Fanatic', 'user_id': '3275665'}, {'_id': ObjectId('5ca42251d1823d1f90e448c0'), 'name': 'jquery', 'user_id': '2680216'}, {'_id': ObjectId('5ca42251d1823d1f90e448c1'), 'name': 'Great Question', 'user_id': '1796'}, {'_id': ObjectId('5ca42251d1823d1f90e448c2'), 'name': 'Great Answer', 'user_id': '92143'}, {'_id': ObjectId('5ca42251d1823d1f90e448c3'), 'name': 'Unsung Hero', 'user_id': '3834042'}, {'_id': ObjectId('5ca42251d1823d1f90e448c4'), 'name': 'Great Answer', 'user_id': '1684977'}, {'_id': ObjectId('5ca42251d1823d1f90e448c5'), 'name': 'Great Question', 'user_id': '20400'}, {'_id': ObjectId('5ca42251d1823d1f90e448c6'), 'name': 'Great Question', 'user_id': '1360'}, {'_id': ObjectId('5ca42251d1823d1f90e448c7'), 'name': 'Electorate', 'user_id': '1292238'}, {'_id': ObjectId('5ca42251d1823d1f90e448c8'), 'name': 'Great Question', 'user_id': '133830'}, {'_id': ObjectId('5ca42251d1823d1f90e448c9'), 'name': 'Fanatic', 'user_id': '151689'}, {'_id': ObjectId('5ca42251d1823d1f90e448ca'), 'name': 'Great Answer', 'user_id': '3285954'}, {'_id': ObjectId('5ca42251d1823d1f90e448cb'), 'name': 'Marshal', 'user_id': '390819'}, {'_id': ObjectId('5ca42251d1823d1f90e448cc'), 'name': 'c++', 'user_id': '72631'}, {'_id': ObjectId('5ca42251d1823d1f90e448cd'), 'name': 'Socratic', 'user_id': '139698'}, {'_id': ObjectId('5ca42251d1823d1f90e448ce'), 'name': 'Great Question', 'user_id': '194'}, {'_id': ObjectId('5ca42251d1823d1f90e448cf'), 'name': 'Populist', 'user_id': '3663655'}, {'_id': ObjectId('5ca42251d1823d1f90e448d0'), 'name': 'Great Answer', 'user_id': '350094'}, {'_id': ObjectId('5ca42251d1823d1f90e448d1'), 'name': 'Electorate', 'user_id': '932473'}, {'_id': ObjectId('5ca42251d1823d1f90e448d2'), 'name': 'Great Answer', 'user_id': '34088'}, {'_id': ObjectId('5ca42251d1823d1f90e448d3'), 'name': 'Electorate', 'user_id': '7792662'}, {'_id': ObjectId('5ca42251d1823d1f90e448d4'), 'name': 'Socratic', 'user_id': '336527'}, {'_id': ObjectId('5ca42251d1823d1f90e448d5'), 'name': 'Great Answer', 'user_id': '653364'}, {'_id': ObjectId('5ca42251d1823d1f90e448d6'), 'name': 'Electorate', 'user_id': '3153'}, {'_id': ObjectId('5ca42251d1823d1f90e448d7'), 'name': 'Great Answer', 'user_id': '2078851'}, {'_id': ObjectId('5ca42252d1823d1f90e448d8'), 'name': 'Unsung Hero', 'user_id': '1267661'}, {'_id': ObjectId('5ca42252d1823d1f90e448d9'), 'name': 'Steward', 'user_id': '1217536'}, {'_id': ObjectId('5ca42252d1823d1f90e448da'), 'name': 'Electorate', 'user_id': '1743860'}, {'_id': ObjectId('5ca42252d1823d1f90e448db'), 'name': 'Steward', 'user_id': '1866810'}, {'_id': ObjectId('5ca42252d1823d1f90e448dc'), 'name': 'Great Answer', 'user_id': '34549'}, {'_id': ObjectId('5ca4273bd1823d1f90e448dd'), 'rental_id': '54456949', 'duration': '8880', 'bike_id': '701'}, {'_id': ObjectId('5ca4273ed1823d1f90e448de'), 'rental_id': '42406939', 'duration': '4500', 'bike_id': '8519', 'end_station_name': 'Victoria Park Road, Hackney Central'}, {'_id': ObjectId('5cb53fb9d1823d0e981dd167'), 'rental_id': '42406939', 'duration': '4500', 'bike_id': '8519', 'end_station_name': 'Victoria Park Road, Hackney Central'}, {'_id': ObjectId('5cdcb019d1823d02504f708d'), 'rental_id': '42406939', 'duration': '4500', 'bike_id': '8519', 'end_station_name': 'Victoria Park Road, Hackney Central'}, {'_id': ObjectId('5ce5b95cd1823d385c5c9191'), 'rental_id': '42406939', 'duration': '4500', 'bike_id': '8519', 'end_station_name': 'Victoria Park Road, Hackney Central'}]"
     ]
    },
    {
     "name": "stdout",
     "output_type": "stream",
     "text": [
      "\n",
      "time: 132 ms\n"
     ]
    }
   ],
   "source": [
    "# get document in the collection and store them in data\n",
    "data = []\n",
    "for document in companies.find({}):\n",
    "    data.append(document)\n",
    "print(data)"
   ]
  },
  {
   "cell_type": "markdown",
   "metadata": {},
   "source": [
    "### Load from file"
   ]
  },
  {
   "cell_type": "code",
   "execution_count": 3,
   "metadata": {},
   "outputs": [
    {
     "name": "stdout",
     "output_type": "stream",
     "text": [
      "{\"rental_id\":\"42406939\",\"duration\":\"4500\",\"bike_id\":\"8519\",\"end_station_name\":\"Victoria Park Road, Hackney Central\"}\n",
      "\n",
      "{'rental_id': '42406939', 'duration': '4500', 'bike_id': '8519', 'end_station_name': 'Victoria Park Road, Hackney Central'}\n",
      "time: 47 ms\n"
     ]
    }
   ],
   "source": [
    "# following code is to load json file to mongodb\n",
    "# Please change the maxNum to control how many document you want to load\n",
    "# The file contain numbers of dictionaries\n",
    "\n",
    "file = open('valuesplit2.json',encoding='utf8')\n",
    "maxNum = 9999\n",
    "currentNum = 0\n",
    "for line in file:\n",
    "    if currentNum >= maxNum:\n",
    "        break\n",
    "    data = json.loads(line.replace(\"$\",\"\"))\n",
    "    companies.insert_one(data)\n",
    "    currentNum += 1\n",
    "file.close()"
   ]
  },
  {
   "cell_type": "code",
   "execution_count": 65,
   "metadata": {},
   "outputs": [
    {
     "name": "stdout",
     "output_type": "stream",
     "text": [
      "time: 28 ms\n"
     ]
    }
   ],
   "source": [
    "with open('20-355.json') as json_file:\n",
    "    data = json.load(json_file)"
   ]
  },
  {
   "cell_type": "markdown",
   "metadata": {},
   "source": [
    "### Get Number of Schemas"
   ]
  },
  {
   "cell_type": "code",
   "execution_count": 3,
   "metadata": {},
   "outputs": [
    {
     "name": "stdout",
     "output_type": "stream",
     "text": [
      "time: 245 ms\n"
     ]
    }
   ],
   "source": [
    "# A helper function to convert list to string\n",
    "def covertListToString (lst):\n",
    "    str = '['\n",
    "    for i in lst:\n",
    "        str+' , '\n",
    "    str+']'\n",
    "    return str\n"
   ]
  },
  {
   "cell_type": "code",
   "execution_count": 9,
   "metadata": {},
   "outputs": [
    {
     "name": "stdout",
     "output_type": "stream",
     "text": [
      "time: 976 µs\n"
     ]
    }
   ],
   "source": [
    "# A method to get rscheme\n",
    "def getNumOfScheme (rscheme, document, path = '', added = False):\n",
    "    # define a rscheme\n",
    "    # get keys\n",
    "    for key in document:\n",
    "        # check if the path is root or not\n",
    "        # if not, add .\n",
    "        if path == \"\":\n",
    "            currentPath = key\n",
    "        else:\n",
    "            # for this collections ONLY\n",
    "            # In this collections it has a list as a key\n",
    "            if(isinstance(key, list)):\n",
    "                currentPath = path + \".\" + covertListToString(key)\n",
    "            else:\n",
    "                currentPath = path + \".\" + key\n",
    "        # add to dict\n",
    "        datatype = type(document.get(key)).__name__\n",
    "        if currentPath not in rscheme:\n",
    "            rscheme[currentPath] = datatype\n",
    "            if added==False:\n",
    "                global numOfScheme\n",
    "                numOfScheme += 1\n",
    "                added = True\n",
    "        \n",
    "        # recursion call if the attribute is a document\n",
    "        if isinstance(document.get(key),dict):\n",
    "            getNumOfScheme(rscheme, document.get(key),currentPath, added)"
   ]
  },
  {
   "cell_type": "code",
   "execution_count": 10,
   "metadata": {},
   "outputs": [
    {
     "name": "stdout",
     "output_type": "stream",
     "text": [
      "time: 1e+03 µs\n"
     ]
    }
   ],
   "source": [
    "# A helper method to check if rschema is already in the list or not\n",
    "def checkIfHave(schemas, rschema):\n",
    "    contains = False\n",
    "    for schema in schemas:\n",
    "        if schema.keys() == rschema.keys():\n",
    "            return True\n",
    "    return False"
   ]
  },
  {
   "cell_type": "code",
   "execution_count": 66,
   "metadata": {
    "scrolled": true
   },
   "outputs": [
    {
     "name": "stdout",
     "output_type": "stream",
     "text": [
      "number of schemas: 20\n",
      "number of documents: 1500\n"
     ]
    },
    {
     "name": "stdout",
     "output_type": "stream",
     "text": [
      "[{'unique_key': 'str', 'complaint_type': 'str', 'complaint_description': 'str', 'owning_department': 'str', 'source': 'str', 'status': 'str', 'status_change_date': 'str', 'created_date': 'str', 'last_update_date': 'str', 'close_date': 'str', 'incident_address': 'str', 'street_number': 'float', 'street_name': 'str', 'city': 'str', 'incident_zip': 'float', 'county': 'str', 'state_plane_x_coordinate': 'str', 'state_plane_y_coordinate': 'float', 'latitude': 'float', 'longitude': 'float', 'location': 'str', 'council_district_code': 'float', 'map_page': 'str', 'map_tile': 'str'}, {'unique_key': 'str', 'complaint_type': 'str', 'complaint_description': 'str', 'owning_department': 'str', 'source': 'str', 'status': 'str', 'status_change_date': 'str', 'created_date': 'str', 'last_update_date': 'str', 'close_date': 'str', 'incident_address': 'str', 'street_name': 'str', 'city': 'str', 'incident_zip': 'float', 'county': 'str', 'state_plane_x_coordinate': 'str', 'state_plane_y_coordinate': 'float', 'latitude': 'float', 'longitude': 'float', 'location': 'str', 'council_district_code': 'float', 'map_page': 'str', 'map_tile': 'str'}, {'unique_key': 'str', 'complaint_type': 'str', 'complaint_description': 'str', 'owning_department': 'str', 'source': 'str', 'status': 'str', 'status_change_date': 'str', 'created_date': 'str', 'last_update_date': 'str', 'close_date': 'str', 'incident_address': 'str', 'street_number': 'float', 'street_name': 'str', 'city': 'str', 'incident_zip': 'float', 'county': 'str', 'state_plane_x_coordinate': 'str', 'state_plane_y_coordinate': 'float', 'latitude': 'float', 'longitude': 'float', 'location': 'str', 'map_page': 'str', 'map_tile': 'str'}, {'unique_key': 'str', 'complaint_type': 'str', 'complaint_description': 'str', 'owning_department': 'str', 'source': 'str', 'status': 'str', 'status_change_date': 'str', 'created_date': 'str', 'last_update_date': 'str', 'incident_address': 'str', 'street_number': 'float', 'street_name': 'str', 'city': 'str', 'incident_zip': 'float', 'county': 'str', 'state_plane_x_coordinate': 'str', 'state_plane_y_coordinate': 'float', 'latitude': 'float', 'longitude': 'float', 'location': 'str', 'council_district_code': 'float', 'map_page': 'str', 'map_tile': 'str'}, {'unique_key': 'str', 'complaint_type': 'str', 'complaint_description': 'str', 'owning_department': 'str', 'source': 'str', 'status': 'str', 'incident_address': 'str', 'street_number': 'float', 'street_name': 'float', 'city': 'str', 'incident_zip': 'float', 'county': 'str', 'state_plane_x_coordinate': 'str', 'state_plane_y_coordinate': 'int', 'latitude': 'float', 'longitude': 'float', 'location': 'str', 'council_district_code': 'float', 'map_page': 'str', 'map_tile': 'str'}, {'unique_key': 'str', 'complaint_type': 'str', 'complaint_description': 'str', 'owning_department': 'str', 'source': 'str', 'status': 'str', 'status_change_date': 'str', 'created_date': 'str', 'last_update_date': 'str', 'close_date': 'str', 'incident_address': 'str', 'street_number': 'float', 'street_name': 'str', 'city': 'str', 'incident_zip': 'float', 'county': 'str', 'state_plane_x_coordinate': 'str', 'state_plane_y_coordinate': 'float', 'latitude': 'float', 'longitude': 'float', 'location': 'str', 'map_page': 'str'}, {'unique_key': 'str', 'complaint_type': 'str', 'complaint_description': 'str', 'owning_department': 'str', 'source': 'str', 'status': 'str', 'status_change_date': 'str', 'created_date': 'str', 'last_update_date': 'str', 'close_date': 'str', 'incident_address': 'str', 'street_name': 'str', 'city': 'str', 'incident_zip': 'float', 'county': 'str', 'state_plane_x_coordinate': 'str', 'state_plane_y_coordinate': 'float', 'latitude': 'float', 'longitude': 'float', 'location': 'str', 'map_page': 'str', 'map_tile': 'str'}, {'unique_key': 'str', 'complaint_type': 'str', 'complaint_description': 'str', 'owning_department': 'str', 'source': 'str', 'status': 'str', 'incident_address': 'str', 'street_name': 'str', 'city': 'str', 'incident_zip': 'float', 'county': 'str', 'state_plane_x_coordinate': 'str', 'state_plane_y_coordinate': 'int', 'latitude': 'float', 'longitude': 'float', 'location': 'str', 'council_district_code': 'float', 'map_page': 'str', 'map_tile': 'str'}, {'unique_key': 'str', 'complaint_type': 'str', 'complaint_description': 'str', 'owning_department': 'str', 'source': 'str', 'status': 'str', 'status_change_date': 'str', 'created_date': 'str', 'last_update_date': 'str', 'incident_address': 'str', 'street_number': 'float', 'street_name': 'str', 'city': 'str', 'incident_zip': 'float', 'state_plane_x_coordinate': 'str', 'state_plane_y_coordinate': 'float', 'latitude': 'float', 'longitude': 'float', 'location': 'str', 'council_district_code': 'float', 'map_page': 'str', 'map_tile': 'str'}, {'unique_key': 'str', 'complaint_type': 'str', 'complaint_description': 'str', 'owning_department': 'str', 'source': 'str', 'status': 'str', 'status_change_date': 'str', 'created_date': 'str', 'last_update_date': 'str', 'close_date': 'str'}, {'unique_key': 'str', 'complaint_type': 'str', 'complaint_description': 'str', 'owning_department': 'str', 'source': 'str', 'status': 'str', 'status_change_date': 'str', 'created_date': 'str', 'last_update_date': 'str', 'incident_address': 'str', 'street_name': 'str', 'city': 'str', 'incident_zip': 'float', 'county': 'str', 'state_plane_x_coordinate': 'str', 'state_plane_y_coordinate': 'float', 'latitude': 'float', 'longitude': 'float', 'location': 'str', 'council_district_code': 'float', 'map_page': 'str', 'map_tile': 'str'}, {'unique_key': 'str', 'complaint_type': 'str', 'complaint_description': 'str', 'owning_department': 'str', 'source': 'str', 'status': 'str', 'status_change_date': 'str', 'created_date': 'str', 'last_update_date': 'str', 'close_date': 'str', 'incident_address': 'str', 'street_name': 'str', 'city': 'str', 'incident_zip': 'float', 'state_plane_x_coordinate': 'str', 'state_plane_y_coordinate': 'float', 'latitude': 'float', 'longitude': 'float', 'location': 'str', 'map_page': 'str', 'map_tile': 'str'}, {'unique_key': 'str', 'complaint_type': 'str', 'complaint_description': 'str', 'owning_department': 'str', 'source': 'str', 'status': 'str', 'status_change_date': 'str', 'created_date': 'str', 'last_update_date': 'str', 'incident_address': 'str', 'street_number': 'float', 'street_name': 'str', 'city': 'str', 'incident_zip': 'float', 'county': 'str', 'state_plane_x_coordinate': 'str', 'state_plane_y_coordinate': 'float', 'latitude': 'float', 'longitude': 'float', 'location': 'str', 'map_page': 'str', 'map_tile': 'str'}, {'unique_key': 'str', 'complaint_type': 'str', 'complaint_description': 'str', 'owning_department': 'str', 'source': 'str', 'status': 'str', 'status_change_date': 'str', 'created_date': 'str', 'last_update_date': 'str', 'close_date': 'str', 'incident_address': 'str', 'street_number': 'float', 'street_name': 'str', 'city': 'str', 'incident_zip': 'float', 'state_plane_x_coordinate': 'str', 'state_plane_y_coordinate': 'float', 'latitude': 'float', 'longitude': 'float', 'location': 'str', 'council_district_code': 'float', 'map_page': 'str', 'map_tile': 'str'}, {'unique_key': 'str', 'complaint_type': 'str', 'complaint_description': 'str', 'owning_department': 'str', 'source': 'str', 'status': 'str', 'status_change_date': 'str', 'created_date': 'str', 'last_update_date': 'str', 'close_date': 'str', 'incident_address': 'str', 'street_name': 'str', 'city': 'str', 'state_plane_x_coordinate': 'float', 'state_plane_y_coordinate': 'int', 'latitude': 'float', 'longitude': 'float', 'location': 'str'}, {'unique_key': 'str', 'complaint_type': 'str', 'complaint_description': 'str', 'owning_department': 'str', 'source': 'str', 'status': 'str', 'status_change_date': 'str', 'created_date': 'str', 'last_update_date': 'str', 'close_date': 'str', 'incident_address': 'str', 'street_name': 'str', 'state_plane_x_coordinate': 'str', 'state_plane_y_coordinate': 'int', 'latitude': 'float', 'longitude': 'float', 'location': 'str'}, {'unique_key': 'str', 'complaint_type': 'str', 'complaint_description': 'str', 'owning_department': 'str', 'source': 'str', 'status': 'str', 'status_change_date': 'str', 'created_date': 'str', 'last_update_date': 'str', 'close_date': 'str', 'incident_address': 'str', 'street_number': 'float', 'street_name': 'str', 'city': 'str', 'incident_zip': 'float', 'state_plane_x_coordinate': 'str', 'state_plane_y_coordinate': 'float', 'latitude': 'float', 'longitude': 'float', 'location': 'str', 'map_page': 'str', 'map_tile': 'str'}, {'unique_key': 'str', 'complaint_type': 'str', 'complaint_description': 'str', 'owning_department': 'str', 'source': 'str', 'status': 'str', 'status_change_date': 'str', 'created_date': 'str', 'last_update_date': 'str', 'close_date': 'str', 'incident_address': 'str', 'street_number': 'float', 'street_name': 'str', 'incident_zip': 'float', 'county': 'str', 'state_plane_x_coordinate': 'str', 'state_plane_y_coordinate': 'float', 'latitude': 'float', 'longitude': 'float', 'location': 'str', 'map_page': 'str'}, {'unique_key': 'str', 'complaint_type': 'str', 'complaint_description': 'str', 'owning_department': 'str', 'source': 'str', 'status': 'str', 'status_change_date': 'str', 'created_date': 'str', 'last_update_date': 'str', 'incident_address': 'str', 'street_name': 'str', 'city': 'str', 'state_plane_x_coordinate': 'str', 'state_plane_y_coordinate': 'int', 'latitude': 'float', 'longitude': 'float', 'location': 'str'}, {'unique_key': 'str', 'complaint_type': 'str', 'complaint_description': 'str', 'owning_department': 'str', 'source': 'str', 'status': 'str', 'status_change_date': 'str', 'created_date': 'str', 'last_update_date': 'str', 'close_date': 'str', 'incident_address': 'str', 'street_number': 'float', 'street_name': 'str', 'incident_zip': 'float', 'county': 'str', 'state_plane_x_coordinate': 'str', 'state_plane_y_coordinate': 'float', 'latitude': 'float', 'longitude': 'float', 'location': 'str', 'map_page': 'str', 'map_tile': 'str'}]\n"
     ]
    },
    {
     "name": "stdout",
     "output_type": "stream",
     "text": [
      "{'{\"unique_key\": \"str\", \"complaint_type\": \"str\", \"complaint_description\": \"str\", \"owning_department\": \"str\", \"source\": \"str\", \"status\": \"str\", \"status_change_date\": \"str\", \"created_date\": \"str\", \"last_update_date\": \"str\", \"close_date\": \"str\", \"incident_address\": \"str\", \"street_number\": \"float\", \"street_name\": \"str\", \"city\": \"str\", \"incident_zip\": \"float\", \"county\": \"str\", \"state_plane_x_coordinate\": \"str\", \"state_plane_y_coordinate\": \"float\", \"latitude\": \"float\", \"longitude\": \"float\", \"location\": \"str\", \"council_district_code\": \"float\", \"map_page\": \"str\", \"map_tile\": \"str\"}': 1051, '{\"unique_key\": \"str\", \"complaint_type\": \"str\", \"complaint_description\": \"str\", \"owning_department\": \"str\", \"source\": \"str\", \"status\": \"str\", \"status_change_date\": \"str\", \"created_date\": \"str\", \"last_update_date\": \"str\", \"close_date\": \"str\", \"incident_address\": \"str\", \"street_name\": \"str\", \"city\": \"str\", \"incident_zip\": \"float\", \"county\": \"str\", \"state_plane_x_coordinate\": \"str\", \"state_plane_y_coordinate\": \"float\", \"latitude\": \"float\", \"longitude\": \"float\", \"location\": \"str\", \"council_district_code\": \"float\", \"map_page\": \"str\", \"map_tile\": \"str\"}': 256, '{\"unique_key\": \"str\", \"complaint_type\": \"str\", \"complaint_description\": \"str\", \"owning_department\": \"str\", \"source\": \"str\", \"status\": \"str\", \"status_change_date\": \"str\", \"created_date\": \"str\", \"last_update_date\": \"str\", \"close_date\": \"str\", \"incident_address\": \"str\", \"street_number\": \"float\", \"street_name\": \"str\", \"city\": \"str\", \"incident_zip\": \"float\", \"county\": \"str\", \"state_plane_x_coordinate\": \"str\", \"state_plane_y_coordinate\": \"float\", \"latitude\": \"float\", \"longitude\": \"float\", \"location\": \"str\", \"map_page\": \"str\", \"map_tile\": \"str\"}': 65, '{\"unique_key\": \"str\", \"complaint_type\": \"str\", \"complaint_description\": \"str\", \"owning_department\": \"str\", \"source\": \"str\", \"status\": \"str\", \"status_change_date\": \"str\", \"created_date\": \"str\", \"last_update_date\": \"str\", \"incident_address\": \"str\", \"street_number\": \"float\", \"street_name\": \"str\", \"city\": \"str\", \"incident_zip\": \"float\", \"county\": \"str\", \"state_plane_x_coordinate\": \"str\", \"state_plane_y_coordinate\": \"float\", \"latitude\": \"float\", \"longitude\": \"float\", \"location\": \"str\", \"council_district_code\": \"float\", \"map_page\": \"str\", \"map_tile\": \"str\"}': 46, '{\"unique_key\": \"str\", \"complaint_type\": \"str\", \"complaint_description\": \"str\", \"owning_department\": \"str\", \"source\": \"str\", \"status\": \"str\", \"incident_address\": \"str\", \"street_number\": \"float\", \"street_name\": \"float\", \"city\": \"str\", \"incident_zip\": \"float\", \"county\": \"str\", \"state_plane_x_coordinate\": \"str\", \"state_plane_y_coordinate\": \"int\", \"latitude\": \"float\", \"longitude\": \"float\", \"location\": \"str\", \"council_district_code\": \"float\", \"map_page\": \"str\", \"map_tile\": \"str\"}': 12, '{\"unique_key\": \"str\", \"complaint_type\": \"str\", \"complaint_description\": \"str\", \"owning_department\": \"str\", \"source\": \"str\", \"status\": \"str\", \"status_change_date\": \"str\", \"created_date\": \"str\", \"last_update_date\": \"str\", \"close_date\": \"str\", \"incident_address\": \"str\", \"street_number\": \"float\", \"street_name\": \"str\", \"city\": \"str\", \"incident_zip\": \"float\", \"county\": \"str\", \"state_plane_x_coordinate\": \"str\", \"state_plane_y_coordinate\": \"float\", \"latitude\": \"float\", \"longitude\": \"float\", \"location\": \"str\", \"map_page\": \"str\"}': 3, '{\"unique_key\": \"str\", \"complaint_type\": \"str\", \"complaint_description\": \"str\", \"owning_department\": \"str\", \"source\": \"str\", \"status\": \"str\", \"status_change_date\": \"str\", \"created_date\": \"str\", \"last_update_date\": \"str\", \"close_date\": \"str\", \"incident_address\": \"str\", \"street_name\": \"str\", \"city\": \"str\", \"incident_zip\": \"float\", \"county\": \"str\", \"state_plane_x_coordinate\": \"str\", \"state_plane_y_coordinate\": \"float\", \"latitude\": \"float\", \"longitude\": \"float\", \"location\": \"str\", \"map_page\": \"str\", \"map_tile\": \"str\"}': 10, '{\"unique_key\": \"str\", \"complaint_type\": \"str\", \"complaint_description\": \"str\", \"owning_department\": \"str\", \"source\": \"str\", \"status\": \"str\", \"incident_address\": \"str\", \"street_name\": \"str\", \"city\": \"str\", \"incident_zip\": \"float\", \"county\": \"str\", \"state_plane_x_coordinate\": \"str\", \"state_plane_y_coordinate\": \"int\", \"latitude\": \"float\", \"longitude\": \"float\", \"location\": \"str\", \"council_district_code\": \"float\", \"map_page\": \"str\", \"map_tile\": \"str\"}': 5, '{\"unique_key\": \"str\", \"complaint_type\": \"str\", \"complaint_description\": \"str\", \"owning_department\": \"str\", \"source\": \"str\", \"status\": \"str\", \"status_change_date\": \"str\", \"created_date\": \"str\", \"last_update_date\": \"str\", \"incident_address\": \"str\", \"street_number\": \"float\", \"street_name\": \"str\", \"city\": \"str\", \"incident_zip\": \"float\", \"state_plane_x_coordinate\": \"str\", \"state_plane_y_coordinate\": \"float\", \"latitude\": \"float\", \"longitude\": \"float\", \"location\": \"str\", \"council_district_code\": \"float\", \"map_page\": \"str\", \"map_tile\": \"str\"}': 3, '{\"unique_key\": \"str\", \"complaint_type\": \"str\", \"complaint_description\": \"str\", \"owning_department\": \"str\", \"source\": \"str\", \"status\": \"str\", \"status_change_date\": \"str\", \"created_date\": \"str\", \"last_update_date\": \"str\", \"close_date\": \"str\"}': 10, '{\"unique_key\": \"str\", \"complaint_type\": \"str\", \"complaint_description\": \"str\", \"owning_department\": \"str\", \"source\": \"str\", \"status\": \"str\", \"status_change_date\": \"str\", \"created_date\": \"str\", \"last_update_date\": \"str\", \"incident_address\": \"str\", \"street_name\": \"str\", \"city\": \"str\", \"incident_zip\": \"float\", \"county\": \"str\", \"state_plane_x_coordinate\": \"str\", \"state_plane_y_coordinate\": \"float\", \"latitude\": \"float\", \"longitude\": \"float\", \"location\": \"str\", \"council_district_code\": \"float\", \"map_page\": \"str\", \"map_tile\": \"str\"}': 18, '{\"unique_key\": \"str\", \"complaint_type\": \"str\", \"complaint_description\": \"str\", \"owning_department\": \"str\", \"source\": \"str\", \"status\": \"str\", \"status_change_date\": \"str\", \"created_date\": \"str\", \"last_update_date\": \"str\", \"close_date\": \"str\", \"incident_address\": \"str\", \"street_name\": \"str\", \"city\": \"str\", \"incident_zip\": \"float\", \"state_plane_x_coordinate\": \"str\", \"state_plane_y_coordinate\": \"float\", \"latitude\": \"float\", \"longitude\": \"float\", \"location\": \"str\", \"map_page\": \"str\", \"map_tile\": \"str\"}': 6, '{\"unique_key\": \"str\", \"complaint_type\": \"str\", \"complaint_description\": \"str\", \"owning_department\": \"str\", \"source\": \"str\", \"status\": \"str\", \"status_change_date\": \"str\", \"created_date\": \"str\", \"last_update_date\": \"str\", \"incident_address\": \"str\", \"street_number\": \"float\", \"street_name\": \"str\", \"city\": \"str\", \"incident_zip\": \"float\", \"county\": \"str\", \"state_plane_x_coordinate\": \"str\", \"state_plane_y_coordinate\": \"float\", \"latitude\": \"float\", \"longitude\": \"float\", \"location\": \"str\", \"map_page\": \"str\", \"map_tile\": \"str\"}': 2, '{\"unique_key\": \"str\", \"complaint_type\": \"str\", \"complaint_description\": \"str\", \"owning_department\": \"str\", \"source\": \"str\", \"status\": \"str\", \"status_change_date\": \"str\", \"created_date\": \"str\", \"last_update_date\": \"str\", \"close_date\": \"str\", \"incident_address\": \"str\", \"street_number\": \"float\", \"street_name\": \"str\", \"city\": \"str\", \"incident_zip\": \"float\", \"state_plane_x_coordinate\": \"str\", \"state_plane_y_coordinate\": \"float\", \"latitude\": \"float\", \"longitude\": \"float\", \"location\": \"str\", \"council_district_code\": \"float\", \"map_page\": \"str\", \"map_tile\": \"str\"}': 4, '{\"unique_key\": \"str\", \"complaint_type\": \"str\", \"complaint_description\": \"str\", \"owning_department\": \"str\", \"source\": \"str\", \"status\": \"str\", \"status_change_date\": \"str\", \"created_date\": \"str\", \"last_update_date\": \"str\", \"close_date\": \"str\", \"incident_address\": \"str\", \"street_name\": \"str\", \"city\": \"str\", \"state_plane_x_coordinate\": \"float\", \"state_plane_y_coordinate\": \"int\", \"latitude\": \"float\", \"longitude\": \"float\", \"location\": \"str\"}': 2, '{\"unique_key\": \"str\", \"complaint_type\": \"str\", \"complaint_description\": \"str\", \"owning_department\": \"str\", \"source\": \"str\", \"status\": \"str\", \"status_change_date\": \"str\", \"created_date\": \"str\", \"last_update_date\": \"str\", \"close_date\": \"str\", \"incident_address\": \"str\", \"street_name\": \"str\", \"state_plane_x_coordinate\": \"str\", \"state_plane_y_coordinate\": \"int\", \"latitude\": \"float\", \"longitude\": \"float\", \"location\": \"str\"}': 1, '{\"unique_key\": \"str\", \"complaint_type\": \"str\", \"complaint_description\": \"str\", \"owning_department\": \"str\", \"source\": \"str\", \"status\": \"str\", \"status_change_date\": \"str\", \"created_date\": \"str\", \"last_update_date\": \"str\", \"close_date\": \"str\", \"incident_address\": \"str\", \"street_number\": \"float\", \"street_name\": \"str\", \"city\": \"str\", \"incident_zip\": \"float\", \"state_plane_x_coordinate\": \"str\", \"state_plane_y_coordinate\": \"float\", \"latitude\": \"float\", \"longitude\": \"float\", \"location\": \"str\", \"map_page\": \"str\", \"map_tile\": \"str\"}': 3, '{\"unique_key\": \"str\", \"complaint_type\": \"str\", \"complaint_description\": \"str\", \"owning_department\": \"str\", \"source\": \"str\", \"status\": \"str\", \"status_change_date\": \"str\", \"created_date\": \"str\", \"last_update_date\": \"str\", \"close_date\": \"str\", \"incident_address\": \"str\", \"street_number\": \"float\", \"street_name\": \"str\", \"incident_zip\": \"float\", \"county\": \"str\", \"state_plane_x_coordinate\": \"str\", \"state_plane_y_coordinate\": \"float\", \"latitude\": \"float\", \"longitude\": \"float\", \"location\": \"str\", \"map_page\": \"str\"}': 1, '{\"unique_key\": \"str\", \"complaint_type\": \"str\", \"complaint_description\": \"str\", \"owning_department\": \"str\", \"source\": \"str\", \"status\": \"str\", \"status_change_date\": \"str\", \"created_date\": \"str\", \"last_update_date\": \"str\", \"incident_address\": \"str\", \"street_name\": \"str\", \"city\": \"str\", \"state_plane_x_coordinate\": \"str\", \"state_plane_y_coordinate\": \"int\", \"latitude\": \"float\", \"longitude\": \"float\", \"location\": \"str\"}': 1, '{\"unique_key\": \"str\", \"complaint_type\": \"str\", \"complaint_description\": \"str\", \"owning_department\": \"str\", \"source\": \"str\", \"status\": \"str\", \"status_change_date\": \"str\", \"created_date\": \"str\", \"last_update_date\": \"str\", \"close_date\": \"str\", \"incident_address\": \"str\", \"street_number\": \"float\", \"street_name\": \"str\", \"incident_zip\": \"float\", \"county\": \"str\", \"state_plane_x_coordinate\": \"str\", \"state_plane_y_coordinate\": \"float\", \"latitude\": \"float\", \"longitude\": \"float\", \"location\": \"str\", \"map_page\": \"str\", \"map_tile\": \"str\"}': 1}"
     ]
    },
    {
     "name": "stdout",
     "output_type": "stream",
     "text": [
      "\n",
      "{   '{\"unique_key\": \"str\", \"complaint_type\": \"str\", \"complaint_description\": \"str\", \"owning_department\": \"str\", \"source\": \"str\", \"status\": \"str\", \"incident_address\": \"str\", \"street_name\": \"str\", \"city\": \"str\", \"incident_zip\": \"float\", \"county\": \"str\", \"state_plane_x_coordinate\": \"str\", \"state_plane_y_coordinate\": \"int\", \"latitude\": \"float\", \"longitude\": \"float\", \"location\": \"str\", \"council_district_code\": \"float\", \"map_page\": \"str\", \"map_tile\": \"str\"}': 5,\n",
      "    '{\"unique_key\": \"str\", \"complaint_type\": \"str\", \"complaint_description\": \"str\", \"owning_department\": \"str\", \"source\": \"str\", \"status\": \"str\", \"incident_address\": \"str\", \"street_number\": \"float\", \"street_name\": \"float\", \"city\": \"str\", \"incident_zip\": \"float\", \"county\": \"str\", \"state_plane_x_coordinate\": \"str\", \"state_plane_y_coordinate\": \"int\", \"latitude\": \"float\", \"longitude\": \"float\", \"location\": \"str\", \"council_district_code\": \"float\", \"map_page\": \"str\", \"map_tile\": \"str\"}': 12,\n",
      "    '{\"unique_key\": \"str\", \"complaint_type\": \"str\", \"complaint_description\": \"str\", \"owning_department\": \"str\", \"source\": \"str\", \"status\": \"str\", \"status_change_date\": \"str\", \"created_date\": \"str\", \"last_update_date\": \"str\", \"close_date\": \"str\", \"incident_address\": \"str\", \"street_name\": \"str\", \"city\": \"str\", \"incident_zip\": \"float\", \"county\": \"str\", \"state_plane_x_coordinate\": \"str\", \"state_plane_y_coordinate\": \"float\", \"latitude\": \"float\", \"longitude\": \"float\", \"location\": \"str\", \"council_district_code\": \"float\", \"map_page\": \"str\", \"map_tile\": \"str\"}': 256,\n",
      "    '{\"unique_key\": \"str\", \"complaint_type\": \"str\", \"complaint_description\": \"str\", \"owning_department\": \"str\", \"source\": \"str\", \"status\": \"str\", \"status_change_date\": \"str\", \"created_date\": \"str\", \"last_update_date\": \"str\", \"close_date\": \"str\", \"incident_address\": \"str\", \"street_name\": \"str\", \"city\": \"str\", \"incident_zip\": \"float\", \"county\": \"str\", \"state_plane_x_coordinate\": \"str\", \"state_plane_y_coordinate\": \"float\", \"latitude\": \"float\", \"longitude\": \"float\", \"location\": \"str\", \"map_page\": \"str\", \"map_tile\": \"str\"}': 10,\n",
      "    '{\"unique_key\": \"str\", \"complaint_type\": \"str\", \"complaint_description\": \"str\", \"owning_department\": \"str\", \"source\": \"str\", \"status\": \"str\", \"status_change_date\": \"str\", \"created_date\": \"str\", \"last_update_date\": \"str\", \"close_date\": \"str\", \"incident_address\": \"str\", \"street_name\": \"str\", \"city\": \"str\", \"incident_zip\": \"float\", \"state_plane_x_coordinate\": \"str\", \"state_plane_y_coordinate\": \"float\", \"latitude\": \"float\", \"longitude\": \"float\", \"location\": \"str\", \"map_page\": \"str\", \"map_tile\": \"str\"}': 6,\n",
      "    '{\"unique_key\": \"str\", \"complaint_type\": \"str\", \"complaint_description\": \"str\", \"owning_department\": \"str\", \"source\": \"str\", \"status\": \"str\", \"status_change_date\": \"str\", \"created_date\": \"str\", \"last_update_date\": \"str\", \"close_date\": \"str\", \"incident_address\": \"str\", \"street_name\": \"str\", \"city\": \"str\", \"state_plane_x_coordinate\": \"float\", \"state_plane_y_coordinate\": \"int\", \"latitude\": \"float\", \"longitude\": \"float\", \"location\": \"str\"}': 2,\n",
      "    '{\"unique_key\": \"str\", \"complaint_type\": \"str\", \"complaint_description\": \"str\", \"owning_department\": \"str\", \"source\": \"str\", \"status\": \"str\", \"status_change_date\": \"str\", \"created_date\": \"str\", \"last_update_date\": \"str\", \"close_date\": \"str\", \"incident_address\": \"str\", \"street_name\": \"str\", \"state_plane_x_coordinate\": \"str\", \"state_plane_y_coordinate\": \"int\", \"latitude\": \"float\", \"longitude\": \"float\", \"location\": \"str\"}': 1,\n",
      "    '{\"unique_key\": \"str\", \"complaint_type\": \"str\", \"complaint_description\": \"str\", \"owning_department\": \"str\", \"source\": \"str\", \"status\": \"str\", \"status_change_date\": \"str\", \"created_date\": \"str\", \"last_update_date\": \"str\", \"close_date\": \"str\", \"incident_address\": \"str\", \"street_number\": \"float\", \"street_name\": \"str\", \"city\": \"str\", \"incident_zip\": \"float\", \"county\": \"str\", \"state_plane_x_coordinate\": \"str\", \"state_plane_y_coordinate\": \"float\", \"latitude\": \"float\", \"longitude\": \"float\", \"location\": \"str\", \"council_district_code\": \"float\", \"map_page\": \"str\", \"map_tile\": \"str\"}': 1051,\n",
      "    '{\"unique_key\": \"str\", \"complaint_type\": \"str\", \"complaint_description\": \"str\", \"owning_department\": \"str\", \"source\": \"str\", \"status\": \"str\", \"status_change_date\": \"str\", \"created_date\": \"str\", \"last_update_date\": \"str\", \"close_date\": \"str\", \"incident_address\": \"str\", \"street_number\": \"float\", \"street_name\": \"str\", \"city\": \"str\", \"incident_zip\": \"float\", \"county\": \"str\", \"state_plane_x_coordinate\": \"str\", \"state_plane_y_coordinate\": \"float\", \"latitude\": \"float\", \"longitude\": \"float\", \"location\": \"str\", \"map_page\": \"str\", \"map_tile\": \"str\"}': 65,\n",
      "    '{\"unique_key\": \"str\", \"complaint_type\": \"str\", \"complaint_description\": \"str\", \"owning_department\": \"str\", \"source\": \"str\", \"status\": \"str\", \"status_change_date\": \"str\", \"created_date\": \"str\", \"last_update_date\": \"str\", \"close_date\": \"str\", \"incident_address\": \"str\", \"street_number\": \"float\", \"street_name\": \"str\", \"city\": \"str\", \"incident_zip\": \"float\", \"county\": \"str\", \"state_plane_x_coordinate\": \"str\", \"state_plane_y_coordinate\": \"float\", \"latitude\": \"float\", \"longitude\": \"float\", \"location\": \"str\", \"map_page\": \"str\"}': 3,\n",
      "    '{\"unique_key\": \"str\", \"complaint_type\": \"str\", \"complaint_description\": \"str\", \"owning_department\": \"str\", \"source\": \"str\", \"status\": \"str\", \"status_change_date\": \"str\", \"created_date\": \"str\", \"last_update_date\": \"str\", \"close_date\": \"str\", \"incident_address\": \"str\", \"street_number\": \"float\", \"street_name\": \"str\", \"city\": \"str\", \"incident_zip\": \"float\", \"state_plane_x_coordinate\": \"str\", \"state_plane_y_coordinate\": \"float\", \"latitude\": \"float\", \"longitude\": \"float\", \"location\": \"str\", \"council_district_code\": \"float\", \"map_page\": \"str\", \"map_tile\": \"str\"}': 4,\n",
      "    '{\"unique_key\": \"str\", \"complaint_type\": \"str\", \"complaint_description\": \"str\", \"owning_department\": \"str\", \"source\": \"str\", \"status\": \"str\", \"status_change_date\": \"str\", \"created_date\": \"str\", \"last_update_date\": \"str\", \"close_date\": \"str\", \"incident_address\": \"str\", \"street_number\": \"float\", \"street_name\": \"str\", \"city\": \"str\", \"incident_zip\": \"float\", \"state_plane_x_coordinate\": \"str\", \"state_plane_y_coordinate\": \"float\", \"latitude\": \"float\", \"longitude\": \"float\", \"location\": \"str\", \"map_page\": \"str\", \"map_tile\": \"str\"}': 3,\n",
      "    '{\"unique_key\": \"str\", \"complaint_type\": \"str\", \"complaint_description\": \"str\", \"owning_department\": \"str\", \"source\": \"str\", \"status\": \"str\", \"status_change_date\": \"str\", \"created_date\": \"str\", \"last_update_date\": \"str\", \"close_date\": \"str\", \"incident_address\": \"str\", \"street_number\": \"float\", \"street_name\": \"str\", \"incident_zip\": \"float\", \"county\": \"str\", \"state_plane_x_coordinate\": \"str\", \"state_plane_y_coordinate\": \"float\", \"latitude\": \"float\", \"longitude\": \"float\", \"location\": \"str\", \"map_page\": \"str\", \"map_tile\": \"str\"}': 1,\n",
      "    '{\"unique_key\": \"str\", \"complaint_type\": \"str\", \"complaint_description\": \"str\", \"owning_department\": \"str\", \"source\": \"str\", \"status\": \"str\", \"status_change_date\": \"str\", \"created_date\": \"str\", \"last_update_date\": \"str\", \"close_date\": \"str\", \"incident_address\": \"str\", \"street_number\": \"float\", \"street_name\": \"str\", \"incident_zip\": \"float\", \"county\": \"str\", \"state_plane_x_coordinate\": \"str\", \"state_plane_y_coordinate\": \"float\", \"latitude\": \"float\", \"longitude\": \"float\", \"location\": \"str\", \"map_page\": \"str\"}': 1,\n",
      "    '{\"unique_key\": \"str\", \"complaint_type\": \"str\", \"complaint_description\": \"str\", \"owning_department\": \"str\", \"source\": \"str\", \"status\": \"str\", \"status_change_date\": \"str\", \"created_date\": \"str\", \"last_update_date\": \"str\", \"close_date\": \"str\"}': 10,\n",
      "    '{\"unique_key\": \"str\", \"complaint_type\": \"str\", \"complaint_description\": \"str\", \"owning_department\": \"str\", \"source\": \"str\", \"status\": \"str\", \"status_change_date\": \"str\", \"created_date\": \"str\", \"last_update_date\": \"str\", \"incident_address\": \"str\", \"street_name\": \"str\", \"city\": \"str\", \"incident_zip\": \"float\", \"county\": \"str\", \"state_plane_x_coordinate\": \"str\", \"state_plane_y_coordinate\": \"float\", \"latitude\": \"float\", \"longitude\": \"float\", \"location\": \"str\", \"council_district_code\": \"float\", \"map_page\": \"str\", \"map_tile\": \"str\"}': 18,\n"
     ]
    },
    {
     "name": "stdout",
     "output_type": "stream",
     "text": [
      "    '{\"unique_key\": \"str\", \"complaint_type\": \"str\", \"complaint_description\": \"str\", \"owning_department\": \"str\", \"source\": \"str\", \"status\": \"str\", \"status_change_date\": \"str\", \"created_date\": \"str\", \"last_update_date\": \"str\", \"incident_address\": \"str\", \"street_name\": \"str\", \"city\": \"str\", \"state_plane_x_coordinate\": \"str\", \"state_plane_y_coordinate\": \"int\", \"latitude\": \"float\", \"longitude\": \"float\", \"location\": \"str\"}': 1,\n",
      "    '{\"unique_key\": \"str\", \"complaint_type\": \"str\", \"complaint_description\": \"str\", \"owning_department\": \"str\", \"source\": \"str\", \"status\": \"str\", \"status_change_date\": \"str\", \"created_date\": \"str\", \"last_update_date\": \"str\", \"incident_address\": \"str\", \"street_number\": \"float\", \"street_name\": \"str\", \"city\": \"str\", \"incident_zip\": \"float\", \"county\": \"str\", \"state_plane_x_coordinate\": \"str\", \"state_plane_y_coordinate\": \"float\", \"latitude\": \"float\", \"longitude\": \"float\", \"location\": \"str\", \"council_district_code\": \"float\", \"map_page\": \"str\", \"map_tile\": \"str\"}': 46,\n",
      "    '{\"unique_key\": \"str\", \"complaint_type\": \"str\", \"complaint_description\": \"str\", \"owning_department\": \"str\", \"source\": \"str\", \"status\": \"str\", \"status_change_date\": \"str\", \"created_date\": \"str\", \"last_update_date\": \"str\", \"incident_address\": \"str\", \"street_number\": \"float\", \"street_name\": \"str\", \"city\": \"str\", \"incident_zip\": \"float\", \"county\": \"str\", \"state_plane_x_coordinate\": \"str\", \"state_plane_y_coordinate\": \"float\", \"latitude\": \"float\", \"longitude\": \"float\", \"location\": \"str\", \"map_page\": \"str\", \"map_tile\": \"str\"}': 2,\n",
      "    '{\"unique_key\": \"str\", \"complaint_type\": \"str\", \"complaint_description\": \"str\", \"owning_department\": \"str\", \"source\": \"str\", \"status\": \"str\", \"status_change_date\": \"str\", \"created_date\": \"str\", \"last_update_date\": \"str\", \"incident_address\": \"str\", \"street_number\": \"float\", \"street_name\": \"str\", \"city\": \"str\", \"incident_zip\": \"float\", \"state_plane_x_coordinate\": \"str\", \"state_plane_y_coordinate\": \"float\", \"latitude\": \"float\", \"longitude\": \"float\", \"location\": \"str\", \"council_district_code\": \"float\", \"map_page\": \"str\", \"map_tile\": \"str\"}': 3}\n",
      "time: 354 ms\n"
     ]
    }
   ],
   "source": [
    "# We need to count how many distinct schema in a collection\n",
    "# Different path, and datatype\n",
    "\n",
    "schemas = []\n",
    "numOfScheme = 0\n",
    "count = 0\n",
    "datas=[]\n",
    "sizeOfSchema={} # how many documents for each schema .\n",
    "MAX = 999999999 \n",
    "counter = 0\n",
    "# Process document by document in data.\n",
    "# get schema for each document\n",
    "for document in data:\n",
    "    if counter >= MAX:\n",
    "        break\n",
    "    rscheme = {}\n",
    "    datas.append(document)\n",
    "    count += 1\n",
    "    getNumOfScheme(rscheme, document)\n",
    "    has = False\n",
    "    for key in sizeOfSchema.keys():\n",
    "        tmp = json.loads(key)\n",
    "        if tmp.keys() == rscheme.keys():\n",
    "            sizeOfSchema[key] += 1\n",
    "            has = True\n",
    "    if not has:\n",
    "        sizeOfSchema[json.dumps(rscheme)] = 1\n",
    "    if not checkIfHave(schemas, rscheme):\n",
    "        schemas.append(rscheme)\n",
    "    counter+=1\n",
    "        \n",
    "\n",
    "\n",
    "# Creat schema with id\n",
    "schemasDict = {} # schema with id\n",
    "\n",
    "schemasID = 0 # id\n",
    "for schema in schemas:\n",
    "    schemasDict[schemasID] = schema\n",
    "    schemasID = schemasID + 1\n",
    "    \n",
    "print(\"number of schemas:\" , len(schemas))\n",
    "print(\"number of documents:\" , count)\n",
    "print(schemas)\n",
    "print(sizeOfSchema)\n",
    "pp = pprint.PrettyPrinter(indent=4)\n",
    "pp.pprint(sizeOfSchema)"
   ]
  },
  {
   "cell_type": "markdown",
   "metadata": {},
   "source": [
    "<a id='algorithm'></a>\n",
    "## Algorithm"
   ]
  },
  {
   "cell_type": "markdown",
   "metadata": {},
   "source": [
    "## Tree"
   ]
  },
  {
   "cell_type": "code",
   "execution_count": 12,
   "metadata": {},
   "outputs": [
    {
     "name": "stdout",
     "output_type": "stream",
     "text": [
      "time: 9 ms\n"
     ]
    }
   ],
   "source": [
    "# A decision tree calss\n",
    "class DecisionTree():\n",
    "    # construction\n",
    "    def __init__(self):\n",
    "        # node list to contain list of node\n",
    "        self.nodes = []\n",
    "        # Edge list to contain list of edges\n",
    "        self.edges = []\n",
    "        # current entropy and schema entropy\n",
    "        self.entropy = 0\n",
    "        self.schemaentropy = 0\n",
    "        self.leafid=0\n",
    "    def addNode (self, newNode, parent = None, value = None):\n",
    "        self.nodes.append(newNode)\n",
    "        if parent is not None and value is not None:\n",
    "            temp = Edge(paren, newNode, value)\n",
    "            for edge in self.edges:\n",
    "                if not edge == temp:\n",
    "                    self.edges.append(temp)\n",
    "    def split(self, node,key, nodeList, isPure):\n",
    "        newNode = Node(key)\n",
    "        newNode.id = self.leafid\n",
    "        self.leafid = self.leafid + 1\n",
    "        if len(self.nodes)==1:\n",
    "            if node in self.nodes:\n",
    "                self.nodes.remove(node)\n",
    "                self.nodes.append(newNode)\n",
    "                self.root = newNode\n",
    "                for leaf in nodeList:\n",
    "                    leaf.canBeSplit = isPure\n",
    "                    if len(leaf.schemas)== 1:\n",
    "                        leaf.canBeSplit = False\n",
    "                    leaf.id = self.leafid\n",
    "                    self.leafid = self.leafid + 1\n",
    "                    self.nodes.append(leaf)\n",
    "                    temp = Edge(newNode, leaf, leaf.value, leaf.symbol)\n",
    "                    self.edges.append(temp)\n",
    "        else:\n",
    "            if node in self.nodes:\n",
    "                self.nodes.remove(node)\n",
    "                self.nodes.append(newNode)\n",
    "                for edge in self.edges:\n",
    "                    if edge.contain(node):\n",
    "                        edge.children = newNode\n",
    "                for leaf in nodeList:\n",
    "                    leaf.canBeSplit = isPure\n",
    "                    leaf.id = self.leafid\n",
    "                    self.leafid = self.leafid + 1\n",
    "                    self.nodes.append(leaf)\n",
    "                    temp = Edge(newNode, leaf, leaf.value, leaf.symbol)\n",
    "                    self.edges.append(temp)\n",
    "                    \n",
    "    def display(self):\n",
    "        for node in self.nodes:\n",
    "            print(node.name)\n",
    "        for edge in self.edges:\n",
    "            print(edge.value)\n",
    "    def recover(self, key):\n",
    "        schemas = []\n",
    "        for node in self.nodes:\n",
    "            if node.name == key:\n",
    "                getSchemas(node,schemas)\n",
    "                remove(node)\n",
    "                break\n",
    "        for edge in self.edges:\n",
    "            if edge.children.name == key:\n",
    "                edge.children = Leaf(schemas,edge.value, edge,symbol)\n",
    "            elif len(self.nodes) == 0:\n",
    "                self.nodes.append(Leaf(schemas,'',''))\n",
    "                \n",
    "    def remove(self,node):\n",
    "        for item in list(self.nodes):\n",
    "            self.nodes.remove(item)\n",
    "        for item in list(self.edges):\n",
    "            if item.parent == node:\n",
    "                self.edges.remove(item)\n",
    "                remove(item.children)\n",
    "    def getSchemas(self, node,schemas):\n",
    "        for edge in self.edges:\n",
    "            if type(node).__name__ == \"leaf\":\n",
    "                schemas.append(node.schemas);\n",
    "            elif edge.parent==node:\n",
    "                getSchemas(edge.children,schemas)\n",
    "                \n",
    "        \n",
    "            \n",
    "        \n",
    "class Node():\n",
    "    def __init__(self, name):\n",
    "        self.name = name\n",
    "        self.children = []\n",
    "        self.splited = []\n",
    "        self.id=''\n",
    "    def addChild(self, obj):\n",
    "        self.children.append(obj)\n",
    "    def __eq__(self, other):\n",
    "        if isinstance(other, Node):\n",
    "            return self.name == other.name and self.id == other.id\n",
    "        return False\n",
    "    \n",
    "class Leaf(Node):\n",
    "    def __init__(self, schemas, value, symbol, name = 'leaf'):\n",
    "        self.schemas = schemas\n",
    "        self.splited = []\n",
    "        self.name = name\n",
    "        self.canBeSplit = True\n",
    "        self.value = value\n",
    "        self.symbol = symbol\n",
    "        self.id=''\n",
    "    def getSchemas(self):\n",
    "        return self.schemas \n",
    "    def __eq__(self, other):\n",
    "        if isinstance(other, Leaf):\n",
    "            return self.id == other.id and self.schemas == other.schemas and self.value == other.value and self.symbol == other.symbol\n",
    "        return False\n",
    "        \n",
    "class Edge():\n",
    "    def __init__(self, parent, children, value, symbol):\n",
    "        self.parent = parent\n",
    "        self.children = children\n",
    "        self.value = value\n",
    "        self.symbol = symbol\n",
    "    def __eq__(self, other):\n",
    "        if isinstance(other, Edge):\n",
    "            return (self.children == other.childre) and (self.parent == other.paren) and (self.value == other.value)\n",
    "        return False\n",
    "    def contain(self, node):\n",
    "        if self.children == node:\n",
    "            return True\n",
    "        else:\n",
    "            return False"
   ]
  },
  {
   "cell_type": "markdown",
   "metadata": {},
   "source": [
    "### All need methods"
   ]
  },
  {
   "cell_type": "code",
   "execution_count": 13,
   "metadata": {},
   "outputs": [
    {
     "name": "stdout",
     "output_type": "stream",
     "text": [
      "time: 969 µs\n"
     ]
    }
   ],
   "source": [
    "\n",
    "def mergeSchemas(schemas):\n",
    "    rschemas ={}\n",
    "    for schema in schemas:\n",
    "        for key, value in schema.items():\n",
    "            if key in rschemas and not value == rschemas[key]:\n",
    "                rschemas[key] = 'str'\n",
    "            else:\n",
    "                rschemas[key] = value\n",
    "    return rschemas"
   ]
  },
  {
   "cell_type": "code",
   "execution_count": 14,
   "metadata": {},
   "outputs": [
    {
     "name": "stdout",
     "output_type": "stream",
     "text": [
      "time: 7 ms\n"
     ]
    }
   ],
   "source": [
    "# Numeric split can be <= and >\n",
    "def numeric(node, key, value, datas):\n",
    "    less = Leaf([], value, 'lessEqual')\n",
    "    greater = Leaf([],value, 'greater')\n",
    "    # Get nodeList after split\n",
    "    nodeList = [Leaf([],value, 'equal'), Leaf([],value,'notEqual')]\n",
    "    # get associated schema and split them - valuebased and schema based\n",
    "    for data in datas:\n",
    "        rscheme = {}\n",
    "        getNumOfScheme (rscheme, data)\n",
    "        if getValue(data, key.split('.')) <= value:\n",
    "            if not checkIfHave(less.schemas, rscheme):\n",
    "                less.schemas.append(rscheme)\n",
    "        else:\n",
    "            if not checkIfHave(greater.schemas, rscheme):\n",
    "                greater.schemas.append(rscheme)\n",
    "        if getValue(data, key.split('.')) == value:\n",
    "            if not checkIfHave(nodeList[0].schemas, rscheme):\n",
    "                nodeList[0].schemas.append(rscheme)\n",
    "        else:\n",
    "            if not checkIfHave(nodeList[1].schemas, rscheme):\n",
    "                nodeList[1].schemas.append(rscheme)\n",
    "\n",
    "    # calculate entropy:\n",
    "    lessEntropy = 0\n",
    "    greaterEntropy = 0\n",
    "    lessTotal = 0\n",
    "    greaterTotal = 0\n",
    "    \n",
    "    for schema in less.schemas: \n",
    "        number = 0\n",
    "        for key in sizeOfSchema.keys():\n",
    "            tmp = json.loads(key)\n",
    "            if tmp.keys() == schema.keys():\n",
    "                number = sizeOfSchema[key]\n",
    "        lessTotal = lessTotal + number\n",
    "    for schema in greater.schemas:\n",
    "        number = 0\n",
    "        for key in sizeOfSchema.keys():\n",
    "            tmp = json.loads(key)\n",
    "            if tmp.keys() == schema.keys():\n",
    "                number = sizeOfSchema[key]\n",
    "        greaterTotal = greaterTotal + number\n",
    "    # calculate schema-entropy3\n",
    "    sEntropy = 0\n",
    "    totalLength = lessTotal+greaterTotal\n",
    "    for schema in node.schemas:\n",
    "        number = 0\n",
    "        for key in sizeOfSchema.keys():\n",
    "            tmp = json.loads(key)\n",
    "            if tmp.keys() == schema.keys():\n",
    "                number = sizeOfSchema[key]\n",
    "            \n",
    "        if schema in less.schemas and schema in greater.schemas:\n",
    "            lessEntropy = lessEntropy -  number/(lessTotal)* math.log2( number/lessTotal)\n",
    "            greaterEntropy = greaterEntropy -  number/(greaterTotal)* math.log2( number/greaterTotal)\n",
    "        elif schema in less.schemas and schema not in greater.schemas:\n",
    "            lessEntropy = lessEntropy -  number/(lessTotal)* math.log2( number/lessTotal)\n",
    "        elif schema not in less.schemas and schema in greater.schemas:\n",
    "            greaterEntropy = greaterEntropy -  number/(greaterTotal)* math.log2( number/greaterTotal)\n",
    "        if schema in less.schemas and schema in greater.schemas:\n",
    "            temp = number/(2*number)* math.log2(number/(2*number))+ number/(2*number)* math.log2(number/(2*number))\n",
    "            sEntropy = sEntropy - 2*len(schema)/totalLength * temp\n",
    "        elif schema in less.schemas and schema not in greater.schemas:\n",
    "            temp = number/number* math.log2(number/number)\n",
    "            sEntropy = sEntropy - len(schema)/totalLength * temp\n",
    "        elif schema not in less.schemas and schema in greater.schemas:\n",
    "            temp = number/number* math.log2(number/number)\n",
    "            sEntropy = sEntropy - len(schema)/totalLength * temp\n",
    "    entropy = lessEntropy * lessTotal /totalLength + greaterEntropy * greaterTotal / totalLength\n",
    "    \n",
    "     # calculate entropy and sEntropy\n",
    "    entropyCategorical1, sEntropyCategorical1 = entropysCalculation(nodeList,node.schemas)\n",
    "    \n",
    "    if sEntropy < sEntropyCategorical1:\n",
    "        return entropy, sEntropy, [less, greater]\n",
    "    elif sEntropy == sEntropyCategorical1:\n",
    "        if entropy < entropyCategorical1:\n",
    "            return entropy, sEntropy, [less, greater]\n",
    "        else:\n",
    "            return entropyCategorical1, sEntropyCategorical1, nodeList\n",
    "    else:\n",
    "        return entropyCategorical1, sEntropyCategorical1, nodeList\n",
    "        \n",
    "            \n",
    "        \n",
    "\n",
    "\n",
    "\n",
    "def categorical(node, key, values, datas):\n",
    "    # Get nodeList after split\n",
    "    nodeList = []\n",
    "    for value in values:\n",
    "        schemas = []\n",
    "        for data in datas:\n",
    "            rscheme = {}\n",
    "            getNumOfScheme (rscheme, data)\n",
    "            if getValue(data, key.split('.')) == value:\n",
    "                if not checkIfHave(schemas, rscheme):\n",
    "                    schemas.append(rscheme)\n",
    "        nodeList.append(Leaf(schemas, value, 'equal'))\n",
    "    \n",
    "    # calculate entropy and sEntropy\n",
    "    entropy, sEntropy = entropysCalculation(nodeList,node.schemas)\n",
    "                \n",
    "    return entropy, sEntropy, nodeList"
   ]
  },
  {
   "cell_type": "code",
   "execution_count": 15,
   "metadata": {},
   "outputs": [
    {
     "name": "stdout",
     "output_type": "stream",
     "text": [
      "time: 3.96 ms\n"
     ]
    }
   ],
   "source": [
    "def entropysCalculation(nodeList, schemas):\n",
    "    \n",
    "    \n",
    "    entropy = 0\n",
    "    total = 0\n",
    "    sEntropy = 0\n",
    "    for node in nodeList:\n",
    "        for schema in node.schemas:\n",
    "            total = total + sizeOfSchema[json.dumps(schema)]\n",
    "    # Entropy Calculation\n",
    "    for node in nodeList:\n",
    "        temp = 0\n",
    "        totalAttributeInThisLeaf = 0\n",
    "        for schema in node.schemas:\n",
    "            number = 0\n",
    "            for key in sizeOfSchema.keys():\n",
    "                tmp = json.loads(key)\n",
    "                if tmp.keys() == schema.keys():\n",
    "                    number = sizeOfSchema[key]\n",
    "                \n",
    "            totalAttributeInThisLeaf = totalAttributeInThisLeaf + number\n",
    "        for schema in node.schemas:\n",
    "            number = 0\n",
    "            for key in sizeOfSchema.keys():\n",
    "                tmp = json.loads(key)\n",
    "                if tmp.keys() == schema.keys():\n",
    "                    number = sizeOfSchema[key]\n",
    "                    \n",
    "            temp = temp - number/totalAttributeInThisLeaf*math.log2(number/totalAttributeInThisLeaf)\n",
    "        entropy = entropy + temp * totalAttributeInThisLeaf/total\n",
    "    \n",
    "    # sEntropy calculation\n",
    "    for schema in schemas:\n",
    "        number = 0\n",
    "        for key in sizeOfSchema.keys():\n",
    "            tmp = json.loads(key)\n",
    "            if tmp.keys() == schema.keys():\n",
    "                number = sizeOfSchema[key]\n",
    "        temp = 0\n",
    "        totalForThisSchema = 0\n",
    "        for node in nodeList:\n",
    "            if checkIfHave(node.schemas, schema):\n",
    "                totalForThisSchema = totalForThisSchema + number\n",
    "        for node in nodeList:\n",
    "            if checkIfHave(node.schemas, schema):\n",
    "                temp = temp + number/totalForThisSchema * math.log2(number/totalForThisSchema)\n",
    "        sEntropy = sEntropy - temp * totalForThisSchema/total\n",
    "    return entropy, sEntropy"
   ]
  },
  {
   "cell_type": "code",
   "execution_count": 16,
   "metadata": {},
   "outputs": [
    {
     "name": "stdout",
     "output_type": "stream",
     "text": [
      "time: 997 µs\n"
     ]
    }
   ],
   "source": [
    "\n",
    "def getValue(currentData, path):\n",
    "    if len(path) == 1:\n",
    "        key = path.pop()\n",
    "        if key in currentData:\n",
    "            return currentData[key]\n",
    "        else:\n",
    "            return None\n",
    "    else:\n",
    "        return getValue(currentData[path.pop()], path)\n",
    "    "
   ]
  },
  {
   "cell_type": "code",
   "execution_count": 30,
   "metadata": {},
   "outputs": [
    {
     "name": "stdout",
     "output_type": "stream",
     "text": [
      "time: 3 ms\n"
     ]
    }
   ],
   "source": [
    "# find the best splict for an attributes\n",
    "# decisionTree: Current dicisionTree before split\n",
    "# node: The node you want to split\n",
    "# key: The attribute that you want to split\n",
    "# return: bestsplit entropy value, schema entropy value and new Decision tree\n",
    "def findBestSplitValueBased(decisionTree, node, key, datas):\n",
    "    global numberOfNumeric\n",
    "    tempTree = copy.deepcopy(decisionTree)\n",
    "    # Get distinct values\n",
    "    values = []\n",
    "    for data in datas:\n",
    "        temp = getValue(data, key.split('.'))\n",
    "        if temp is not None:\n",
    "            values.append(temp)\n",
    "    values = list(set(values))\n",
    "    values.sort()\n",
    "    currentBestEntropy =  0\n",
    "    currentBestSchemaEntropy =  99999\n",
    "    currentComparison = 0\n",
    "    nodeList = []\n",
    "    # Check numeric split\n",
    "    for i in tqdm_notebook(range(0,len(values)-1), desc='numeric split ' + key):\n",
    "        # Get value for this index split\n",
    "        numberOfNumeric += 1\n",
    "        tempEntropy, tempSchemaEntropy, tempNodeList = numeric(node, key, values[i], datas)\n",
    "        \n",
    "        if tempSchemaEntropy < currentBestSchemaEntropy:\n",
    "            currentBestEntropy = tempEntropy\n",
    "            currentBestSchemaEntropy = tempSchemaEntropy\n",
    "            nodeList = tempNodeList\n",
    "        elif tempSchemaEntropy == currentBestSchemaEntropy:\n",
    "            if tempEntropy < currentBestEntropy:\n",
    "                currentBestEntropy = tempEntropy\n",
    "                currentBestSchemaEntropy = tempSchemaEntropy\n",
    "                nodeList = tempNodeList\n",
    "            \n",
    "            \n",
    "    # Get value for categorical 2 split\n",
    "    if len(values) > 1:\n",
    "        tempEntropy, tempSchemaEntropy,tempNodeList = categorical(node, key, values, datas)\n",
    "        \n",
    "        if tempSchemaEntropy < currentBestSchemaEntropy:\n",
    "            currentBestEntropy = tempEntropy\n",
    "            currentBestSchemaEntropy = tempSchemaEntropy\n",
    "            nodeList = tempNodeList\n",
    "        elif tempSchemaEntropy == currentBestSchemaEntropy:\n",
    "            if tempEntropy < currentBestEntropy:\n",
    "                currentBestEntropy = tempEntropy\n",
    "                currentBestSchemaEntropy = tempSchemaEntropy\n",
    "                nodeList = tempNodeList\n",
    "            \n",
    "        \n",
    "    return currentBestEntropy, currentBestSchemaEntropy, nodeList"
   ]
  },
  {
   "cell_type": "code",
   "execution_count": 31,
   "metadata": {},
   "outputs": [
    {
     "name": "stdout",
     "output_type": "stream",
     "text": [
      "time: 994 µs\n"
     ]
    }
   ],
   "source": [
    "def getIntersectionOfSchemas(schemas):\n",
    "    # get intersection keys\n",
    "    keys = set(schemas[0].keys())\n",
    "    for schema in schemas:\n",
    "        temp = set(schema.keys())\n",
    "        keys = temp & keys\n",
    "    intersectionOfSchemas = {}\n",
    "    for key in keys:\n",
    "        for schema in schemas:\n",
    "            if key in intersectionOfSchemas and not intersectionOfSchemas[key] == schema[key]:\n",
    "                intersectionOfSchemas.pop(key)\n",
    "            elif key not in intersectionOfSchemas:\n",
    "                intersectionOfSchemas[key] = schema[key]\n",
    "    return intersectionOfSchemas\n",
    "def getDistinctAttributes(schemas, intersectionAttributes):\n",
    "    attributes = {}\n",
    "    for schema in schemas:\n",
    "        for key, value in schema.items():\n",
    "            if key not in intersectionAttributes:\n",
    "                attributes[key]= value\n",
    "    return attributes"
   ]
  },
  {
   "cell_type": "code",
   "execution_count": 32,
   "metadata": {},
   "outputs": [
    {
     "name": "stdout",
     "output_type": "stream",
     "text": [
      "time: 980 µs\n"
     ]
    }
   ],
   "source": [
    "def findBestSplitSchemaBased(decisionTree, node, key):\n",
    "    nodeList=[Leaf([], key, 'E'), Leaf([],key,'notE')]\n",
    "    for schema in node.schemas:\n",
    "        if key in schema:\n",
    "            if not checkIfHave(nodeList[0].schemas, schema):\n",
    "                nodeList[0].schemas.append(schema)\n",
    "        else:\n",
    "            if not checkIfHave(nodeList[1].schemas, schema):\n",
    "                nodeList[1].schemas.append(schema)\n",
    "    \n",
    "    if len(nodeList[0].schemas)==0 or len(nodeList[1].schemas)==0:\n",
    "        return 999, 999, None\n",
    "    # calculate entropy and sEntropy\n",
    "    entropy, sEntropy = entropysCalculation(nodeList,node.schemas)\n",
    "    \n",
    "    return entropy, sEntropy, nodeList\n",
    "         "
   ]
  },
  {
   "cell_type": "code",
   "execution_count": 33,
   "metadata": {},
   "outputs": [
    {
     "name": "stdout",
     "output_type": "stream",
     "text": [
      "time: 1e+03 µs\n"
     ]
    }
   ],
   "source": [
    "def getCurrentData(schemas, datas):\n",
    "    currentData = []\n",
    "    for data in datas:\n",
    "        rscheme = {}\n",
    "        getNumOfScheme (rscheme, data)\n",
    "        if rscheme in schemas:\n",
    "            currentData.append(data)\n",
    "    return currentData"
   ]
  },
  {
   "cell_type": "code",
   "execution_count": 79,
   "metadata": {
    "scrolled": true
   },
   "outputs": [
    {
     "name": "stdout",
     "output_type": "stream",
     "text": [
      "time: 6 ms\n"
     ]
    }
   ],
   "source": [
    "def split(decisionTree, node, entropy, sEntropy):\n",
    "    global numberOfFBV, numberOfFBS\n",
    "    bestSplit = []\n",
    "    schemas = node.getSchemas()\n",
    "    # Get distinct intersection attributes\n",
    "    intersectionAttributes = getIntersectionOfSchemas(node.getSchemas())\n",
    "    # For each attribute, try to find the best split\n",
    "    currentBestEntropy =  0\n",
    "    currentBestSchemaEntropy =  99999\n",
    "    nodeList = []\n",
    "    bestAttribute=None\n",
    "    currentComparison = 0\n",
    "    valueSplit = True\n",
    "    for key, value in tqdm_notebook(intersectionAttributes.items(),desc='primary type'):\n",
    "        # check the value based split for primary attributes\n",
    "        if (value == 'float' or value == 'int' or value == 'bool') and key not in node.splited:\n",
    "            # find the best split for this attribute\n",
    "            currentData = getCurrentData(node.schemas, datas)\n",
    "            numberOfFBV += 1\n",
    "            tempEntropy, tempSchemaEntropy, tempNodeList = findBestSplitValueBased(decisionTree, node, key, currentData)\n",
    "            # check current best\n",
    "            if tempSchemaEntropy < currentBestSchemaEntropy:\n",
    "                currentBestEntropy = tempEntropy\n",
    "                currentBestSchemaEntropy = tempSchemaEntropy\n",
    "                nodeList = tempNodeList\n",
    "                bestAttribute = key\n",
    "            elif tempSchemaEntropy == currentBestSchemaEntropy:\n",
    "                if tempEntropy < currentBestEntropy:\n",
    "                    currentBestEntropy = tempEntropy\n",
    "                    currentBestSchemaEntropy = tempSchemaEntropy\n",
    "                    nodeList = tempNodeList\n",
    "                    bestAttribute = key\n",
    "\n",
    "                            \n",
    "    gain = entropy - currentBestEntropy\n",
    "    loss = currentBestSchemaEntropy - sEntropy\n",
    "    # if no vaild value split\n",
    "    if not gain >= alpha or not loss <= beta:\n",
    "        valueSplit = False\n",
    "#         print('No Value split find')\n",
    "#         print(bestAttribute)\n",
    "        # Get distinct attributes without intersections\n",
    "        \n",
    "        distinctAttributes = getDistinctAttributes(node.getSchemas(), intersectionAttributes)\n",
    "        for key, value in distinctAttributes.items():\n",
    "            if key not in node.splited:\n",
    "                # find the best split for this attribute\n",
    "                numberOfFBS += 1\n",
    "                tempEntropy, tempSchemaEntropy, tempNodeList = findBestSplitSchemaBased(decisionTree, node, key)\n",
    "                print(key)\n",
    "                print(tempEntropy)\n",
    "                print(tempSchemaEntropy)\n",
    "                # check current best\n",
    "                if tempSchemaEntropy < currentBestSchemaEntropy:\n",
    "                    currentBestEntropy = tempEntropy\n",
    "                    currentBestSchemaEntropy = tempSchemaEntropy\n",
    "                    nodeList = tempNodeList\n",
    "                    bestAttribute = key\n",
    "                elif tempSchemaEntropy == currentBestSchemaEntropy:\n",
    "                        if tempEntropy < currentBestEntropy:\n",
    "                            currentBestEntropy = tempEntropy\n",
    "                            currentBestSchemaEntropy = tempSchemaEntropy\n",
    "                            nodeList = tempNodeList\n",
    "                            bestAttribute = key\n",
    "                \n",
    "                \n",
    "                        \n",
    "                \n",
    "        \n",
    "        gain = entropy - currentBestEntropy\n",
    "        loss = currentBestSchemaEntropy - sEntropy\n",
    "\n",
    "        \n",
    "#         print(gain)\n",
    "#         print(loss)\n",
    "#         print(key)\n",
    "        # if also no schema split\n",
    "        if (not gain >= alpha or not loss <= beta) and not loss == 0:\n",
    "\n",
    "            for tempNode in decisionTree.nodes:\n",
    "                if tempNode == node:\n",
    "                    node.canBeSplit = False\n",
    "            return\n",
    "    \n",
    "#     print(entropy)\n",
    "#     print(sEntropy)\n",
    "    #print(bestAttribute)\n",
    "    \n",
    "    for n in nodeList:\n",
    "        n.splited.append(node.splited)\n",
    "        n.splited.append(bestAttribute)\n",
    "    decisionTree.split(node,bestAttribute, nodeList, node.canBeSplit)\n",
    "    \n",
    "    leafList = []\n",
    "    for node in decisionTree.nodes:\n",
    "        if type(node).__name__ == 'Leaf':\n",
    "            leafList.append(node)\n",
    "    currentEntropy, currentSchemaEntropy = entropysCalculation(leafList, allschema) \n",
    "    \n",
    "    for node in decisionTree.nodes:\n",
    "        if type(node).__name__ == 'Leaf' and node.canBeSplit == True:\n",
    "            split(decisionTree, node, currentEntropy, currentSchemaEntropy)\n",
    "    \n"
   ]
  },
  {
   "cell_type": "markdown",
   "metadata": {},
   "source": [
    "<a id='run'></a>\n",
    "## Run"
   ]
  },
  {
   "cell_type": "code",
   "execution_count": 80,
   "metadata": {
    "scrolled": false
   },
   "outputs": [
    {
     "name": "stdout",
     "output_type": "stream",
     "text": [
      "Error in callback <function LineWatcher.stop at 0x000001AE61FEF840> (for post_run_cell):\n"
     ]
    },
    {
     "ename": "AssertionError",
     "evalue": "",
     "output_type": "error",
     "traceback": [
      "\u001b[1;31m---------------------------------------------------------------------------\u001b[0m",
      "\u001b[1;31mAssertionError\u001b[0m                            Traceback (most recent call last)",
      "\u001b[1;32mD:\\anaconda3\\lib\\site-packages\\backcall\\backcall.py\u001b[0m in \u001b[0;36madapted\u001b[1;34m(*args, **kwargs)\u001b[0m\n\u001b[0;32m    102\u001b[0m                 \u001b[0mkwargs\u001b[0m\u001b[1;33m.\u001b[0m\u001b[0mpop\u001b[0m\u001b[1;33m(\u001b[0m\u001b[0mname\u001b[0m\u001b[1;33m)\u001b[0m\u001b[1;33m\u001b[0m\u001b[1;33m\u001b[0m\u001b[0m\n\u001b[0;32m    103\u001b[0m \u001b[1;31m#            print(args, kwargs, unmatched_pos, cut_positional, unmatched_kw)\u001b[0m\u001b[1;33m\u001b[0m\u001b[1;33m\u001b[0m\u001b[1;33m\u001b[0m\u001b[0m\n\u001b[1;32m--> 104\u001b[1;33m             \u001b[1;32mreturn\u001b[0m \u001b[0mcallback\u001b[0m\u001b[1;33m(\u001b[0m\u001b[1;33m*\u001b[0m\u001b[0margs\u001b[0m\u001b[1;33m,\u001b[0m \u001b[1;33m**\u001b[0m\u001b[0mkwargs\u001b[0m\u001b[1;33m)\u001b[0m\u001b[1;33m\u001b[0m\u001b[1;33m\u001b[0m\u001b[0m\n\u001b[0m\u001b[0;32m    105\u001b[0m \u001b[1;33m\u001b[0m\u001b[0m\n\u001b[0;32m    106\u001b[0m         \u001b[1;32mreturn\u001b[0m \u001b[0madapted\u001b[0m\u001b[1;33m\u001b[0m\u001b[1;33m\u001b[0m\u001b[0m\n",
      "\u001b[1;32mD:\\anaconda3\\lib\\site-packages\\autotime.py\u001b[0m in \u001b[0;36mstop\u001b[1;34m(self)\u001b[0m\n\u001b[0;32m     23\u001b[0m         \u001b[1;32mif\u001b[0m \u001b[0mself\u001b[0m\u001b[1;33m.\u001b[0m\u001b[0mstart_time\u001b[0m\u001b[1;33m:\u001b[0m\u001b[1;33m\u001b[0m\u001b[1;33m\u001b[0m\u001b[0m\n\u001b[0;32m     24\u001b[0m             \u001b[0mdiff\u001b[0m \u001b[1;33m=\u001b[0m \u001b[0mtime\u001b[0m\u001b[1;33m.\u001b[0m\u001b[0mtime\u001b[0m\u001b[1;33m(\u001b[0m\u001b[1;33m)\u001b[0m \u001b[1;33m-\u001b[0m \u001b[0mself\u001b[0m\u001b[1;33m.\u001b[0m\u001b[0mstart_time\u001b[0m\u001b[1;33m\u001b[0m\u001b[1;33m\u001b[0m\u001b[0m\n\u001b[1;32m---> 25\u001b[1;33m             \u001b[1;32massert\u001b[0m \u001b[0mdiff\u001b[0m \u001b[1;33m>\u001b[0m \u001b[1;36m0\u001b[0m\u001b[1;33m\u001b[0m\u001b[1;33m\u001b[0m\u001b[0m\n\u001b[0m\u001b[0;32m     26\u001b[0m             \u001b[0mprint\u001b[0m\u001b[1;33m(\u001b[0m\u001b[1;34m'time: %s'\u001b[0m \u001b[1;33m%\u001b[0m \u001b[0mformat_delta\u001b[0m\u001b[1;33m(\u001b[0m\u001b[0mdiff\u001b[0m\u001b[1;33m)\u001b[0m\u001b[1;33m)\u001b[0m\u001b[1;33m\u001b[0m\u001b[1;33m\u001b[0m\u001b[0m\n\u001b[0;32m     27\u001b[0m \u001b[1;33m\u001b[0m\u001b[0m\n",
      "\u001b[1;31mAssertionError\u001b[0m: "
     ]
    }
   ],
   "source": [
    "schemaProfiling = DecisionTree()\n",
    "allschema = schemas\n",
    "root = Leaf(schemas,'','')\n",
    "schemaProfiling.addNode(root)"
   ]
  },
  {
   "cell_type": "code",
   "execution_count": 81,
   "metadata": {
    "scrolled": true
   },
   "outputs": [
    {
     "name": "stdout",
     "output_type": "stream",
     "text": [
      "1.5634798211450183\n",
      "0.0\n"
     ]
    },
    {
     "data": {
      "application/vnd.jupyter.widget-view+json": {
       "model_id": "bdb647dcd750496c8e0cd1ef313c12b6",
       "version_major": 2,
       "version_minor": 0
      },
      "text/plain": [
       "HBox(children=(IntProgress(value=0, description='primary type', max=6, style=ProgressStyle(description_width='…"
      ]
     },
     "metadata": {},
     "output_type": "display_data"
    },
    {
     "name": "stdout",
     "output_type": "stream",
     "text": [
      "status_change_date\n",
      "1.473971731082756\n",
      "0.0\n",
      "created_date\n",
      "1.473971731082756\n",
      "0.0\n",
      "last_update_date\n",
      "1.473971731082756\n",
      "0.0\n",
      "close_date\n",
      "1.2440258553355714\n",
      "0.0\n",
      "incident_address\n",
      "1.5057018609748833\n",
      "0.0\n",
      "street_number\n",
      "0.829712831614182\n",
      "0.0\n",
      "street_name\n",
      "1.5057018609748833\n",
      "0.0\n",
      "city\n",
      "1.4916614746269614\n",
      "0.0\n",
      "incident_zip\n",
      "1.4871393771678814\n",
      "0.0\n",
      "county\n",
      "1.422039278603197\n",
      "0.0\n",
      "state_plane_x_coordinate\n",
      "1.5057018609748833\n",
      "0.0\n",
      "state_plane_y_coordinate\n",
      "1.5057018609748833\n",
      "0.0\n",
      "latitude\n",
      "1.5057018609748833\n",
      "0.0\n",
      "longitude\n",
      "1.5057018609748833\n",
      "0.0\n",
      "location\n",
      "1.5057018609748833\n",
      "0.0\n",
      "council_district_code\n",
      "1.1975561702447939\n",
      "0.0\n",
      "map_page\n",
      "1.4871393771678814\n",
      "0.0\n",
      "map_tile\n",
      "1.4697019112972458\n",
      "0.0\n"
     ]
    },
    {
     "data": {
      "application/vnd.jupyter.widget-view+json": {
       "model_id": "b753102fa98e4c3b9be60caead42272c",
       "version_major": 2,
       "version_minor": 0
      },
      "text/plain": [
       "HBox(children=(IntProgress(value=0, description='primary type', max=16, style=ProgressStyle(description_width=…"
      ]
     },
     "metadata": {},
     "output_type": "display_data"
    },
    {
     "data": {
      "application/vnd.jupyter.widget-view+json": {
       "model_id": "4cc77331f73e455297f0db386e8b72f3",
       "version_major": 2,
       "version_minor": 0
      },
      "text/plain": [
       "HBox(children=(IntProgress(value=0, description='numeric split state_plane_y_coordinate', max=1031, style=Prog…"
      ]
     },
     "metadata": {},
     "output_type": "display_data"
    },
    {
     "data": {
      "application/vnd.jupyter.widget-view+json": {
       "model_id": "87486352281744c292522c57606ed93f",
       "version_major": 2,
       "version_minor": 0
      },
      "text/plain": [
       "HBox(children=(IntProgress(value=0, description='numeric split incident_zip', max=51, style=ProgressStyle(desc…"
      ]
     },
     "metadata": {},
     "output_type": "display_data"
    },
    {
     "data": {
      "application/vnd.jupyter.widget-view+json": {
       "model_id": "9a2005124ad2477095d84f2da8798dbe",
       "version_major": 2,
       "version_minor": 0
      },
      "text/plain": [
       "HBox(children=(IntProgress(value=0, description='numeric split latitude', max=1025, style=ProgressStyle(descri…"
      ]
     },
     "metadata": {},
     "output_type": "display_data"
    },
    {
     "data": {
      "application/vnd.jupyter.widget-view+json": {
       "model_id": "070329382bba4066ae14983392fa9553",
       "version_major": 2,
       "version_minor": 0
      },
      "text/plain": [
       "HBox(children=(IntProgress(value=0, description='numeric split longitude', max=1027, style=ProgressStyle(descr…"
      ]
     },
     "metadata": {},
     "output_type": "display_data"
    },
    {
     "data": {
      "application/vnd.jupyter.widget-view+json": {
       "model_id": "229b532b6a1c49ca893333d85b25988c",
       "version_major": 2,
       "version_minor": 0
      },
      "text/plain": [
       "HBox(children=(IntProgress(value=0, description='primary type', max=6, style=ProgressStyle(description_width='…"
      ]
     },
     "metadata": {},
     "output_type": "display_data"
    },
    {
     "name": "stdout",
     "output_type": "stream",
     "text": [
      "status_change_date\n",
      "0.9720484697696252\n",
      "0.0\n",
      "created_date\n",
      "0.9720484697696252\n",
      "0.0\n",
      "last_update_date\n",
      "0.9720484697696252\n",
      "0.0\n",
      "close_date\n",
      "0.6975586850960671\n",
      "0.0\n",
      "incident_address\n",
      "0.8853694308467134\n",
      "0.0\n",
      "street_name\n",
      "0.8853694308467134\n",
      "0.0\n",
      "city\n",
      "0.8697389627840187\n",
      "0.0\n",
      "incident_zip\n",
      "0.8253554338506438\n",
      "0.0\n",
      "county\n",
      "0.7455516399287082\n",
      "0.0\n",
      "state_plane_x_coordinate\n",
      "0.8853694308467134\n",
      "0.0\n",
      "state_plane_y_coordinate\n",
      "0.8853694308467134\n",
      "0.0\n",
      "latitude\n",
      "0.8853694308467134\n",
      "0.0\n",
      "longitude\n",
      "0.8853694308467134\n",
      "0.0\n",
      "location\n",
      "0.8853694308467134\n",
      "0.0\n",
      "council_district_code\n",
      "0.6317797296638392\n",
      "0.0\n",
      "map_page\n",
      "0.8253554338506438\n",
      "0.0\n",
      "map_tile\n",
      "0.8253554338506438\n",
      "0.0\n"
     ]
    },
    {
     "data": {
      "application/vnd.jupyter.widget-view+json": {
       "model_id": "9ac0f8f156b34522b9022f7b45cb1e1e",
       "version_major": 2,
       "version_minor": 0
      },
      "text/plain": [
       "HBox(children=(IntProgress(value=0, description='primary type', max=20, style=ProgressStyle(description_width=…"
      ]
     },
     "metadata": {},
     "output_type": "display_data"
    },
    {
     "data": {
      "application/vnd.jupyter.widget-view+json": {
       "model_id": "cfc5a4d679434e4b9ea443df3d397b4b",
       "version_major": 2,
       "version_minor": 0
      },
      "text/plain": [
       "HBox(children=(IntProgress(value=1, bar_style='info', description='numeric split council_district_code', max=1…"
      ]
     },
     "metadata": {},
     "output_type": "display_data"
    },
    {
     "data": {
      "application/vnd.jupyter.widget-view+json": {
       "model_id": "0cb1bb2502ea4361b7063db763b5ad3f",
       "version_major": 2,
       "version_minor": 0
      },
      "text/plain": [
       "HBox(children=(IntProgress(value=1, bar_style='info', description='numeric split street_number', max=1, style=…"
      ]
     },
     "metadata": {},
     "output_type": "display_data"
    },
    {
     "data": {
      "application/vnd.jupyter.widget-view+json": {
       "model_id": "d68d2de0df5a4b4e8547e7820abe4c06",
       "version_major": 2,
       "version_minor": 0
      },
      "text/plain": [
       "HBox(children=(IntProgress(value=1, bar_style='info', description='numeric split latitude', max=1, style=Progr…"
      ]
     },
     "metadata": {},
     "output_type": "display_data"
    },
    {
     "data": {
      "application/vnd.jupyter.widget-view+json": {
       "model_id": "e679c4d092cf48169193e88c5d7568a8",
       "version_major": 2,
       "version_minor": 0
      },
      "text/plain": [
       "HBox(children=(IntProgress(value=1, bar_style='info', description='numeric split street_name', max=1, style=Pr…"
      ]
     },
     "metadata": {},
     "output_type": "display_data"
    },
    {
     "data": {
      "application/vnd.jupyter.widget-view+json": {
       "model_id": "0f740217c96f46209a0b7799227474bb",
       "version_major": 2,
       "version_minor": 0
      },
      "text/plain": [
       "HBox(children=(IntProgress(value=1, bar_style='info', description='numeric split incident_zip', max=1, style=P…"
      ]
     },
     "metadata": {},
     "output_type": "display_data"
    },
    {
     "data": {
      "application/vnd.jupyter.widget-view+json": {
       "model_id": "b097a46a9e9647eb89e9801b5bb7b1f6",
       "version_major": 2,
       "version_minor": 0
      },
      "text/plain": [
       "HBox(children=(IntProgress(value=1, bar_style='info', description='numeric split longitude', max=1, style=Prog…"
      ]
     },
     "metadata": {},
     "output_type": "display_data"
    },
    {
     "data": {
      "application/vnd.jupyter.widget-view+json": {
       "model_id": "94129c0da5e44b29bbf9a9ef860e12f2",
       "version_major": 2,
       "version_minor": 0
      },
      "text/plain": [
       "HBox(children=(IntProgress(value=0, description='primary type', max=19, style=ProgressStyle(description_width=…"
      ]
     },
     "metadata": {},
     "output_type": "display_data"
    },
    {
     "data": {
      "application/vnd.jupyter.widget-view+json": {
       "model_id": "19c78eeffb234aaeabba670dba7b46b7",
       "version_major": 2,
       "version_minor": 0
      },
      "text/plain": [
       "HBox(children=(IntProgress(value=0, description='numeric split street_number', max=795, style=ProgressStyle(de…"
      ]
     },
     "metadata": {},
     "output_type": "display_data"
    },
    {
     "data": {
      "application/vnd.jupyter.widget-view+json": {
       "model_id": "af80eba8fdb44aaba7bfc8d6bb798623",
       "version_major": 2,
       "version_minor": 0
      },
      "text/plain": [
       "HBox(children=(IntProgress(value=0, description='numeric split latitude', max=1024, style=ProgressStyle(descri…"
      ]
     },
     "metadata": {},
     "output_type": "display_data"
    },
    {
     "data": {
      "application/vnd.jupyter.widget-view+json": {
       "model_id": "984dc9f12f9149b6b873b1f200ba1520",
       "version_major": 2,
       "version_minor": 0
      },
      "text/plain": [
       "HBox(children=(IntProgress(value=0, description='numeric split incident_zip', max=51, style=ProgressStyle(desc…"
      ]
     },
     "metadata": {},
     "output_type": "display_data"
    },
    {
     "data": {
      "application/vnd.jupyter.widget-view+json": {
       "model_id": "cc17e537bbd44105bbf2422a7d54302f",
       "version_major": 2,
       "version_minor": 0
      },
      "text/plain": [
       "HBox(children=(IntProgress(value=0, description='numeric split longitude', max=1026, style=ProgressStyle(descr…"
      ]
     },
     "metadata": {},
     "output_type": "display_data"
    },
    {
     "name": "stdout",
     "output_type": "stream",
     "text": [
      "close_date\n",
      "0.43040148346070695\n",
      "0.0\n",
      "city\n",
      "0.669375224074671\n",
      "0.0\n",
      "county\n",
      "0.6168814535964104\n",
      "0.0\n",
      "council_district_code\n",
      "0.3458084250416266\n",
      "0.0\n",
      "map_tile\n",
      "0.6547147198984846\n",
      "0.0\n"
     ]
    },
    {
     "data": {
      "application/vnd.jupyter.widget-view+json": {
       "model_id": "111d3f010f5f4ea48b76c6dc14dd3eff",
       "version_major": 2,
       "version_minor": 0
      },
      "text/plain": [
       "HBox(children=(IntProgress(value=0, description='primary type', max=19, style=ProgressStyle(description_width=…"
      ]
     },
     "metadata": {},
     "output_type": "display_data"
    },
    {
     "data": {
      "application/vnd.jupyter.widget-view+json": {
       "model_id": "752a52110e524259959f5e59f11bc2a7",
       "version_major": 2,
       "version_minor": 0
      },
      "text/plain": [
       "HBox(children=(IntProgress(value=0, description='numeric split latitude', max=204, style=ProgressStyle(descrip…"
      ]
     },
     "metadata": {},
     "output_type": "display_data"
    },
    {
     "data": {
      "application/vnd.jupyter.widget-view+json": {
       "model_id": "9cbfd6e8e2d44464a379a715281b3b48",
       "version_major": 2,
       "version_minor": 0
      },
      "text/plain": [
       "HBox(children=(IntProgress(value=0, description='numeric split state_plane_y_coordinate', max=210, style=Progr…"
      ]
     },
     "metadata": {},
     "output_type": "display_data"
    },
    {
     "data": {
      "application/vnd.jupyter.widget-view+json": {
       "model_id": "bf750115bda148a989191a013c62ee1c",
       "version_major": 2,
       "version_minor": 0
      },
      "text/plain": [
       "HBox(children=(IntProgress(value=0, description='numeric split incident_zip', max=36, style=ProgressStyle(desc…"
      ]
     },
     "metadata": {},
     "output_type": "display_data"
    },
    {
     "data": {
      "application/vnd.jupyter.widget-view+json": {
       "model_id": "caff9fe917114edb8c76e69d404ef9ca",
       "version_major": 2,
       "version_minor": 0
      },
      "text/plain": [
       "HBox(children=(IntProgress(value=0, description='numeric split longitude', max=203, style=ProgressStyle(descri…"
      ]
     },
     "metadata": {},
     "output_type": "display_data"
    },
    {
     "name": "stdout",
     "output_type": "stream",
     "text": [
      "status_change_date\n",
      "0.34337684840581617\n",
      "0.0\n",
      "created_date\n",
      "0.34337684840581617\n",
      "0.0\n",
      "last_update_date\n",
      "0.34337684840581617\n",
      "0.0\n",
      "close_date\n",
      "0.062271091358110604\n",
      "0.0\n"
     ]
    },
    {
     "data": {
      "application/vnd.jupyter.widget-view+json": {
       "model_id": "2c496a7d65424b41ae7ceeb19cf8cef7",
       "version_major": 2,
       "version_minor": 0
      },
      "text/plain": [
       "HBox(children=(IntProgress(value=0, description='primary type', max=9, style=ProgressStyle(description_width='…"
      ]
     },
     "metadata": {},
     "output_type": "display_data"
    },
    {
     "name": "stdout",
     "output_type": "stream",
     "text": [
      "close_date\n",
      "1.89777039855418\n",
      "0.0\n",
      "incident_address\n",
      "1.190316864818223\n",
      "0.0\n",
      "street_name\n",
      "1.190316864818223\n",
      "0.0\n",
      "city\n",
      "1.160534455278807\n",
      "0.0\n",
      "incident_zip\n",
      "1.1118210668910757\n",
      "0.0\n",
      "county\n",
      "1.190316864818223\n",
      "0.0\n",
      "state_plane_x_coordinate\n",
      "1.190316864818223\n",
      "0.0\n",
      "state_plane_y_coordinate\n",
      "1.190316864818223\n",
      "0.0\n",
      "latitude\n",
      "1.190316864818223\n",
      "0.0\n",
      "longitude\n",
      "1.190316864818223\n",
      "0.0\n",
      "location\n",
      "1.190316864818223\n",
      "0.0\n",
      "map_page\n",
      "1.1118210668910757\n",
      "0.0\n",
      "map_tile\n",
      "1.1118210668910757\n",
      "0.0\n"
     ]
    },
    {
     "data": {
      "application/vnd.jupyter.widget-view+json": {
       "model_id": "d6f10c85100c4433bb6ed797932ab504",
       "version_major": 2,
       "version_minor": 0
      },
      "text/plain": [
       "HBox(children=(IntProgress(value=0, description='primary type', max=22, style=ProgressStyle(description_width=…"
      ]
     },
     "metadata": {},
     "output_type": "display_data"
    },
    {
     "data": {
      "application/vnd.jupyter.widget-view+json": {
       "model_id": "760143f8cf9f4f04acbf31ffd4c8c9b2",
       "version_major": 2,
       "version_minor": 0
      },
      "text/plain": [
       "HBox(children=(IntProgress(value=0, description='numeric split street_number', max=748, style=ProgressStyle(de…"
      ]
     },
     "metadata": {},
     "output_type": "display_data"
    },
    {
     "data": {
      "application/vnd.jupyter.widget-view+json": {
       "model_id": "d805b3d22c1642928700453a7c8d7df8",
       "version_major": 2,
       "version_minor": 0
      },
      "text/plain": [
       "HBox(children=(IntProgress(value=0, description='numeric split latitude', max=955, style=ProgressStyle(descrip…"
      ]
     },
     "metadata": {},
     "output_type": "display_data"
    },
    {
     "data": {
      "application/vnd.jupyter.widget-view+json": {
       "model_id": "35edb3c59372466f829ccacee86dacb1",
       "version_major": 2,
       "version_minor": 0
      },
      "text/plain": [
       "HBox(children=(IntProgress(value=0, description='numeric split state_plane_y_coordinate', max=961, style=Progr…"
      ]
     },
     "metadata": {},
     "output_type": "display_data"
    },
    {
     "data": {
      "application/vnd.jupyter.widget-view+json": {
       "model_id": "071d18c11fa745579550281700b9345a",
       "version_major": 2,
       "version_minor": 0
      },
      "text/plain": [
       "HBox(children=(IntProgress(value=0, description='numeric split incident_zip', max=36, style=ProgressStyle(desc…"
      ]
     },
     "metadata": {},
     "output_type": "display_data"
    },
    {
     "data": {
      "application/vnd.jupyter.widget-view+json": {
       "model_id": "d64a16d077f54cf797d874d498360843",
       "version_major": 2,
       "version_minor": 0
      },
      "text/plain": [
       "HBox(children=(IntProgress(value=0, description='numeric split longitude', max=957, style=ProgressStyle(descri…"
      ]
     },
     "metadata": {},
     "output_type": "display_data"
    },
    {
     "name": "stdout",
     "output_type": "stream",
     "text": [
      "close_date\n",
      "0.04910686635766059\n",
      "0.0\n",
      "county\n",
      "0.2557386289598462\n",
      "0.0\n"
     ]
    },
    {
     "data": {
      "application/vnd.jupyter.widget-view+json": {
       "model_id": "7a006872196f4ecdbf389fdd394fac6a",
       "version_major": 2,
       "version_minor": 0
      },
      "text/plain": [
       "HBox(children=(IntProgress(value=0, description='primary type', max=19, style=ProgressStyle(description_width=…"
      ]
     },
     "metadata": {},
     "output_type": "display_data"
    },
    {
     "data": {
      "application/vnd.jupyter.widget-view+json": {
       "model_id": "2cfcd64346844822a7134a6c865972be",
       "version_major": 2,
       "version_minor": 0
      },
      "text/plain": [
       "HBox(children=(IntProgress(value=0, description='numeric split street_number', max=67, style=ProgressStyle(des…"
      ]
     },
     "metadata": {},
     "output_type": "display_data"
    },
    {
     "data": {
      "application/vnd.jupyter.widget-view+json": {
       "model_id": "e583f50b6688443893d4115c17397516",
       "version_major": 2,
       "version_minor": 0
      },
      "text/plain": [
       "HBox(children=(IntProgress(value=0, description='numeric split latitude', max=68, style=ProgressStyle(descript…"
      ]
     },
     "metadata": {},
     "output_type": "display_data"
    },
    {
     "data": {
      "application/vnd.jupyter.widget-view+json": {
       "model_id": "094faa324bba4623b636e4695f7bd621",
       "version_major": 2,
       "version_minor": 0
      },
      "text/plain": [
       "HBox(children=(IntProgress(value=0, description='numeric split state_plane_y_coordinate', max=68, style=Progre…"
      ]
     },
     "metadata": {},
     "output_type": "display_data"
    },
    {
     "data": {
      "application/vnd.jupyter.widget-view+json": {
       "model_id": "f6f852e9a25f43a8ae74a58c8a55f0a4",
       "version_major": 2,
       "version_minor": 0
      },
      "text/plain": [
       "HBox(children=(IntProgress(value=0, description='numeric split incident_zip', max=29, style=ProgressStyle(desc…"
      ]
     },
     "metadata": {},
     "output_type": "display_data"
    },
    {
     "data": {
      "application/vnd.jupyter.widget-view+json": {
       "model_id": "322cc81ec04d431ba9f4669bf424801a",
       "version_major": 2,
       "version_minor": 0
      },
      "text/plain": [
       "HBox(children=(IntProgress(value=0, description='numeric split longitude', max=68, style=ProgressStyle(descrip…"
      ]
     },
     "metadata": {},
     "output_type": "display_data"
    },
    {
     "name": "stdout",
     "output_type": "stream",
     "text": [
      "close_date\n",
      "0.6785801326275304\n",
      "0.0\n",
      "city\n",
      "0.6785801326275304\n",
      "0.0\n",
      "county\n",
      "0.613677396731113\n",
      "0.0\n",
      "map_tile\n",
      "0.555578168448746\n",
      "0.0\n"
     ]
    },
    {
     "data": {
      "application/vnd.jupyter.widget-view+json": {
       "model_id": "081fd6c4c4ec44db92eb97264a6898e6",
       "version_major": 2,
       "version_minor": 0
      },
      "text/plain": [
       "HBox(children=(IntProgress(value=0, description='primary type', max=23, style=ProgressStyle(description_width=…"
      ]
     },
     "metadata": {},
     "output_type": "display_data"
    },
    {
     "data": {
      "application/vnd.jupyter.widget-view+json": {
       "model_id": "a38f907b2085480fa44789d9a0e7c72c",
       "version_major": 2,
       "version_minor": 0
      },
      "text/plain": [
       "HBox(children=(IntProgress(value=0, description='numeric split council_district_code', max=9, style=ProgressSt…"
      ]
     },
     "metadata": {},
     "output_type": "display_data"
    },
    {
     "data": {
      "application/vnd.jupyter.widget-view+json": {
       "model_id": "09c3da9beed74a5ba6b637a9125f4027",
       "version_major": 2,
       "version_minor": 0
      },
      "text/plain": [
       "HBox(children=(IntProgress(value=0, description='numeric split latitude', max=190, style=ProgressStyle(descrip…"
      ]
     },
     "metadata": {},
     "output_type": "display_data"
    },
    {
     "data": {
      "application/vnd.jupyter.widget-view+json": {
       "model_id": "55e3bfe4af6149789ff3cc7f5a1d4f73",
       "version_major": 2,
       "version_minor": 0
      },
      "text/plain": [
       "HBox(children=(IntProgress(value=0, description='numeric split state_plane_y_coordinate', max=195, style=Progr…"
      ]
     },
     "metadata": {},
     "output_type": "display_data"
    },
    {
     "data": {
      "application/vnd.jupyter.widget-view+json": {
       "model_id": "c78b116a0ac64bc1b34157cd04039562",
       "version_major": 2,
       "version_minor": 0
      },
      "text/plain": [
       "HBox(children=(IntProgress(value=0, description='numeric split incident_zip', max=36, style=ProgressStyle(desc…"
      ]
     },
     "metadata": {},
     "output_type": "display_data"
    },
    {
     "data": {
      "application/vnd.jupyter.widget-view+json": {
       "model_id": "31147c417ccf43859fec93e264a8a195",
       "version_major": 2,
       "version_minor": 0
      },
      "text/plain": [
       "HBox(children=(IntProgress(value=0, description='numeric split longitude', max=189, style=ProgressStyle(descri…"
      ]
     },
     "metadata": {},
     "output_type": "display_data"
    },
    {
     "data": {
      "application/vnd.jupyter.widget-view+json": {
       "model_id": "7c5decd2063f452898009af28ebe50aa",
       "version_major": 2,
       "version_minor": 0
      },
      "text/plain": [
       "HBox(children=(IntProgress(value=0, description='primary type', max=18, style=ProgressStyle(description_width=…"
      ]
     },
     "metadata": {},
     "output_type": "display_data"
    },
    {
     "data": {
      "application/vnd.jupyter.widget-view+json": {
       "model_id": "a6b574950c214f73925710a07ac10529",
       "version_major": 2,
       "version_minor": 0
      },
      "text/plain": [
       "HBox(children=(IntProgress(value=0, description='numeric split council_district_code', max=7, style=ProgressSt…"
      ]
     },
     "metadata": {},
     "output_type": "display_data"
    },
    {
     "data": {
      "application/vnd.jupyter.widget-view+json": {
       "model_id": "dc0a8261a62e4a108783894de1f6805d",
       "version_major": 2,
       "version_minor": 0
      },
      "text/plain": [
       "HBox(children=(IntProgress(value=0, description='numeric split latitude', max=15, style=ProgressStyle(descript…"
      ]
     },
     "metadata": {},
     "output_type": "display_data"
    },
    {
     "data": {
      "application/vnd.jupyter.widget-view+json": {
       "model_id": "c76d5db206fa4d3798972b8f28fb790f",
       "version_major": 2,
       "version_minor": 0
      },
      "text/plain": [
       "HBox(children=(IntProgress(value=0, description='numeric split incident_zip', max=11, style=ProgressStyle(desc…"
      ]
     },
     "metadata": {},
     "output_type": "display_data"
    },
    {
     "data": {
      "application/vnd.jupyter.widget-view+json": {
       "model_id": "5152d5ae338741ef83e71d40fd0d14bf",
       "version_major": 2,
       "version_minor": 0
      },
      "text/plain": [
       "HBox(children=(IntProgress(value=0, description='numeric split longitude', max=15, style=ProgressStyle(descrip…"
      ]
     },
     "metadata": {},
     "output_type": "display_data"
    },
    {
     "name": "stdout",
     "output_type": "stream",
     "text": [
      "state_plane_y_coordinate\n",
      "999\n",
      "999\n",
      "status_change_date\n",
      "0.0\n",
      "0.0\n",
      "created_date\n",
      "0.0\n",
      "0.0\n",
      "last_update_date\n",
      "0.0\n",
      "0.0\n"
     ]
    },
    {
     "data": {
      "application/vnd.jupyter.widget-view+json": {
       "model_id": "8545b0bf22b842f2bd2cfa4dad371ad7",
       "version_major": 2,
       "version_minor": 0
      },
      "text/plain": [
       "HBox(children=(IntProgress(value=0, description='primary type', max=21, style=ProgressStyle(description_width=…"
      ]
     },
     "metadata": {},
     "output_type": "display_data"
    },
    {
     "data": {
      "application/vnd.jupyter.widget-view+json": {
       "model_id": "6b3831b1c0b94a08adaf50ea70f2baff",
       "version_major": 2,
       "version_minor": 0
      },
      "text/plain": [
       "HBox(children=(IntProgress(value=0, description='numeric split latitude', max=13, style=ProgressStyle(descript…"
      ]
     },
     "metadata": {},
     "output_type": "display_data"
    },
    {
     "data": {
      "application/vnd.jupyter.widget-view+json": {
       "model_id": "f39c7a8820484ca885440eeafaefd035",
       "version_major": 2,
       "version_minor": 0
      },
      "text/plain": [
       "HBox(children=(IntProgress(value=0, description='numeric split state_plane_y_coordinate', max=13, style=Progre…"
      ]
     },
     "metadata": {},
     "output_type": "display_data"
    },
    {
     "data": {
      "application/vnd.jupyter.widget-view+json": {
       "model_id": "b67d03947a9a43318d879250fa2fc2a7",
       "version_major": 2,
       "version_minor": 0
      },
      "text/plain": [
       "HBox(children=(IntProgress(value=0, description='numeric split longitude', max=13, style=ProgressStyle(descrip…"
      ]
     },
     "metadata": {},
     "output_type": "display_data"
    },
    {
     "name": "stdout",
     "output_type": "stream",
     "text": [
      "county\n",
      "0.0\n",
      "0.0\n"
     ]
    },
    {
     "data": {
      "application/vnd.jupyter.widget-view+json": {
       "model_id": "e489de905b784eed9e34f88d08e640de",
       "version_major": 2,
       "version_minor": 0
      },
      "text/plain": [
       "HBox(children=(IntProgress(value=0, description='primary type', max=9, style=ProgressStyle(description_width='…"
      ]
     },
     "metadata": {},
     "output_type": "display_data"
    },
    {
     "name": "stdout",
     "output_type": "stream",
     "text": [
      "close_date\n",
      "0.920459670497184\n",
      "0.0\n",
      "incident_address\n",
      "0.42857142857142855\n",
      "0.0\n",
      "street_name\n",
      "0.42857142857142855\n",
      "0.0\n",
      "city\n",
      "0.5420967398785798\n",
      "0.0\n",
      "state_plane_x_coordinate\n",
      "0.42857142857142855\n",
      "0.0\n",
      "state_plane_y_coordinate\n",
      "0.42857142857142855\n",
      "0.0\n",
      "latitude\n",
      "0.42857142857142855\n",
      "0.0\n",
      "longitude\n",
      "0.42857142857142855\n",
      "0.0\n",
      "location\n",
      "0.42857142857142855\n",
      "0.0\n"
     ]
    },
    {
     "data": {
      "application/vnd.jupyter.widget-view+json": {
       "model_id": "55b0b0acab7941f0adaf6a8518d11e8a",
       "version_major": 2,
       "version_minor": 0
      },
      "text/plain": [
       "HBox(children=(IntProgress(value=0, description='primary type', max=23, style=ProgressStyle(description_width=…"
      ]
     },
     "metadata": {},
     "output_type": "display_data"
    },
    {
     "data": {
      "application/vnd.jupyter.widget-view+json": {
       "model_id": "8474aedbef0d4ed894d5cd0f8a41f52b",
       "version_major": 2,
       "version_minor": 0
      },
      "text/plain": [
       "HBox(children=(IntProgress(value=0, description='numeric split council_district_code', max=9, style=ProgressSt…"
      ]
     },
     "metadata": {},
     "output_type": "display_data"
    },
    {
     "data": {
      "application/vnd.jupyter.widget-view+json": {
       "model_id": "30575fb2a95f46f1967553ec3d5f0d81",
       "version_major": 2,
       "version_minor": 0
      },
      "text/plain": [
       "HBox(children=(IntProgress(value=0, description='numeric split street_number', max=719, style=ProgressStyle(de…"
      ]
     },
     "metadata": {},
     "output_type": "display_data"
    },
    {
     "data": {
      "application/vnd.jupyter.widget-view+json": {
       "model_id": "348e4d33f7874910b53981f026237663",
       "version_major": 2,
       "version_minor": 0
      },
      "text/plain": [
       "HBox(children=(IntProgress(value=0, description='numeric split latitude', max=911, style=ProgressStyle(descrip…"
      ]
     },
     "metadata": {},
     "output_type": "display_data"
    },
    {
     "data": {
      "application/vnd.jupyter.widget-view+json": {
       "model_id": "dabcd46853114ca3bf1f18d3741d781f",
       "version_major": 2,
       "version_minor": 0
      },
      "text/plain": [
       "HBox(children=(IntProgress(value=0, description='numeric split state_plane_y_coordinate', max=916, style=Progr…"
      ]
     },
     "metadata": {},
     "output_type": "display_data"
    },
    {
     "data": {
      "application/vnd.jupyter.widget-view+json": {
       "model_id": "44cf6bc7814849479ec2dde6f7a857dc",
       "version_major": 2,
       "version_minor": 0
      },
      "text/plain": [
       "HBox(children=(IntProgress(value=0, description='numeric split incident_zip', max=36, style=ProgressStyle(desc…"
      ]
     },
     "metadata": {},
     "output_type": "display_data"
    },
    {
     "data": {
      "application/vnd.jupyter.widget-view+json": {
       "model_id": "49e88ec383fa4632b35371b3356218e0",
       "version_major": 2,
       "version_minor": 0
      },
      "text/plain": [
       "HBox(children=(IntProgress(value=0, description='numeric split longitude', max=913, style=ProgressStyle(descri…"
      ]
     },
     "metadata": {},
     "output_type": "display_data"
    },
    {
     "name": "stdout",
     "output_type": "stream",
     "text": [
      "county\n",
      "0.0\n",
      "0.0\n"
     ]
    },
    {
     "data": {
      "application/vnd.jupyter.widget-view+json": {
       "model_id": "4f261bb6f06b4f459cf0a2d5e9ea6765",
       "version_major": 2,
       "version_minor": 0
      },
      "text/plain": [
       "HBox(children=(IntProgress(value=0, description='primary type', max=22, style=ProgressStyle(description_width=…"
      ]
     },
     "metadata": {},
     "output_type": "display_data"
    },
    {
     "data": {
      "application/vnd.jupyter.widget-view+json": {
       "model_id": "42ecbb6a5f4746679cb23b45250022c3",
       "version_major": 2,
       "version_minor": 0
      },
      "text/plain": [
       "HBox(children=(IntProgress(value=0, description='numeric split council_district_code', max=9, style=ProgressSt…"
      ]
     },
     "metadata": {},
     "output_type": "display_data"
    },
    {
     "data": {
      "application/vnd.jupyter.widget-view+json": {
       "model_id": "6407be443985480592ac41fb7c9fb1f3",
       "version_major": 2,
       "version_minor": 0
      },
      "text/plain": [
       "HBox(children=(IntProgress(value=0, description='numeric split street_number', max=45, style=ProgressStyle(des…"
      ]
     },
     "metadata": {},
     "output_type": "display_data"
    },
    {
     "data": {
      "application/vnd.jupyter.widget-view+json": {
       "model_id": "af8a5b861c334fb98ff082c26920ed67",
       "version_major": 2,
       "version_minor": 0
      },
      "text/plain": [
       "HBox(children=(IntProgress(value=0, description='numeric split latitude', max=45, style=ProgressStyle(descript…"
      ]
     },
     "metadata": {},
     "output_type": "display_data"
    },
    {
     "data": {
      "application/vnd.jupyter.widget-view+json": {
       "model_id": "57d4f24c00874472b4d0a31c551b4374",
       "version_major": 2,
       "version_minor": 0
      },
      "text/plain": [
       "HBox(children=(IntProgress(value=0, description='numeric split state_plane_y_coordinate', max=45, style=Progre…"
      ]
     },
     "metadata": {},
     "output_type": "display_data"
    },
    {
     "data": {
      "application/vnd.jupyter.widget-view+json": {
       "model_id": "8645b8c55f8a4abcb991b513f64624fb",
       "version_major": 2,
       "version_minor": 0
      },
      "text/plain": [
       "HBox(children=(IntProgress(value=0, description='numeric split incident_zip', max=24, style=ProgressStyle(desc…"
      ]
     },
     "metadata": {},
     "output_type": "display_data"
    },
    {
     "data": {
      "application/vnd.jupyter.widget-view+json": {
       "model_id": "f3de292cfe064a7181dcc2e496a204b2",
       "version_major": 2,
       "version_minor": 0
      },
      "text/plain": [
       "HBox(children=(IntProgress(value=0, description='numeric split longitude', max=45, style=ProgressStyle(descrip…"
      ]
     },
     "metadata": {},
     "output_type": "display_data"
    },
    {
     "name": "stdout",
     "output_type": "stream",
     "text": [
      "county\n",
      "0.0\n",
      "0.0\n"
     ]
    },
    {
     "data": {
      "application/vnd.jupyter.widget-view+json": {
       "model_id": "29c80d260dd0408b800839831bd9d636",
       "version_major": 2,
       "version_minor": 0
      },
      "text/plain": [
       "HBox(children=(IntProgress(value=0, description='primary type', max=20, style=ProgressStyle(description_width=…"
      ]
     },
     "metadata": {},
     "output_type": "display_data"
    },
    {
     "data": {
      "application/vnd.jupyter.widget-view+json": {
       "model_id": "9873974d75c94725b7a0e3106bb4c4ef",
       "version_major": 2,
       "version_minor": 0
      },
      "text/plain": [
       "HBox(children=(IntProgress(value=0, description='numeric split street_number', max=64, style=ProgressStyle(des…"
      ]
     },
     "metadata": {},
     "output_type": "display_data"
    },
    {
     "data": {
      "application/vnd.jupyter.widget-view+json": {
       "model_id": "df48c3849b6d4913984466f094a8cb93",
       "version_major": 2,
       "version_minor": 0
      },
      "text/plain": [
       "HBox(children=(IntProgress(value=0, description='numeric split latitude', max=64, style=ProgressStyle(descript…"
      ]
     },
     "metadata": {},
     "output_type": "display_data"
    },
    {
     "data": {
      "application/vnd.jupyter.widget-view+json": {
       "model_id": "b182da6d3ac84297abbefb3d06a21b09",
       "version_major": 2,
       "version_minor": 0
      },
      "text/plain": [
       "HBox(children=(IntProgress(value=0, description='numeric split state_plane_y_coordinate', max=64, style=Progre…"
      ]
     },
     "metadata": {},
     "output_type": "display_data"
    },
    {
     "data": {
      "application/vnd.jupyter.widget-view+json": {
       "model_id": "811b685b3b6241dabedac4719500e622",
       "version_major": 2,
       "version_minor": 0
      },
      "text/plain": [
       "HBox(children=(IntProgress(value=0, description='numeric split incident_zip', max=27, style=ProgressStyle(desc…"
      ]
     },
     "metadata": {},
     "output_type": "display_data"
    },
    {
     "data": {
      "application/vnd.jupyter.widget-view+json": {
       "model_id": "5f661c9ae3944683a373029abfa554f8",
       "version_major": 2,
       "version_minor": 0
      },
      "text/plain": [
       "HBox(children=(IntProgress(value=0, description='numeric split longitude', max=64, style=ProgressStyle(descrip…"
      ]
     },
     "metadata": {},
     "output_type": "display_data"
    },
    {
     "name": "stdout",
     "output_type": "stream",
     "text": [
      "close_date\n",
      "0.35604777702367124\n",
      "0.0\n",
      "city\n",
      "0.4343805047483752\n",
      "0.0\n",
      "county\n",
      "0.2886417656080779\n",
      "0.0\n"
     ]
    },
    {
     "data": {
      "application/vnd.jupyter.widget-view+json": {
       "model_id": "66a409de814e483fb1dc23a1d1f35c01",
       "version_major": 2,
       "version_minor": 0
      },
      "text/plain": [
       "HBox(children=(IntProgress(value=0, description='primary type', max=21, style=ProgressStyle(description_width=…"
      ]
     },
     "metadata": {},
     "output_type": "display_data"
    },
    {
     "data": {
      "application/vnd.jupyter.widget-view+json": {
       "model_id": "45111323c5db400d9073922e00d662ed",
       "version_major": 2,
       "version_minor": 0
      },
      "text/plain": [
       "HBox(children=(IntProgress(value=0, description='numeric split street_number', max=3, style=ProgressStyle(desc…"
      ]
     },
     "metadata": {},
     "output_type": "display_data"
    },
    {
     "data": {
      "application/vnd.jupyter.widget-view+json": {
       "model_id": "0803f8cf07bb426b8552c334e6894a4b",
       "version_major": 2,
       "version_minor": 0
      },
      "text/plain": [
       "HBox(children=(IntProgress(value=0, description='numeric split latitude', max=3, style=ProgressStyle(descripti…"
      ]
     },
     "metadata": {},
     "output_type": "display_data"
    },
    {
     "data": {
      "application/vnd.jupyter.widget-view+json": {
       "model_id": "22182979aebb4784b86b7456dc2db125",
       "version_major": 2,
       "version_minor": 0
      },
      "text/plain": [
       "HBox(children=(IntProgress(value=0, description='numeric split state_plane_y_coordinate', max=3, style=Progres…"
      ]
     },
     "metadata": {},
     "output_type": "display_data"
    },
    {
     "data": {
      "application/vnd.jupyter.widget-view+json": {
       "model_id": "5d5f92582cf54a5c8f72892605933b89",
       "version_major": 2,
       "version_minor": 0
      },
      "text/plain": [
       "HBox(children=(IntProgress(value=0, description='numeric split incident_zip', max=1, style=ProgressStyle(descr…"
      ]
     },
     "metadata": {},
     "output_type": "display_data"
    },
    {
     "data": {
      "application/vnd.jupyter.widget-view+json": {
       "model_id": "026dc5529a2f44f098e48f52a9699d7e",
       "version_major": 2,
       "version_minor": 0
      },
      "text/plain": [
       "HBox(children=(IntProgress(value=0, description='numeric split longitude', max=3, style=ProgressStyle(descript…"
      ]
     },
     "metadata": {},
     "output_type": "display_data"
    },
    {
     "data": {
      "application/vnd.jupyter.widget-view+json": {
       "model_id": "ff45e2c27f8843ecbc7df68fd30a624e",
       "version_major": 2,
       "version_minor": 0
      },
      "text/plain": [
       "HBox(children=(IntProgress(value=0, description='primary type', max=22, style=ProgressStyle(description_width=…"
      ]
     },
     "metadata": {},
     "output_type": "display_data"
    },
    {
     "data": {
      "application/vnd.jupyter.widget-view+json": {
       "model_id": "74f6409b604048fbab77b93172cd6305",
       "version_major": 2,
       "version_minor": 0
      },
      "text/plain": [
       "HBox(children=(IntProgress(value=0, description='numeric split council_district_code', max=7, style=ProgressSt…"
      ]
     },
     "metadata": {},
     "output_type": "display_data"
    },
    {
     "data": {
      "application/vnd.jupyter.widget-view+json": {
       "model_id": "63ed9d050904478683c7b3385ba872b3",
       "version_major": 2,
       "version_minor": 0
      },
      "text/plain": [
       "HBox(children=(IntProgress(value=0, description='numeric split latitude', max=13, style=ProgressStyle(descript…"
      ]
     },
     "metadata": {},
     "output_type": "display_data"
    },
    {
     "data": {
      "application/vnd.jupyter.widget-view+json": {
       "model_id": "c608c471bc1e47a1aea307366a53fca0",
       "version_major": 2,
       "version_minor": 0
      },
      "text/plain": [
       "HBox(children=(IntProgress(value=0, description='numeric split state_plane_y_coordinate', max=13, style=Progre…"
      ]
     },
     "metadata": {},
     "output_type": "display_data"
    },
    {
     "data": {
      "application/vnd.jupyter.widget-view+json": {
       "model_id": "d59691f07ba24c2f9b5d721025c3a254",
       "version_major": 2,
       "version_minor": 0
      },
      "text/plain": [
       "HBox(children=(IntProgress(value=0, description='numeric split incident_zip', max=10, style=ProgressStyle(desc…"
      ]
     },
     "metadata": {},
     "output_type": "display_data"
    },
    {
     "data": {
      "application/vnd.jupyter.widget-view+json": {
       "model_id": "2d09f3136972463c957d0b01538bb8af",
       "version_major": 2,
       "version_minor": 0
      },
      "text/plain": [
       "HBox(children=(IntProgress(value=0, description='numeric split longitude', max=13, style=ProgressStyle(descrip…"
      ]
     },
     "metadata": {},
     "output_type": "display_data"
    },
    {
     "data": {
      "application/vnd.jupyter.widget-view+json": {
       "model_id": "86e740a7197e441aa0fbb36eb11720db",
       "version_major": 2,
       "version_minor": 0
      },
      "text/plain": [
       "HBox(children=(IntProgress(value=0, description='primary type', max=19, style=ProgressStyle(description_width=…"
      ]
     },
     "metadata": {},
     "output_type": "display_data"
    },
    {
     "data": {
      "application/vnd.jupyter.widget-view+json": {
       "model_id": "4d4770d1a0ab4f3686a915f43495a497",
       "version_major": 2,
       "version_minor": 0
      },
      "text/plain": [
       "HBox(children=(IntProgress(value=0, description='numeric split council_district_code', max=1, style=ProgressSt…"
      ]
     },
     "metadata": {},
     "output_type": "display_data"
    },
    {
     "data": {
      "application/vnd.jupyter.widget-view+json": {
       "model_id": "8ef07e3353de4214a475636f0ef1f337",
       "version_major": 2,
       "version_minor": 0
      },
      "text/plain": [
       "HBox(children=(IntProgress(value=0, description='numeric split latitude', max=1, style=ProgressStyle(descripti…"
      ]
     },
     "metadata": {},
     "output_type": "display_data"
    },
    {
     "data": {
      "application/vnd.jupyter.widget-view+json": {
       "model_id": "96797262fb574ac0969cce5ea8c7dff1",
       "version_major": 2,
       "version_minor": 0
      },
      "text/plain": [
       "HBox(children=(IntProgress(value=0, description='numeric split state_plane_y_coordinate', max=1, style=Progres…"
      ]
     },
     "metadata": {},
     "output_type": "display_data"
    },
    {
     "data": {
      "application/vnd.jupyter.widget-view+json": {
       "model_id": "338417743f034638985867803c75b59d",
       "version_major": 2,
       "version_minor": 0
      },
      "text/plain": [
       "HBox(children=(IntProgress(value=0, description='numeric split incident_zip', max=1, style=ProgressStyle(descr…"
      ]
     },
     "metadata": {},
     "output_type": "display_data"
    },
    {
     "data": {
      "application/vnd.jupyter.widget-view+json": {
       "model_id": "f77d86c1c19042f8a16175ce2c00df0a",
       "version_major": 2,
       "version_minor": 0
      },
      "text/plain": [
       "HBox(children=(IntProgress(value=0, description='numeric split longitude', max=1, style=ProgressStyle(descript…"
      ]
     },
     "metadata": {},
     "output_type": "display_data"
    },
    {
     "data": {
      "application/vnd.jupyter.widget-view+json": {
       "model_id": "f906b3f7900e40128c4fae233fbac222",
       "version_major": 2,
       "version_minor": 0
      },
      "text/plain": [
       "HBox(children=(IntProgress(value=0, description='primary type', max=22, style=ProgressStyle(description_width=…"
      ]
     },
     "metadata": {},
     "output_type": "display_data"
    },
    {
     "data": {
      "application/vnd.jupyter.widget-view+json": {
       "model_id": "b1d2d3bd9699456fadcb740f79a05a60",
       "version_major": 2,
       "version_minor": 0
      },
      "text/plain": [
       "HBox(children=(IntProgress(value=0, description='numeric split latitude', max=7, style=ProgressStyle(descripti…"
      ]
     },
     "metadata": {},
     "output_type": "display_data"
    },
    {
     "data": {
      "application/vnd.jupyter.widget-view+json": {
       "model_id": "6a702c66128142be89f6d358ff93bba1",
       "version_major": 2,
       "version_minor": 0
      },
      "text/plain": [
       "HBox(children=(IntProgress(value=0, description='numeric split state_plane_y_coordinate', max=7, style=Progres…"
      ]
     },
     "metadata": {},
     "output_type": "display_data"
    },
    {
     "data": {
      "application/vnd.jupyter.widget-view+json": {
       "model_id": "0dee1547c6f0452799b08b30a7e762da",
       "version_major": 2,
       "version_minor": 0
      },
      "text/plain": [
       "HBox(children=(IntProgress(value=0, description='numeric split incident_zip', max=7, style=ProgressStyle(descr…"
      ]
     },
     "metadata": {},
     "output_type": "display_data"
    },
    {
     "data": {
      "application/vnd.jupyter.widget-view+json": {
       "model_id": "19aae8b05bd8411bb7c7e3bf50710599",
       "version_major": 2,
       "version_minor": 0
      },
      "text/plain": [
       "HBox(children=(IntProgress(value=0, description='numeric split longitude', max=7, style=ProgressStyle(descript…"
      ]
     },
     "metadata": {},
     "output_type": "display_data"
    },
    {
     "data": {
      "application/vnd.jupyter.widget-view+json": {
       "model_id": "828c68abf97547f7bbfa150e7160e454",
       "version_major": 2,
       "version_minor": 0
      },
      "text/plain": [
       "HBox(children=(IntProgress(value=0, description='primary type', max=21, style=ProgressStyle(description_width=…"
      ]
     },
     "metadata": {},
     "output_type": "display_data"
    },
    {
     "data": {
      "application/vnd.jupyter.widget-view+json": {
       "model_id": "c48ba75be336422badf4eb381d7e069a",
       "version_major": 2,
       "version_minor": 0
      },
      "text/plain": [
       "HBox(children=(IntProgress(value=0, description='numeric split latitude', max=5, style=ProgressStyle(descripti…"
      ]
     },
     "metadata": {},
     "output_type": "display_data"
    },
    {
     "data": {
      "application/vnd.jupyter.widget-view+json": {
       "model_id": "3f3cbd83c33646b187224c8c7e820ee9",
       "version_major": 2,
       "version_minor": 0
      },
      "text/plain": [
       "HBox(children=(IntProgress(value=0, description='numeric split state_plane_y_coordinate', max=5, style=Progres…"
      ]
     },
     "metadata": {},
     "output_type": "display_data"
    },
    {
     "data": {
      "application/vnd.jupyter.widget-view+json": {
       "model_id": "0abe50b60e8441218cf04d5fb438b9a7",
       "version_major": 2,
       "version_minor": 0
      },
      "text/plain": [
       "HBox(children=(IntProgress(value=0, description='numeric split incident_zip', max=5, style=ProgressStyle(descr…"
      ]
     },
     "metadata": {},
     "output_type": "display_data"
    },
    {
     "data": {
      "application/vnd.jupyter.widget-view+json": {
       "model_id": "c21ca7caaf7144daad44e975ee1e8b31",
       "version_major": 2,
       "version_minor": 0
      },
      "text/plain": [
       "HBox(children=(IntProgress(value=0, description='numeric split longitude', max=5, style=ProgressStyle(descript…"
      ]
     },
     "metadata": {},
     "output_type": "display_data"
    },
    {
     "data": {
      "application/vnd.jupyter.widget-view+json": {
       "model_id": "17fa4c23894649ad82d5e246f4b0cf51",
       "version_major": 2,
       "version_minor": 0
      },
      "text/plain": [
       "HBox(children=(IntProgress(value=0, description='primary type', max=16, style=ProgressStyle(description_width=…"
      ]
     },
     "metadata": {},
     "output_type": "display_data"
    },
    {
     "data": {
      "application/vnd.jupyter.widget-view+json": {
       "model_id": "0485961076d74d5eb05ffaa842e9f843",
       "version_major": 2,
       "version_minor": 0
      },
      "text/plain": [
       "HBox(children=(IntProgress(value=1, bar_style='info', description='numeric split state_plane_y_coordinate', ma…"
      ]
     },
     "metadata": {},
     "output_type": "display_data"
    },
    {
     "data": {
      "application/vnd.jupyter.widget-view+json": {
       "model_id": "0b49c0d248424ac0ae5f4ae29c4ff7e7",
       "version_major": 2,
       "version_minor": 0
      },
      "text/plain": [
       "HBox(children=(IntProgress(value=0, description='numeric split latitude', max=1, style=ProgressStyle(descripti…"
      ]
     },
     "metadata": {},
     "output_type": "display_data"
    },
    {
     "data": {
      "application/vnd.jupyter.widget-view+json": {
       "model_id": "2e3ce958085243cbb4ff5e7b500a414b",
       "version_major": 2,
       "version_minor": 0
      },
      "text/plain": [
       "HBox(children=(IntProgress(value=1, bar_style='info', description='numeric split longitude', max=1, style=Prog…"
      ]
     },
     "metadata": {},
     "output_type": "display_data"
    },
    {
     "name": "stdout",
     "output_type": "stream",
     "text": [
      "close_date\n",
      "0.6887218755408672\n",
      "0.0\n",
      "city\n",
      "0.6887218755408672\n",
      "0.0\n"
     ]
    },
    {
     "data": {
      "application/vnd.jupyter.widget-view+json": {
       "model_id": "ab6a2295f6f448c49946032cfb61cee0",
       "version_major": 2,
       "version_minor": 0
      },
      "text/plain": [
       "HBox(children=(IntProgress(value=0, description='primary type', max=10, style=ProgressStyle(description_width=…"
      ]
     },
     "metadata": {},
     "output_type": "display_data"
    },
    {
     "data": {
      "application/vnd.jupyter.widget-view+json": {
       "model_id": "5c499a3d57d94438a60726deb675b5e9",
       "version_major": 2,
       "version_minor": 0
      },
      "text/plain": [
       "HBox(children=(IntProgress(value=0, description='primary type', max=24, style=ProgressStyle(description_width=…"
      ]
     },
     "metadata": {},
     "output_type": "display_data"
    },
    {
     "data": {
      "application/vnd.jupyter.widget-view+json": {
       "model_id": "c2dd91da59ca424a992981aaf10e4cb1",
       "version_major": 2,
       "version_minor": 0
      },
      "text/plain": [
       "HBox(children=(IntProgress(value=0, description='numeric split council_district_code', max=9, style=ProgressSt…"
      ]
     },
     "metadata": {},
     "output_type": "display_data"
    },
    {
     "data": {
      "application/vnd.jupyter.widget-view+json": {
       "model_id": "817944e81337439b8026a7e55e569172",
       "version_major": 2,
       "version_minor": 0
      },
      "text/plain": [
       "HBox(children=(IntProgress(value=0, description='numeric split street_number', max=716, style=ProgressStyle(de…"
      ]
     },
     "metadata": {},
     "output_type": "display_data"
    },
    {
     "data": {
      "application/vnd.jupyter.widget-view+json": {
       "model_id": "d6b813a682a1434c8bc7e5c14b2b3fc9",
       "version_major": 2,
       "version_minor": 0
      },
      "text/plain": [
       "HBox(children=(IntProgress(value=0, description='numeric split latitude', max=907, style=ProgressStyle(descrip…"
      ]
     },
     "metadata": {},
     "output_type": "display_data"
    },
    {
     "data": {
      "application/vnd.jupyter.widget-view+json": {
       "model_id": "b5898e10d8c04732899f9b445e7819c1",
       "version_major": 2,
       "version_minor": 0
      },
      "text/plain": [
       "HBox(children=(IntProgress(value=0, description='numeric split state_plane_y_coordinate', max=912, style=Progr…"
      ]
     },
     "metadata": {},
     "output_type": "display_data"
    },
    {
     "data": {
      "application/vnd.jupyter.widget-view+json": {
       "model_id": "b84c051a45c74f9b8313cfad35249681",
       "version_major": 2,
       "version_minor": 0
      },
      "text/plain": [
       "HBox(children=(IntProgress(value=0, description='numeric split incident_zip', max=36, style=ProgressStyle(desc…"
      ]
     },
     "metadata": {},
     "output_type": "display_data"
    },
    {
     "data": {
      "application/vnd.jupyter.widget-view+json": {
       "model_id": "48a2d4e5cd6b48f8b4fa81e1a07ae757",
       "version_major": 2,
       "version_minor": 0
      },
      "text/plain": [
       "HBox(children=(IntProgress(value=0, description='numeric split longitude', max=909, style=ProgressStyle(descri…"
      ]
     },
     "metadata": {},
     "output_type": "display_data"
    },
    {
     "data": {
      "application/vnd.jupyter.widget-view+json": {
       "model_id": "76474766b5814ca19f8b486db641ef8f",
       "version_major": 2,
       "version_minor": 0
      },
      "text/plain": [
       "HBox(children=(IntProgress(value=0, description='primary type', max=23, style=ProgressStyle(description_width=…"
      ]
     },
     "metadata": {},
     "output_type": "display_data"
    },
    {
     "data": {
      "application/vnd.jupyter.widget-view+json": {
       "model_id": "9452acc9354a45269cbecb13376a0158",
       "version_major": 2,
       "version_minor": 0
      },
      "text/plain": [
       "HBox(children=(IntProgress(value=0, description='numeric split council_district_code', max=3, style=ProgressSt…"
      ]
     },
     "metadata": {},
     "output_type": "display_data"
    },
    {
     "data": {
      "application/vnd.jupyter.widget-view+json": {
       "model_id": "1054660981804968b5534bf0904d3bf4",
       "version_major": 2,
       "version_minor": 0
      },
      "text/plain": [
       "HBox(children=(IntProgress(value=0, description='numeric split street_number', max=3, style=ProgressStyle(desc…"
      ]
     },
     "metadata": {},
     "output_type": "display_data"
    },
    {
     "data": {
      "application/vnd.jupyter.widget-view+json": {
       "model_id": "cd93ddb545744475a8e8734ff870b0f5",
       "version_major": 2,
       "version_minor": 0
      },
      "text/plain": [
       "HBox(children=(IntProgress(value=0, description='numeric split latitude', max=3, style=ProgressStyle(descripti…"
      ]
     },
     "metadata": {},
     "output_type": "display_data"
    },
    {
     "data": {
      "application/vnd.jupyter.widget-view+json": {
       "model_id": "c8864443e45e4231a4a8adc56ce7ee9c",
       "version_major": 2,
       "version_minor": 0
      },
      "text/plain": [
       "HBox(children=(IntProgress(value=0, description='numeric split state_plane_y_coordinate', max=3, style=Progres…"
      ]
     },
     "metadata": {},
     "output_type": "display_data"
    },
    {
     "data": {
      "application/vnd.jupyter.widget-view+json": {
       "model_id": "4b83c3f79bf7454fbfc6be9423b9bcca",
       "version_major": 2,
       "version_minor": 0
      },
      "text/plain": [
       "HBox(children=(IntProgress(value=0, description='numeric split incident_zip', max=3, style=ProgressStyle(descr…"
      ]
     },
     "metadata": {},
     "output_type": "display_data"
    },
    {
     "data": {
      "application/vnd.jupyter.widget-view+json": {
       "model_id": "1052a7be686e45adb445164a815876bf",
       "version_major": 2,
       "version_minor": 0
      },
      "text/plain": [
       "HBox(children=(IntProgress(value=0, description='numeric split longitude', max=3, style=ProgressStyle(descript…"
      ]
     },
     "metadata": {},
     "output_type": "display_data"
    },
    {
     "data": {
      "application/vnd.jupyter.widget-view+json": {
       "model_id": "553d989324de4f339cb8956b2c5d0a38",
       "version_major": 2,
       "version_minor": 0
      },
      "text/plain": [
       "HBox(children=(IntProgress(value=0, description='primary type', max=23, style=ProgressStyle(description_width=…"
      ]
     },
     "metadata": {},
     "output_type": "display_data"
    },
    {
     "data": {
      "application/vnd.jupyter.widget-view+json": {
       "model_id": "510946d365b6403fa7ea6463ebc6811c",
       "version_major": 2,
       "version_minor": 0
      },
      "text/plain": [
       "HBox(children=(IntProgress(value=0, description='numeric split council_district_code', max=9, style=ProgressSt…"
      ]
     },
     "metadata": {},
     "output_type": "display_data"
    },
    {
     "data": {
      "application/vnd.jupyter.widget-view+json": {
       "model_id": "058a4cab5f9440bebf0a95e7e2088b05",
       "version_major": 2,
       "version_minor": 0
      },
      "text/plain": [
       "HBox(children=(IntProgress(value=0, description='numeric split street_number', max=43, style=ProgressStyle(des…"
      ]
     },
     "metadata": {},
     "output_type": "display_data"
    },
    {
     "data": {
      "application/vnd.jupyter.widget-view+json": {
       "model_id": "e64441f0bd364707a89f36f43facb05d",
       "version_major": 2,
       "version_minor": 0
      },
      "text/plain": [
       "HBox(children=(IntProgress(value=0, description='numeric split latitude', max=43, style=ProgressStyle(descript…"
      ]
     },
     "metadata": {},
     "output_type": "display_data"
    },
    {
     "data": {
      "application/vnd.jupyter.widget-view+json": {
       "model_id": "9948547b2def4c618540a913fbc9d498",
       "version_major": 2,
       "version_minor": 0
      },
      "text/plain": [
       "HBox(children=(IntProgress(value=0, description='numeric split state_plane_y_coordinate', max=43, style=Progre…"
      ]
     },
     "metadata": {},
     "output_type": "display_data"
    },
    {
     "data": {
      "application/vnd.jupyter.widget-view+json": {
       "model_id": "70e799b3120f4827a5f6cfcbdefa6661",
       "version_major": 2,
       "version_minor": 0
      },
      "text/plain": [
       "HBox(children=(IntProgress(value=0, description='numeric split incident_zip', max=23, style=ProgressStyle(desc…"
      ]
     },
     "metadata": {},
     "output_type": "display_data"
    },
    {
     "data": {
      "application/vnd.jupyter.widget-view+json": {
       "model_id": "05df5b216bbd43219a6410e829a9d3c6",
       "version_major": 2,
       "version_minor": 0
      },
      "text/plain": [
       "HBox(children=(IntProgress(value=0, description='numeric split longitude', max=43, style=ProgressStyle(descrip…"
      ]
     },
     "metadata": {},
     "output_type": "display_data"
    },
    {
     "data": {
      "application/vnd.jupyter.widget-view+json": {
       "model_id": "d51b6353b3c940528fb07853c88315e0",
       "version_major": 2,
       "version_minor": 0
      },
      "text/plain": [
       "HBox(children=(IntProgress(value=0, description='primary type', max=22, style=ProgressStyle(description_width=…"
      ]
     },
     "metadata": {},
     "output_type": "display_data"
    },
    {
     "data": {
      "application/vnd.jupyter.widget-view+json": {
       "model_id": "4beffdce15be45aab628ec2e657691c0",
       "version_major": 2,
       "version_minor": 0
      },
      "text/plain": [
       "HBox(children=(IntProgress(value=0, description='numeric split council_district_code', max=1, style=ProgressSt…"
      ]
     },
     "metadata": {},
     "output_type": "display_data"
    },
    {
     "data": {
      "application/vnd.jupyter.widget-view+json": {
       "model_id": "9311a81ba0f140cfaff92d0410e94c10",
       "version_major": 2,
       "version_minor": 0
      },
      "text/plain": [
       "HBox(children=(IntProgress(value=0, description='numeric split street_number', max=1, style=ProgressStyle(desc…"
      ]
     },
     "metadata": {},
     "output_type": "display_data"
    },
    {
     "data": {
      "application/vnd.jupyter.widget-view+json": {
       "model_id": "7da6f7c9d1ff4f188e81806ed344c478",
       "version_major": 2,
       "version_minor": 0
      },
      "text/plain": [
       "HBox(children=(IntProgress(value=0, description='numeric split latitude', max=1, style=ProgressStyle(descripti…"
      ]
     },
     "metadata": {},
     "output_type": "display_data"
    },
    {
     "data": {
      "application/vnd.jupyter.widget-view+json": {
       "model_id": "53d5992d5cba4afdb21e1bbed19bc436",
       "version_major": 2,
       "version_minor": 0
      },
      "text/plain": [
       "HBox(children=(IntProgress(value=0, description='numeric split state_plane_y_coordinate', max=1, style=Progres…"
      ]
     },
     "metadata": {},
     "output_type": "display_data"
    },
    {
     "data": {
      "application/vnd.jupyter.widget-view+json": {
       "model_id": "6fba92e018674ee18b0e372f5d9a0a1f",
       "version_major": 2,
       "version_minor": 0
      },
      "text/plain": [
       "HBox(children=(IntProgress(value=0, description='numeric split incident_zip', max=1, style=ProgressStyle(descr…"
      ]
     },
     "metadata": {},
     "output_type": "display_data"
    },
    {
     "data": {
      "application/vnd.jupyter.widget-view+json": {
       "model_id": "5d8a2415aa484307b4497f6878008eec",
       "version_major": 2,
       "version_minor": 0
      },
      "text/plain": [
       "HBox(children=(IntProgress(value=0, description='numeric split longitude', max=1, style=ProgressStyle(descript…"
      ]
     },
     "metadata": {},
     "output_type": "display_data"
    },
    {
     "data": {
      "application/vnd.jupyter.widget-view+json": {
       "model_id": "40bfc179a07343e68e6c48ccf77fab1f",
       "version_major": 2,
       "version_minor": 0
      },
      "text/plain": [
       "HBox(children=(IntProgress(value=0, description='primary type', max=21, style=ProgressStyle(description_width=…"
      ]
     },
     "metadata": {},
     "output_type": "display_data"
    },
    {
     "data": {
      "application/vnd.jupyter.widget-view+json": {
       "model_id": "003d8acc006b4a8c8f24bb4a51337916",
       "version_major": 2,
       "version_minor": 0
      },
      "text/plain": [
       "HBox(children=(IntProgress(value=0, description='numeric split street_number', max=61, style=ProgressStyle(des…"
      ]
     },
     "metadata": {},
     "output_type": "display_data"
    },
    {
     "data": {
      "application/vnd.jupyter.widget-view+json": {
       "model_id": "6f9007f78fcc4334a995916c9e30e21b",
       "version_major": 2,
       "version_minor": 0
      },
      "text/plain": [
       "HBox(children=(IntProgress(value=0, description='numeric split latitude', max=61, style=ProgressStyle(descript…"
      ]
     },
     "metadata": {},
     "output_type": "display_data"
    },
    {
     "data": {
      "application/vnd.jupyter.widget-view+json": {
       "model_id": "8c5b893a99ce475e8330b5026292a6b4",
       "version_major": 2,
       "version_minor": 0
      },
      "text/plain": [
       "HBox(children=(IntProgress(value=0, description='numeric split state_plane_y_coordinate', max=61, style=Progre…"
      ]
     },
     "metadata": {},
     "output_type": "display_data"
    },
    {
     "data": {
      "application/vnd.jupyter.widget-view+json": {
       "model_id": "66f9d0286faa4bd08e26f1acbda02ca4",
       "version_major": 2,
       "version_minor": 0
      },
      "text/plain": [
       "HBox(children=(IntProgress(value=0, description='numeric split incident_zip', max=24, style=ProgressStyle(desc…"
      ]
     },
     "metadata": {},
     "output_type": "display_data"
    },
    {
     "data": {
      "application/vnd.jupyter.widget-view+json": {
       "model_id": "c65e6163273d45b6942ed5bb3f4822a5",
       "version_major": 2,
       "version_minor": 0
      },
      "text/plain": [
       "HBox(children=(IntProgress(value=0, description='numeric split longitude', max=61, style=ProgressStyle(descrip…"
      ]
     },
     "metadata": {},
     "output_type": "display_data"
    },
    {
     "name": "stdout",
     "output_type": "stream",
     "text": [
      "close_date\n",
      "0.1099427063354174\n",
      "0.0\n",
      "city\n",
      "0.19079511637972363\n",
      "0.0\n"
     ]
    },
    {
     "data": {
      "application/vnd.jupyter.widget-view+json": {
       "model_id": "795a70675f9041b8b59096a0ed036f3d",
       "version_major": 2,
       "version_minor": 0
      },
      "text/plain": [
       "HBox(children=(IntProgress(value=0, description='primary type', max=22, style=ProgressStyle(description_width=…"
      ]
     },
     "metadata": {},
     "output_type": "display_data"
    },
    {
     "data": {
      "application/vnd.jupyter.widget-view+json": {
       "model_id": "c4ee2a6a33fe46599d787b4e8c6ac759",
       "version_major": 2,
       "version_minor": 0
      },
      "text/plain": [
       "HBox(children=(IntProgress(value=0, description='numeric split street_number', max=2, style=ProgressStyle(desc…"
      ]
     },
     "metadata": {},
     "output_type": "display_data"
    },
    {
     "data": {
      "application/vnd.jupyter.widget-view+json": {
       "model_id": "3ed4729427654a14a3741d9fedfe2288",
       "version_major": 2,
       "version_minor": 0
      },
      "text/plain": [
       "HBox(children=(IntProgress(value=0, description='numeric split latitude', max=2, style=ProgressStyle(descripti…"
      ]
     },
     "metadata": {},
     "output_type": "display_data"
    },
    {
     "data": {
      "application/vnd.jupyter.widget-view+json": {
       "model_id": "f05a647e50f946d58fa71bdf9898415a",
       "version_major": 2,
       "version_minor": 0
      },
      "text/plain": [
       "HBox(children=(IntProgress(value=0, description='numeric split state_plane_y_coordinate', max=2, style=Progres…"
      ]
     },
     "metadata": {},
     "output_type": "display_data"
    },
    {
     "data": {
      "application/vnd.jupyter.widget-view+json": {
       "model_id": "50319f8bacf34233b85b1c1c704c524b",
       "version_major": 2,
       "version_minor": 0
      },
      "text/plain": [
       "HBox(children=(IntProgress(value=0, description='numeric split incident_zip', max=2, style=ProgressStyle(descr…"
      ]
     },
     "metadata": {},
     "output_type": "display_data"
    },
    {
     "data": {
      "application/vnd.jupyter.widget-view+json": {
       "model_id": "8e98d1dc467f44b6862024042e629f87",
       "version_major": 2,
       "version_minor": 0
      },
      "text/plain": [
       "HBox(children=(IntProgress(value=0, description='numeric split longitude', max=2, style=ProgressStyle(descript…"
      ]
     },
     "metadata": {},
     "output_type": "display_data"
    },
    {
     "data": {
      "application/vnd.jupyter.widget-view+json": {
       "model_id": "3df41f976216456aa3271159f7dda41a",
       "version_major": 2,
       "version_minor": 0
      },
      "text/plain": [
       "HBox(children=(IntProgress(value=0, description='primary type', max=21, style=ProgressStyle(description_width=…"
      ]
     },
     "metadata": {},
     "output_type": "display_data"
    },
    {
     "data": {
      "application/vnd.jupyter.widget-view+json": {
       "model_id": "5c4a4178678f4eb9a31d7ed24a9fccd2",
       "version_major": 2,
       "version_minor": 0
      },
      "text/plain": [
       "HBox(children=(IntProgress(value=1, bar_style='info', description='numeric split latitude', max=1, style=Progr…"
      ]
     },
     "metadata": {},
     "output_type": "display_data"
    },
    {
     "data": {
      "application/vnd.jupyter.widget-view+json": {
       "model_id": "4d85789a75e449fcacc9fbedbda49972",
       "version_major": 2,
       "version_minor": 0
      },
      "text/plain": [
       "HBox(children=(IntProgress(value=1, bar_style='info', description='numeric split state_plane_y_coordinate', ma…"
      ]
     },
     "metadata": {},
     "output_type": "display_data"
    },
    {
     "data": {
      "application/vnd.jupyter.widget-view+json": {
       "model_id": "6e399b84829f4e4bbac79e18821e40ec",
       "version_major": 2,
       "version_minor": 0
      },
      "text/plain": [
       "HBox(children=(IntProgress(value=1, bar_style='info', description='numeric split incident_zip', max=1, style=P…"
      ]
     },
     "metadata": {},
     "output_type": "display_data"
    },
    {
     "data": {
      "application/vnd.jupyter.widget-view+json": {
       "model_id": "8216c549afed49a4b7a6d6de15f0c953",
       "version_major": 2,
       "version_minor": 0
      },
      "text/plain": [
       "HBox(children=(IntProgress(value=1, bar_style='info', description='numeric split longitude', max=1, style=Prog…"
      ]
     },
     "metadata": {},
     "output_type": "display_data"
    },
    {
     "data": {
      "application/vnd.jupyter.widget-view+json": {
       "model_id": "ca80c21d6f7f480f96c9158496915566",
       "version_major": 2,
       "version_minor": 0
      },
      "text/plain": [
       "HBox(children=(IntProgress(value=0, description='primary type', max=22, style=ProgressStyle(description_width=…"
      ]
     },
     "metadata": {},
     "output_type": "display_data"
    },
    {
     "data": {
      "application/vnd.jupyter.widget-view+json": {
       "model_id": "f7329ed5ffd54cbaa3bc248b8f0d2cac",
       "version_major": 2,
       "version_minor": 0
      },
      "text/plain": [
       "HBox(children=(IntProgress(value=0, description='numeric split latitude', max=2, style=ProgressStyle(descripti…"
      ]
     },
     "metadata": {},
     "output_type": "display_data"
    },
    {
     "data": {
      "application/vnd.jupyter.widget-view+json": {
       "model_id": "433b8a33b14c4ec5b75996010dff9263",
       "version_major": 2,
       "version_minor": 0
      },
      "text/plain": [
       "HBox(children=(IntProgress(value=0, description='numeric split state_plane_y_coordinate', max=2, style=Progres…"
      ]
     },
     "metadata": {},
     "output_type": "display_data"
    },
    {
     "data": {
      "application/vnd.jupyter.widget-view+json": {
       "model_id": "798baa5f3ba94a92a3d0f549a7475ff0",
       "version_major": 2,
       "version_minor": 0
      },
      "text/plain": [
       "HBox(children=(IntProgress(value=0, description='numeric split incident_zip', max=1, style=ProgressStyle(descr…"
      ]
     },
     "metadata": {},
     "output_type": "display_data"
    },
    {
     "data": {
      "application/vnd.jupyter.widget-view+json": {
       "model_id": "808bb04fe64e489d941ec0c45ac6d6ca",
       "version_major": 2,
       "version_minor": 0
      },
      "text/plain": [
       "HBox(children=(IntProgress(value=0, description='numeric split longitude', max=2, style=ProgressStyle(descript…"
      ]
     },
     "metadata": {},
     "output_type": "display_data"
    },
    {
     "data": {
      "application/vnd.jupyter.widget-view+json": {
       "model_id": "2f44b4e45bc14e9788c698cf1334dbab",
       "version_major": 2,
       "version_minor": 0
      },
      "text/plain": [
       "HBox(children=(IntProgress(value=0, description='primary type', max=16, style=ProgressStyle(description_width=…"
      ]
     },
     "metadata": {},
     "output_type": "display_data"
    },
    {
     "data": {
      "application/vnd.jupyter.widget-view+json": {
       "model_id": "316745fad4df46ef8fb8cd77a0e5f9bb",
       "version_major": 2,
       "version_minor": 0
      },
      "text/plain": [
       "HBox(children=(IntProgress(value=1, bar_style='info', description='numeric split state_plane_y_coordinate', ma…"
      ]
     },
     "metadata": {},
     "output_type": "display_data"
    },
    {
     "data": {
      "application/vnd.jupyter.widget-view+json": {
       "model_id": "c5c4855d6e6d40a9b2280a8010ae098c",
       "version_major": 2,
       "version_minor": 0
      },
      "text/plain": [
       "HBox(children=(IntProgress(value=1, bar_style='info', description='numeric split longitude', max=1, style=Prog…"
      ]
     },
     "metadata": {},
     "output_type": "display_data"
    },
    {
     "name": "stdout",
     "output_type": "stream",
     "text": [
      "close_date\n",
      "0.0\n",
      "0.0\n",
      "city\n",
      "0.0\n",
      "0.0\n"
     ]
    },
    {
     "data": {
      "application/vnd.jupyter.widget-view+json": {
       "model_id": "98a08b545880425e9472a0ced57b168e",
       "version_major": 2,
       "version_minor": 0
      },
      "text/plain": [
       "HBox(children=(IntProgress(value=0, description='primary type', max=18, style=ProgressStyle(description_width=…"
      ]
     },
     "metadata": {},
     "output_type": "display_data"
    },
    {
     "data": {
      "application/vnd.jupyter.widget-view+json": {
       "model_id": "88908bcace344008b6045006cb3491da",
       "version_major": 2,
       "version_minor": 0
      },
      "text/plain": [
       "HBox(children=(IntProgress(value=1, bar_style='info', description='numeric split state_plane_x_coordinate', ma…"
      ]
     },
     "metadata": {},
     "output_type": "display_data"
    },
    {
     "data": {
      "application/vnd.jupyter.widget-view+json": {
       "model_id": "0ddbbd7699044f3183923eb5b0235e76",
       "version_major": 2,
       "version_minor": 0
      },
      "text/plain": [
       "HBox(children=(IntProgress(value=1, bar_style='info', description='numeric split state_plane_y_coordinate', ma…"
      ]
     },
     "metadata": {},
     "output_type": "display_data"
    },
    {
     "data": {
      "application/vnd.jupyter.widget-view+json": {
       "model_id": "7fa47ec9667244bda41ccc53146e2f9c",
       "version_major": 2,
       "version_minor": 0
      },
      "text/plain": [
       "HBox(children=(IntProgress(value=1, bar_style='info', description='numeric split longitude', max=1, style=Prog…"
      ]
     },
     "metadata": {},
     "output_type": "display_data"
    },
    {
     "data": {
      "application/vnd.jupyter.widget-view+json": {
       "model_id": "8b557438cf4e4f1ba8d434cbcf0bf946",
       "version_major": 2,
       "version_minor": 0
      },
      "text/plain": [
       "HBox(children=(IntProgress(value=0, description='primary type', max=22, style=ProgressStyle(description_width=…"
      ]
     },
     "metadata": {},
     "output_type": "display_data"
    },
    {
     "data": {
      "application/vnd.jupyter.widget-view+json": {
       "model_id": "51de8ad2f9564a7d9e5d880ae44986ea",
       "version_major": 2,
       "version_minor": 0
      },
      "text/plain": [
       "HBox(children=(IntProgress(value=0, description='numeric split street_number', max=59, style=ProgressStyle(des…"
      ]
     },
     "metadata": {},
     "output_type": "display_data"
    },
    {
     "data": {
      "application/vnd.jupyter.widget-view+json": {
       "model_id": "d96a1af87eb6411f8b81a338ad30a56e",
       "version_major": 2,
       "version_minor": 0
      },
      "text/plain": [
       "HBox(children=(IntProgress(value=0, description='numeric split latitude', max=59, style=ProgressStyle(descript…"
      ]
     },
     "metadata": {},
     "output_type": "display_data"
    },
    {
     "data": {
      "application/vnd.jupyter.widget-view+json": {
       "model_id": "f3d3f916bb914b359354f2db87ce0a51",
       "version_major": 2,
       "version_minor": 0
      },
      "text/plain": [
       "HBox(children=(IntProgress(value=0, description='numeric split state_plane_y_coordinate', max=59, style=Progre…"
      ]
     },
     "metadata": {},
     "output_type": "display_data"
    },
    {
     "data": {
      "application/vnd.jupyter.widget-view+json": {
       "model_id": "1356800638ac4c2e90ddbc4461837795",
       "version_major": 2,
       "version_minor": 0
      },
      "text/plain": [
       "HBox(children=(IntProgress(value=0, description='numeric split incident_zip', max=24, style=ProgressStyle(desc…"
      ]
     },
     "metadata": {},
     "output_type": "display_data"
    },
    {
     "data": {
      "application/vnd.jupyter.widget-view+json": {
       "model_id": "e7f029fd45bf4135afd2074d1ac2e667",
       "version_major": 2,
       "version_minor": 0
      },
      "text/plain": [
       "HBox(children=(IntProgress(value=0, description='numeric split longitude', max=59, style=ProgressStyle(descrip…"
      ]
     },
     "metadata": {},
     "output_type": "display_data"
    },
    {
     "name": "stdout",
     "output_type": "stream",
     "text": [
      "city\n",
      "0.0\n",
      "0.0\n"
     ]
    },
    {
     "data": {
      "application/vnd.jupyter.widget-view+json": {
       "model_id": "b32a84eb81fb45069c4f06a0c77ae309",
       "version_major": 2,
       "version_minor": 0
      },
      "text/plain": [
       "HBox(children=(IntProgress(value=0, description='primary type', max=22, style=ProgressStyle(description_width=…"
      ]
     },
     "metadata": {},
     "output_type": "display_data"
    },
    {
     "data": {
      "application/vnd.jupyter.widget-view+json": {
       "model_id": "19b25fdd973c4ec1b7a84579b4a06eb5",
       "version_major": 2,
       "version_minor": 0
      },
      "text/plain": [
       "HBox(children=(IntProgress(value=0, description='numeric split street_number', max=1, style=ProgressStyle(desc…"
      ]
     },
     "metadata": {},
     "output_type": "display_data"
    },
    {
     "data": {
      "application/vnd.jupyter.widget-view+json": {
       "model_id": "308ffbb84d6e43bc9bf1cc642fcf285c",
       "version_major": 2,
       "version_minor": 0
      },
      "text/plain": [
       "HBox(children=(IntProgress(value=0, description='numeric split latitude', max=1, style=ProgressStyle(descripti…"
      ]
     },
     "metadata": {},
     "output_type": "display_data"
    },
    {
     "data": {
      "application/vnd.jupyter.widget-view+json": {
       "model_id": "8b6e4ce66f16451eb7834a74783d8e9e",
       "version_major": 2,
       "version_minor": 0
      },
      "text/plain": [
       "HBox(children=(IntProgress(value=0, description='numeric split state_plane_y_coordinate', max=1, style=Progres…"
      ]
     },
     "metadata": {},
     "output_type": "display_data"
    },
    {
     "data": {
      "application/vnd.jupyter.widget-view+json": {
       "model_id": "888ccc4004044ea0bb5368ec50aad49e",
       "version_major": 2,
       "version_minor": 0
      },
      "text/plain": [
       "HBox(children=(IntProgress(value=0, description='numeric split incident_zip', max=1, style=ProgressStyle(descr…"
      ]
     },
     "metadata": {},
     "output_type": "display_data"
    },
    {
     "data": {
      "application/vnd.jupyter.widget-view+json": {
       "model_id": "c6af47e0f2f34b218b4eebba85a1592c",
       "version_major": 2,
       "version_minor": 0
      },
      "text/plain": [
       "HBox(children=(IntProgress(value=0, description='numeric split longitude', max=1, style=ProgressStyle(descript…"
      ]
     },
     "metadata": {},
     "output_type": "display_data"
    },
    {
     "data": {
      "application/vnd.jupyter.widget-view+json": {
       "model_id": "ca794842c9ab4cdda43862875bc0cb0d",
       "version_major": 2,
       "version_minor": 0
      },
      "text/plain": [
       "HBox(children=(IntProgress(value=0, description='primary type', max=17, style=ProgressStyle(description_width=…"
      ]
     },
     "metadata": {},
     "output_type": "display_data"
    },
    {
     "data": {
      "application/vnd.jupyter.widget-view+json": {
       "model_id": "dbf7ea9ecde7410c9ea995498f553b15",
       "version_major": 2,
       "version_minor": 0
      },
      "text/plain": [
       "HBox(children=(IntProgress(value=1, bar_style='info', description='numeric split state_plane_y_coordinate', ma…"
      ]
     },
     "metadata": {},
     "output_type": "display_data"
    },
    {
     "data": {
      "application/vnd.jupyter.widget-view+json": {
       "model_id": "75dfc98af0cd42eca3697805494ad1a8",
       "version_major": 2,
       "version_minor": 0
      },
      "text/plain": [
       "HBox(children=(IntProgress(value=1, bar_style='info', description='numeric split latitude', max=1, style=Progr…"
      ]
     },
     "metadata": {},
     "output_type": "display_data"
    },
    {
     "data": {
      "application/vnd.jupyter.widget-view+json": {
       "model_id": "bda2f5a444da4759ac0ae56ee6bd22aa",
       "version_major": 2,
       "version_minor": 0
      },
      "text/plain": [
       "HBox(children=(IntProgress(value=1, bar_style='info', description='numeric split longitude', max=1, style=Prog…"
      ]
     },
     "metadata": {},
     "output_type": "display_data"
    },
    {
     "data": {
      "application/vnd.jupyter.widget-view+json": {
       "model_id": "427db6ab3f4a49d2a324244b61f13ae9",
       "version_major": 2,
       "version_minor": 0
      },
      "text/plain": [
       "HBox(children=(IntProgress(value=0, description='primary type', max=17, style=ProgressStyle(description_width=…"
      ]
     },
     "metadata": {},
     "output_type": "display_data"
    },
    {
     "data": {
      "application/vnd.jupyter.widget-view+json": {
       "model_id": "546d6b20a44841ca9048ca152b17b034",
       "version_major": 2,
       "version_minor": 0
      },
      "text/plain": [
       "HBox(children=(IntProgress(value=1, bar_style='info', description='numeric split state_plane_y_coordinate', ma…"
      ]
     },
     "metadata": {},
     "output_type": "display_data"
    },
    {
     "data": {
      "application/vnd.jupyter.widget-view+json": {
       "model_id": "d7e29568c2234fccafaa0368fd15c8a2",
       "version_major": 2,
       "version_minor": 0
      },
      "text/plain": [
       "HBox(children=(IntProgress(value=1, bar_style='info', description='numeric split latitude', max=1, style=Progr…"
      ]
     },
     "metadata": {},
     "output_type": "display_data"
    },
    {
     "data": {
      "application/vnd.jupyter.widget-view+json": {
       "model_id": "f65cf32ab0644bdcb39283cc1bdedc05",
       "version_major": 2,
       "version_minor": 0
      },
      "text/plain": [
       "HBox(children=(IntProgress(value=1, bar_style='info', description='numeric split longitude', max=1, style=Prog…"
      ]
     },
     "metadata": {},
     "output_type": "display_data"
    },
    {
     "data": {
      "application/vnd.jupyter.widget-view+json": {
       "model_id": "a0a34d2f00f94d0287b0c0eb71a544dd",
       "version_major": 2,
       "version_minor": 0
      },
      "text/plain": [
       "HBox(children=(IntProgress(value=0, description='primary type', max=22, style=ProgressStyle(description_width=…"
      ]
     },
     "metadata": {},
     "output_type": "display_data"
    },
    {
     "data": {
      "application/vnd.jupyter.widget-view+json": {
       "model_id": "506cff67426c4a17903934e8b0b189e4",
       "version_major": 2,
       "version_minor": 0
      },
      "text/plain": [
       "HBox(children=(IntProgress(value=1, bar_style='info', description='numeric split latitude', max=1, style=Progr…"
      ]
     },
     "metadata": {},
     "output_type": "display_data"
    },
    {
     "data": {
      "application/vnd.jupyter.widget-view+json": {
       "model_id": "ee7ddaacbcaa4e54b4b65ed648f65d2a",
       "version_major": 2,
       "version_minor": 0
      },
      "text/plain": [
       "HBox(children=(IntProgress(value=1, bar_style='info', description='numeric split state_plane_y_coordinate', ma…"
      ]
     },
     "metadata": {},
     "output_type": "display_data"
    },
    {
     "data": {
      "application/vnd.jupyter.widget-view+json": {
       "model_id": "077f599c275f4d958a5af22957211ce2",
       "version_major": 2,
       "version_minor": 0
      },
      "text/plain": [
       "HBox(children=(IntProgress(value=1, bar_style='info', description='numeric split incident_zip', max=1, style=P…"
      ]
     },
     "metadata": {},
     "output_type": "display_data"
    },
    {
     "data": {
      "application/vnd.jupyter.widget-view+json": {
       "model_id": "bc012f9c768b41cf8f6ca45f46f33df0",
       "version_major": 2,
       "version_minor": 0
      },
      "text/plain": [
       "HBox(children=(IntProgress(value=1, bar_style='info', description='numeric split longitude', max=1, style=Prog…"
      ]
     },
     "metadata": {},
     "output_type": "display_data"
    },
    {
     "data": {
      "application/vnd.jupyter.widget-view+json": {
       "model_id": "994dcb5cf4d5480fbc3e6216af299e92",
       "version_major": 2,
       "version_minor": 0
      },
      "text/plain": [
       "HBox(children=(IntProgress(value=0, description='primary type', max=23, style=ProgressStyle(description_width=…"
      ]
     },
     "metadata": {},
     "output_type": "display_data"
    },
    {
     "data": {
      "application/vnd.jupyter.widget-view+json": {
       "model_id": "a4a9ac47cc9e4398a2c1973d293d54d6",
       "version_major": 2,
       "version_minor": 0
      },
      "text/plain": [
       "HBox(children=(IntProgress(value=0, description='numeric split latitude', max=58, style=ProgressStyle(descript…"
      ]
     },
     "metadata": {},
     "output_type": "display_data"
    },
    {
     "data": {
      "application/vnd.jupyter.widget-view+json": {
       "model_id": "5d8b1e86ef4a447f824cd0a21d12fac9",
       "version_major": 2,
       "version_minor": 0
      },
      "text/plain": [
       "HBox(children=(IntProgress(value=0, description='numeric split state_plane_y_coordinate', max=58, style=Progre…"
      ]
     },
     "metadata": {},
     "output_type": "display_data"
    },
    {
     "data": {
      "application/vnd.jupyter.widget-view+json": {
       "model_id": "2b4835e7a6d1410a910fcf019d2f8fcf",
       "version_major": 2,
       "version_minor": 0
      },
      "text/plain": [
       "HBox(children=(IntProgress(value=0, description='numeric split incident_zip', max=24, style=ProgressStyle(desc…"
      ]
     },
     "metadata": {},
     "output_type": "display_data"
    },
    {
     "data": {
      "application/vnd.jupyter.widget-view+json": {
       "model_id": "4db5e4c46fc4497daea7134965132ae8",
       "version_major": 2,
       "version_minor": 0
      },
      "text/plain": [
       "HBox(children=(IntProgress(value=0, description='numeric split longitude', max=58, style=ProgressStyle(descrip…"
      ]
     },
     "metadata": {},
     "output_type": "display_data"
    },
    {
     "name": "stdout",
     "output_type": "stream",
     "text": [
      "done\n",
      "time: 15min 14s\n"
     ]
    }
   ],
   "source": [
    "alpha = 0.01\n",
    "beta = 0.001\n",
    "currentID = 0\n",
    " # avoid repeated split\n",
    "numberOfFBV = 0\n",
    "numberOfFBS = 0\n",
    "numberOfNumeric = 0\n",
    "entropy, sEntropy = entropysCalculation([root], root.schemas)\n",
    "print(entropy)\n",
    "print(sEntropy)\n",
    "split(schemaProfiling,root,entropy,sEntropy)\n",
    "print(\"done\")\n",
    "\n"
   ]
  },
  {
   "cell_type": "code",
   "execution_count": 71,
   "metadata": {
    "scrolled": true
   },
   "outputs": [
    {
     "name": "stdout",
     "output_type": "stream",
     "text": [
      "number of valueSplit:  4.0\n",
      "number of schemaSplit:  15\n",
      "number of FindBestValue:  154\n",
      "number of FindBestSchema:  89\n",
      "number of numeric calls:  19934\n",
      "maxDepth:  8\n",
      "maxWidth:  10\n",
      "time: 34 ms\n"
     ]
    }
   ],
   "source": [
    "schemaSplitNum = 0\n",
    "for edge in schemaProfiling.edges:\n",
    "    if edge.symbol == 'E':\n",
    "        schemaSplitNum += 1\n",
    "print(\"number of valueSplit: \", (len(schemaProfiling.edges) - schemaSplitNum *2)/2)\n",
    "print(\"number of schemaSplit: \",  schemaSplitNum)\n",
    "print('number of FindBestValue: ', numberOfFBV)\n",
    "print('number of FindBestSchema: ', numberOfFBS)\n",
    "print('number of numeric calls: ', numberOfNumeric)\n",
    "\n",
    "# find depth\n",
    "def maxDepth(node):\n",
    "    if node == None:\n",
    "        return 0\n",
    "    first = True\n",
    "    second = True\n",
    "    rnode = None\n",
    "    lnode = None\n",
    "    for edge in schemaProfiling.edges:\n",
    "        if edge.parent == node :\n",
    "            rnode = edge.children\n",
    "            \n",
    "\n",
    "    for edge in schemaProfiling.edges:\n",
    "        if edge.parent == node and rnode != edge.children:\n",
    "            lnode = edge.children\n",
    "    ldepth = maxDepth(rnode)\n",
    "    rdepth = maxDepth(lnode)\n",
    "    \n",
    "    if rdepth > ldepth:\n",
    "        return rdepth + 1 \n",
    "    else:\n",
    "        return ldepth + 1\n",
    "\n",
    "depth = maxDepth(schemaProfiling.root)\n",
    "print('maxDepth: ', depth)\n",
    "\n",
    "\n",
    "# find width\n",
    "def maxWidth():\n",
    "    maxWidth = 0\n",
    "    for i in range (1, depth + 1):\n",
    "        width = getWidth(schemaProfiling.root, i)\n",
    "        if width > maxWidth:\n",
    "            maxWidth = width\n",
    "    return maxWidth\n",
    "\n",
    "def getWidth(root, level):\n",
    "    \n",
    "    if root == None:\n",
    "        return 0\n",
    "    if level == 1:\n",
    "        return 1\n",
    "    else:\n",
    "        rnode = None\n",
    "        lnode = None\n",
    "        for edge in schemaProfiling.edges:\n",
    "            if edge.parent == root :\n",
    "                rnode = edge.children\n",
    "\n",
    "        for edge in schemaProfiling.edges:\n",
    "            if edge.parent == root and rnode != edge.children:\n",
    "                 lnode = edge.children\n",
    "        \n",
    "        return (getWidth(lnode,level-1) + getWidth(rnode,level-1))\n",
    "print('maxWidth: ', maxWidth())"
   ]
  },
  {
   "cell_type": "markdown",
   "metadata": {},
   "source": [
    "<a id='visulization'></a>\n",
    "## Visulization"
   ]
  },
  {
   "cell_type": "code",
   "execution_count": 72,
   "metadata": {
    "scrolled": false
   },
   "outputs": [
    {
     "name": "stdout",
     "output_type": "stream",
     "text": [
      "Error in callback <function LineWatcher.stop at 0x000001AE61FEF840> (for post_run_cell):\n"
     ]
    },
    {
     "ename": "AssertionError",
     "evalue": "",
     "output_type": "error",
     "traceback": [
      "\u001b[1;31m---------------------------------------------------------------------------\u001b[0m",
      "\u001b[1;31mAssertionError\u001b[0m                            Traceback (most recent call last)",
      "\u001b[1;32mD:\\anaconda3\\lib\\site-packages\\backcall\\backcall.py\u001b[0m in \u001b[0;36madapted\u001b[1;34m(*args, **kwargs)\u001b[0m\n\u001b[0;32m    102\u001b[0m                 \u001b[0mkwargs\u001b[0m\u001b[1;33m.\u001b[0m\u001b[0mpop\u001b[0m\u001b[1;33m(\u001b[0m\u001b[0mname\u001b[0m\u001b[1;33m)\u001b[0m\u001b[1;33m\u001b[0m\u001b[1;33m\u001b[0m\u001b[0m\n\u001b[0;32m    103\u001b[0m \u001b[1;31m#            print(args, kwargs, unmatched_pos, cut_positional, unmatched_kw)\u001b[0m\u001b[1;33m\u001b[0m\u001b[1;33m\u001b[0m\u001b[1;33m\u001b[0m\u001b[0m\n\u001b[1;32m--> 104\u001b[1;33m             \u001b[1;32mreturn\u001b[0m \u001b[0mcallback\u001b[0m\u001b[1;33m(\u001b[0m\u001b[1;33m*\u001b[0m\u001b[0margs\u001b[0m\u001b[1;33m,\u001b[0m \u001b[1;33m**\u001b[0m\u001b[0mkwargs\u001b[0m\u001b[1;33m)\u001b[0m\u001b[1;33m\u001b[0m\u001b[1;33m\u001b[0m\u001b[0m\n\u001b[0m\u001b[0;32m    105\u001b[0m \u001b[1;33m\u001b[0m\u001b[0m\n\u001b[0;32m    106\u001b[0m         \u001b[1;32mreturn\u001b[0m \u001b[0madapted\u001b[0m\u001b[1;33m\u001b[0m\u001b[1;33m\u001b[0m\u001b[0m\n",
      "\u001b[1;32mD:\\anaconda3\\lib\\site-packages\\autotime.py\u001b[0m in \u001b[0;36mstop\u001b[1;34m(self)\u001b[0m\n\u001b[0;32m     23\u001b[0m         \u001b[1;32mif\u001b[0m \u001b[0mself\u001b[0m\u001b[1;33m.\u001b[0m\u001b[0mstart_time\u001b[0m\u001b[1;33m:\u001b[0m\u001b[1;33m\u001b[0m\u001b[1;33m\u001b[0m\u001b[0m\n\u001b[0;32m     24\u001b[0m             \u001b[0mdiff\u001b[0m \u001b[1;33m=\u001b[0m \u001b[0mtime\u001b[0m\u001b[1;33m.\u001b[0m\u001b[0mtime\u001b[0m\u001b[1;33m(\u001b[0m\u001b[1;33m)\u001b[0m \u001b[1;33m-\u001b[0m \u001b[0mself\u001b[0m\u001b[1;33m.\u001b[0m\u001b[0mstart_time\u001b[0m\u001b[1;33m\u001b[0m\u001b[1;33m\u001b[0m\u001b[0m\n\u001b[1;32m---> 25\u001b[1;33m             \u001b[1;32massert\u001b[0m \u001b[0mdiff\u001b[0m \u001b[1;33m>\u001b[0m \u001b[1;36m0\u001b[0m\u001b[1;33m\u001b[0m\u001b[1;33m\u001b[0m\u001b[0m\n\u001b[0m\u001b[0;32m     26\u001b[0m             \u001b[0mprint\u001b[0m\u001b[1;33m(\u001b[0m\u001b[1;34m'time: %s'\u001b[0m \u001b[1;33m%\u001b[0m \u001b[0mformat_delta\u001b[0m\u001b[1;33m(\u001b[0m\u001b[0mdiff\u001b[0m\u001b[1;33m)\u001b[0m\u001b[1;33m)\u001b[0m\u001b[1;33m\u001b[0m\u001b[1;33m\u001b[0m\u001b[0m\n\u001b[0;32m     27\u001b[0m \u001b[1;33m\u001b[0m\u001b[0m\n",
      "\u001b[1;31mAssertionError\u001b[0m: "
     ]
    }
   ],
   "source": [
    "import pydot"
   ]
  },
  {
   "cell_type": "code",
   "execution_count": 73,
   "metadata": {
    "scrolled": true
   },
   "outputs": [
    {
     "name": "stdout",
     "output_type": "stream",
     "text": [
      "time: 1.01 ms\n"
     ]
    }
   ],
   "source": [
    "G = pydot.Dot()"
   ]
  },
  {
   "cell_type": "code",
   "execution_count": 74,
   "metadata": {},
   "outputs": [
    {
     "name": "stdout",
     "output_type": "stream",
     "text": [
      "time: 1 ms\n"
     ]
    }
   ],
   "source": [
    "def getSchemaID(schemas):\n",
    "    result = ''\n",
    "    for schema in schemas:\n",
    "        for key, value in schemasDict.items():\n",
    "            if value == schema:\n",
    "                result = result +\" \"+  str(key)\n",
    "    return result"
   ]
  },
  {
   "cell_type": "code",
   "execution_count": 75,
   "metadata": {},
   "outputs": [
    {
     "name": "stdout",
     "output_type": "stream",
     "text": [
      "street_number0\n",
      "state_plane_y_coordinate3\n",
      "council_district_code6\n",
      "council_district_code9\n",
      "close_date12\n",
      "incident_zip15\n",
      "close_date18\n",
      "map_tile21\n",
      "status_change_date24\n",
      "county27\n",
      "incident_address30\n",
      "county33\n",
      "county36\n",
      "county39\n",
      "street_number42\n",
      "latitude45\n",
      "close_date48\n",
      "close_date51\n",
      "street_number54\n",
      "time: 30 ms\n"
     ]
    }
   ],
   "source": [
    "for node in schemaProfiling.nodes:\n",
    "    if type(node).__name__ == 'Leaf':\n",
    "        tempLabel = getSchemaID(node.schemas)\n",
    "        temp = pydot.Node(node.id, label=tempLabel)\n",
    "    else:\n",
    "        temp = pydot.Node(node.name + str(node.id),label=node.name)\n",
    "        print(node.name + str(node.id))\n",
    "    G.add_node(temp)"
   ]
  },
  {
   "cell_type": "code",
   "execution_count": 76,
   "metadata": {},
   "outputs": [
    {
     "name": "stdout",
     "output_type": "stream",
     "text": [
      "time: 7 ms\n"
     ]
    }
   ],
   "source": [
    "for edge in schemaProfiling.edges:\n",
    "    if type(edge.children).__name__ =='Leaf':\n",
    "        if type(edge.value).__name__ == 'ObjectId':\n",
    "            tempLabel=edge.symbol + '\\n' + str(edge.value)\n",
    "        else:\n",
    "            tempLabel=edge.symbol + '\\n' + str(edge.value)\n",
    "        temp = pydot.Edge(edge.parent.name+str(edge.parent.id), str(edge.children.id), label = tempLabel)\n",
    "    else:\n",
    "        if type(edge.value).__name__ == 'ObjectId':\n",
    "            tempLabel=edge.symbol + '\\n' + str(edge.value)\n",
    "        else:\n",
    "            tempLabel=edge.symbol + '\\n' + str(edge.value)\n",
    "        temp = pydot.Edge(edge.parent.name+str(edge.parent.id), edge.children.name+str(edge.children.id),label= tempLabel)\n",
    "    G.add_edge(temp)"
   ]
  },
  {
   "cell_type": "code",
   "execution_count": 77,
   "metadata": {},
   "outputs": [
    {
     "name": "stdout",
     "output_type": "stream",
     "text": [
      "time: 1.01 ms\n"
     ]
    }
   ],
   "source": [
    "from IPython.display import Image, display"
   ]
  },
  {
   "cell_type": "code",
   "execution_count": 78,
   "metadata": {
    "scrolled": false
   },
   "outputs": [
    {
     "data": {
      "image/png": "[encoded data removed]",
      "text/plain": [
       "<IPython.core.display.Image object>"
      ]
     },
     "metadata": {},
     "output_type": "display_data"
    },
    {
     "name": "stdout",
     "output_type": "stream",
     "text": [
      "{   0: {   'city': 'str',\n",
      "           'close_date': 'str',\n",
      "           'complaint_description': 'str',\n",
      "           'complaint_type': 'str',\n",
      "           'council_district_code': 'float',\n",
      "           'county': 'str',\n",
      "           'created_date': 'str',\n",
      "           'incident_address': 'str',\n",
      "           'incident_zip': 'float',\n",
      "           'last_update_date': 'str',\n",
      "           'latitude': 'float',\n",
      "           'location': 'str',\n",
      "           'longitude': 'float',\n",
      "           'map_page': 'str',\n",
      "           'map_tile': 'str',\n",
      "           'owning_department': 'str',\n",
      "           'source': 'str',\n",
      "           'state_plane_x_coordinate': 'str',\n",
      "           'state_plane_y_coordinate': 'float',\n",
      "           'status': 'str',\n",
      "           'status_change_date': 'str',\n",
      "           'street_name': 'str',\n",
      "           'street_number': 'float',\n",
      "           'unique_key': 'str'},\n",
      "    1: {   'city': 'str',\n",
      "           'close_date': 'str',\n",
      "           'complaint_description': 'str',\n",
      "           'complaint_type': 'str',\n",
      "           'council_district_code': 'float',\n",
      "           'county': 'str',\n",
      "           'created_date': 'str',\n",
      "           'incident_address': 'str',\n",
      "           'incident_zip': 'float',\n",
      "           'last_update_date': 'str',\n",
      "           'latitude': 'float',\n",
      "           'location': 'str',\n",
      "           'longitude': 'float',\n",
      "           'map_page': 'str',\n",
      "           'map_tile': 'str',\n",
      "           'owning_department': 'str',\n",
      "           'source': 'str',\n",
      "           'state_plane_x_coordinate': 'str',\n",
      "           'state_plane_y_coordinate': 'float',\n",
      "           'status': 'str',\n",
      "           'status_change_date': 'str',\n",
      "           'street_name': 'str',\n",
      "           'unique_key': 'str'},\n",
      "    2: {   'city': 'str',\n",
      "           'close_date': 'str',\n",
      "           'complaint_description': 'str',\n",
      "           'complaint_type': 'str',\n",
      "           'county': 'str',\n",
      "           'created_date': 'str',\n",
      "           'incident_address': 'str',\n",
      "           'incident_zip': 'float',\n",
      "           'last_update_date': 'str',\n",
      "           'latitude': 'float',\n",
      "           'location': 'str',\n",
      "           'longitude': 'float',\n",
      "           'map_page': 'str',\n",
      "           'map_tile': 'str',\n",
      "           'owning_department': 'str',\n",
      "           'source': 'str',\n",
      "           'state_plane_x_coordinate': 'str',\n",
      "           'state_plane_y_coordinate': 'float',\n",
      "           'status': 'str',\n",
      "           'status_change_date': 'str',\n",
      "           'street_name': 'str',\n",
      "           'street_number': 'float',\n",
      "           'unique_key': 'str'},\n",
      "    3: {   'city': 'str',\n",
      "           'complaint_description': 'str',\n",
      "           'complaint_type': 'str',\n",
      "           'council_district_code': 'float',\n",
      "           'county': 'str',\n",
      "           'created_date': 'str',\n",
      "           'incident_address': 'str',\n",
      "           'incident_zip': 'float',\n",
      "           'last_update_date': 'str',\n",
      "           'latitude': 'float',\n",
      "           'location': 'str',\n",
      "           'longitude': 'float',\n",
      "           'map_page': 'str',\n",
      "           'map_tile': 'str',\n",
      "           'owning_department': 'str',\n",
      "           'source': 'str',\n",
      "           'state_plane_x_coordinate': 'str',\n",
      "           'state_plane_y_coordinate': 'float',\n",
      "           'status': 'str',\n",
      "           'status_change_date': 'str',\n",
      "           'street_name': 'str',\n",
      "           'street_number': 'float',\n",
      "           'unique_key': 'str'},\n",
      "    4: {   'city': 'str',\n",
      "           'complaint_description': 'str',\n",
      "           'complaint_type': 'str',\n",
      "           'council_district_code': 'float',\n",
      "           'county': 'str',\n",
      "           'incident_address': 'str',\n",
      "           'incident_zip': 'float',\n",
      "           'latitude': 'float',\n",
      "           'location': 'str',\n",
      "           'longitude': 'float',\n",
      "           'map_page': 'str',\n",
      "           'map_tile': 'str',\n",
      "           'owning_department': 'str',\n",
      "           'source': 'str',\n",
      "           'state_plane_x_coordinate': 'str',\n",
      "           'state_plane_y_coordinate': 'int',\n",
      "           'status': 'str',\n",
      "           'street_name': 'float',\n",
      "           'street_number': 'float',\n",
      "           'unique_key': 'str'},\n",
      "    5: {   'city': 'str',\n",
      "           'close_date': 'str',\n",
      "           'complaint_description': 'str',\n",
      "           'complaint_type': 'str',\n",
      "           'county': 'str',\n",
      "           'created_date': 'str',\n",
      "           'incident_address': 'str',\n",
      "           'incident_zip': 'float',\n",
      "           'last_update_date': 'str',\n",
      "           'latitude': 'float',\n",
      "           'location': 'str',\n",
      "           'longitude': 'float',\n",
      "           'map_page': 'str',\n",
      "           'owning_department': 'str',\n",
      "           'source': 'str',\n",
      "           'state_plane_x_coordinate': 'str',\n",
      "           'state_plane_y_coordinate': 'float',\n",
      "           'status': 'str',\n",
      "           'status_change_date': 'str',\n",
      "           'street_name': 'str',\n",
      "           'street_number': 'float',\n",
      "           'unique_key': 'str'},\n",
      "    6: {   'city': 'str',\n",
      "           'close_date': 'str',\n",
      "           'complaint_description': 'str',\n",
      "           'complaint_type': 'str',\n",
      "           'county': 'str',\n",
      "           'created_date': 'str',\n",
      "           'incident_address': 'str',\n",
      "           'incident_zip': 'float',\n",
      "           'last_update_date': 'str',\n",
      "           'latitude': 'float',\n",
      "           'location': 'str',\n",
      "           'longitude': 'float',\n",
      "           'map_page': 'str',\n",
      "           'map_tile': 'str',\n",
      "           'owning_department': 'str',\n",
      "           'source': 'str',\n",
      "           'state_plane_x_coordinate': 'str',\n",
      "           'state_plane_y_coordinate': 'float',\n",
      "           'status': 'str',\n",
      "           'status_change_date': 'str',\n",
      "           'street_name': 'str',\n",
      "           'unique_key': 'str'},\n",
      "    7: {   'city': 'str',\n",
      "           'complaint_description': 'str',\n",
      "           'complaint_type': 'str',\n",
      "           'council_district_code': 'float',\n",
      "           'county': 'str',\n",
      "           'incident_address': 'str',\n",
      "           'incident_zip': 'float',\n",
      "           'latitude': 'float',\n",
      "           'location': 'str',\n",
      "           'longitude': 'float',\n",
      "           'map_page': 'str',\n",
      "           'map_tile': 'str',\n",
      "           'owning_department': 'str',\n",
      "           'source': 'str',\n",
      "           'state_plane_x_coordinate': 'str',\n",
      "           'state_plane_y_coordinate': 'int',\n",
      "           'status': 'str',\n",
      "           'street_name': 'str',\n",
      "           'unique_key': 'str'},\n",
      "    8: {   'city': 'str',\n",
      "           'complaint_description': 'str',\n",
      "           'complaint_type': 'str',\n",
      "           'council_district_code': 'float',\n",
      "           'created_date': 'str',\n",
      "           'incident_address': 'str',\n",
      "           'incident_zip': 'float',\n",
      "           'last_update_date': 'str',\n",
      "           'latitude': 'float',\n",
      "           'location': 'str',\n",
      "           'longitude': 'float',\n",
      "           'map_page': 'str',\n",
      "           'map_tile': 'str',\n",
      "           'owning_department': 'str',\n",
      "           'source': 'str',\n",
      "           'state_plane_x_coordinate': 'str',\n",
      "           'state_plane_y_coordinate': 'float',\n",
      "           'status': 'str',\n",
      "           'status_change_date': 'str',\n",
      "           'street_name': 'str',\n",
      "           'street_number': 'float',\n",
      "           'unique_key': 'str'},\n",
      "    9: {   'close_date': 'str',\n",
      "           'complaint_description': 'str',\n",
      "           'complaint_type': 'str',\n",
      "           'created_date': 'str',\n",
      "           'last_update_date': 'str',\n",
      "           'owning_department': 'str',\n",
      "           'source': 'str',\n",
      "           'status': 'str',\n",
      "           'status_change_date': 'str',\n",
      "           'unique_key': 'str'},\n",
      "    10: {   'city': 'str',\n",
      "            'complaint_description': 'str',\n",
      "            'complaint_type': 'str',\n",
      "            'council_district_code': 'float',\n",
      "            'county': 'str',\n",
      "            'created_date': 'str',\n",
      "            'incident_address': 'str',\n",
      "            'incident_zip': 'float',\n",
      "            'last_update_date': 'str',\n",
      "            'latitude': 'float',\n",
      "            'location': 'str',\n",
      "            'longitude': 'float',\n",
      "            'map_page': 'str',\n",
      "            'map_tile': 'str',\n",
      "            'owning_department': 'str',\n",
      "            'source': 'str',\n",
      "            'state_plane_x_coordinate': 'str',\n",
      "            'state_plane_y_coordinate': 'float',\n",
      "            'status': 'str',\n",
      "            'status_change_date': 'str',\n",
      "            'street_name': 'str',\n",
      "            'unique_key': 'str'},\n",
      "    11: {   'city': 'str',\n",
      "            'close_date': 'str',\n",
      "            'complaint_description': 'str',\n"
     ]
    },
    {
     "name": "stdout",
     "output_type": "stream",
     "text": [
      "            'complaint_type': 'str',\n",
      "            'created_date': 'str',\n",
      "            'incident_address': 'str',\n",
      "            'incident_zip': 'float',\n",
      "            'last_update_date': 'str',\n",
      "            'latitude': 'float',\n",
      "            'location': 'str',\n",
      "            'longitude': 'float',\n",
      "            'map_page': 'str',\n",
      "            'map_tile': 'str',\n",
      "            'owning_department': 'str',\n",
      "            'source': 'str',\n",
      "            'state_plane_x_coordinate': 'str',\n",
      "            'state_plane_y_coordinate': 'float',\n",
      "            'status': 'str',\n",
      "            'status_change_date': 'str',\n",
      "            'street_name': 'str',\n",
      "            'unique_key': 'str'},\n",
      "    12: {   'city': 'str',\n",
      "            'complaint_description': 'str',\n",
      "            'complaint_type': 'str',\n",
      "            'county': 'str',\n",
      "            'created_date': 'str',\n",
      "            'incident_address': 'str',\n",
      "            'incident_zip': 'float',\n",
      "            'last_update_date': 'str',\n",
      "            'latitude': 'float',\n",
      "            'location': 'str',\n",
      "            'longitude': 'float',\n",
      "            'map_page': 'str',\n",
      "            'map_tile': 'str',\n",
      "            'owning_department': 'str',\n",
      "            'source': 'str',\n",
      "            'state_plane_x_coordinate': 'str',\n",
      "            'state_plane_y_coordinate': 'float',\n",
      "            'status': 'str',\n",
      "            'status_change_date': 'str',\n",
      "            'street_name': 'str',\n",
      "            'street_number': 'float',\n",
      "            'unique_key': 'str'},\n",
      "    13: {   'city': 'str',\n",
      "            'close_date': 'str',\n",
      "            'complaint_description': 'str',\n",
      "            'complaint_type': 'str',\n",
      "            'council_district_code': 'float',\n",
      "            'created_date': 'str',\n",
      "            'incident_address': 'str',\n",
      "            'incident_zip': 'float',\n",
      "            'last_update_date': 'str',\n",
      "            'latitude': 'float',\n",
      "            'location': 'str',\n",
      "            'longitude': 'float',\n",
      "            'map_page': 'str',\n",
      "            'map_tile': 'str',\n",
      "            'owning_department': 'str',\n",
      "            'source': 'str',\n",
      "            'state_plane_x_coordinate': 'str',\n",
      "            'state_plane_y_coordinate': 'float',\n",
      "            'status': 'str',\n",
      "            'status_change_date': 'str',\n",
      "            'street_name': 'str',\n",
      "            'street_number': 'float',\n",
      "            'unique_key': 'str'},\n",
      "    14: {   'city': 'str',\n",
      "            'close_date': 'str',\n",
      "            'complaint_description': 'str',\n",
      "            'complaint_type': 'str',\n",
      "            'created_date': 'str',\n",
      "            'incident_address': 'str',\n",
      "            'last_update_date': 'str',\n",
      "            'latitude': 'float',\n",
      "            'location': 'str',\n",
      "            'longitude': 'float',\n",
      "            'owning_department': 'str',\n",
      "            'source': 'str',\n",
      "            'state_plane_x_coordinate': 'float',\n",
      "            'state_plane_y_coordinate': 'int',\n",
      "            'status': 'str',\n",
      "            'status_change_date': 'str',\n",
      "            'street_name': 'str',\n",
      "            'unique_key': 'str'},\n",
      "    15: {   'close_date': 'str',\n",
      "            'complaint_description': 'str',\n",
      "            'complaint_type': 'str',\n",
      "            'created_date': 'str',\n",
      "            'incident_address': 'str',\n",
      "            'last_update_date': 'str',\n",
      "            'latitude': 'float',\n",
      "            'location': 'str',\n",
      "            'longitude': 'float',\n",
      "            'owning_department': 'str',\n",
      "            'source': 'str',\n",
      "            'state_plane_x_coordinate': 'str',\n",
      "            'state_plane_y_coordinate': 'int',\n",
      "            'status': 'str',\n",
      "            'status_change_date': 'str',\n",
      "            'street_name': 'str',\n",
      "            'unique_key': 'str'},\n",
      "    16: {   'city': 'str',\n",
      "            'close_date': 'str',\n",
      "            'complaint_description': 'str',\n",
      "            'complaint_type': 'str',\n",
      "            'created_date': 'str',\n",
      "            'incident_address': 'str',\n",
      "            'incident_zip': 'float',\n",
      "            'last_update_date': 'str',\n",
      "            'latitude': 'float',\n",
      "            'location': 'str',\n",
      "            'longitude': 'float',\n",
      "            'map_page': 'str',\n",
      "            'map_tile': 'str',\n",
      "            'owning_department': 'str',\n",
      "            'source': 'str',\n",
      "            'state_plane_x_coordinate': 'str',\n",
      "            'state_plane_y_coordinate': 'float',\n",
      "            'status': 'str',\n",
      "            'status_change_date': 'str',\n",
      "            'street_name': 'str',\n",
      "            'street_number': 'float',\n",
      "            'unique_key': 'str'},\n",
      "    17: {   'close_date': 'str',\n",
      "            'complaint_description': 'str',\n",
      "            'complaint_type': 'str',\n",
      "            'county': 'str',\n",
      "            'created_date': 'str',\n",
      "            'incident_address': 'str',\n",
      "            'incident_zip': 'float',\n",
      "            'last_update_date': 'str',\n",
      "            'latitude': 'float',\n",
      "            'location': 'str',\n",
      "            'longitude': 'float',\n",
      "            'map_page': 'str',\n",
      "            'owning_department': 'str',\n",
      "            'source': 'str',\n",
      "            'state_plane_x_coordinate': 'str',\n",
      "            'state_plane_y_coordinate': 'float',\n",
      "            'status': 'str',\n",
      "            'status_change_date': 'str',\n",
      "            'street_name': 'str',\n",
      "            'street_number': 'float',\n",
      "            'unique_key': 'str'},\n",
      "    18: {   'city': 'str',\n",
      "            'complaint_description': 'str',\n",
      "            'complaint_type': 'str',\n",
      "            'created_date': 'str',\n",
      "            'incident_address': 'str',\n",
      "            'last_update_date': 'str',\n",
      "            'latitude': 'float',\n",
      "            'location': 'str',\n",
      "            'longitude': 'float',\n",
      "            'owning_department': 'str',\n",
      "            'source': 'str',\n",
      "            'state_plane_x_coordinate': 'str',\n",
      "            'state_plane_y_coordinate': 'int',\n",
      "            'status': 'str',\n",
      "            'status_change_date': 'str',\n",
      "            'street_name': 'str',\n",
      "            'unique_key': 'str'},\n",
      "    19: {   'close_date': 'str',\n",
      "            'complaint_description': 'str',\n",
      "            'complaint_type': 'str',\n",
      "            'county': 'str',\n",
      "            'created_date': 'str',\n",
      "            'incident_address': 'str',\n",
      "            'incident_zip': 'float',\n",
      "            'last_update_date': 'str',\n",
      "            'latitude': 'float',\n",
      "            'location': 'str',\n",
      "            'longitude': 'float',\n",
      "            'map_page': 'str',\n",
      "            'map_tile': 'str',\n",
      "            'owning_department': 'str',\n",
      "            'source': 'str',\n",
      "            'state_plane_x_coordinate': 'str',\n",
      "            'state_plane_y_coordinate': 'float',\n",
      "            'status': 'str',\n",
      "            'status_change_date': 'str',\n",
      "            'street_name': 'str',\n",
      "            'street_number': 'float',\n",
      "            'unique_key': 'str'}}\n",
      "time: 1.7 s\n"
     ]
    }
   ],
   "source": [
    "im = Image(G.create_png())\n",
    "display(im)\n",
    "\n",
    "pp = pprint.PrettyPrinter(indent=4)\n",
    "pp.pprint(schemasDict)"
   ]
  },
  {
   "cell_type": "code",
   "execution_count": 46,
   "metadata": {},
   "outputs": [
    {
     "name": "stdout",
     "output_type": "stream",
     "text": [
      "{0: 104, 1: 101, 2: 100, 3: 100}\n",
      "time: 2 ms\n"
     ]
    }
   ],
   "source": [
    "idvsnumber = {}\n",
    "for key, value in sizeOfSchema.items():\n",
    "    for k,v in schemasDict.items():\n",
    "\n",
    "        temp = json.loads(key)\n",
    "        if temp.keys()==v.keys():\n",
    "            idvsnumber[k]=value\n",
    "pp.pprint(idvsnumber)"
   ]
  },
  {
   "cell_type": "code",
   "execution_count": 183,
   "metadata": {},
   "outputs": [
    {
     "data": {
      "text/plain": [
       "<matplotlib.axes._subplots.AxesSubplot at 0x169b75f6470>"
      ]
     },
     "execution_count": 183,
     "metadata": {},
     "output_type": "execute_result"
    },
    {
     "data": {
      "image/png": "[encoded data removed]",
      "text/plain": [
       "<Figure size 432x288 with 1 Axes>"
      ]
     },
     "metadata": {
      "needs_background": "light"
     },
     "output_type": "display_data"
    },
    {
     "name": "stdout",
     "output_type": "stream",
     "text": [
      "time: 237 ms\n"
     ]
    }
   ],
   "source": [
    "a =[]\n",
    "b = []\n",
    "for key, value in idvsnumber.items():\n",
    "    a.append(key)\n",
    "    b.append(value)\n",
    "\n",
    "df = pd.DataFrame.from_dict({'schema':a,'size':b})\n",
    "df = df.sort_values(by=['size'], ascending=False)\n",
    "bar = df.plot.bar(x='schema', y='size', rot=0)\n",
    "bar"
   ]
  },
  {
   "cell_type": "code",
   "execution_count": null,
   "metadata": {},
   "outputs": [],
   "source": [
    "def findMiddle(input_list):\n",
    "    middle = float(len(input_list))/2\n",
    "    if middle % 2 != 0:\n",
    "        return input_list[int(middle - .5)]\n",
    "    else:\n",
    "        return (input_list[int(middle)], input_list[int(middle-1)])"
   ]
  },
  {
   "cell_type": "code",
   "execution_count": null,
   "metadata": {},
   "outputs": [],
   "source": [
    "attributes = {}\n",
    "MaxValue = {}\n",
    "MinValue = {}\n",
    "MiddleValue = {}\n",
    "MedianValue = {}\n",
    "STD = {}\n",
    "for schema in schemas:\n",
    "    for key, value in schema.items():\n",
    "        attributes[key]= value\n",
    "\n",
    "print(len(attributes))    \n",
    "for attribute in attributes:\n",
    "    value = []\n",
    "    isString = False\n",
    "    for data in datas:\n",
    "        temp = getValue(data, attribute.split('.'))\n",
    "        if  temp is None:\n",
    "            continue\n",
    "            \n",
    "        if type(temp) is str:\n",
    "            if not temp.isdigit():\n",
    "                isString = True\n",
    "                break\n",
    "        if type(temp) is str:\n",
    "            if '.' in temp:\n",
    "                value.append(float(temp))\n",
    "            else:\n",
    "                value.append(int(temp))\n",
    "        else:\n",
    "            value.append(temp)\n",
    "    \n",
    "    if isString:\n",
    "        continue\n",
    "    \n",
    "    value.sort()\n",
    "    MaxValue[attribute] = value[-1]\n",
    "    MinValue[attribute] = value[0]\n",
    "    MiddleValue[attribute] = findMiddle(value)\n",
    "    MedianValue[attribute] = statistics.median(value)\n",
    "    if len(value) < 2:\n",
    "        STD[attribute] = -1\n",
    "    else:\n",
    "        STD[attribute] = statistics.stdev(value)\n",
    "print(MaxValue)\n",
    "print(MinValue)\n",
    "print(MiddleValue)\n",
    "print(MedianValue)\n",
    "print(STD)"
   ]
  },
  {
   "cell_type": "code",
   "execution_count": 78,
   "metadata": {},
   "outputs": [
    {
     "name": "stdout",
     "output_type": "stream",
     "text": [
      "time: 162 ms\n"
     ]
    }
   ],
   "source": [
    "with open('restaurant-2000.json', 'w') as outfile:  \n",
    "    json.dump(datas, outfile)"
   ]
  }
 ],
 "metadata": {
  "kernelspec": {
   "display_name": "Python 3",
   "language": "python",
   "name": "python3"
  },
  "language_info": {
   "codemirror_mode": {
    "name": "ipython",
    "version": 3
   },
   "file_extension": ".py",
   "mimetype": "text/x-python",
   "name": "python",
   "nbconvert_exporter": "python",
   "pygments_lexer": "ipython3",
   "version": "3.7.3"
  }
 },
 "nbformat": 4,
 "nbformat_minor": 2
}
